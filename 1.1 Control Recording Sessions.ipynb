{
 "cells": [
  {
   "cell_type": "code",
   "execution_count": 1,
   "id": "66aad3fd-0430-4cdf-91eb-51b1a25046f2",
   "metadata": {},
   "outputs": [],
   "source": [
    "# Import public packages and functions\n",
    "import os\n",
    "import pandas as pd\n",
    "import numpy as np\n",
    "import sys\n",
    "import json\n",
    "from pathlib import Path\n",
    "import seaborn as sns\n",
    "\n",
    "# inserting the lib folder to the compiler\n",
    "sys.path.insert(0, './lib')\n",
    "sys.path.insert(0, './utils/')\n",
    "\n",
    "from lib_event import EVENTS\n",
    "from lib_data import DATA_IO\n",
    "\n",
    "import utils_plotting, utils_plotting_accelerometer, utils_misc, utils_accelerometer\n",
    "import matplotlib.pyplot as plt"
   ]
  },
  {
   "cell_type": "code",
   "execution_count": 2,
   "id": "ef2bf852-12ab-418f-9a85-a4e63e3c7592",
   "metadata": {},
   "outputs": [],
   "source": [
    "PATH_CURR      = os.path.abspath(os.curdir)    # current code\n",
    "PATH           = (str(Path(PATH_CURR).parent)) # data repository: upper directory where datasets situated\n",
    "SUB_LIST       = utils_misc.get_SUB_list(DATA_IO.path_data) # get the SUB id list which we have a recording of themSUB            = \"008\""
   ]
  },
  {
   "cell_type": "code",
   "execution_count": 4,
   "id": "53b84cd3-6500-4796-9695-19fd1366c892",
   "metadata": {},
   "outputs": [],
   "source": [
    "SUB_LIST = ['010',\n",
    " '012',\n",
    " '013',\n",
    " '014',\n",
    " '016',\n",
    " '017',\n",
    " '019',\n",
    " '020',\n",
    " '021',]"
   ]
  },
  {
   "cell_type": "code",
   "execution_count": null,
   "id": "5560e3cd-f2ce-4828-bee9-85d418fb1c78",
   "metadata": {},
   "outputs": [
    {
     "name": "stdout",
     "output_type": "stream",
     "text": [
      "EVENT HISTORY: SUB-010\n",
      "... loading started\n",
      "... pickle loading: C:\\Users\\a.kaymak\\Desktop\\Papers\\2025 Parkinson STN-DBS Dyskinesia LFP-ECG\\files\\data\\sub-010\\010_mergedData_v4.0_acc_right.P\n",
      "\n",
      "\t...correct tasks in C:\\Users\\a.kaymak\\Desktop\\Papers\\2025 Parkinson STN-DBS Dyskinesia LFP-ECG\\files\\data\\sub-010\\010_mergedData_v4.0_acc_right.P\n",
      "... task periods were defined\n",
      "... events were categorized\n",
      "... dyskinesia evaluation was collected\n",
      "... event loading completed\n",
      "--------------------------------------------------------------------\n"
     ]
    }
   ],
   "source": [
    "for SUB in SUB_LIST:\n",
    "    EVENTS_HISTORY    = EVENTS(PATH, SUB, 'acc_right')\n",
    "    utils_plotting_accelerometer.plot_patient_activity(EVENTS_HISTORY, SUB)"
   ]
  },
  {
   "cell_type": "code",
   "execution_count": null,
   "id": "75190ec9-17e7-4025-948a-9d067d878e0f",
   "metadata": {},
   "outputs": [],
   "source": []
  }
 ],
 "metadata": {
  "kernelspec": {
   "display_name": "Python 3 (ipykernel)",
   "language": "python",
   "name": "python3"
  },
  "language_info": {
   "codemirror_mode": {
    "name": "ipython",
    "version": 3
   },
   "file_extension": ".py",
   "mimetype": "text/x-python",
   "name": "python",
   "nbconvert_exporter": "python",
   "pygments_lexer": "ipython3",
   "version": "3.9.18"
  }
 },
 "nbformat": 4,
 "nbformat_minor": 5
}

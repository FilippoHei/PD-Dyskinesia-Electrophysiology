{
 "cells": [
  {
   "cell_type": "code",
   "execution_count": 43,
   "metadata": {},
   "outputs": [],
   "source": [
    "# Import public packages and functions\n",
    "import os\n",
    "import pandas as pd\n",
    "import numpy as np\n",
    "import sys\n",
    "import json\n",
    "from pathlib import Path\n",
    "import pyvista as pv\n",
    "\n",
    "import seaborn as sns\n",
    "import matplotlib.pyplot as plt\n",
    "import scikit_posthocs as sp\n",
    "\n",
    "import warnings\n",
    "warnings.filterwarnings(\"ignore\")\n",
    "\n",
    "# inserting the lib folder to the compiler\n",
    "sys.path.insert(0, './lib')\n",
    "sys.path.insert(0, './utils/')\n",
    "\n",
    "pd.set_option(\"display.precision\", 3)\n",
    "\n",
    "import utils_io, utils_misc, utils_cortical_atlas, utils_plotting\n",
    "\n",
    "from lib_data import DATA_IO\n",
    "from lib_Subcortical_Atlases import Distal_Atlas"
   ]
  },
  {
   "cell_type": "markdown",
   "metadata": {},
   "source": [
    "# 1. DATA LOADING"
   ]
  },
  {
   "cell_type": "code",
   "execution_count": 45,
   "metadata": {},
   "outputs": [],
   "source": [
    "#####################################################################\n",
    "# STEP 1: Loading PSD Data\n",
    "#####################################################################\n",
    "\n",
    "# load ECOG-PSD dataframe\n",
    "ECOG_PSD_controlateral = utils_io.load_ECoG_event_PSD(event_category=\"tapping\", event_laterality=\"controlateral\")\n",
    "\n",
    "# concat all different dyskinesia severity dataframe into single dataframe\n",
    "ECOG_PSD = pd.DataFrame()\n",
    "for severity in ECOG_PSD_controlateral.keys():\n",
    "    ECOG_PSD = pd.concat([ECOG_PSD, ECOG_PSD_controlateral[severity]], ignore_index=True)\n",
    "\n",
    "# assign severity scores\n",
    "ECOG_PSD[\"severity\"] = ECOG_PSD['dyskinesia_arm']\n",
    "ECOG_PSD.loc[(ECOG_PSD['severity'] != \"none\"), 'severity']                                        = 'LID'\n",
    "ECOG_PSD.loc[(ECOG_PSD['event_start_time'] < 30)  & (ECOG_PSD['severity'] == \"none\"), 'severity'] = 'noLID_noDOPA'\n",
    "ECOG_PSD.loc[(ECOG_PSD['event_start_time'] >= 30) & (ECOG_PSD['severity'] == \"none\"), 'severity'] = 'noLID_DOPA'\n",
    "\n",
    "\n",
    "# arrange the dataframe\n",
    "ECOG_PSD['hemisphere'] = ECOG_PSD['ECoG_hemisphere']\n",
    "ECOG_PSD['channel']    = ECOG_PSD['ECoG_channel']\n",
    "\n",
    "ECOG_PSD = ECOG_PSD[['patient', 'hemisphere', 'channel', \"event_no\",\n",
    "                     'pre_event_theta_mean', 'pre_event_alpha_mean', \n",
    "                     'pre_event_beta_low_mean','pre_event_beta_high_mean','pre_event_gamma_mean',\n",
    "                     'event_theta_mean', 'event_alpha_mean', \n",
    "                     'event_beta_low_mean','event_beta_high_mean','event_gamma_mean', \n",
    "                     'post_event_theta_mean', 'post_event_alpha_mean',\n",
    "                     'post_event_beta_low_mean','post_event_beta_high_mean','post_event_gamma_mean',\n",
    "                     'severity']]\n",
    "\n",
    "features = ['pre_event_theta_mean', 'pre_event_alpha_mean', 'pre_event_beta_low_mean',\n",
    "            'pre_event_beta_high_mean','pre_event_gamma_mean',\n",
    "            'event_theta_mean', 'event_alpha_mean', 'event_beta_low_mean',\n",
    "            'event_beta_high_mean','event_gamma_mean', \n",
    "            'post_event_theta_mean', 'post_event_alpha_mean',\n",
    "            'post_event_beta_low_mean','post_event_beta_high_mean','post_event_gamma_mean'] \n",
    "\n",
    "#####################################################################\n",
    "# STEP 2: Loading Lead Positions in Sensory-Motor STN\n",
    "#####################################################################\n",
    "\n",
    "# load ECoG channel MNI coordinates\n",
    "MNI_ECoG_channels   = pd.read_pickle(DATA_IO.path_coordinates + \"MNI_ECoG_channels.pkl\")\n",
    "MNI_ECoG_channels.x = MNI_ECoG_channels.x.abs()\n",
    "\n",
    "\n",
    "#####################################################################\n",
    "# STEP 3: Merge PSD and Lead Position Data\n",
    "#####################################################################\n",
    "\n",
    "dataset                     = pd.merge(ECOG_PSD, MNI_ECoG_channels[[\"patient\",\"hemisphere\",\"channel\",\"x\",\"y\",\"z\",\"AAL3_cortex\"]], on=['patient', 'hemisphere', 'channel'])\n",
    "dataset[\"severity_numeric\"] = dataset['severity'].map({'noLID_noDOPA':0, 'noLID_DOPA':1, 'LID':2})\n",
    "#dataset_motor               = dataset[(dataset.AAL3_cortex == \"Motor cortex\")]\n",
    "#dataset_sensory             = dataset[(dataset.AAL3_cortex == \"Sensory cortex\")]\n",
    "\n",
    "\n",
    "#####################################################################\n",
    "# STEP 4: Adjust the Axes\n",
    "#####################################################################\n",
    "dataset[\"x\"] = dataset[\"x\"] - dataset[\"x\"].min()\n",
    "dataset[\"y\"] = dataset[\"y\"] - dataset[\"y\"].min()\n",
    "dataset[\"z\"] = dataset[\"z\"] - dataset[\"z\"].min()"
   ]
  },
  {
   "cell_type": "markdown",
   "metadata": {},
   "source": [
    "# 2. METHODS"
   ]
  },
  {
   "cell_type": "code",
   "execution_count": 7,
   "metadata": {},
   "outputs": [],
   "source": [
    "import statsmodels.formula.api as smf\n",
    "from statsmodels.stats.multitest import multipletests\n",
    "from scipy.stats import norm\n",
    "\n",
    "def extract_spatial_dataset(dataset, event_segment, frequency_band, MNI_axis):\n",
    "    \n",
    "    if(event_segment == \"pre\")     : event_prefix = \"pre_event_\"\n",
    "    elif(event_segment == \"event\") : event_prefix = \"event_\"\n",
    "    elif(event_segment == \"post\")  : event_prefix = \"post_event_\"\n",
    "        \n",
    "    dataset_spatial                = dataset[[\"patient\", \"hemisphere\", \"channel\", event_prefix + frequency_band + \"_mean\", MNI_axis, \"severity_numeric\"]]\n",
    "    dataset_spatial[\"channel_id\"]  = dataset[\"patient\"] + \"_\" + dataset[\"hemisphere\"] + \"_\" + dataset[\"channel\"]\n",
    "    dataset_spatial                = dataset_spatial[[\"patient\", \"channel_id\", MNI_axis, event_prefix + frequency_band + \"_mean\", \"severity_numeric\"]]\n",
    "    dataset_spatial                = dataset_spatial.rename(columns={event_prefix + frequency_band + \"_mean\": frequency_band})\n",
    "\n",
    "    return dataset_spatial\n",
    "\n",
    "def get_slope_definitions_for_severity_levels(result, MNI_axis):\n",
    "    \n",
    "    names = result.model.exog_names\n",
    "    def idx(name): return names.index(name)\n",
    "    \n",
    "    # Define contrasts\n",
    "    contrast_0 = np.zeros(len(names)); contrast_0[idx(MNI_axis)] = 1\n",
    "    contrast_1 = np.zeros(len(names)); contrast_1[idx(MNI_axis)] = 1; contrast_1[idx(f\"{MNI_axis}:C(severity_numeric)[T.1]\")] = 1\n",
    "    contrast_2 = np.zeros(len(names)); contrast_2[idx(MNI_axis)] = 1; contrast_2[idx(f\"{MNI_axis}:C(severity_numeric)[T.2]\")] = 1\n",
    "    \n",
    "    severities = [\"noLID_noDOPA\", \"noLID_DOPA\", \"LID\"]\n",
    "    contrasts  = [contrast_0, contrast_1, contrast_2]\n",
    "    \n",
    "    results = []\n",
    "    for severity, contrast in zip(severities, contrasts):\n",
    "        test            = result.t_test(contrast.reshape(1, -1))\n",
    "        est             = test.effect[0]\n",
    "        ci_low, ci_high = test.conf_int()[0]\n",
    "        pval            = test.pvalue\n",
    "        results.append({\"severity\": severity, \"slope\": est, \"ci_lower\": ci_low, \"ci_upper\": ci_high,\"p_value\": pval})\n",
    "    \n",
    "    return pd.DataFrame(results)\n",
    "\n",
    "def fit_LME_for_spatial_dynamics(dataset, frequency_band, event_segment, MNI_axis):\n",
    "\n",
    "    # STEP 1: get the spatial data for selected parameters\n",
    "    dataset_spatial = extract_spatial_dataset(dataset, event_segment=event_segment, frequency_band=frequency_band, MNI_axis=MNI_axis)\n",
    "\n",
    "    # STEP 2: LME modelling: random intercept + fixed slopes\n",
    "        \n",
    "    model     = smf.mixedlm(formula    = f\"{frequency_band} ~ {MNI_axis} * C(severity_numeric)\", \n",
    "                            data       = dataset_spatial, \n",
    "                            groups     = dataset_spatial[\"patient\"], \n",
    "                            vc_formula = {\"channel\": \"0 + C(channel_id)\"})  # random intercept per channel\n",
    "    result    = model.fit()\n",
    "\n",
    "    # STEP 3: get slope definitions for severity levels \n",
    "    slopes_definitions_by_severity                  = get_slope_definitions_for_severity_levels(result, MNI_axis)\n",
    "    slopes_definitions_by_severity[\"frequency\"]     = frequency_band\n",
    "    slopes_definitions_by_severity[\"axis\"]          = MNI_axis\n",
    "    slopes_definitions_by_severity[\"event_segment\"] = event_segment\n",
    "    slopes_definitions_by_severity[\"p_value\"]       = multipletests(slopes_definitions_by_severity.p_value.to_list(), method=\"holm\")[1]\n",
    "\n",
    "    # STEP 4: get slope differences between severity levels \n",
    "    slopes_differences_between_severity                  = slope_differences_between_severity_levels(result, MNI_axis)\n",
    "    slopes_differences_between_severity[\"frequency\"]     = frequency_band\n",
    "    slopes_differences_between_severity[\"axis\"]          = MNI_axis\n",
    "    slopes_differences_between_severity[\"event_segment\"] = event_segment\n",
    "    slopes_differences_between_severity[\"p_value\"]       = multipletests(slopes_differences_between_severity.p_value.to_list(), method=\"holm\")[1]\n",
    "\n",
    "    return slopes_definitions_by_severity, slopes_differences_between_severity\n",
    "\n",
    "def slope_differences_between_severity_levels(result, MNI_axis):\n",
    "    \n",
    "    # fixed effect names for indexing\n",
    "    names = result.fe_params.index.tolist()\n",
    "    idx   = lambda name: names.index(name)\n",
    "    \n",
    "    # Differences\n",
    "    contrast_01                                    = np.zeros(len(names))  # slope_0 - slope_1 = - z:C(severity_numeric)[T.1]\n",
    "    contrast_01[idx(f\"{MNI_axis}:C(severity_numeric)[T.1]\")] = -1\n",
    "\n",
    "    contrast_12                                    = np.zeros(len(names))  # slope_1 - slope_2 = z:C(severity_numeric)[T.1] - z:C(severity_numeric)[T.2]\n",
    "    contrast_12[idx(f\"{MNI_axis}:C(severity_numeric)[T.1]\")] = 1\n",
    "    contrast_12[idx(f\"{MNI_axis}:C(severity_numeric)[T.2]\")] = -1\n",
    "\n",
    "    contrast_02                                    = np.zeros(len(names))  # slope_0 - slope_2 = - z:C(severity_numeric)[T.2]\n",
    "    contrast_02[idx(f\"{MNI_axis}:C(severity_numeric)[T.2]\")] = -1\n",
    "\n",
    "    results                                        = []\n",
    "\n",
    "    for name, contrast in zip([\"noLID-noDOPA vs noLID-DOPA\", \"noLID-DOPA vs LID\", \"noLID-noDOPA vs LID\"],[contrast_01, contrast_12, contrast_02]):\n",
    "        test            = result.t_test(contrast.reshape(1, -1))  # Ensure 2D shape\n",
    "        est             = test.effect[0]\n",
    "        ci_low, ci_high = test.conf_int()[0]\n",
    "        pval            = test.pvalue.item()\n",
    "\n",
    "        results.append({\"comparison\": name, \"slope_diff\": est, \"ci_lower\": ci_low, \"ci_upper\": ci_high,\"p_value\": pval})\n",
    "\n",
    "    return pd.DataFrame(results)\n",
    "\n",
    "\n",
    "def plot_slopes_with_custom_errorbars(df, colors, ax=None):\n",
    "\n",
    "    yerr           = np.array([df['slope'] - df['ci_lower'], df['ci_upper'] - df['slope']])\n",
    "    ax             = sns.pointplot(data=df, x='severity', y='slope', join=False, palette=colors, markersize=2.5, ax=ax)\n",
    "    x_coords       = range(len(df))\n",
    "    \n",
    "    ax.errorbar(x_coords, df['slope'], yerr=yerr, fmt='none', ecolor='black', capsize=1.5, elinewidth=1)\n",
    "    ax.set_xlim(-0.5, len(df)-0.5)  # reduces some padding at ends\n",
    "    ax.tick_params(axis='x', length=6, width=1)  # thinner ticks\n",
    "    \n",
    "    return ax\n",
    "\n",
    "def plot_spatial_gradients(slopes, structure, frequency, MNI_axis, ylim_min, ylim_max):\n",
    "\n",
    "    colors                 = {}\n",
    "    colors[\"noLID_noDOPA\"] = utils_plotting.colors[\"noLID_noDOPA\"]\n",
    "    colors[\"noLID_DOPA\"]   = utils_plotting.colors[\"noLID_DOPA\"]\n",
    "    colors[\"LID\"]          = utils_plotting.colors[\"LID\"]\n",
    "    \n",
    "    plt = utils_plotting.get_figure_template()\n",
    "    ax1 = plt.subplot2grid((77, 66), (0, 0) , colspan=7, rowspan=14)\n",
    "    ax2 = plt.subplot2grid((77, 66), (0, 10), colspan=7, rowspan=14)\n",
    "    ax3 = plt.subplot2grid((77, 66), (0, 20), colspan=7, rowspan=14)\n",
    "    \n",
    "    pre   = slopes[(slopes['frequency'] == frequency) & (slopes['event_segment'] == 'pre')   & (slopes['axis'] == MNI_axis)]\n",
    "    event = slopes[(slopes['frequency'] == frequency) & (slopes['event_segment'] == 'event') & (slopes['axis'] == MNI_axis)]\n",
    "    post  = slopes[(slopes['frequency'] == frequency) & (slopes['event_segment'] == 'post')  & (slopes['axis'] == MNI_axis)]\n",
    "    \n",
    "    ax1 = plot_slopes_with_custom_errorbars(pre  , colors, ax1)\n",
    "    ax2 = plot_slopes_with_custom_errorbars(event, colors, ax2)\n",
    "    ax3 = plot_slopes_with_custom_errorbars(post , colors, ax3)\n",
    "    \n",
    "    ax1.set_ylim([ylim_min,ylim_max])\n",
    "    ax2.set_ylim([ylim_min,ylim_max])\n",
    "    ax3.set_ylim([ylim_min,ylim_max])\n",
    "    \n",
    "    ax1.set_xlabel(\"\")\n",
    "    ax2.set_xlabel(\"\")\n",
    "    ax3.set_xlabel(\"\")\n",
    "\n",
    "    ax1.set_ylabel(frequency)\n",
    "    ax2.set_ylabel(\"\")\n",
    "    ax3.set_ylabel(\"\")\n",
    "    \n",
    "    ax1.set_xticklabels([])\n",
    "    ax2.set_xticklabels([])\n",
    "    ax3.set_xticklabels([])\n",
    "    \n",
    "    utils_plotting.set_axis(ax1)\n",
    "    utils_plotting.set_axis(ax2)\n",
    "    utils_plotting.set_axis(ax3)\n",
    "    \n",
    "    ax1.set_title(\"pre-event\" , fontsize=utils_plotting.LABEL_SIZE_title)\n",
    "    ax2.set_title(\"event\"     , fontsize=utils_plotting.LABEL_SIZE_title)\n",
    "    ax3.set_title(\"post-event\", fontsize=utils_plotting.LABEL_SIZE_title)\n",
    "\n",
    "    plt.tight_layout()\n",
    "    \n",
    "    plt.savefig(DATA_IO.path_figure + f\"spatial_analyses/{structure}/{frequency}_{MNI_axis}.svg\", dpi=1200)\n"
   ]
  },
  {
   "cell_type": "markdown",
   "metadata": {},
   "source": [
    "# 3. LME MODELLING"
   ]
  },
  {
   "cell_type": "code",
   "execution_count": 10,
   "metadata": {},
   "outputs": [],
   "source": [
    "slopes             = list()\n",
    "slopes_differences = list()\n",
    "\n",
    "for frequency_band in [\"theta\", \"alpha\", \"beta_low\", \"beta_high\", \"gamma\"]:\n",
    "    for event_segment in [\"pre\", \"event\", \"post\"]:\n",
    "        for mni_axis in [\"x\",\"y\"]:\n",
    "            slopes_def, slope_dif = fit_LME_for_spatial_dynamics(dataset, frequency_band, event_segment, mni_axis)\n",
    "            slopes.append(slopes_def)\n",
    "            slopes_differences.append(slope_dif)\n",
    "\n",
    "slopes             = pd.concat(slopes, ignore_index=True)\n",
    "slopes_differences = pd.concat(slopes_differences, ignore_index=True)\n",
    "\n",
    "slopes[\"significant\"]             = slopes.p_value<=0.05\n",
    "slopes_differences[\"significant\"] = slopes_differences.p_value<=0.05"
   ]
  },
  {
   "cell_type": "markdown",
   "metadata": {},
   "source": [
    "# 4. OBSERVE"
   ]
  },
  {
   "cell_type": "code",
   "execution_count": 20,
   "metadata": {},
   "outputs": [],
   "source": [
    "frequency_band = \"gamma\"\n",
    "MNI_axis       = \"y\"\n",
    "segment        = \"event\""
   ]
  },
  {
   "cell_type": "code",
   "execution_count": 22,
   "metadata": {},
   "outputs": [
    {
     "data": {
      "text/html": [
       "<div>\n",
       "<style scoped>\n",
       "    .dataframe tbody tr th:only-of-type {\n",
       "        vertical-align: middle;\n",
       "    }\n",
       "\n",
       "    .dataframe tbody tr th {\n",
       "        vertical-align: top;\n",
       "    }\n",
       "\n",
       "    .dataframe thead th {\n",
       "        text-align: right;\n",
       "    }\n",
       "</style>\n",
       "<table border=\"1\" class=\"dataframe\">\n",
       "  <thead>\n",
       "    <tr style=\"text-align: right;\">\n",
       "      <th></th>\n",
       "      <th>severity</th>\n",
       "      <th>slope</th>\n",
       "      <th>ci_lower</th>\n",
       "      <th>ci_upper</th>\n",
       "      <th>p_value</th>\n",
       "      <th>frequency</th>\n",
       "      <th>axis</th>\n",
       "      <th>event_segment</th>\n",
       "      <th>significant</th>\n",
       "    </tr>\n",
       "  </thead>\n",
       "  <tbody>\n",
       "    <tr>\n",
       "      <th>81</th>\n",
       "      <td>noLID_noDOPA</td>\n",
       "      <td>-0.605</td>\n",
       "      <td>-1.194</td>\n",
       "      <td>-0.017</td>\n",
       "      <td>0.132</td>\n",
       "      <td>gamma</td>\n",
       "      <td>y</td>\n",
       "      <td>event</td>\n",
       "      <td>False</td>\n",
       "    </tr>\n",
       "    <tr>\n",
       "      <th>82</th>\n",
       "      <td>noLID_DOPA</td>\n",
       "      <td>-0.507</td>\n",
       "      <td>-1.107</td>\n",
       "      <td>0.093</td>\n",
       "      <td>0.196</td>\n",
       "      <td>gamma</td>\n",
       "      <td>y</td>\n",
       "      <td>event</td>\n",
       "      <td>False</td>\n",
       "    </tr>\n",
       "    <tr>\n",
       "      <th>83</th>\n",
       "      <td>LID</td>\n",
       "      <td>-0.335</td>\n",
       "      <td>-0.934</td>\n",
       "      <td>0.264</td>\n",
       "      <td>0.273</td>\n",
       "      <td>gamma</td>\n",
       "      <td>y</td>\n",
       "      <td>event</td>\n",
       "      <td>False</td>\n",
       "    </tr>\n",
       "  </tbody>\n",
       "</table>\n",
       "</div>"
      ],
      "text/plain": [
       "        severity  slope  ci_lower  ci_upper  p_value frequency axis  \\\n",
       "81  noLID_noDOPA -0.605    -1.194    -0.017    0.132     gamma    y   \n",
       "82    noLID_DOPA -0.507    -1.107     0.093    0.196     gamma    y   \n",
       "83           LID -0.335    -0.934     0.264    0.273     gamma    y   \n",
       "\n",
       "   event_segment  significant  \n",
       "81         event        False  \n",
       "82         event        False  \n",
       "83         event        False  "
      ]
     },
     "execution_count": 22,
     "metadata": {},
     "output_type": "execute_result"
    }
   ],
   "source": [
    "slopes[(slopes.frequency==frequency_band) & (slopes.axis==MNI_axis) & (slopes.event_segment==segment)]"
   ]
  },
  {
   "cell_type": "code",
   "execution_count": 24,
   "metadata": {},
   "outputs": [
    {
     "data": {
      "text/html": [
       "<div>\n",
       "<style scoped>\n",
       "    .dataframe tbody tr th:only-of-type {\n",
       "        vertical-align: middle;\n",
       "    }\n",
       "\n",
       "    .dataframe tbody tr th {\n",
       "        vertical-align: top;\n",
       "    }\n",
       "\n",
       "    .dataframe thead th {\n",
       "        text-align: right;\n",
       "    }\n",
       "</style>\n",
       "<table border=\"1\" class=\"dataframe\">\n",
       "  <thead>\n",
       "    <tr style=\"text-align: right;\">\n",
       "      <th></th>\n",
       "      <th>comparison</th>\n",
       "      <th>slope_diff</th>\n",
       "      <th>ci_lower</th>\n",
       "      <th>ci_upper</th>\n",
       "      <th>p_value</th>\n",
       "      <th>frequency</th>\n",
       "      <th>axis</th>\n",
       "      <th>event_segment</th>\n",
       "      <th>significant</th>\n",
       "    </tr>\n",
       "  </thead>\n",
       "  <tbody>\n",
       "    <tr>\n",
       "      <th>81</th>\n",
       "      <td>noLID-noDOPA vs noLID-DOPA</td>\n",
       "      <td>-0.098</td>\n",
       "      <td>-0.318</td>\n",
       "      <td>0.121</td>\n",
       "      <td>0.611</td>\n",
       "      <td>gamma</td>\n",
       "      <td>y</td>\n",
       "      <td>event</td>\n",
       "      <td>False</td>\n",
       "    </tr>\n",
       "    <tr>\n",
       "      <th>82</th>\n",
       "      <td>noLID-DOPA vs LID</td>\n",
       "      <td>-0.172</td>\n",
       "      <td>-0.501</td>\n",
       "      <td>0.157</td>\n",
       "      <td>0.611</td>\n",
       "      <td>gamma</td>\n",
       "      <td>y</td>\n",
       "      <td>event</td>\n",
       "      <td>False</td>\n",
       "    </tr>\n",
       "    <tr>\n",
       "      <th>83</th>\n",
       "      <td>noLID-noDOPA vs LID</td>\n",
       "      <td>-0.270</td>\n",
       "      <td>-0.577</td>\n",
       "      <td>0.036</td>\n",
       "      <td>0.251</td>\n",
       "      <td>gamma</td>\n",
       "      <td>y</td>\n",
       "      <td>event</td>\n",
       "      <td>False</td>\n",
       "    </tr>\n",
       "  </tbody>\n",
       "</table>\n",
       "</div>"
      ],
      "text/plain": [
       "                    comparison  slope_diff  ci_lower  ci_upper  p_value  \\\n",
       "81  noLID-noDOPA vs noLID-DOPA      -0.098    -0.318     0.121    0.611   \n",
       "82           noLID-DOPA vs LID      -0.172    -0.501     0.157    0.611   \n",
       "83         noLID-noDOPA vs LID      -0.270    -0.577     0.036    0.251   \n",
       "\n",
       "   frequency axis event_segment  significant  \n",
       "81     gamma    y         event        False  \n",
       "82     gamma    y         event        False  \n",
       "83     gamma    y         event        False  "
      ]
     },
     "execution_count": 24,
     "metadata": {},
     "output_type": "execute_result"
    }
   ],
   "source": [
    "slopes_differences[(slopes_differences.frequency==frequency_band) & (slopes_differences.axis==MNI_axis) & (slopes_differences.event_segment==segment)]"
   ]
  },
  {
   "cell_type": "code",
   "execution_count": 26,
   "metadata": {},
   "outputs": [
    {
     "name": "stdout",
     "output_type": "stream",
     "text": [
      "                 Mixed Linear Model Regression Results\n",
      "========================================================================\n",
      "Model:                 MixedLM      Dependent Variable:      gamma      \n",
      "No. Observations:      3488         Method:                  REML       \n",
      "No. Groups:            13           Scale:                   1540.9397  \n",
      "Min. group size:       41           Log-Likelihood:          -17870.7932\n",
      "Max. group size:       1110         Converged:               Yes        \n",
      "Mean group size:       268.3                                            \n",
      "------------------------------------------------------------------------\n",
      "                            Coef.   Std.Err.   z    P>|z|  [0.025 0.975]\n",
      "------------------------------------------------------------------------\n",
      "Intercept                    61.915   12.066  5.132 0.000  38.267 85.563\n",
      "C(severity_numeric)[T.1]     -7.823    4.322 -1.810 0.070 -16.293  0.648\n",
      "C(severity_numeric)[T.2]     -9.266    6.680 -1.387 0.165 -22.358  3.826\n",
      "y                            -0.605    0.300 -2.016 0.044  -1.194 -0.017\n",
      "y:C(severity_numeric)[T.1]    0.098    0.112  0.880 0.379  -0.121  0.318\n",
      "y:C(severity_numeric)[T.2]    0.270    0.156  1.730 0.084  -0.036  0.577\n",
      "channel Var                1640.376    7.637                            \n",
      "========================================================================\n",
      "\n"
     ]
    }
   ],
   "source": [
    "# STEP 1: get the spatial data for selected parameters\n",
    "\n",
    "dataset_spatial = extract_spatial_dataset(dataset, event_segment=segment, frequency_band=frequency_band, MNI_axis=MNI_axis)\n",
    "\n",
    "\n",
    "model     = smf.mixedlm(formula    = f\"{frequency_band} ~ {MNI_axis} * C(severity_numeric)\", \n",
    "                        data       = dataset_spatial, \n",
    "                        groups     = dataset_spatial[\"patient\"], \n",
    "                        vc_formula = {\"channel\": \"0 + C(channel_id)\"})  # random intercept per channel\n",
    "result    = model.fit()\n",
    "\n",
    "print(result.summary())"
   ]
  },
  {
   "cell_type": "code",
   "execution_count": 41,
   "metadata": {},
   "outputs": [
    {
     "name": "stdout",
     "output_type": "stream",
     "text": [
      "                 Mixed Linear Model Regression Results\n",
      "========================================================================\n",
      "Model:                 MixedLM      Dependent Variable:      beta_low   \n",
      "No. Observations:      3940         Method:                  REML       \n",
      "No. Groups:            17           Scale:                   9943.2037  \n",
      "Min. group size:       50           Log-Likelihood:          -23864.8931\n",
      "Max. group size:       517          Converged:               Yes        \n",
      "Mean group size:       231.8                                            \n",
      "------------------------------------------------------------------------\n",
      "                            Coef.   Std.Err.   z    P>|z|  [0.025 0.975]\n",
      "------------------------------------------------------------------------\n",
      "Intercept                    36.702   16.666  2.202 0.028   4.038 69.367\n",
      "C(severity_numeric)[T.2]    -26.165   10.589 -2.471 0.013 -46.918 -5.411\n",
      "z                             0.626    4.708  0.133 0.894  -8.603  9.854\n",
      "z:C(severity_numeric)[T.2]   -5.051    3.333 -1.515 0.130 -11.584  1.482\n",
      "channel Var                4800.941    6.802                            \n",
      "========================================================================\n",
      "\n"
     ]
    }
   ],
   "source": [
    "# STEP 1: get the spatial data for selected parameters\n",
    "\n",
    "dataset_spatial = extract_spatial_dataset(dataset, event_segment=segment, frequency_band=frequency_band, MNI_axis=MNI_axis)\n",
    "dataset_spatial = dataset_spatial[dataset_spatial.severity_numeric!=1]\n",
    "\n",
    "\n",
    "model     = smf.mixedlm(formula    = f\"{frequency_band} ~ {MNI_axis} * C(severity_numeric)\", \n",
    "                        data       = dataset_spatial, \n",
    "                        groups     = dataset_spatial[\"patient\"], \n",
    "                        vc_formula = {\"channel\": \"0 + C(channel_id)\"})  # random intercept per channel\n",
    "result    = model.fit()\n",
    "\n",
    "print(result.summary())"
   ]
  },
  {
   "cell_type": "markdown",
   "metadata": {},
   "source": [
    "# 5. PLOTS"
   ]
  },
  {
   "cell_type": "code",
   "execution_count": 12,
   "metadata": {},
   "outputs": [
    {
     "data": {
      "text/plain": [
       "<Figure size 640x480 with 0 Axes>"
      ]
     },
     "metadata": {},
     "output_type": "display_data"
    },
    {
     "data": {
      "image/png": "[encoded data removed]",
      "text/plain": [
       "<Figure size 728.346x826.772 with 3 Axes>"
      ]
     },
     "metadata": {},
     "output_type": "display_data"
    },
    {
     "data": {
      "text/plain": [
       "<Figure size 640x480 with 0 Axes>"
      ]
     },
     "metadata": {},
     "output_type": "display_data"
    },
    {
     "data": {
      "image/png": "[encoded data removed]",
      "text/plain": [
       "<Figure size 728.346x826.772 with 3 Axes>"
      ]
     },
     "metadata": {},
     "output_type": "display_data"
    },
    {
     "data": {
      "text/plain": [
       "<Figure size 640x480 with 0 Axes>"
      ]
     },
     "metadata": {},
     "output_type": "display_data"
    },
    {
     "data": {
      "image/png": "[encoded data removed]",
      "text/plain": [
       "<Figure size 728.346x826.772 with 3 Axes>"
      ]
     },
     "metadata": {},
     "output_type": "display_data"
    },
    {
     "data": {
      "text/plain": [
       "<Figure size 640x480 with 0 Axes>"
      ]
     },
     "metadata": {},
     "output_type": "display_data"
    },
    {
     "data": {
      "image/png": "[encoded data removed]",
      "text/plain": [
       "<Figure size 728.346x826.772 with 3 Axes>"
      ]
     },
     "metadata": {},
     "output_type": "display_data"
    },
    {
     "data": {
      "text/plain": [
       "<Figure size 640x480 with 0 Axes>"
      ]
     },
     "metadata": {},
     "output_type": "display_data"
    },
    {
     "data": {
      "image/png": "[encoded data removed]",
      "text/plain": [
       "<Figure size 728.346x826.772 with 3 Axes>"
      ]
     },
     "metadata": {},
     "output_type": "display_data"
    }
   ],
   "source": [
    "MNI_axis = \"x\"\n",
    "plot_spatial_gradients(slopes, structure=\"cortex\", frequency=\"gamma\"    , MNI_axis=MNI_axis, ylim_min=-2, ylim_max=2)\n",
    "plot_spatial_gradients(slopes, structure=\"cortex\", frequency=\"beta_high\", MNI_axis=MNI_axis, ylim_min=-3, ylim_max=3)\n",
    "plot_spatial_gradients(slopes, structure=\"cortex\", frequency=\"beta_low\" , MNI_axis=MNI_axis, ylim_min=-6, ylim_max=6)\n",
    "plot_spatial_gradients(slopes, structure=\"cortex\", frequency=\"alpha\"    , MNI_axis=MNI_axis, ylim_min=-6, ylim_max=6)\n",
    "plot_spatial_gradients(slopes, structure=\"cortex\", frequency=\"theta\"    , MNI_axis=MNI_axis, ylim_min=-7, ylim_max=7)"
   ]
  },
  {
   "cell_type": "code",
   "execution_count": 13,
   "metadata": {},
   "outputs": [
    {
     "data": {
      "text/plain": [
       "<Figure size 640x480 with 0 Axes>"
      ]
     },
     "metadata": {},
     "output_type": "display_data"
    },
    {
     "data": {
      "image/png": "[encoded data removed]",
      "text/plain": [
       "<Figure size 728.346x826.772 with 3 Axes>"
      ]
     },
     "metadata": {},
     "output_type": "display_data"
    },
    {
     "data": {
      "text/plain": [
       "<Figure size 640x480 with 0 Axes>"
      ]
     },
     "metadata": {},
     "output_type": "display_data"
    },
    {
     "data": {
      "image/png": "[encoded data removed]",
      "text/plain": [
       "<Figure size 728.346x826.772 with 3 Axes>"
      ]
     },
     "metadata": {},
     "output_type": "display_data"
    },
    {
     "data": {
      "text/plain": [
       "<Figure size 640x480 with 0 Axes>"
      ]
     },
     "metadata": {},
     "output_type": "display_data"
    },
    {
     "data": {
      "image/png": "[encoded data removed]",
      "text/plain": [
       "<Figure size 728.346x826.772 with 3 Axes>"
      ]
     },
     "metadata": {},
     "output_type": "display_data"
    },
    {
     "data": {
      "text/plain": [
       "<Figure size 640x480 with 0 Axes>"
      ]
     },
     "metadata": {},
     "output_type": "display_data"
    },
    {
     "data": {
      "image/png": "[encoded data removed]",
      "text/plain": [
       "<Figure size 728.346x826.772 with 3 Axes>"
      ]
     },
     "metadata": {},
     "output_type": "display_data"
    },
    {
     "data": {
      "text/plain": [
       "<Figure size 640x480 with 0 Axes>"
      ]
     },
     "metadata": {},
     "output_type": "display_data"
    },
    {
     "data": {
      "image/png": "[encoded data removed]",
      "text/plain": [
       "<Figure size 728.346x826.772 with 3 Axes>"
      ]
     },
     "metadata": {},
     "output_type": "display_data"
    }
   ],
   "source": [
    "MNI_axis = \"y\"\n",
    "plot_spatial_gradients(slopes, structure=\"cortex\", frequency=\"gamma\"    , MNI_axis=MNI_axis, ylim_min=-1.5, ylim_max=1.5)\n",
    "plot_spatial_gradients(slopes, structure=\"cortex\", frequency=\"beta_high\", MNI_axis=MNI_axis, ylim_min=-2.5, ylim_max=2.5)\n",
    "plot_spatial_gradients(slopes, structure=\"cortex\", frequency=\"beta_low\" , MNI_axis=MNI_axis, ylim_min=-5, ylim_max=5)\n",
    "plot_spatial_gradients(slopes, structure=\"cortex\", frequency=\"alpha\"    , MNI_axis=MNI_axis, ylim_min=-3, ylim_max=3)\n",
    "plot_spatial_gradients(slopes, structure=\"cortex\", frequency=\"theta\"    , MNI_axis=MNI_axis, ylim_min=-4, ylim_max=4)"
   ]
  },
  {
   "cell_type": "code",
   "execution_count": 14,
   "metadata": {},
   "outputs": [],
   "source": [
    "conditions                  = [slopes_differences['p_value'] <= 0.001, slopes_differences['p_value'] <= 0.01, slopes_differences['p_value'] <= 0.05]\n",
    "choices                     = ['***', '**', '*']\n",
    "slopes_differences['stars'] = np.select(conditions, choices, default='')"
   ]
  },
  {
   "cell_type": "code",
   "execution_count": 46,
   "metadata": {},
   "outputs": [
    {
     "data": {
      "text/html": [
       "<div>\n",
       "<style scoped>\n",
       "    .dataframe tbody tr th:only-of-type {\n",
       "        vertical-align: middle;\n",
       "    }\n",
       "\n",
       "    .dataframe tbody tr th {\n",
       "        vertical-align: top;\n",
       "    }\n",
       "\n",
       "    .dataframe thead th {\n",
       "        text-align: right;\n",
       "    }\n",
       "</style>\n",
       "<table border=\"1\" class=\"dataframe\">\n",
       "  <thead>\n",
       "    <tr style=\"text-align: right;\">\n",
       "      <th></th>\n",
       "      <th>severity</th>\n",
       "      <th>slope</th>\n",
       "      <th>ci_lower</th>\n",
       "      <th>ci_upper</th>\n",
       "      <th>p_value</th>\n",
       "      <th>frequency</th>\n",
       "      <th>axis</th>\n",
       "      <th>event_segment</th>\n",
       "      <th>significant</th>\n",
       "    </tr>\n",
       "  </thead>\n",
       "  <tbody>\n",
       "    <tr>\n",
       "      <th>75</th>\n",
       "      <td>noLID_noDOPA</td>\n",
       "      <td>-0.148</td>\n",
       "      <td>-0.387</td>\n",
       "      <td>0.091</td>\n",
       "      <td>0.677</td>\n",
       "      <td>gamma</td>\n",
       "      <td>y</td>\n",
       "      <td>pre</td>\n",
       "      <td>False</td>\n",
       "    </tr>\n",
       "    <tr>\n",
       "      <th>76</th>\n",
       "      <td>noLID_DOPA</td>\n",
       "      <td>-0.033</td>\n",
       "      <td>-0.286</td>\n",
       "      <td>0.219</td>\n",
       "      <td>0.795</td>\n",
       "      <td>gamma</td>\n",
       "      <td>y</td>\n",
       "      <td>pre</td>\n",
       "      <td>False</td>\n",
       "    </tr>\n",
       "    <tr>\n",
       "      <th>77</th>\n",
       "      <td>LID</td>\n",
       "      <td>0.132</td>\n",
       "      <td>-0.117</td>\n",
       "      <td>0.381</td>\n",
       "      <td>0.677</td>\n",
       "      <td>gamma</td>\n",
       "      <td>y</td>\n",
       "      <td>pre</td>\n",
       "      <td>False</td>\n",
       "    </tr>\n",
       "    <tr>\n",
       "      <th>81</th>\n",
       "      <td>noLID_noDOPA</td>\n",
       "      <td>-0.605</td>\n",
       "      <td>-1.194</td>\n",
       "      <td>-0.017</td>\n",
       "      <td>0.132</td>\n",
       "      <td>gamma</td>\n",
       "      <td>y</td>\n",
       "      <td>event</td>\n",
       "      <td>False</td>\n",
       "    </tr>\n",
       "    <tr>\n",
       "      <th>82</th>\n",
       "      <td>noLID_DOPA</td>\n",
       "      <td>-0.507</td>\n",
       "      <td>-1.107</td>\n",
       "      <td>0.093</td>\n",
       "      <td>0.196</td>\n",
       "      <td>gamma</td>\n",
       "      <td>y</td>\n",
       "      <td>event</td>\n",
       "      <td>False</td>\n",
       "    </tr>\n",
       "    <tr>\n",
       "      <th>83</th>\n",
       "      <td>LID</td>\n",
       "      <td>-0.335</td>\n",
       "      <td>-0.934</td>\n",
       "      <td>0.264</td>\n",
       "      <td>0.273</td>\n",
       "      <td>gamma</td>\n",
       "      <td>y</td>\n",
       "      <td>event</td>\n",
       "      <td>False</td>\n",
       "    </tr>\n",
       "    <tr>\n",
       "      <th>87</th>\n",
       "      <td>noLID_noDOPA</td>\n",
       "      <td>0.397</td>\n",
       "      <td>-0.040</td>\n",
       "      <td>0.834</td>\n",
       "      <td>0.226</td>\n",
       "      <td>gamma</td>\n",
       "      <td>y</td>\n",
       "      <td>post</td>\n",
       "      <td>False</td>\n",
       "    </tr>\n",
       "    <tr>\n",
       "      <th>88</th>\n",
       "      <td>noLID_DOPA</td>\n",
       "      <td>0.406</td>\n",
       "      <td>-0.044</td>\n",
       "      <td>0.857</td>\n",
       "      <td>0.226</td>\n",
       "      <td>gamma</td>\n",
       "      <td>y</td>\n",
       "      <td>post</td>\n",
       "      <td>False</td>\n",
       "    </tr>\n",
       "    <tr>\n",
       "      <th>89</th>\n",
       "      <td>LID</td>\n",
       "      <td>-0.043</td>\n",
       "      <td>-0.492</td>\n",
       "      <td>0.405</td>\n",
       "      <td>0.850</td>\n",
       "      <td>gamma</td>\n",
       "      <td>y</td>\n",
       "      <td>post</td>\n",
       "      <td>False</td>\n",
       "    </tr>\n",
       "  </tbody>\n",
       "</table>\n",
       "</div>"
      ],
      "text/plain": [
       "        severity  slope  ci_lower  ci_upper  p_value frequency axis  \\\n",
       "75  noLID_noDOPA -0.148    -0.387     0.091    0.677     gamma    y   \n",
       "76    noLID_DOPA -0.033    -0.286     0.219    0.795     gamma    y   \n",
       "77           LID  0.132    -0.117     0.381    0.677     gamma    y   \n",
       "81  noLID_noDOPA -0.605    -1.194    -0.017    0.132     gamma    y   \n",
       "82    noLID_DOPA -0.507    -1.107     0.093    0.196     gamma    y   \n",
       "83           LID -0.335    -0.934     0.264    0.273     gamma    y   \n",
       "87  noLID_noDOPA  0.397    -0.040     0.834    0.226     gamma    y   \n",
       "88    noLID_DOPA  0.406    -0.044     0.857    0.226     gamma    y   \n",
       "89           LID -0.043    -0.492     0.405    0.850     gamma    y   \n",
       "\n",
       "   event_segment  significant  \n",
       "75           pre        False  \n",
       "76           pre        False  \n",
       "77           pre        False  \n",
       "81         event        False  \n",
       "82         event        False  \n",
       "83         event        False  \n",
       "87          post        False  \n",
       "88          post        False  \n",
       "89          post        False  "
      ]
     },
     "execution_count": 46,
     "metadata": {},
     "output_type": "execute_result"
    }
   ],
   "source": [
    "slopes[(slopes.axis==\"y\") & (slopes.frequency==\"gamma\")]"
   ]
  },
  {
   "cell_type": "code",
   "execution_count": 56,
   "metadata": {},
   "outputs": [
    {
     "data": {
      "text/html": [
       "<div>\n",
       "<style scoped>\n",
       "    .dataframe tbody tr th:only-of-type {\n",
       "        vertical-align: middle;\n",
       "    }\n",
       "\n",
       "    .dataframe tbody tr th {\n",
       "        vertical-align: top;\n",
       "    }\n",
       "\n",
       "    .dataframe thead th {\n",
       "        text-align: right;\n",
       "    }\n",
       "</style>\n",
       "<table border=\"1\" class=\"dataframe\">\n",
       "  <thead>\n",
       "    <tr style=\"text-align: right;\">\n",
       "      <th></th>\n",
       "      <th>comparison</th>\n",
       "      <th>slope_diff</th>\n",
       "      <th>ci_lower</th>\n",
       "      <th>ci_upper</th>\n",
       "      <th>p_value</th>\n",
       "      <th>frequency</th>\n",
       "      <th>axis</th>\n",
       "      <th>event_segment</th>\n",
       "      <th>significant</th>\n",
       "      <th>stars</th>\n",
       "    </tr>\n",
       "  </thead>\n",
       "  <tbody>\n",
       "    <tr>\n",
       "      <th>75</th>\n",
       "      <td>noLID-noDOPA vs noLID-DOPA</td>\n",
       "      <td>-0.114</td>\n",
       "      <td>-0.272</td>\n",
       "      <td>0.043</td>\n",
       "      <td>0.307</td>\n",
       "      <td>gamma</td>\n",
       "      <td>y</td>\n",
       "      <td>pre</td>\n",
       "      <td>False</td>\n",
       "      <td></td>\n",
       "    </tr>\n",
       "    <tr>\n",
       "      <th>76</th>\n",
       "      <td>noLID-DOPA vs LID</td>\n",
       "      <td>-0.165</td>\n",
       "      <td>-0.392</td>\n",
       "      <td>0.062</td>\n",
       "      <td>0.307</td>\n",
       "      <td>gamma</td>\n",
       "      <td>y</td>\n",
       "      <td>pre</td>\n",
       "      <td>False</td>\n",
       "      <td></td>\n",
       "    </tr>\n",
       "    <tr>\n",
       "      <th>77</th>\n",
       "      <td>noLID-noDOPA vs LID</td>\n",
       "      <td>-0.280</td>\n",
       "      <td>-0.490</td>\n",
       "      <td>-0.069</td>\n",
       "      <td>0.028</td>\n",
       "      <td>gamma</td>\n",
       "      <td>y</td>\n",
       "      <td>pre</td>\n",
       "      <td>True</td>\n",
       "      <td>*</td>\n",
       "    </tr>\n",
       "    <tr>\n",
       "      <th>81</th>\n",
       "      <td>noLID-noDOPA vs noLID-DOPA</td>\n",
       "      <td>-0.098</td>\n",
       "      <td>-0.318</td>\n",
       "      <td>0.121</td>\n",
       "      <td>0.611</td>\n",
       "      <td>gamma</td>\n",
       "      <td>y</td>\n",
       "      <td>event</td>\n",
       "      <td>False</td>\n",
       "      <td></td>\n",
       "    </tr>\n",
       "    <tr>\n",
       "      <th>82</th>\n",
       "      <td>noLID-DOPA vs LID</td>\n",
       "      <td>-0.172</td>\n",
       "      <td>-0.501</td>\n",
       "      <td>0.157</td>\n",
       "      <td>0.611</td>\n",
       "      <td>gamma</td>\n",
       "      <td>y</td>\n",
       "      <td>event</td>\n",
       "      <td>False</td>\n",
       "      <td></td>\n",
       "    </tr>\n",
       "    <tr>\n",
       "      <th>83</th>\n",
       "      <td>noLID-noDOPA vs LID</td>\n",
       "      <td>-0.270</td>\n",
       "      <td>-0.577</td>\n",
       "      <td>0.036</td>\n",
       "      <td>0.251</td>\n",
       "      <td>gamma</td>\n",
       "      <td>y</td>\n",
       "      <td>event</td>\n",
       "      <td>False</td>\n",
       "      <td></td>\n",
       "    </tr>\n",
       "    <tr>\n",
       "      <th>87</th>\n",
       "      <td>noLID-noDOPA vs noLID-DOPA</td>\n",
       "      <td>-0.010</td>\n",
       "      <td>-0.219</td>\n",
       "      <td>0.200</td>\n",
       "      <td>0.929</td>\n",
       "      <td>gamma</td>\n",
       "      <td>y</td>\n",
       "      <td>post</td>\n",
       "      <td>False</td>\n",
       "      <td></td>\n",
       "    </tr>\n",
       "    <tr>\n",
       "      <th>88</th>\n",
       "      <td>noLID-DOPA vs LID</td>\n",
       "      <td>0.450</td>\n",
       "      <td>0.139</td>\n",
       "      <td>0.760</td>\n",
       "      <td>0.009</td>\n",
       "      <td>gamma</td>\n",
       "      <td>y</td>\n",
       "      <td>post</td>\n",
       "      <td>True</td>\n",
       "      <td>**</td>\n",
       "    </tr>\n",
       "    <tr>\n",
       "      <th>89</th>\n",
       "      <td>noLID-noDOPA vs LID</td>\n",
       "      <td>0.440</td>\n",
       "      <td>0.152</td>\n",
       "      <td>0.728</td>\n",
       "      <td>0.008</td>\n",
       "      <td>gamma</td>\n",
       "      <td>y</td>\n",
       "      <td>post</td>\n",
       "      <td>True</td>\n",
       "      <td>**</td>\n",
       "    </tr>\n",
       "  </tbody>\n",
       "</table>\n",
       "</div>"
      ],
      "text/plain": [
       "                    comparison  slope_diff  ci_lower  ci_upper  p_value  \\\n",
       "75  noLID-noDOPA vs noLID-DOPA      -0.114    -0.272     0.043    0.307   \n",
       "76           noLID-DOPA vs LID      -0.165    -0.392     0.062    0.307   \n",
       "77         noLID-noDOPA vs LID      -0.280    -0.490    -0.069    0.028   \n",
       "81  noLID-noDOPA vs noLID-DOPA      -0.098    -0.318     0.121    0.611   \n",
       "82           noLID-DOPA vs LID      -0.172    -0.501     0.157    0.611   \n",
       "83         noLID-noDOPA vs LID      -0.270    -0.577     0.036    0.251   \n",
       "87  noLID-noDOPA vs noLID-DOPA      -0.010    -0.219     0.200    0.929   \n",
       "88           noLID-DOPA vs LID       0.450     0.139     0.760    0.009   \n",
       "89         noLID-noDOPA vs LID       0.440     0.152     0.728    0.008   \n",
       "\n",
       "   frequency axis event_segment  significant stars  \n",
       "75     gamma    y           pre        False        \n",
       "76     gamma    y           pre        False        \n",
       "77     gamma    y           pre         True     *  \n",
       "81     gamma    y         event        False        \n",
       "82     gamma    y         event        False        \n",
       "83     gamma    y         event        False        \n",
       "87     gamma    y          post        False        \n",
       "88     gamma    y          post         True    **  \n",
       "89     gamma    y          post         True    **  "
      ]
     },
     "execution_count": 56,
     "metadata": {},
     "output_type": "execute_result"
    }
   ],
   "source": [
    "slopes_differences[(slopes_differences.axis==\"y\") & (slopes_differences.frequency==\"gamma\")]"
   ]
  },
  {
   "cell_type": "code",
   "execution_count": null,
   "metadata": {},
   "outputs": [],
   "source": []
  }
 ],
 "metadata": {
  "kernelspec": {
   "display_name": "Python 3 (ipykernel)",
   "language": "python",
   "name": "python3"
  },
  "language_info": {
   "codemirror_mode": {
    "name": "ipython",
    "version": 3
   },
   "file_extension": ".py",
   "mimetype": "text/x-python",
   "name": "python",
   "nbconvert_exporter": "python",
   "pygments_lexer": "ipython3",
   "version": "3.9.19"
  }
 },
 "nbformat": 4,
 "nbformat_minor": 4
}

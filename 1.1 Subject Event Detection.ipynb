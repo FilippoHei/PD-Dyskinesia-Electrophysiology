{
 "cells": [
  {
   "cell_type": "code",
   "execution_count": 1,
   "metadata": {},
   "outputs": [],
   "source": [
    "# Import public packages and functions\n",
    "import os\n",
    "import pandas as pd\n",
    "import numpy as np\n",
    "import sys\n",
    "import json\n",
    "from pathlib import Path\n",
    "import seaborn as sns\n",
    "\n",
    "# inserting the lib folder to the compiler\n",
    "sys.path.insert(0, './lib')\n",
    "sys.path.insert(0, './utils/')\n",
    "\n",
    "from lib_event import EVENTS\n",
    "from lib_data import DATA_IO\n",
    "\n",
    "import utils_plotting_accelerometer"
   ]
  },
  {
   "cell_type": "code",
   "execution_count": 2,
   "metadata": {},
   "outputs": [],
   "source": [
    "PATH_CURR  = os.path.abspath(os.curdir)    # current code\n",
    "PATH       = (str(Path(PATH_CURR).parent)) # data repository: upper directory where datasets situated\n",
    "SUB        = '016'"
   ]
  },
  {
   "cell_type": "code",
   "execution_count": 3,
   "metadata": {},
   "outputs": [
    {
     "name": "stdout",
     "output_type": "stream",
     "text": [
      "EVENT HISTORY: SUB-016\n",
      "... loading started\n",
      "... pickle loading: C:\\Users\\a.kaymak\\Desktop\\Papers\\2025 Parkinson Dyskinesia LFP-ECG\\files\\data\\sub-016\\016_mergedData_v4.0_acc_right.P\n",
      "... task periods were defined\n",
      "... events were categorized\n",
      "... dyskinesia evaluation was collected\n",
      "... loading completed\n"
     ]
    }
   ],
   "source": [
    "EVENTS_HISTORY = EVENTS(PATH, SUB, 'acc_right')\n",
    "df_events_016  = EVENTS_HISTORY.get_event_dataframe()\n",
    "df_events_016.to_csv(DATA_IO.path_events_dataframe + \"SUB_\"+ SUB +\"_EVENTS.csv\", index=False)"
   ]
  },
  {
   "cell_type": "code",
   "execution_count": null,
   "metadata": {},
   "outputs": [],
   "source": []
  }
 ],
 "metadata": {
  "kernelspec": {
   "display_name": "Python 3 (ipykernel)",
   "language": "python",
   "name": "python3"
  },
  "language_info": {
   "codemirror_mode": {
    "name": "ipython",
    "version": 3
   },
   "file_extension": ".py",
   "mimetype": "text/x-python",
   "name": "python",
   "nbconvert_exporter": "python",
   "pygments_lexer": "ipython3",
   "version": "3.9.18"
  }
 },
 "nbformat": 4,
 "nbformat_minor": 4
}

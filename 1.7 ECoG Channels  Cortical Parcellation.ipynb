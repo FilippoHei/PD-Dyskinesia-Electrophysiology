{
 "cells": [
  {
   "cell_type": "code",
   "execution_count": 2,
   "id": "347a6da4-5601-42fe-ad26-01cbc6216926",
   "metadata": {},
   "outputs": [],
   "source": [
    "import os\n",
    "import pandas as pd\n",
    "import numpy as np\n",
    "import sys\n",
    "import json\n",
    "from pathlib import Path\n",
    "from scipy import signal\n",
    "\n",
    "import warnings\n",
    "warnings.filterwarnings(\"ignore\")\n",
    "\n",
    "# inserting the lib folder to the compiler\n",
    "sys.path.insert(0, './lib')\n",
    "sys.path.insert(0, './utils/')\n",
    "\n",
    "import utils_io, utils_misc, utils_cortical_atlas\n",
    "from lib_data import DATA_IO"
   ]
  },
  {
   "cell_type": "markdown",
   "id": "60a6540b-4f81-4ed4-aac1-e78466a05a6d",
   "metadata": {},
   "source": [
    "# 1. Define ECoG Channels MNI Coordinates From ECoG Contacts"
   ]
  },
  {
   "cell_type": "code",
   "execution_count": 5,
   "id": "68f46848-c4b2-498f-a117-576a45e089d6",
   "metadata": {},
   "outputs": [],
   "source": [
    "# load dataframe of ECoG tapping events\n",
    "ECOG_PSD             = utils_io.load_ECoG_event_PSD(event_category=\"tapping\", event_laterality=\"controlateral\")\n",
    "\n",
    "# load ECoG contact coordinates\n",
    "MNI_coordinates      = pd.read_csv(DATA_IO.path_coordinates + \"contact_coordinates.csv\")\n",
    "MNI_ECoG_coordinates = MNI_coordinates[MNI_coordinates.recording_type == \"ecog\"]\n",
    "MNI_ECoG_channels    = pd.DataFrame(columns=[\"patient\", \"hemisphere\", \"channel\", \"x\", \"y\", \"z\"])                                \n",
    "\n",
    "for severity in list(ECOG_PSD.keys()):\n",
    "    for patient in ECOG_PSD[severity].patient.unique():\n",
    "    \n",
    "        # select the hemisphere of the ECoG strip for the selected patients\n",
    "        hemisphere = ECOG_PSD[severity][ECOG_PSD[severity].patient==patient].ECoG_hemisphere.unique()[0]\n",
    "    \n",
    "        # find all the rereferenced ECoG channels where the controlateral ECoG activity is measured for tapping events\n",
    "        for channel in ECOG_PSD[severity][(ECOG_PSD[severity].patient==patient) & (ECOG_PSD[severity].ECoG_hemisphere==hemisphere)].ECoG_channel.unique():\n",
    "    \n",
    "            # get the contact 1 & 2 names\n",
    "            contact_1 = int(channel.split(\"-\")[0])\n",
    "            contact_2 = int(channel.split(\"-\")[1])\n",
    "    \n",
    "            # get the coordinates of contact 1 & 2\n",
    "            contact_1_coordinates = MNI_ECoG_coordinates[(MNI_ECoG_coordinates.patient==int(patient)) & \n",
    "                                                         (MNI_ECoG_coordinates.hemisphere==hemisphere) & \n",
    "                                                         (MNI_ECoG_coordinates.contact==contact_1)]\n",
    "            contact_2_coordinates = MNI_ECoG_coordinates[(MNI_ECoG_coordinates.patient==int(patient)) & \n",
    "                                                         (MNI_ECoG_coordinates.hemisphere==hemisphere) & \n",
    "                                                         (MNI_ECoG_coordinates.contact==contact_2)]\n",
    "    \n",
    "            row               = {}\n",
    "            row[\"patient\"]    = patient\n",
    "            row[\"hemisphere\"] = hemisphere\n",
    "            row[\"channel\"]    = channel\n",
    "            row[\"x\"]          = (float(contact_1_coordinates.x) + float(contact_2_coordinates.x)) / 2\n",
    "            row[\"y\"]          = (float(contact_1_coordinates.y) + float(contact_2_coordinates.y)) / 2\n",
    "            row[\"z\"]          = (float(contact_1_coordinates.z) + float(contact_2_coordinates.z)) / 2\n",
    "            \n",
    "            MNI_ECoG_channels.loc[len(MNI_ECoG_channels)] = row \n",
    "\n",
    "MNI_ECoG_channels.drop_duplicates(inplace=True)"
   ]
  },
  {
   "cell_type": "markdown",
   "id": "cf267faa-057c-4b2b-83aa-77adc29e15d7",
   "metadata": {},
   "source": [
    "# 2. Parcellate ECoG Channels onto Cortical Regions Based on AAL3 Atlas Defitions"
   ]
  },
  {
   "cell_type": "code",
   "execution_count": 7,
   "id": "8a2a443b-1444-40e3-a50b-5e0feb0f0e06",
   "metadata": {},
   "outputs": [],
   "source": [
    "# load high resolution AAL3 cortex mesh\n",
    "cortex_mesh             = utils_io.load_cortical_atlas_meshes()\n",
    "\n",
    "# load AAL3 cortex parcellation objects\n",
    "AAL3_image, AAL3_labels = utils_io.load_AAL3_files_for_cortical_parcellation()\n",
    "\n",
    "# map ECoG channels on top of cortical surface\n",
    "MNI_ECoG_channels       = utils_cortical_atlas.map_ECOG_channels_on_cortical_surface(MNI_ECoG_channels, cortex_mesh)\n",
    "\n",
    "# parcellate mapped ECoG channels\n",
    "MNI_ECoG_channels       = utils_cortical_atlas.parcellate_ECoG_channels_to_cortical_areas(AAL3_image, AAL3_labels, MNI_ECoG_channels)"
   ]
  },
  {
   "cell_type": "markdown",
   "id": "95f5fa1b-19fe-419d-8743-8b49061afdc0",
   "metadata": {},
   "source": [
    "# 3. Save"
   ]
  },
  {
   "cell_type": "code",
   "execution_count": 9,
   "id": "7632d244-44ce-4de0-aa90-8438f78b5ead",
   "metadata": {},
   "outputs": [],
   "source": [
    "MNI_ECoG_channels.to_pickle(DATA_IO.path_coordinates + \"MNI_ECoG_channels.pkl\")"
   ]
  }
 ],
 "metadata": {
  "kernelspec": {
   "display_name": "Python 3 (ipykernel)",
   "language": "python",
   "name": "python3"
  },
  "language_info": {
   "codemirror_mode": {
    "name": "ipython",
    "version": 3
   },
   "file_extension": ".py",
   "mimetype": "text/x-python",
   "name": "python",
   "nbconvert_exporter": "python",
   "pygments_lexer": "ipython3",
   "version": "3.9.19"
  }
 },
 "nbformat": 4,
 "nbformat_minor": 5
}

{
 "cells": [
  {
   "cell_type": "code",
   "execution_count": 1,
   "metadata": {},
   "outputs": [
    {
     "name": "stderr",
     "output_type": "stream",
     "text": [
      "C:\\Users\\a.kaymak\\AppData\\Roaming\\Python\\Python39\\site-packages\\pandas\\core\\arrays\\masked.py:60: UserWarning: Pandas requires version '1.3.6' or newer of 'bottleneck' (version '1.3.5' currently installed).\n",
      "  from pandas.core import (\n"
     ]
    }
   ],
   "source": [
    "# Import public packages and functions\n",
    "import os\n",
    "import pandas as pd\n",
    "import numpy as np\n",
    "import sys\n",
    "import json\n",
    "from pathlib import Path\n",
    "from scipy import signal\n",
    "\n",
    "import seaborn as sns\n",
    "import matplotlib.pyplot as plt\n",
    "import scikit_posthocs as sp\n",
    "\n",
    "import warnings\n",
    "warnings.filterwarnings(\"ignore\")\n",
    "\n",
    "# inserting the lib folder to the compiler\n",
    "sys.path.insert(0, './lib')\n",
    "sys.path.insert(0, './utils/')\n",
    "\n",
    "import utils_io, utils_coherence, utils_plotting_coherence\n",
    "\n",
    "from lib_data import DATA_IO"
   ]
  },
  {
   "cell_type": "code",
   "execution_count": 2,
   "metadata": {},
   "outputs": [],
   "source": [
    "PATH_CURR = os.path.abspath(os.curdir)    # current code\n",
    "PATH      = (str(Path(PATH_CURR).parent)) # data repository: upper directory where datasets situated\n",
    "fs        = 2048"
   ]
  },
  {
   "cell_type": "markdown",
   "metadata": {
    "jp-MarkdownHeadingCollapsed": true
   },
   "source": [
    "# 1. Measure Baseline Coherence Between LFP and ECOG Channels"
   ]
  },
  {
   "cell_type": "code",
   "execution_count": 5,
   "metadata": {},
   "outputs": [],
   "source": [
    "#baseline_coherence_LFP_ECOG = utils_coherence.extract_baseline_coherence_between_ECOG_LFP_channels()\n",
    "#baseline_coherence_LFP_ECOG.to_pickle(DATA_IO.path_events + \"coherence/ECOG_LFP_BASELINE_COHERENCE.pkl\")\n",
    "baseline_coherence_LFP_ECOG = pd.read_pickle(DATA_IO.path_events + \"coherence/ECOG_LFP_BASELINE_COHERENCE.pkl\")"
   ]
  },
  {
   "cell_type": "markdown",
   "metadata": {
    "jp-MarkdownHeadingCollapsed": true
   },
   "source": [
    "# 2. Measure Events Coherence Between LFP and ECOG Channels"
   ]
  },
  {
   "cell_type": "raw",
   "metadata": {},
   "source": [
    "Initially measure the coherence between events in LFP and ECoG channels and then normalized the event coherence based on the baseline coherence observed in the channel."
   ]
  },
  {
   "cell_type": "markdown",
   "metadata": {},
   "source": [
    "## 2.1 Load Events"
   ]
  },
  {
   "cell_type": "code",
   "execution_count": 7,
   "metadata": {},
   "outputs": [],
   "source": [
    "# load ECoG events\n",
    "EVENTS_ECOG            = utils_io.load_ECoG_events(event_category=\"tapping\", fs=2048)\n",
    "EVENTS_ECOG_LID        = EVENTS_ECOG['controlateral']['LID']\n",
    "EVENTS_ECOG_noLID      = EVENTS_ECOG['controlateral']['noLID']\n",
    "# load LFP events\n",
    "EVENTS_LFP             = utils_io.load_LFP_events(event_category=\"tapping\", stn_areas=[\"motor\"], fs=2048)\n",
    "EVENTS_LFP_MOTOR_LID   = EVENTS_LFP['motor']['controlateral']['LID']\n",
    "EVENTS_LFP_MOTOR_noLID = EVENTS_LFP['motor']['controlateral']['noLID']"
   ]
  },
  {
   "cell_type": "markdown",
   "metadata": {},
   "source": [
    "## 2.2 Coherence Between Ipsilateral MOTOR-STN and ECOG Channels"
   ]
  },
  {
   "cell_type": "code",
   "execution_count": 10,
   "metadata": {},
   "outputs": [
    {
     "name": "stdout",
     "output_type": "stream",
     "text": [
      "ECOG-LFP Channel Coherence Measurement Started...\n",
      "---> Patient: 008\n",
      "     LFP: left hemisphere - 04-01 | ECOG: left hemisphere - 02-01\n",
      "     LFP: left hemisphere - 05-02 | ECOG: left hemisphere - 02-01\n",
      "     LFP: left hemisphere - 06-03 | ECOG: left hemisphere - 02-01\n",
      "     LFP: left hemisphere - 07-04 | ECOG: left hemisphere - 02-01\n",
      "     LFP: left hemisphere - 08-05 | ECOG: left hemisphere - 02-01\n",
      "     LFP: left hemisphere - 09-06 | ECOG: left hemisphere - 02-01\n",
      "     LFP: left hemisphere - 10-07 | ECOG: left hemisphere - 02-01\n",
      "     LFP: left hemisphere - 11-08 | ECOG: left hemisphere - 02-01\n",
      "     LFP: left hemisphere - 11-09 | ECOG: left hemisphere - 02-01\n",
      "     LFP: left hemisphere - 13-10 | ECOG: left hemisphere - 02-01\n",
      "     LFP: left hemisphere - 14-11 | ECOG: left hemisphere - 02-01\n",
      "     LFP: left hemisphere - 04-01 | ECOG: left hemisphere - 03-02\n",
      "     LFP: left hemisphere - 05-02 | ECOG: left hemisphere - 03-02\n",
      "     LFP: left hemisphere - 06-03 | ECOG: left hemisphere - 03-02\n",
      "     LFP: left hemisphere - 07-04 | ECOG: left hemisphere - 03-02\n",
      "     LFP: left hemisphere - 08-05 | ECOG: left hemisphere - 03-02\n",
      "     LFP: left hemisphere - 09-06 | ECOG: left hemisphere - 03-02\n",
      "     LFP: left hemisphere - 10-07 | ECOG: left hemisphere - 03-02\n",
      "     LFP: left hemisphere - 11-08 | ECOG: left hemisphere - 03-02\n",
      "     LFP: left hemisphere - 11-09 | ECOG: left hemisphere - 03-02\n",
      "     LFP: left hemisphere - 13-10 | ECOG: left hemisphere - 03-02\n",
      "     LFP: left hemisphere - 14-11 | ECOG: left hemisphere - 03-02\n",
      "     LFP: left hemisphere - 04-01 | ECOG: left hemisphere - 04-03\n",
      "     LFP: left hemisphere - 05-02 | ECOG: left hemisphere - 04-03\n",
      "     LFP: left hemisphere - 06-03 | ECOG: left hemisphere - 04-03\n",
      "     LFP: left hemisphere - 07-04 | ECOG: left hemisphere - 04-03\n",
      "     LFP: left hemisphere - 08-05 | ECOG: left hemisphere - 04-03\n",
      "     LFP: left hemisphere - 09-06 | ECOG: left hemisphere - 04-03\n",
      "     LFP: left hemisphere - 10-07 | ECOG: left hemisphere - 04-03\n",
      "     LFP: left hemisphere - 11-08 | ECOG: left hemisphere - 04-03\n",
      "     LFP: left hemisphere - 11-09 | ECOG: left hemisphere - 04-03\n",
      "     LFP: left hemisphere - 13-10 | ECOG: left hemisphere - 04-03\n",
      "     LFP: left hemisphere - 14-11 | ECOG: left hemisphere - 04-03\n",
      "     LFP: left hemisphere - 04-01 | ECOG: left hemisphere - 05-04\n",
      "     LFP: left hemisphere - 05-02 | ECOG: left hemisphere - 05-04\n",
      "     LFP: left hemisphere - 06-03 | ECOG: left hemisphere - 05-04\n",
      "     LFP: left hemisphere - 07-04 | ECOG: left hemisphere - 05-04\n",
      "     LFP: left hemisphere - 08-05 | ECOG: left hemisphere - 05-04\n",
      "     LFP: left hemisphere - 09-06 | ECOG: left hemisphere - 05-04\n",
      "     LFP: left hemisphere - 10-07 | ECOG: left hemisphere - 05-04\n",
      "     LFP: left hemisphere - 11-08 | ECOG: left hemisphere - 05-04\n",
      "     LFP: left hemisphere - 11-09 | ECOG: left hemisphere - 05-04\n",
      "     LFP: left hemisphere - 13-10 | ECOG: left hemisphere - 05-04\n",
      "     LFP: left hemisphere - 14-11 | ECOG: left hemisphere - 05-04\n",
      "     LFP: left hemisphere - 04-01 | ECOG: left hemisphere - 06-05\n",
      "     LFP: left hemisphere - 05-02 | ECOG: left hemisphere - 06-05\n",
      "     LFP: left hemisphere - 06-03 | ECOG: left hemisphere - 06-05\n",
      "     LFP: left hemisphere - 07-04 | ECOG: left hemisphere - 06-05\n",
      "     LFP: left hemisphere - 08-05 | ECOG: left hemisphere - 06-05\n",
      "     LFP: left hemisphere - 09-06 | ECOG: left hemisphere - 06-05\n",
      "     LFP: left hemisphere - 10-07 | ECOG: left hemisphere - 06-05\n",
      "     LFP: left hemisphere - 11-08 | ECOG: left hemisphere - 06-05\n",
      "     LFP: left hemisphere - 11-09 | ECOG: left hemisphere - 06-05\n",
      "     LFP: left hemisphere - 13-10 | ECOG: left hemisphere - 06-05\n",
      "     LFP: left hemisphere - 14-11 | ECOG: left hemisphere - 06-05\n",
      "---> Patient: 009\n",
      "     LFP: left hemisphere - 02-01 | ECOG: left hemisphere - 02-01\n",
      "     LFP: left hemisphere - 03-01 | ECOG: left hemisphere - 02-01\n",
      "     LFP: left hemisphere - 04-01 | ECOG: left hemisphere - 02-01\n",
      "     LFP: left hemisphere - 06-03 | ECOG: left hemisphere - 02-01\n",
      "     LFP: left hemisphere - 08-06 | ECOG: left hemisphere - 02-01\n",
      "     LFP: left hemisphere - 02-01 | ECOG: left hemisphere - 03-02\n",
      "     LFP: left hemisphere - 03-01 | ECOG: left hemisphere - 03-02\n",
      "     LFP: left hemisphere - 04-01 | ECOG: left hemisphere - 03-02\n",
      "     LFP: left hemisphere - 06-03 | ECOG: left hemisphere - 03-02\n",
      "     LFP: left hemisphere - 08-06 | ECOG: left hemisphere - 03-02\n",
      "     LFP: left hemisphere - 02-01 | ECOG: left hemisphere - 06-05\n",
      "     LFP: left hemisphere - 03-01 | ECOG: left hemisphere - 06-05\n",
      "     LFP: left hemisphere - 04-01 | ECOG: left hemisphere - 06-05\n",
      "     LFP: left hemisphere - 06-03 | ECOG: left hemisphere - 06-05\n",
      "     LFP: left hemisphere - 08-06 | ECOG: left hemisphere - 06-05\n",
      "     LFP: left hemisphere - 02-01 | ECOG: left hemisphere - 04-03\n",
      "     LFP: left hemisphere - 03-01 | ECOG: left hemisphere - 04-03\n",
      "     LFP: left hemisphere - 04-01 | ECOG: left hemisphere - 04-03\n",
      "     LFP: left hemisphere - 06-03 | ECOG: left hemisphere - 04-03\n",
      "     LFP: left hemisphere - 08-06 | ECOG: left hemisphere - 04-03\n",
      "     LFP: left hemisphere - 02-01 | ECOG: left hemisphere - 05-04\n",
      "     LFP: left hemisphere - 03-01 | ECOG: left hemisphere - 05-04\n",
      "     LFP: left hemisphere - 04-01 | ECOG: left hemisphere - 05-04\n",
      "     LFP: left hemisphere - 06-03 | ECOG: left hemisphere - 05-04\n",
      "     LFP: left hemisphere - 08-06 | ECOG: left hemisphere - 05-04\n",
      "---> Patient: 012\n",
      "     LFP: right hemisphere - 02-01 | ECOG: right hemisphere - 02-01\n",
      "     LFP: right hemisphere - 03-01 | ECOG: right hemisphere - 02-01\n",
      "     LFP: right hemisphere - 04-01 | ECOG: right hemisphere - 02-01\n",
      "     LFP: right hemisphere - 05-02 | ECOG: right hemisphere - 02-01\n",
      "     LFP: right hemisphere - 02-01 | ECOG: right hemisphere - 03-02\n",
      "     LFP: right hemisphere - 03-01 | ECOG: right hemisphere - 03-02\n",
      "     LFP: right hemisphere - 04-01 | ECOG: right hemisphere - 03-02\n",
      "     LFP: right hemisphere - 05-02 | ECOG: right hemisphere - 03-02\n",
      "     LFP: right hemisphere - 02-01 | ECOG: right hemisphere - 04-03\n",
      "     LFP: right hemisphere - 03-01 | ECOG: right hemisphere - 04-03\n",
      "     LFP: right hemisphere - 04-01 | ECOG: right hemisphere - 04-03\n",
      "     LFP: right hemisphere - 05-02 | ECOG: right hemisphere - 04-03\n",
      "     LFP: right hemisphere - 02-01 | ECOG: right hemisphere - 05-04\n",
      "     LFP: right hemisphere - 03-01 | ECOG: right hemisphere - 05-04\n",
      "     LFP: right hemisphere - 04-01 | ECOG: right hemisphere - 05-04\n",
      "     LFP: right hemisphere - 05-02 | ECOG: right hemisphere - 05-04\n",
      "---> Patient: 021\n",
      "     LFP: right hemisphere - 02-01 | ECOG: right hemisphere - 02-01\n",
      "     LFP: right hemisphere - 03-01 | ECOG: right hemisphere - 02-01\n",
      "     LFP: right hemisphere - 04-01 | ECOG: right hemisphere - 02-01\n",
      "     LFP: right hemisphere - 05-02 | ECOG: right hemisphere - 02-01\n",
      "     LFP: right hemisphere - 06-03 | ECOG: right hemisphere - 02-01\n",
      "     LFP: right hemisphere - 07-04 | ECOG: right hemisphere - 02-01\n",
      "     LFP: right hemisphere - 08-07 | ECOG: right hemisphere - 02-01\n",
      "     LFP: right hemisphere - 02-01 | ECOG: right hemisphere - 03-02\n",
      "     LFP: right hemisphere - 03-01 | ECOG: right hemisphere - 03-02\n",
      "     LFP: right hemisphere - 04-01 | ECOG: right hemisphere - 03-02\n",
      "     LFP: right hemisphere - 05-02 | ECOG: right hemisphere - 03-02\n",
      "     LFP: right hemisphere - 06-03 | ECOG: right hemisphere - 03-02\n",
      "     LFP: right hemisphere - 07-04 | ECOG: right hemisphere - 03-02\n",
      "     LFP: right hemisphere - 08-07 | ECOG: right hemisphere - 03-02\n",
      "     LFP: right hemisphere - 02-01 | ECOG: right hemisphere - 04-03\n",
      "     LFP: right hemisphere - 03-01 | ECOG: right hemisphere - 04-03\n",
      "     LFP: right hemisphere - 04-01 | ECOG: right hemisphere - 04-03\n",
      "     LFP: right hemisphere - 05-02 | ECOG: right hemisphere - 04-03\n",
      "     LFP: right hemisphere - 06-03 | ECOG: right hemisphere - 04-03\n",
      "     LFP: right hemisphere - 07-04 | ECOG: right hemisphere - 04-03\n",
      "     LFP: right hemisphere - 08-07 | ECOG: right hemisphere - 04-03\n",
      "     LFP: right hemisphere - 02-01 | ECOG: right hemisphere - 05-04\n",
      "     LFP: right hemisphere - 03-01 | ECOG: right hemisphere - 05-04\n",
      "     LFP: right hemisphere - 04-01 | ECOG: right hemisphere - 05-04\n",
      "     LFP: right hemisphere - 05-02 | ECOG: right hemisphere - 05-04\n",
      "     LFP: right hemisphere - 06-03 | ECOG: right hemisphere - 05-04\n",
      "     LFP: right hemisphere - 07-04 | ECOG: right hemisphere - 05-04\n",
      "     LFP: right hemisphere - 08-07 | ECOG: right hemisphere - 05-04\n",
      "     LFP: right hemisphere - 02-01 | ECOG: right hemisphere - 06-05\n",
      "     LFP: right hemisphere - 03-01 | ECOG: right hemisphere - 06-05\n",
      "     LFP: right hemisphere - 04-01 | ECOG: right hemisphere - 06-05\n",
      "     LFP: right hemisphere - 05-02 | ECOG: right hemisphere - 06-05\n",
      "     LFP: right hemisphere - 06-03 | ECOG: right hemisphere - 06-05\n",
      "     LFP: right hemisphere - 07-04 | ECOG: right hemisphere - 06-05\n",
      "     LFP: right hemisphere - 08-07 | ECOG: right hemisphere - 06-05\n",
      "---> Patient: 022\n",
      "     LFP: right hemisphere - 02-01 | ECOG: right hemisphere - 02-01\n",
      "     LFP: right hemisphere - 03-01 | ECOG: right hemisphere - 02-01\n",
      "     LFP: right hemisphere - 04-01 | ECOG: right hemisphere - 02-01\n",
      "     LFP: right hemisphere - 07-04 | ECOG: right hemisphere - 02-01\n",
      "     LFP: right hemisphere - 02-01 | ECOG: right hemisphere - 03-02\n",
      "     LFP: right hemisphere - 03-01 | ECOG: right hemisphere - 03-02\n",
      "     LFP: right hemisphere - 04-01 | ECOG: right hemisphere - 03-02\n",
      "     LFP: right hemisphere - 07-04 | ECOG: right hemisphere - 03-02\n",
      "     LFP: right hemisphere - 02-01 | ECOG: right hemisphere - 04-03\n",
      "     LFP: right hemisphere - 03-01 | ECOG: right hemisphere - 04-03\n",
      "     LFP: right hemisphere - 04-01 | ECOG: right hemisphere - 04-03\n",
      "     LFP: right hemisphere - 07-04 | ECOG: right hemisphere - 04-03\n",
      "     LFP: right hemisphere - 02-01 | ECOG: right hemisphere - 05-04\n",
      "     LFP: right hemisphere - 03-01 | ECOG: right hemisphere - 05-04\n",
      "     LFP: right hemisphere - 04-01 | ECOG: right hemisphere - 05-04\n",
      "     LFP: right hemisphere - 07-04 | ECOG: right hemisphere - 05-04\n",
      "     LFP: right hemisphere - 02-01 | ECOG: right hemisphere - 06-05\n",
      "     LFP: right hemisphere - 03-01 | ECOG: right hemisphere - 06-05\n",
      "     LFP: right hemisphere - 04-01 | ECOG: right hemisphere - 06-05\n",
      "     LFP: right hemisphere - 07-04 | ECOG: right hemisphere - 06-05\n",
      "---> Patient: 023\n",
      "     LFP: right hemisphere - 06-03 | ECOG: right hemisphere - 03-02\n",
      "     LFP: right hemisphere - 07-04 | ECOG: right hemisphere - 03-02\n",
      "     LFP: right hemisphere - 06-03 | ECOG: right hemisphere - 04-03\n",
      "     LFP: right hemisphere - 07-04 | ECOG: right hemisphere - 04-03\n",
      "     LFP: right hemisphere - 06-03 | ECOG: right hemisphere - 05-04\n",
      "     LFP: right hemisphere - 07-04 | ECOG: right hemisphere - 05-04\n",
      "     LFP: right hemisphere - 06-03 | ECOG: right hemisphere - 06-05\n",
      "     LFP: right hemisphere - 07-04 | ECOG: right hemisphere - 06-05\n",
      "     LFP: right hemisphere - 06-03 | ECOG: right hemisphere - 02-01\n",
      "     LFP: right hemisphere - 07-04 | ECOG: right hemisphere - 02-01\n"
     ]
    }
   ],
   "source": [
    "coherence_motor_LID    = utils_coherence.measure_ECOG_LFP_coherence(dataset_LFP=EVENTS_LFP_MOTOR_LID[EVENTS_LFP_MOTOR_LID.duration>=0.25], \n",
    "                                                                    dataset_ECOG=EVENTS_ECOG_LID[EVENTS_ECOG_LID.duration>=0.25], \n",
    "                                                                    dataset_baseline_LFP_ECOG_coherence=baseline_coherence_LFP_ECOG, mode=\"ipsilateral\")"
   ]
  },
  {
   "cell_type": "code",
   "execution_count": 11,
   "metadata": {},
   "outputs": [
    {
     "name": "stdout",
     "output_type": "stream",
     "text": [
      "ECOG-LFP Channel Coherence Measurement Started...\n",
      "---> Patient: 009\n",
      "     LFP: left hemisphere - 02-01 | ECOG: left hemisphere - 02-01\n",
      "     LFP: left hemisphere - 03-01 | ECOG: left hemisphere - 02-01\n",
      "     LFP: left hemisphere - 04-01 | ECOG: left hemisphere - 02-01\n",
      "     LFP: left hemisphere - 06-03 | ECOG: left hemisphere - 02-01\n",
      "     LFP: left hemisphere - 08-06 | ECOG: left hemisphere - 02-01\n",
      "     LFP: left hemisphere - 02-01 | ECOG: left hemisphere - 03-02\n",
      "     LFP: left hemisphere - 03-01 | ECOG: left hemisphere - 03-02\n",
      "     LFP: left hemisphere - 04-01 | ECOG: left hemisphere - 03-02\n",
      "     LFP: left hemisphere - 06-03 | ECOG: left hemisphere - 03-02\n",
      "     LFP: left hemisphere - 08-06 | ECOG: left hemisphere - 03-02\n",
      "     LFP: left hemisphere - 02-01 | ECOG: left hemisphere - 04-03\n",
      "     LFP: left hemisphere - 03-01 | ECOG: left hemisphere - 04-03\n",
      "     LFP: left hemisphere - 04-01 | ECOG: left hemisphere - 04-03\n",
      "     LFP: left hemisphere - 06-03 | ECOG: left hemisphere - 04-03\n",
      "     LFP: left hemisphere - 08-06 | ECOG: left hemisphere - 04-03\n",
      "     LFP: left hemisphere - 02-01 | ECOG: left hemisphere - 05-04\n",
      "     LFP: left hemisphere - 03-01 | ECOG: left hemisphere - 05-04\n",
      "     LFP: left hemisphere - 04-01 | ECOG: left hemisphere - 05-04\n",
      "     LFP: left hemisphere - 06-03 | ECOG: left hemisphere - 05-04\n",
      "     LFP: left hemisphere - 08-06 | ECOG: left hemisphere - 05-04\n",
      "     LFP: left hemisphere - 02-01 | ECOG: left hemisphere - 06-05\n",
      "     LFP: left hemisphere - 03-01 | ECOG: left hemisphere - 06-05\n",
      "     LFP: left hemisphere - 04-01 | ECOG: left hemisphere - 06-05\n",
      "     LFP: left hemisphere - 06-03 | ECOG: left hemisphere - 06-05\n",
      "     LFP: left hemisphere - 08-06 | ECOG: left hemisphere - 06-05\n",
      "---> Patient: 013\n",
      "     LFP: right hemisphere - 02-01 | ECOG: right hemisphere - 02-01\n",
      "     LFP: right hemisphere - 03-01 | ECOG: right hemisphere - 02-01\n",
      "     LFP: right hemisphere - 04-01 | ECOG: right hemisphere - 02-01\n",
      "     LFP: right hemisphere - 07-04 | ECOG: right hemisphere - 02-01\n",
      "     LFP: right hemisphere - 08-07 | ECOG: right hemisphere - 02-01\n",
      "     LFP: right hemisphere - 02-01 | ECOG: right hemisphere - 03-02\n",
      "     LFP: right hemisphere - 03-01 | ECOG: right hemisphere - 03-02\n",
      "     LFP: right hemisphere - 04-01 | ECOG: right hemisphere - 03-02\n",
      "     LFP: right hemisphere - 07-04 | ECOG: right hemisphere - 03-02\n",
      "     LFP: right hemisphere - 08-07 | ECOG: right hemisphere - 03-02\n",
      "     LFP: right hemisphere - 02-01 | ECOG: right hemisphere - 04-03\n",
      "     LFP: right hemisphere - 03-01 | ECOG: right hemisphere - 04-03\n",
      "     LFP: right hemisphere - 04-01 | ECOG: right hemisphere - 04-03\n",
      "     LFP: right hemisphere - 07-04 | ECOG: right hemisphere - 04-03\n",
      "     LFP: right hemisphere - 08-07 | ECOG: right hemisphere - 04-03\n",
      "     LFP: right hemisphere - 02-01 | ECOG: right hemisphere - 05-04\n",
      "     LFP: right hemisphere - 03-01 | ECOG: right hemisphere - 05-04\n",
      "     LFP: right hemisphere - 04-01 | ECOG: right hemisphere - 05-04\n",
      "     LFP: right hemisphere - 07-04 | ECOG: right hemisphere - 05-04\n",
      "     LFP: right hemisphere - 08-07 | ECOG: right hemisphere - 05-04\n",
      "     LFP: right hemisphere - 02-01 | ECOG: right hemisphere - 06-05\n",
      "     LFP: right hemisphere - 03-01 | ECOG: right hemisphere - 06-05\n",
      "     LFP: right hemisphere - 04-01 | ECOG: right hemisphere - 06-05\n",
      "     LFP: right hemisphere - 07-04 | ECOG: right hemisphere - 06-05\n",
      "     LFP: right hemisphere - 08-07 | ECOG: right hemisphere - 06-05\n",
      "     LFP: right hemisphere - 02-01 | ECOG: right hemisphere - 07-06\n",
      "     LFP: right hemisphere - 03-01 | ECOG: right hemisphere - 07-06\n",
      "     LFP: right hemisphere - 04-01 | ECOG: right hemisphere - 07-06\n",
      "     LFP: right hemisphere - 07-04 | ECOG: right hemisphere - 07-06\n",
      "     LFP: right hemisphere - 08-07 | ECOG: right hemisphere - 07-06\n",
      "     LFP: right hemisphere - 02-01 | ECOG: right hemisphere - 08-07\n",
      "     LFP: right hemisphere - 03-01 | ECOG: right hemisphere - 08-07\n",
      "     LFP: right hemisphere - 04-01 | ECOG: right hemisphere - 08-07\n",
      "     LFP: right hemisphere - 07-04 | ECOG: right hemisphere - 08-07\n",
      "     LFP: right hemisphere - 08-07 | ECOG: right hemisphere - 08-07\n",
      "     LFP: right hemisphere - 02-01 | ECOG: right hemisphere - 09-08\n",
      "     LFP: right hemisphere - 03-01 | ECOG: right hemisphere - 09-08\n",
      "     LFP: right hemisphere - 04-01 | ECOG: right hemisphere - 09-08\n",
      "     LFP: right hemisphere - 07-04 | ECOG: right hemisphere - 09-08\n",
      "     LFP: right hemisphere - 08-07 | ECOG: right hemisphere - 09-08\n",
      "     LFP: right hemisphere - 02-01 | ECOG: right hemisphere - 10-09\n",
      "     LFP: right hemisphere - 03-01 | ECOG: right hemisphere - 10-09\n",
      "     LFP: right hemisphere - 04-01 | ECOG: right hemisphere - 10-09\n",
      "     LFP: right hemisphere - 07-04 | ECOG: right hemisphere - 10-09\n",
      "     LFP: right hemisphere - 08-07 | ECOG: right hemisphere - 10-09\n",
      "     LFP: right hemisphere - 02-01 | ECOG: right hemisphere - 11-10\n",
      "     LFP: right hemisphere - 03-01 | ECOG: right hemisphere - 11-10\n",
      "     LFP: right hemisphere - 04-01 | ECOG: right hemisphere - 11-10\n",
      "     LFP: right hemisphere - 07-04 | ECOG: right hemisphere - 11-10\n",
      "     LFP: right hemisphere - 08-07 | ECOG: right hemisphere - 11-10\n",
      "     LFP: right hemisphere - 02-01 | ECOG: right hemisphere - 12-11\n",
      "     LFP: right hemisphere - 03-01 | ECOG: right hemisphere - 12-11\n",
      "     LFP: right hemisphere - 04-01 | ECOG: right hemisphere - 12-11\n",
      "     LFP: right hemisphere - 07-04 | ECOG: right hemisphere - 12-11\n",
      "     LFP: right hemisphere - 08-07 | ECOG: right hemisphere - 12-11\n",
      "---> Patient: 014\n",
      "     LFP: right hemisphere - 02-01 | ECOG: right hemisphere - 02-01\n",
      "     LFP: right hemisphere - 03-01 | ECOG: right hemisphere - 02-01\n",
      "     LFP: right hemisphere - 04-01 | ECOG: right hemisphere - 02-01\n",
      "     LFP: right hemisphere - 05-02 | ECOG: right hemisphere - 02-01\n",
      "     LFP: right hemisphere - 02-01 | ECOG: right hemisphere - 03-02\n",
      "     LFP: right hemisphere - 03-01 | ECOG: right hemisphere - 03-02\n",
      "     LFP: right hemisphere - 04-01 | ECOG: right hemisphere - 03-02\n",
      "     LFP: right hemisphere - 05-02 | ECOG: right hemisphere - 03-02\n",
      "     LFP: right hemisphere - 02-01 | ECOG: right hemisphere - 04-03\n",
      "     LFP: right hemisphere - 03-01 | ECOG: right hemisphere - 04-03\n",
      "     LFP: right hemisphere - 04-01 | ECOG: right hemisphere - 04-03\n",
      "     LFP: right hemisphere - 05-02 | ECOG: right hemisphere - 04-03\n",
      "     LFP: right hemisphere - 02-01 | ECOG: right hemisphere - 05-04\n",
      "     LFP: right hemisphere - 03-01 | ECOG: right hemisphere - 05-04\n",
      "     LFP: right hemisphere - 04-01 | ECOG: right hemisphere - 05-04\n",
      "     LFP: right hemisphere - 05-02 | ECOG: right hemisphere - 05-04\n",
      "     LFP: right hemisphere - 02-01 | ECOG: right hemisphere - 06-05\n",
      "     LFP: right hemisphere - 03-01 | ECOG: right hemisphere - 06-05\n",
      "     LFP: right hemisphere - 04-01 | ECOG: right hemisphere - 06-05\n",
      "     LFP: right hemisphere - 05-02 | ECOG: right hemisphere - 06-05\n",
      "---> Patient: 020\n",
      "     LFP: right hemisphere - 03-01 | ECOG: right hemisphere - 02-01\n",
      "     LFP: right hemisphere - 05-02 | ECOG: right hemisphere - 02-01\n",
      "     LFP: right hemisphere - 06-03 | ECOG: right hemisphere - 02-01\n",
      "     LFP: right hemisphere - 07-04 | ECOG: right hemisphere - 02-01\n",
      "     LFP: right hemisphere - 03-01 | ECOG: right hemisphere - 03-02\n",
      "     LFP: right hemisphere - 05-02 | ECOG: right hemisphere - 03-02\n",
      "     LFP: right hemisphere - 06-03 | ECOG: right hemisphere - 03-02\n",
      "     LFP: right hemisphere - 07-04 | ECOG: right hemisphere - 03-02\n",
      "     LFP: right hemisphere - 03-01 | ECOG: right hemisphere - 04-03\n",
      "     LFP: right hemisphere - 05-02 | ECOG: right hemisphere - 04-03\n",
      "     LFP: right hemisphere - 06-03 | ECOG: right hemisphere - 04-03\n",
      "     LFP: right hemisphere - 07-04 | ECOG: right hemisphere - 04-03\n",
      "     LFP: right hemisphere - 03-01 | ECOG: right hemisphere - 05-04\n",
      "     LFP: right hemisphere - 05-02 | ECOG: right hemisphere - 05-04\n",
      "     LFP: right hemisphere - 06-03 | ECOG: right hemisphere - 05-04\n",
      "     LFP: right hemisphere - 07-04 | ECOG: right hemisphere - 05-04\n",
      "     LFP: right hemisphere - 03-01 | ECOG: right hemisphere - 06-05\n",
      "     LFP: right hemisphere - 05-02 | ECOG: right hemisphere - 06-05\n",
      "     LFP: right hemisphere - 06-03 | ECOG: right hemisphere - 06-05\n",
      "     LFP: right hemisphere - 07-04 | ECOG: right hemisphere - 06-05\n",
      "---> Patient: 021\n",
      "     LFP: right hemisphere - 02-01 | ECOG: right hemisphere - 02-01\n",
      "     LFP: right hemisphere - 03-01 | ECOG: right hemisphere - 02-01\n",
      "     LFP: right hemisphere - 04-01 | ECOG: right hemisphere - 02-01\n",
      "     LFP: right hemisphere - 05-02 | ECOG: right hemisphere - 02-01\n",
      "     LFP: right hemisphere - 06-03 | ECOG: right hemisphere - 02-01\n",
      "     LFP: right hemisphere - 07-04 | ECOG: right hemisphere - 02-01\n",
      "     LFP: right hemisphere - 08-07 | ECOG: right hemisphere - 02-01\n",
      "     LFP: right hemisphere - 02-01 | ECOG: right hemisphere - 03-02\n",
      "     LFP: right hemisphere - 03-01 | ECOG: right hemisphere - 03-02\n",
      "     LFP: right hemisphere - 04-01 | ECOG: right hemisphere - 03-02\n",
      "     LFP: right hemisphere - 05-02 | ECOG: right hemisphere - 03-02\n",
      "     LFP: right hemisphere - 06-03 | ECOG: right hemisphere - 03-02\n",
      "     LFP: right hemisphere - 07-04 | ECOG: right hemisphere - 03-02\n",
      "     LFP: right hemisphere - 08-07 | ECOG: right hemisphere - 03-02\n",
      "     LFP: right hemisphere - 02-01 | ECOG: right hemisphere - 04-03\n",
      "     LFP: right hemisphere - 03-01 | ECOG: right hemisphere - 04-03\n",
      "     LFP: right hemisphere - 04-01 | ECOG: right hemisphere - 04-03\n",
      "     LFP: right hemisphere - 05-02 | ECOG: right hemisphere - 04-03\n",
      "     LFP: right hemisphere - 06-03 | ECOG: right hemisphere - 04-03\n",
      "     LFP: right hemisphere - 07-04 | ECOG: right hemisphere - 04-03\n",
      "     LFP: right hemisphere - 08-07 | ECOG: right hemisphere - 04-03\n",
      "     LFP: right hemisphere - 02-01 | ECOG: right hemisphere - 05-04\n",
      "     LFP: right hemisphere - 03-01 | ECOG: right hemisphere - 05-04\n",
      "     LFP: right hemisphere - 04-01 | ECOG: right hemisphere - 05-04\n",
      "     LFP: right hemisphere - 05-02 | ECOG: right hemisphere - 05-04\n",
      "     LFP: right hemisphere - 06-03 | ECOG: right hemisphere - 05-04\n",
      "     LFP: right hemisphere - 07-04 | ECOG: right hemisphere - 05-04\n",
      "     LFP: right hemisphere - 08-07 | ECOG: right hemisphere - 05-04\n",
      "     LFP: right hemisphere - 02-01 | ECOG: right hemisphere - 06-05\n",
      "     LFP: right hemisphere - 03-01 | ECOG: right hemisphere - 06-05\n",
      "     LFP: right hemisphere - 04-01 | ECOG: right hemisphere - 06-05\n",
      "     LFP: right hemisphere - 05-02 | ECOG: right hemisphere - 06-05\n",
      "     LFP: right hemisphere - 06-03 | ECOG: right hemisphere - 06-05\n",
      "     LFP: right hemisphere - 07-04 | ECOG: right hemisphere - 06-05\n",
      "     LFP: right hemisphere - 08-07 | ECOG: right hemisphere - 06-05\n",
      "---> Patient: 022\n",
      "     LFP: right hemisphere - 02-01 | ECOG: right hemisphere - 02-01\n",
      "     LFP: right hemisphere - 03-01 | ECOG: right hemisphere - 02-01\n",
      "     LFP: right hemisphere - 04-01 | ECOG: right hemisphere - 02-01\n",
      "     LFP: right hemisphere - 07-04 | ECOG: right hemisphere - 02-01\n",
      "     LFP: right hemisphere - 02-01 | ECOG: right hemisphere - 03-02\n",
      "     LFP: right hemisphere - 03-01 | ECOG: right hemisphere - 03-02\n",
      "     LFP: right hemisphere - 04-01 | ECOG: right hemisphere - 03-02\n",
      "     LFP: right hemisphere - 07-04 | ECOG: right hemisphere - 03-02\n",
      "     LFP: right hemisphere - 02-01 | ECOG: right hemisphere - 06-05\n",
      "     LFP: right hemisphere - 03-01 | ECOG: right hemisphere - 06-05\n",
      "     LFP: right hemisphere - 04-01 | ECOG: right hemisphere - 06-05\n",
      "     LFP: right hemisphere - 07-04 | ECOG: right hemisphere - 06-05\n",
      "     LFP: right hemisphere - 02-01 | ECOG: right hemisphere - 04-03\n",
      "     LFP: right hemisphere - 03-01 | ECOG: right hemisphere - 04-03\n",
      "     LFP: right hemisphere - 04-01 | ECOG: right hemisphere - 04-03\n",
      "     LFP: right hemisphere - 07-04 | ECOG: right hemisphere - 04-03\n",
      "     LFP: right hemisphere - 02-01 | ECOG: right hemisphere - 05-04\n",
      "     LFP: right hemisphere - 03-01 | ECOG: right hemisphere - 05-04\n",
      "     LFP: right hemisphere - 04-01 | ECOG: right hemisphere - 05-04\n",
      "     LFP: right hemisphere - 07-04 | ECOG: right hemisphere - 05-04\n",
      "---> Patient: 023\n",
      "     LFP: right hemisphere - 06-03 | ECOG: right hemisphere - 02-01\n",
      "     LFP: right hemisphere - 07-04 | ECOG: right hemisphere - 02-01\n",
      "     LFP: right hemisphere - 06-03 | ECOG: right hemisphere - 03-02\n",
      "     LFP: right hemisphere - 07-04 | ECOG: right hemisphere - 03-02\n",
      "     LFP: right hemisphere - 06-03 | ECOG: right hemisphere - 04-03\n",
      "     LFP: right hemisphere - 07-04 | ECOG: right hemisphere - 04-03\n",
      "     LFP: right hemisphere - 06-03 | ECOG: right hemisphere - 05-04\n",
      "     LFP: right hemisphere - 07-04 | ECOG: right hemisphere - 05-04\n",
      "     LFP: right hemisphere - 06-03 | ECOG: right hemisphere - 06-05\n",
      "     LFP: right hemisphere - 07-04 | ECOG: right hemisphere - 06-05\n"
     ]
    }
   ],
   "source": [
    "coherence_motor_noLID  = utils_coherence.measure_ECOG_LFP_coherence(dataset_LFP=EVENTS_LFP_MOTOR_noLID[EVENTS_LFP_MOTOR_noLID.duration>=0.25],\n",
    "                                                                    dataset_ECOG=EVENTS_ECOG_noLID[EVENTS_ECOG_noLID.duration>=0.25], \n",
    "                                                                    dataset_baseline_LFP_ECOG_coherence=baseline_coherence_LFP_ECOG, mode=\"ipsilateral\")"
   ]
  },
  {
   "cell_type": "code",
   "execution_count": 43,
   "metadata": {},
   "outputs": [],
   "source": [
    "coherence_motor_LID.to_pickle(DATA_IO.path_events + \"coherence/STN_MOTOR_vs_Cortex_Coherence_LID.pkl\")\n",
    "coherence_motor_noLID.to_pickle(DATA_IO.path_events + \"coherence/STN_MOTOR_vs_Cortex_Coherence_noLID.pkl\")"
   ]
  },
  {
   "cell_type": "markdown",
   "metadata": {},
   "source": [
    "# 3.Plotting"
   ]
  },
  {
   "cell_type": "code",
   "execution_count": 5,
   "metadata": {},
   "outputs": [],
   "source": [
    "coherence_motor_LID   = pd.read_pickle(DATA_IO.path_events + \"coherence/STN_MOTOR_vs_Cortex_Coherence_LID.pkl\")\n",
    "coherence_motor_noLID = pd.read_pickle(DATA_IO.path_events + \"coherence/STN_MOTOR_vs_Cortex_Coherence_noLID.pkl\")"
   ]
  },
  {
   "cell_type": "code",
   "execution_count": 13,
   "metadata": {},
   "outputs": [
    {
     "data": {
      "text/plain": [
       "array(['013', '014', '021', '022', '023'], dtype=object)"
      ]
     },
     "execution_count": 13,
     "metadata": {},
     "output_type": "execute_result"
    }
   ],
   "source": [
    "coherence_motor_noLID[coherence_motor_noLID.event_start_time>30].patient.unique()"
   ]
  },
  {
   "cell_type": "markdown",
   "metadata": {},
   "source": [
    "## 3.1 Dyskinesia Severity"
   ]
  },
  {
   "cell_type": "code",
   "execution_count": 8,
   "metadata": {},
   "outputs": [
    {
     "data": {
      "text/plain": [
       "<Figure size 640x480 with 0 Axes>"
      ]
     },
     "metadata": {},
     "output_type": "display_data"
    },
    {
     "data": {
      "image/png": "[encoded data removed]",
      "text/plain": [
       "<Figure size 728.346x826.772 with 2 Axes>"
      ]
     },
     "metadata": {},
     "output_type": "display_data"
    }
   ],
   "source": [
    "utils_plotting_coherence.plot_dyskinesia_severity_coherence(coherence_motor_LID, coherence_motor_noLID, segment=\"pre_event\", error_type=\"se\", \n",
    "                                                            figure_name=DATA_IO.path_figure + \"LFP-ECOG Coherence/dyskinesia_severity_pre_event\")"
   ]
  },
  {
   "cell_type": "code",
   "execution_count": 10,
   "metadata": {},
   "outputs": [
    {
     "data": {
      "text/plain": [
       "<Figure size 640x480 with 0 Axes>"
      ]
     },
     "metadata": {},
     "output_type": "display_data"
    },
    {
     "data": {
      "image/png": "[encoded data removed]",
      "text/plain": [
       "<Figure size 728.346x826.772 with 2 Axes>"
      ]
     },
     "metadata": {},
     "output_type": "display_data"
    }
   ],
   "source": [
    "utils_plotting_coherence.plot_dyskinesia_severity_coherence(coherence_motor_LID, coherence_motor_noLID, segment=\"event\", error_type=\"se\", \n",
    "                                                            figure_name=DATA_IO.path_figure + \"LFP-ECOG Coherence/dyskinesia_severity_event\")"
   ]
  },
  {
   "cell_type": "code",
   "execution_count": 12,
   "metadata": {},
   "outputs": [
    {
     "data": {
      "text/plain": [
       "<Figure size 640x480 with 0 Axes>"
      ]
     },
     "metadata": {},
     "output_type": "display_data"
    },
    {
     "data": {
      "image/png": "[encoded data removed]",
      "text/plain": [
       "<Figure size 728.346x826.772 with 2 Axes>"
      ]
     },
     "metadata": {},
     "output_type": "display_data"
    }
   ],
   "source": [
    "utils_plotting_coherence.plot_dyskinesia_severity_coherence(coherence_motor_LID, coherence_motor_noLID, segment=\"post_event\", error_type=\"se\", \n",
    "                                                            figure_name=DATA_IO.path_figure + \"LFP-ECOG Coherence/dyskinesia_severity_post_event\")"
   ]
  },
  {
   "cell_type": "code",
   "execution_count": null,
   "metadata": {},
   "outputs": [],
   "source": []
  },
  {
   "cell_type": "code",
   "execution_count": null,
   "metadata": {},
   "outputs": [],
   "source": []
  }
 ],
 "metadata": {
  "kernelspec": {
   "display_name": "Python 3 (ipykernel)",
   "language": "python",
   "name": "python3"
  },
  "language_info": {
   "codemirror_mode": {
    "name": "ipython",
    "version": 3
   },
   "file_extension": ".py",
   "mimetype": "text/x-python",
   "name": "python",
   "nbconvert_exporter": "python",
   "pygments_lexer": "ipython3",
   "version": "3.9.19"
  }
 },
 "nbformat": 4,
 "nbformat_minor": 4
}

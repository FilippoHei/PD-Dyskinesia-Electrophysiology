{
 "cells": [
  {
   "cell_type": "markdown",
   "metadata": {},
   "source": [
    "## Getting Started with Multi-modal Dyskinesia data\n",
    "\n",
    "Loading DataFrames containing pre-processed ephys-data alligned with pre-processed accelerometer-data"
   ]
  },
  {
   "cell_type": "code",
   "execution_count": 1,
   "metadata": {},
   "outputs": [],
   "source": [
    "# Import public packages and functions\n",
    "import os\n",
    "import pandas as pd\n",
    "import numpy as np\n",
    "import sys\n",
    "import json\n",
    "from pathlib import Path"
   ]
  },
  {
   "cell_type": "markdown",
   "metadata": {},
   "source": [
    "### 1A) Define file location and data details\n",
    "\n",
    "Keep files in the given naming structure and subject folders\n",
    "\n",
    "FOLDER\n",
    "- sub-XXX\n",
    "    - XXX_mergedData_v4.0_lfp_left.P\n",
    "    - XXX_mergedData_v4.0_lfp_right.P\n",
    "    - XXX_mergedData_v4.0_acc_left.P\n",
    "    - etc"
   ]
  },
  {
   "cell_type": "code",
   "execution_count": 2,
   "metadata": {},
   "outputs": [],
   "source": [
    "PATH_CURR  = os.path.abspath(os.curdir)    # current code\n",
    "PATH       = (str(Path(PATH_CURR).parent)) # data repository: upper directory where datasets situated\n",
    "SUB = '016'\n",
    "DAT_SOURCE_1 = 'acc_right'\n",
    "DAT_SOURCE_2 = 'ecog_right'\n",
    "\n"
   ]
  },
  {
   "cell_type": "markdown",
   "metadata": {},
   "source": [
    "### 1B) Load required scripts\n",
    "\n",
    "- `utils_fileManagement.py` needs to be unchanged present in PATH/code/\n",
    "- `__init__.py` needs to be present"
   ]
  },
  {
   "cell_type": "code",
   "execution_count": 3,
   "metadata": {},
   "outputs": [],
   "source": [
    "# set working directory to folder with code\n",
    "os.chdir(os.path.join(PATH, 'code'))\n",
    "\n",
    "from utils.utils_fileManagement import load_class_pickle, mergedData"
   ]
  },
  {
   "cell_type": "code",
   "execution_count": 4,
   "metadata": {},
   "outputs": [],
   "source": [
    "def check__and_load_file(PATH, SUB, DAT_SOURCE):\n",
    "\n",
    "    assert os.path.exists(PATH), f'PATH doesnot exist ({PATH})'\n",
    "    \n",
    "    assert DAT_SOURCE in [\n",
    "        'lfp_left', 'lfp_right', 'ecog_left',\n",
    "        'ecog_right', 'acc_left', 'acc_right'\n",
    "    ], f'incorrect DAT_SOURCE ({DAT_SOURCE})'\n",
    "\n",
    "    folder = os.path.join(PATH, 'data', f'sub-{SUB}')\n",
    "    fname = f'{SUB}_mergedData_v4.0_{DAT_SOURCE}.P'\n",
    "\n",
    "    assert fname in os.listdir(folder), (\n",
    "        f'FILE {fname} not in {folder}'\n",
    "    )\n",
    "    \n",
    "    dat = load_class_pickle(os.path.join(folder, fname))\n",
    "\n",
    "    return dat"
   ]
  },
  {
   "cell_type": "markdown",
   "metadata": {},
   "source": [
    "### 1C) Load Data\n",
    "\n",
    "Pickle structure\n",
    "\n",
    "dat\n",
    "- 'sub': str  # subject code (all starting with 0 incl ECoG, starting with 1 excl ECoG)\n",
    "- 'data_version': str  # always v4.0, final version containing bandpass 2 - 98 Hz and notch filter 50 Hz\n",
    "- 'data': np.ndarray  # array in long format, sampled in freq dat.fs\n",
    "- 'colnames': list  # colnames correspond with the columns in the array\n",
    "- 'times': np.ndarray  # times/dopa_times are alligned between subjects across data sources\n",
    "- 'fs': int  # downsampled sampling freq (differs between ephys and acc)"
   ]
  },
  {
   "cell_type": "code",
   "execution_count": 5,
   "metadata": {},
   "outputs": [
    {
     "name": "stdout",
     "output_type": "stream",
     "text": [
      "... pickle loading: C:\\Users\\a.kaymak\\Desktop\\Papers\\2025 Parkinson Dyskinesia LFP-ECG\\files\\data\\sub-016\\016_mergedData_v4.0_acc_right.P\n"
     ]
    }
   ],
   "source": [
    "dat_acc = check__and_load_file(PATH, SUB, DAT_SOURCE_1)"
   ]
  },
  {
   "cell_type": "code",
   "execution_count": 6,
   "metadata": {},
   "outputs": [
    {
     "name": "stdout",
     "output_type": "stream",
     "text": [
      "... pickle loading: C:\\Users\\a.kaymak\\Desktop\\Papers\\2025 Parkinson Dyskinesia LFP-ECG\\files\\data\\sub-016\\016_mergedData_v4.0_ecog_right.P\n"
     ]
    }
   ],
   "source": [
    "dat_ecog = check__and_load_file(PATH, SUB, DAT_SOURCE_2)"
   ]
  },
  {
   "cell_type": "code",
   "execution_count": 7,
   "metadata": {},
   "outputs": [
    {
     "data": {
      "text/plain": [
       "(1875040, 10)"
      ]
     },
     "execution_count": 7,
     "metadata": {},
     "output_type": "execute_result"
    }
   ],
   "source": [
    "dat_acc.data.shape"
   ]
  },
  {
   "cell_type": "code",
   "execution_count": 8,
   "metadata": {},
   "outputs": [
    {
     "data": {
      "text/plain": [
       "(7294976, 11)"
      ]
     },
     "execution_count": 8,
     "metadata": {},
     "output_type": "execute_result"
    }
   ],
   "source": [
    "dat_ecog.data.shape"
   ]
  },
  {
   "cell_type": "code",
   "execution_count": 7,
   "metadata": {},
   "outputs": [
    {
     "data": {
      "text/plain": [
       "['dopa_time',\n",
       " 'ACC_L_X',\n",
       " 'ACC_L_Y',\n",
       " 'ACC_L_Z',\n",
       " 'task',\n",
       " 'left_tap',\n",
       " 'right_tap',\n",
       " 'left_move',\n",
       " 'right_move',\n",
       " 'no_move']"
      ]
     },
     "execution_count": 7,
     "metadata": {},
     "output_type": "execute_result"
    }
   ],
   "source": [
    "dat.colnames"
   ]
  },
  {
   "cell_type": "code",
   "execution_count": 10,
   "metadata": {},
   "outputs": [
    {
     "data": {
      "text/plain": [
       "mergedData(sub='016', data_version='v4.0', data=array([[-1300.0, -2.6937041650979007e-09, -3.4340199412578524e-09, ...,\n",
       "        0.0, 0.0, True],\n",
       "       [-1299.998046875, 2.0728217908944372e-09, 8.840608877314612e-10,\n",
       "        ..., 0.0, 0.0, True],\n",
       "       [-1299.99609375, -2.9149476979894637e-09, -6.0424217066724235e-09,\n",
       "        ..., 0.0, 0.0, True],\n",
       "       ...,\n",
       "       [3735.421875, -7.1174364689064416e-09, -8.278413974739822e-08,\n",
       "        ..., 0.0, 0.0, True],\n",
       "       [3735.423828125, -2.5287205372818662e-08, -1.806309345184209e-08,\n",
       "        ..., 0.0, 0.0, True],\n",
       "       [3735.42578125, -1.9514632709694573e-08, -1.100571890517367e-08,\n",
       "        ..., 0.0, 0.0, True]], dtype=object), colnames=['dopa_time', 'ACC_L_X', 'ACC_L_Y', 'ACC_L_Z', 'task', 'left_tap', 'right_tap', 'left_move', 'right_move', 'no_move'], times=array([-1300.0, -1299.998046875, -1299.99609375, ..., 3735.421875,\n",
       "       3735.423828125, 3735.42578125], dtype=object), fs=512)"
      ]
     },
     "execution_count": 10,
     "metadata": {},
     "output_type": "execute_result"
    }
   ],
   "source": [
    "dat"
   ]
  },
  {
   "cell_type": "code",
   "execution_count": 11,
   "metadata": {},
   "outputs": [
    {
     "data": {
      "text/plain": [
       "array([ True,  True,  True, ...,  True,  True,  True])"
      ]
     },
     "execution_count": 11,
     "metadata": {},
     "output_type": "execute_result"
    }
   ],
   "source": [
    "dat.times == dat.data[:,dat.colnames.index('dopa_time')]"
   ]
  },
  {
   "cell_type": "code",
   "execution_count": null,
   "metadata": {},
   "outputs": [],
   "source": [
    "dat.data[:,dat.colnames.index('dopa_time')]"
   ]
  }
 ],
 "metadata": {
  "kernelspec": {
   "display_name": "Python 3 (ipykernel)",
   "language": "python",
   "name": "python3"
  },
  "language_info": {
   "codemirror_mode": {
    "name": "ipython",
    "version": 3
   },
   "file_extension": ".py",
   "mimetype": "text/x-python",
   "name": "python",
   "nbconvert_exporter": "python",
   "pygments_lexer": "ipython3",
   "version": "3.9.18"
  }
 },
 "nbformat": 4,
 "nbformat_minor": 4
}

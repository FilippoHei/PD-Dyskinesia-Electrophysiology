{
 "cells": [
  {
   "cell_type": "code",
   "execution_count": 1,
   "metadata": {},
   "outputs": [
    {
     "name": "stderr",
     "output_type": "stream",
     "text": [
      "C:\\Users\\a.kaymak\\AppData\\Roaming\\Python\\Python39\\site-packages\\pandas\\core\\arrays\\masked.py:60: UserWarning: Pandas requires version '1.3.6' or newer of 'bottleneck' (version '1.3.5' currently installed).\n",
      "  from pandas.core import (\n"
     ]
    }
   ],
   "source": [
    "# Import public packages and functions\n",
    "import os\n",
    "import pandas as pd\n",
    "import numpy as np\n",
    "import sys\n",
    "import json\n",
    "from pathlib import Path\n",
    "\n",
    "import seaborn as sns\n",
    "import matplotlib.pyplot as plt\n",
    "import scikit_posthocs as sp\n",
    "import pickle\n",
    "\n",
    "# inserting the lib folder to the compiler\n",
    "sys.path.insert(0, './lib')\n",
    "sys.path.insert(0, './utils/')\n",
    "\n",
    "#import utils_plotting\n",
    "import utils_misc\n",
    "\n",
    "from lib_ECoG import ECoG\n",
    "from lib_event import EVENTS\n",
    "from lib_data import DATA_IO"
   ]
  },
  {
   "cell_type": "code",
   "execution_count": 2,
   "metadata": {},
   "outputs": [],
   "source": [
    "PATH_CURR   = os.path.abspath(os.curdir)    # current code\n",
    "PATH        = (str(Path(PATH_CURR).parent)) # data repository: upper directory where datasets situated\n",
    "SUB_LIST    = utils_misc.get_SUB_list(DATA_IO.path_data) # get the SUB id list which we have a recording of them\n",
    "event_files = utils_misc.get_files_with_specific_format(DATA_IO.path_events, suffix=\".pkl\")"
   ]
  },
  {
   "cell_type": "markdown",
   "metadata": {
    "jp-MarkdownHeadingCollapsed": true
   },
   "source": [
    "# 1. Extract ECoG Events"
   ]
  },
  {
   "cell_type": "code",
   "execution_count": 3,
   "metadata": {},
   "outputs": [],
   "source": [
    "df_LFP_events = pd.read_csv(DATA_IO.path_events + \"EVENTS_LFP.csv\")"
   ]
  },
  {
   "cell_type": "code",
   "execution_count": 5,
   "metadata": {},
   "outputs": [
    {
     "name": "stdout",
     "output_type": "stream",
     "text": [
      "ECoG Recording: SUB-008\n",
      "---> left hemisphere ECoG recording found...\n",
      "... pickle loading: C:\\Users\\a.kaymak\\Desktop\\Papers\\2025 Parkinson STN-DBS Dyskinesia LFP-ECG\\files\\data\\sub-008\\008_mergedData_v4.0_ecog_left.P\n",
      "... SUB - 008 : 07-06 channel was not found!\n",
      "... SUB - 008 : 08-07 channel was not found!\n",
      "... SUB - 008 : 09-08 channel was not found!\n",
      "... SUB - 008 : 10-09 channel was not found!\n",
      "... SUB - 008 : 11-10 channel was not found!\n",
      "... SUB - 008 : 12-11 channel was not found!\n",
      "ECoG Recording: SUB-009\n",
      "---> left hemisphere ECoG recording found...\n",
      "... pickle loading: C:\\Users\\a.kaymak\\Desktop\\Papers\\2025 Parkinson STN-DBS Dyskinesia LFP-ECG\\files\\data\\sub-009\\009_mergedData_v4.0_ecog_left.P\n",
      "... SUB - 009 : 07-06 channel was not found!\n",
      "... SUB - 009 : 08-07 channel was not found!\n",
      "... SUB - 009 : 09-08 channel was not found!\n",
      "... SUB - 009 : 10-09 channel was not found!\n",
      "... SUB - 009 : 11-10 channel was not found!\n",
      "... SUB - 009 : 12-11 channel was not found!\n",
      "ECoG Recording: SUB-010\n",
      "... pickle loading: C:\\Users\\a.kaymak\\Desktop\\Papers\\2025 Parkinson STN-DBS Dyskinesia LFP-ECG\\files\\data\\sub-010\\010_mergedData_v4.0_ecog_right.P\n",
      "\n",
      "\t...correct tasks in C:\\Users\\a.kaymak\\Desktop\\Papers\\2025 Parkinson STN-DBS Dyskinesia LFP-ECG\\files\\data\\sub-010\\010_mergedData_v4.0_ecog_right.P\n",
      "---> right hemisphere ECoG recording found...\n",
      "... SUB - 010 : 07-06 channel was not found!\n",
      "... SUB - 010 : 08-07 channel was not found!\n",
      "... SUB - 010 : 09-08 channel was not found!\n",
      "... SUB - 010 : 10-09 channel was not found!\n",
      "... SUB - 010 : 11-10 channel was not found!\n",
      "... SUB - 010 : 12-11 channel was not found!\n",
      "ECoG Recording: SUB-012\n",
      "... pickle loading: C:\\Users\\a.kaymak\\Desktop\\Papers\\2025 Parkinson STN-DBS Dyskinesia LFP-ECG\\files\\data\\sub-012\\012_mergedData_v4.0_ecog_right.P\n",
      "---> right hemisphere ECoG recording found...\n",
      "... SUB - 012 : 06-05 channel was not found!\n",
      "... SUB - 012 : 07-06 channel was not found!\n",
      "... SUB - 012 : 08-07 channel was not found!\n",
      "... SUB - 012 : 09-08 channel was not found!\n",
      "... SUB - 012 : 10-09 channel was not found!\n",
      "... SUB - 012 : 11-10 channel was not found!\n",
      "... SUB - 012 : 12-11 channel was not found!\n",
      "ECoG Recording: SUB-013\n",
      "... pickle loading: C:\\Users\\a.kaymak\\Desktop\\Papers\\2025 Parkinson STN-DBS Dyskinesia LFP-ECG\\files\\data\\sub-013\\013_mergedData_v4.0_ecog_right.P\n",
      "---> right hemisphere ECoG recording found...\n",
      "ECoG Recording: SUB-014\n",
      "... pickle loading: C:\\Users\\a.kaymak\\Desktop\\Papers\\2025 Parkinson STN-DBS Dyskinesia LFP-ECG\\files\\data\\sub-014\\014_mergedData_v4.0_ecog_right.P\n",
      "---> right hemisphere ECoG recording found...\n",
      "... SUB - 014 : 07-06 channel was not found!\n",
      "... SUB - 014 : 08-07 channel was not found!\n",
      "... SUB - 014 : 09-08 channel was not found!\n",
      "... SUB - 014 : 10-09 channel was not found!\n",
      "... SUB - 014 : 11-10 channel was not found!\n",
      "... SUB - 014 : 12-11 channel was not found!\n",
      "ECoG Recording: SUB-016\n",
      "... pickle loading: C:\\Users\\a.kaymak\\Desktop\\Papers\\2025 Parkinson STN-DBS Dyskinesia LFP-ECG\\files\\data\\sub-016\\016_mergedData_v4.0_ecog_right.P\n",
      "---> right hemisphere ECoG recording found...\n",
      "ECoG Recording: SUB-019\n",
      "... pickle loading: C:\\Users\\a.kaymak\\Desktop\\Papers\\2025 Parkinson STN-DBS Dyskinesia LFP-ECG\\files\\data\\sub-019\\019_mergedData_v4.0_ecog_right.P\n",
      "---> right hemisphere ECoG recording found...\n",
      "... SUB - 019 : 07-06 channel was not found!\n",
      "... SUB - 019 : 08-07 channel was not found!\n",
      "... SUB - 019 : 09-08 channel was not found!\n",
      "... SUB - 019 : 10-09 channel was not found!\n",
      "... SUB - 019 : 11-10 channel was not found!\n",
      "... SUB - 019 : 12-11 channel was not found!\n",
      "ECoG Recording: SUB-020\n",
      "... pickle loading: C:\\Users\\a.kaymak\\Desktop\\Papers\\2025 Parkinson STN-DBS Dyskinesia LFP-ECG\\files\\data\\sub-020\\020_mergedData_v4.0_ecog_right.P\n",
      "---> right hemisphere ECoG recording found...\n",
      "... SUB - 020 : 07-06 channel was not found!\n",
      "... SUB - 020 : 08-07 channel was not found!\n",
      "... SUB - 020 : 09-08 channel was not found!\n",
      "... SUB - 020 : 10-09 channel was not found!\n",
      "... SUB - 020 : 11-10 channel was not found!\n",
      "... SUB - 020 : 12-11 channel was not found!\n",
      "ECoG Recording: SUB-021\n",
      "... pickle loading: C:\\Users\\a.kaymak\\Desktop\\Papers\\2025 Parkinson STN-DBS Dyskinesia LFP-ECG\\files\\data\\sub-021\\021_mergedData_v4.0_ecog_right.P\n",
      "---> right hemisphere ECoG recording found...\n",
      "... SUB - 021 : 07-06 channel was not found!\n",
      "... SUB - 021 : 08-07 channel was not found!\n",
      "... SUB - 021 : 09-08 channel was not found!\n",
      "... SUB - 021 : 10-09 channel was not found!\n",
      "... SUB - 021 : 11-10 channel was not found!\n",
      "... SUB - 021 : 12-11 channel was not found!\n",
      "ECoG Recording: SUB-022\n",
      "... pickle loading: C:\\Users\\a.kaymak\\Desktop\\Papers\\2025 Parkinson STN-DBS Dyskinesia LFP-ECG\\files\\data\\sub-022\\022_mergedData_v4.0_ecog_right.P\n",
      "---> right hemisphere ECoG recording found...\n",
      "... SUB - 022 : 07-06 channel was not found!\n",
      "... SUB - 022 : 08-07 channel was not found!\n",
      "... SUB - 022 : 09-08 channel was not found!\n",
      "... SUB - 022 : 10-09 channel was not found!\n",
      "... SUB - 022 : 11-10 channel was not found!\n",
      "... SUB - 022 : 12-11 channel was not found!\n",
      "ECoG Recording: SUB-023\n",
      "... pickle loading: C:\\Users\\a.kaymak\\Desktop\\Papers\\2025 Parkinson STN-DBS Dyskinesia LFP-ECG\\files\\data\\sub-023\\023_mergedData_v4.0_ecog_right.P\n",
      "---> right hemisphere ECoG recording found...\n",
      "... SUB - 023 : 07-06 channel was not found!\n",
      "... SUB - 023 : 08-07 channel was not found!\n",
      "... SUB - 023 : 09-08 channel was not found!\n",
      "... SUB - 023 : 10-09 channel was not found!\n",
      "... SUB - 023 : 11-10 channel was not found!\n",
      "... SUB - 023 : 12-11 channel was not found!\n"
     ]
    }
   ],
   "source": [
    "for SUB in SUB_LIST:\n",
    "\n",
    "    if(SUB[0] == \"0\"): # patients labelled with 0 beginning have ECoG recordings\n",
    "        \n",
    "        ECoG_SUB           = ECoG(PATH, SUB)\n",
    "        \n",
    "        # 1. Load event history of patient\n",
    "        df_lfp_sub_events  = df_LFP_events[df_LFP_events.patient == int(SUB)]\n",
    "    \n",
    "        # removing irregular dyskinesia scores\n",
    "        df_lfp_sub_events  = df_lfp_sub_events[(~df_lfp_sub_events['dyskinesia_arm'].isnull()) & (~df_lfp_sub_events['dyskinesia_total'].isnull())]\n",
    "   \n",
    "        # 2. Get the LFP recordings dataframe\n",
    "        df_ecog_recordings = ECoG_SUB.extract_ECoG_events_segments(df_lfp_sub_events)\n",
    "        \n",
    "        # 3. Save the dataframe as a pickle file\n",
    "        df_ecog_recordings.to_pickle(DATA_IO.path_events + \"SUB_\"+ SUB +\"_EVENTS_ECoG_RECORDINGS.pkl\")\n",
    "        "
   ]
  },
  {
   "cell_type": "markdown",
   "metadata": {},
   "source": [
    "# 2. Merge ECoG Event Files"
   ]
  },
  {
   "cell_type": "code",
   "execution_count": 5,
   "metadata": {},
   "outputs": [],
   "source": [
    "df_ecog_events           = pd.DataFrame()\n",
    "for file in event_files:\n",
    "    if(\"ECoG\" in file):\n",
    "        if(len(df_ecog_events)==0):\n",
    "            df_ecog_events = pd.read_pickle(DATA_IO.path_events + file)\n",
    "        else:\n",
    "            df_ecog_events = pd.concat([df_ecog_events, pd.read_pickle(DATA_IO.path_events + file)], ignore_index=True)\n"
   ]
  },
  {
   "cell_type": "code",
   "execution_count": 7,
   "metadata": {},
   "outputs": [],
   "source": [
    "df_ecog_events.to_pickle(DATA_IO.path_events + \"ECoG_EVENTS.pkl\")"
   ]
  },
  {
   "cell_type": "markdown",
   "metadata": {},
   "source": [
    "# 3. Save ECoG-Baseline Recordings"
   ]
  },
  {
   "cell_type": "code",
   "execution_count": 16,
   "metadata": {},
   "outputs": [
    {
     "name": "stdout",
     "output_type": "stream",
     "text": [
      "ECoG Recording: SUB-023\n",
      "... pickle loading: C:\\Users\\a.kaymak\\Desktop\\Papers\\2025 Parkinson STN-DBS Dyskinesia LFP-ECG\\files\\data\\sub-023\\023_mergedData_v4.0_ecog_right.P\n",
      "---> right hemisphere ECoG recording found...\n",
      "... SUB - 023 : 07-06 channel was not found!\n",
      "... SUB - 023 : 08-07 channel was not found!\n",
      "... SUB - 023 : 09-08 channel was not found!\n",
      "... SUB - 023 : 10-09 channel was not found!\n",
      "... SUB - 023 : 11-10 channel was not found!\n",
      "... SUB - 023 : 12-11 channel was not found!\n",
      "... SUB - 023 : right_07-06 channel was not found!\n",
      "... SUB - 023 : right_08-07 channel was not found!\n",
      "... SUB - 023 : right_09-08 channel was not found!\n",
      "... SUB - 023 : right_10-09 channel was not found!\n",
      "... SUB - 023 : right_11-10 channel was not found!\n",
      "... SUB - 023 : right_12-11 channel was not found!\n"
     ]
    }
   ],
   "source": [
    "for SUB in SUB_LIST:  \n",
    "\n",
    "    if((SUB[0]==\"0\")): # patients labelled with 0 beginning have ECoG recordings\n",
    "        \n",
    "        ECoG_SUB      = ECoG(PATH, SUB)\n",
    "        ECoG_baseline = ECoG_SUB.get_baseline_recording(t_min=0, t_max=5)\n",
    "\n",
    "        # pickle the baseline dictionary\n",
    "        with open(DATA_IO.path_events + \"baseline_recordings/ECoG/\"+ SUB +\".pkl\", 'wb') as handle:\n",
    "            pickle.dump(ECoG_baseline, handle, protocol=pickle.HIGHEST_PROTOCOL)"
   ]
  },
  {
   "cell_type": "code",
   "execution_count": null,
   "metadata": {},
   "outputs": [],
   "source": []
  }
 ],
 "metadata": {
  "kernelspec": {
   "display_name": "Python 3 (ipykernel)",
   "language": "python",
   "name": "python3"
  },
  "language_info": {
   "codemirror_mode": {
    "name": "ipython",
    "version": 3
   },
   "file_extension": ".py",
   "mimetype": "text/x-python",
   "name": "python",
   "nbconvert_exporter": "python",
   "pygments_lexer": "ipython3",
   "version": "3.9.19"
  }
 },
 "nbformat": 4,
 "nbformat_minor": 4
}

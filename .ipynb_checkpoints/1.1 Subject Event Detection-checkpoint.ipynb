{
 "cells": [
  {
   "cell_type": "code",
   "execution_count": 1,
   "metadata": {},
   "outputs": [],
   "source": [
    "# Import public packages and functions\n",
    "import os\n",
    "import pandas as pd\n",
    "import numpy as np\n",
    "import sys\n",
    "import json\n",
    "from pathlib import Path\n",
    "import seaborn as sns\n",
    "\n",
    "# inserting the lib folder to the compiler\n",
    "sys.path.insert(0, './lib')\n",
    "sys.path.insert(0, './utils/')\n",
    "\n",
    "from lib_event import EVENTS\n",
    "from lib_data import DATA_IO\n",
    "\n",
    "import utils_plotting_accelerometer"
   ]
  },
  {
   "cell_type": "code",
   "execution_count": 2,
   "metadata": {},
   "outputs": [],
   "source": [
    "PATH_CURR  = os.path.abspath(os.curdir)    # current code\n",
    "PATH       = (str(Path(PATH_CURR).parent)) # data repository: upper directory where datasets situated\n",
    "SUB        = '016'"
   ]
  },
  {
   "cell_type": "code",
   "execution_count": 3,
   "metadata": {},
   "outputs": [
    {
     "name": "stdout",
     "output_type": "stream",
     "text": [
      "EVENT HISTORY: SUB-016\n",
      "... loading started\n",
      "... pickle loading: C:\\Users\\a.kaymak\\Desktop\\Papers\\2025 Parkinson Dyskinesia LFP-ECG\\files\\data\\sub-016\\016_mergedData_v4.0_acc_right.P\n",
      "... task periods were defined\n",
      "... events were categorized\n",
      "... dyskinesia evaluation was collected\n",
      "... loading completed\n"
     ]
    }
   ],
   "source": [
    "EVENTS_HISTORY = EVENTS(PATH, SUB, 'acc_right')\n",
    "df_events_016  = EVENTS_HISTORY.get_event_dataframe()\n",
    "df_events_016.to_csv(DATA_IO.path_events_dataframe + \"SUB_\"+ SUB +\"_EVENTS_ACC.csv\", index=False)"
   ]
  },
  {
   "cell_type": "code",
   "execution_count": 4,
   "metadata": {},
   "outputs": [
    {
     "name": "stdout",
     "output_type": "stream",
     "text": [
      "EVENT HISTORY: SUB-016\n",
      "... loading started\n",
      "... pickle loading: C:\\Users\\a.kaymak\\Desktop\\Papers\\2025 Parkinson Dyskinesia LFP-ECG\\files\\data\\sub-016\\016_mergedData_v4.0_lfp_right.P\n",
      "... task periods were defined\n",
      "... events were categorized\n",
      "... dyskinesia evaluation was collected\n",
      "... loading completed\n"
     ]
    }
   ],
   "source": [
    "EVENTS_HISTORY = EVENTS(PATH, SUB, 'lfp_right')\n",
    "df_events_016  = EVENTS_HISTORY.get_event_dataframe()\n",
    "df_events_016.to_csv(DATA_IO.path_events_dataframe + \"SUB_\"+ SUB +\"_EVENTS_LFP.csv\", index=False)"
   ]
  },
  {
   "cell_type": "code",
   "execution_count": 10,
   "metadata": {},
   "outputs": [
    {
     "data": {
      "text/html": [
       "<div>\n",
       "<style scoped>\n",
       "    .dataframe tbody tr th:only-of-type {\n",
       "        vertical-align: middle;\n",
       "    }\n",
       "\n",
       "    .dataframe tbody tr th {\n",
       "        vertical-align: top;\n",
       "    }\n",
       "\n",
       "    .dataframe thead th {\n",
       "        text-align: right;\n",
       "    }\n",
       "</style>\n",
       "<table border=\"1\" class=\"dataframe\">\n",
       "  <thead>\n",
       "    <tr style=\"text-align: right;\">\n",
       "      <th></th>\n",
       "      <th>event_start_index</th>\n",
       "      <th>event_finish_index</th>\n",
       "      <th>event_start_time</th>\n",
       "      <th>event_finish_time</th>\n",
       "      <th>duration</th>\n",
       "    </tr>\n",
       "  </thead>\n",
       "  <tbody>\n",
       "    <tr>\n",
       "      <th>0</th>\n",
       "      <td>144409</td>\n",
       "      <td>144415</td>\n",
       "      <td>-20.408130</td>\n",
       "      <td>-20.408081</td>\n",
       "      <td>0.002930</td>\n",
       "    </tr>\n",
       "    <tr>\n",
       "      <th>1</th>\n",
       "      <td>647905</td>\n",
       "      <td>650947</td>\n",
       "      <td>0.355998</td>\n",
       "      <td>0.380754</td>\n",
       "      <td>1.485352</td>\n",
       "    </tr>\n",
       "    <tr>\n",
       "      <th>2</th>\n",
       "      <td>673529</td>\n",
       "      <td>676327</td>\n",
       "      <td>0.564526</td>\n",
       "      <td>0.587297</td>\n",
       "      <td>1.366211</td>\n",
       "    </tr>\n",
       "    <tr>\n",
       "      <th>3</th>\n",
       "      <td>690557</td>\n",
       "      <td>690563</td>\n",
       "      <td>0.703101</td>\n",
       "      <td>0.703149</td>\n",
       "      <td>0.002930</td>\n",
       "    </tr>\n",
       "    <tr>\n",
       "      <th>4</th>\n",
       "      <td>693933</td>\n",
       "      <td>693939</td>\n",
       "      <td>0.730575</td>\n",
       "      <td>0.730623</td>\n",
       "      <td>0.002930</td>\n",
       "    </tr>\n",
       "    <tr>\n",
       "      <th>...</th>\n",
       "      <td>...</td>\n",
       "      <td>...</td>\n",
       "      <td>...</td>\n",
       "      <td>...</td>\n",
       "      <td>...</td>\n",
       "    </tr>\n",
       "    <tr>\n",
       "      <th>298</th>\n",
       "      <td>3710837</td>\n",
       "      <td>3711719</td>\n",
       "      <td>30.198869</td>\n",
       "      <td>30.206047</td>\n",
       "      <td>0.430664</td>\n",
       "    </tr>\n",
       "    <tr>\n",
       "      <th>299</th>\n",
       "      <td>3712745</td>\n",
       "      <td>3715887</td>\n",
       "      <td>30.214396</td>\n",
       "      <td>30.239966</td>\n",
       "      <td>1.534180</td>\n",
       "    </tr>\n",
       "    <tr>\n",
       "      <th>300</th>\n",
       "      <td>3716981</td>\n",
       "      <td>3718207</td>\n",
       "      <td>30.248869</td>\n",
       "      <td>30.258846</td>\n",
       "      <td>0.598633</td>\n",
       "    </tr>\n",
       "    <tr>\n",
       "      <th>301</th>\n",
       "      <td>6106285</td>\n",
       "      <td>6107515</td>\n",
       "      <td>51.893075</td>\n",
       "      <td>51.903084</td>\n",
       "      <td>0.600586</td>\n",
       "    </tr>\n",
       "    <tr>\n",
       "      <th>302</th>\n",
       "      <td>7205961</td>\n",
       "      <td>7206127</td>\n",
       "      <td>61.425594</td>\n",
       "      <td>61.426945</td>\n",
       "      <td>0.081055</td>\n",
       "    </tr>\n",
       "  </tbody>\n",
       "</table>\n",
       "<p>303 rows × 5 columns</p>\n",
       "</div>"
      ],
      "text/plain": [
       "     event_start_index  event_finish_index  event_start_time  \\\n",
       "0               144409              144415        -20.408130   \n",
       "1               647905              650947          0.355998   \n",
       "2               673529              676327          0.564526   \n",
       "3               690557              690563          0.703101   \n",
       "4               693933              693939          0.730575   \n",
       "..                 ...                 ...               ...   \n",
       "298            3710837             3711719         30.198869   \n",
       "299            3712745             3715887         30.214396   \n",
       "300            3716981             3718207         30.248869   \n",
       "301            6106285             6107515         51.893075   \n",
       "302            7205961             7206127         61.425594   \n",
       "\n",
       "     event_finish_time  duration  \n",
       "0           -20.408081  0.002930  \n",
       "1             0.380754  1.485352  \n",
       "2             0.587297  1.366211  \n",
       "3             0.703149  0.002930  \n",
       "4             0.730623  0.002930  \n",
       "..                 ...       ...  \n",
       "298          30.206047  0.430664  \n",
       "299          30.239966  1.534180  \n",
       "300          30.258846  0.598633  \n",
       "301          51.903084  0.600586  \n",
       "302          61.426945  0.081055  \n",
       "\n",
       "[303 rows x 5 columns]"
      ]
     },
     "execution_count": 10,
     "metadata": {},
     "output_type": "execute_result"
    }
   ],
   "source": [
    "df_events_016[['event_start_index', 'event_finish_index',\n",
    "       'event_start_time', 'event_finish_time', 'duration']]"
   ]
  }
 ],
 "metadata": {
  "kernelspec": {
   "display_name": "Python 3 (ipykernel)",
   "language": "python",
   "name": "python3"
  },
  "language_info": {
   "codemirror_mode": {
    "name": "ipython",
    "version": 3
   },
   "file_extension": ".py",
   "mimetype": "text/x-python",
   "name": "python",
   "nbconvert_exporter": "python",
   "pygments_lexer": "ipython3",
   "version": "3.9.18"
  }
 },
 "nbformat": 4,
 "nbformat_minor": 4
}

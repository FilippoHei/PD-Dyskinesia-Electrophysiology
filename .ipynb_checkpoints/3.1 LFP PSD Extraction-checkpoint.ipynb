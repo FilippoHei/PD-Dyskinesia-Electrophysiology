{
 "cells": [
  {
   "cell_type": "code",
   "execution_count": 1,
   "metadata": {},
   "outputs": [
    {
     "name": "stderr",
     "output_type": "stream",
     "text": [
      "C:\\Users\\a.kaymak\\AppData\\Roaming\\Python\\Python39\\site-packages\\pandas\\core\\arrays\\masked.py:60: UserWarning: Pandas requires version '1.3.6' or newer of 'bottleneck' (version '1.3.5' currently installed).\n",
      "  from pandas.core import (\n"
     ]
    }
   ],
   "source": [
    "# Import public packages and functions\n",
    "import os\n",
    "import pandas as pd\n",
    "import numpy as np\n",
    "import sys\n",
    "import json\n",
    "from pathlib import Path\n",
    "\n",
    "import seaborn as sns\n",
    "import matplotlib.pyplot as plt\n",
    "import scikit_posthocs as sp\n",
    "\n",
    "import warnings\n",
    "warnings.filterwarnings(\"ignore\")\n",
    "\n",
    "# inserting the lib folder to the compiler\n",
    "sys.path.insert(0, './lib')\n",
    "sys.path.insert(0, './utils/')\n",
    "\n",
    "import utils_plotting_psd, utils_plotting, utils_psd\n",
    "\n",
    "from lib_accelerometer import ACCELEROMETER \n",
    "from lib_data import DATA_IO\n",
    "from lib_LFP import  LFP"
   ]
  },
  {
   "cell_type": "code",
   "execution_count": 2,
   "metadata": {},
   "outputs": [],
   "source": [
    "PATH_CURR                = os.path.abspath(os.curdir)    # current code\n",
    "PATH                     = (str(Path(PATH_CURR).parent)) # data repository: upper directory where datasets situated\n",
    "df_TAPPING_MOTOR_events  = pd.read_pickle(DATA_IO.path_events + \"LFP_TAPPING_EVENTS_MOTOR_AREA.pkl\")\n",
    "\n",
    "# Patient 019 Excluded from the study\n",
    "# df_TAPPING_MOTOR_events  = df_TAPPING_MOTOR_events[df_TAPPING_MOTOR_events.patient != \"019\"]"
   ]
  },
  {
   "cell_type": "markdown",
   "metadata": {},
   "source": [
    "# 1. STN Motor Region - Controlateral LFP Extraction"
   ]
  },
  {
   "cell_type": "code",
   "execution_count": 4,
   "metadata": {},
   "outputs": [
    {
     "name": "stdout",
     "output_type": "stream",
     "text": [
      "Patient - 008\n",
      "Patient - 009\n",
      "Patient - 012\n",
      "Patient - 013\n",
      "Patient - 014\n",
      "Patient - 019\n",
      "Patient - 020\n",
      "Patient - 021\n",
      "Patient - 022\n",
      "Patient - 023\n",
      "Patient - 102\n",
      "Patient - 103\n",
      "Patient - 105\n",
      "Patient - 108\n",
      "Patient - 109\n",
      "Patient - 110\n"
     ]
    }
   ],
   "source": [
    "PSD_C_LFP_noLID, PSD_C_LFP_LID = utils_psd.normalize_patient_ephysiology_event_psd_to_baseline(df_events=df_TAPPING_MOTOR_events,\n",
    "                                                                                               recording_type=\"LFP\",\n",
    "                                                                                               event_mode=\"controlateral\", \n",
    "                                                                                               PATH=PATH)     \n",
    "PSD_C_LFP_LID.to_pickle(DATA_IO.path_events + \"psd/LFP/CONTROLATERAL_MOTOR_LID.pkl\")\n",
    "PSD_C_LFP_noLID.to_pickle(DATA_IO.path_events + \"psd/LFP/CONTROLATERAL_MOTOR_noLID.pkl\")"
   ]
  },
  {
   "cell_type": "markdown",
   "metadata": {
    "jp-MarkdownHeadingCollapsed": true
   },
   "source": [
    "# 2. STN Motor Region - Ipsilateral LFP Extraction"
   ]
  },
  {
   "cell_type": "code",
   "execution_count": 3,
   "metadata": {},
   "outputs": [
    {
     "name": "stdout",
     "output_type": "stream",
     "text": [
      "LFP Recording: SUB-008\n",
      "... pickle loading: C:\\Users\\a.kaymak\\Desktop\\Papers\\2025 Parkinson STN-DBS Dyskinesia LFP-ECG\\files\\data\\sub-008\\008_mergedData_v4.0_lfp_right.P\n",
      "... pickle loading: C:\\Users\\a.kaymak\\Desktop\\Papers\\2025 Parkinson STN-DBS Dyskinesia LFP-ECG\\files\\data\\sub-008\\008_mergedData_v4.0_lfp_left.P\n",
      "... SUB - 008 : L16-13 channel was not found!\n",
      "... SUB - 008 : L16-14 channel was not found!\n",
      "... SUB - 008 : L16-15 channel was not found!\n",
      "LFP Recording: SUB-009\n",
      "... pickle loading: C:\\Users\\a.kaymak\\Desktop\\Papers\\2025 Parkinson STN-DBS Dyskinesia LFP-ECG\\files\\data\\sub-009\\009_mergedData_v4.0_lfp_right.P\n",
      "... pickle loading: C:\\Users\\a.kaymak\\Desktop\\Papers\\2025 Parkinson STN-DBS Dyskinesia LFP-ECG\\files\\data\\sub-009\\009_mergedData_v4.0_lfp_left.P\n",
      "... SUB - 009 : R02-01 channel was not found!\n",
      "... SUB - 009 : R03-01 channel was not found!\n",
      "... SUB - 009 : R04-01 channel was not found!\n",
      "... SUB - 009 : R05-02 channel was not found!\n",
      "... SUB - 009 : R08-05 channel was not found!\n",
      "LFP Recording: SUB-012\n",
      "... pickle loading: C:\\Users\\a.kaymak\\Desktop\\Papers\\2025 Parkinson STN-DBS Dyskinesia LFP-ECG\\files\\data\\sub-012\\012_mergedData_v4.0_lfp_right.P\n",
      "... pickle loading: C:\\Users\\a.kaymak\\Desktop\\Papers\\2025 Parkinson STN-DBS Dyskinesia LFP-ECG\\files\\data\\sub-012\\012_mergedData_v4.0_lfp_left.P\n",
      "... SUB - 012 : L02-01 channel was not found!\n",
      "... SUB - 012 : L03-01 channel was not found!\n",
      "... SUB - 012 : L04-01 channel was not found!\n",
      "LFP Recording: SUB-013\n",
      "... pickle loading: C:\\Users\\a.kaymak\\Desktop\\Papers\\2025 Parkinson STN-DBS Dyskinesia LFP-ECG\\files\\data\\sub-013\\013_mergedData_v4.0_lfp_right.P\n",
      "... pickle loading: C:\\Users\\a.kaymak\\Desktop\\Papers\\2025 Parkinson STN-DBS Dyskinesia LFP-ECG\\files\\data\\sub-013\\013_mergedData_v4.0_lfp_left.P\n",
      "... SUB - 013 : L02-01 channel was not found!\n",
      "... SUB - 013 : L03-01 channel was not found!\n",
      "... SUB - 013 : L04-01 channel was not found!\n",
      "LFP Recording: SUB-014\n",
      "... pickle loading: C:\\Users\\a.kaymak\\Desktop\\Papers\\2025 Parkinson STN-DBS Dyskinesia LFP-ECG\\files\\data\\sub-014\\014_mergedData_v4.0_lfp_right.P\n",
      "... pickle loading: C:\\Users\\a.kaymak\\Desktop\\Papers\\2025 Parkinson STN-DBS Dyskinesia LFP-ECG\\files\\data\\sub-014\\014_mergedData_v4.0_lfp_left.P\n",
      "... SUB - 014 : L02-01 channel was not found!\n",
      "... SUB - 014 : L03-01 channel was not found!\n",
      "... SUB - 014 : L04-01 channel was not found!\n",
      "... SUB - 014 : R07-04 channel was not found!\n",
      "... SUB - 014 : R08-07 channel was not found!\n",
      "LFP Recording: SUB-017\n",
      "... pickle loading: C:\\Users\\a.kaymak\\Desktop\\Papers\\2025 Parkinson STN-DBS Dyskinesia LFP-ECG\\files\\data\\sub-017\\017_mergedData_v4.0_lfp_right.P\n",
      "... pickle loading: C:\\Users\\a.kaymak\\Desktop\\Papers\\2025 Parkinson STN-DBS Dyskinesia LFP-ECG\\files\\data\\sub-017\\017_mergedData_v4.0_lfp_left.P\n",
      "... SUB - 017 : L02-01 channel was not found!\n",
      "... SUB - 017 : L03-01 channel was not found!\n",
      "... SUB - 017 : L04-01 channel was not found!\n",
      "LFP Recording: SUB-020\n",
      "... pickle loading: C:\\Users\\a.kaymak\\Desktop\\Papers\\2025 Parkinson STN-DBS Dyskinesia LFP-ECG\\files\\data\\sub-020\\020_mergedData_v4.0_lfp_right.P\n",
      "... pickle loading: C:\\Users\\a.kaymak\\Desktop\\Papers\\2025 Parkinson STN-DBS Dyskinesia LFP-ECG\\files\\data\\sub-020\\020_mergedData_v4.0_lfp_left.P\n",
      "... SUB - 020 : L02-01 channel was not found!\n",
      "... SUB - 020 : L03-01 channel was not found!\n",
      "... SUB - 020 : L04-01 channel was not found!\n",
      "LFP Recording: SUB-021\n",
      "... pickle loading: C:\\Users\\a.kaymak\\Desktop\\Papers\\2025 Parkinson STN-DBS Dyskinesia LFP-ECG\\files\\data\\sub-021\\021_mergedData_v4.0_lfp_right.P\n",
      "... pickle loading: C:\\Users\\a.kaymak\\Desktop\\Papers\\2025 Parkinson STN-DBS Dyskinesia LFP-ECG\\files\\data\\sub-021\\021_mergedData_v4.0_lfp_left.P\n",
      "... SUB - 021 : L02-01 channel was not found!\n",
      "... SUB - 021 : L03-01 channel was not found!\n",
      "... SUB - 021 : L04-01 channel was not found!\n",
      "LFP Recording: SUB-102\n",
      "... pickle loading: C:\\Users\\a.kaymak\\Desktop\\Papers\\2025 Parkinson STN-DBS Dyskinesia LFP-ECG\\files\\data\\sub-102\\102_mergedData_v4.0_lfp_right.P\n",
      "... pickle loading: C:\\Users\\a.kaymak\\Desktop\\Papers\\2025 Parkinson STN-DBS Dyskinesia LFP-ECG\\files\\data\\sub-102\\102_mergedData_v4.0_lfp_left.P\n",
      "... SUB - 102 : L02-01 channel was not found!\n",
      "... SUB - 102 : L03-01 channel was not found!\n",
      "... SUB - 102 : L04-01 channel was not found!\n",
      "LFP Recording: SUB-103\n",
      "... pickle loading: C:\\Users\\a.kaymak\\Desktop\\Papers\\2025 Parkinson STN-DBS Dyskinesia LFP-ECG\\files\\data\\sub-103\\103_mergedData_v4.0_lfp_right.P\n",
      "corrected times while loading: C:\\Users\\a.kaymak\\Desktop\\Papers\\2025 Parkinson STN-DBS Dyskinesia LFP-ECG\\files\\data\\sub-103\\103_mergedData_v4.0_lfp_right.P\n",
      "... pickle loading: C:\\Users\\a.kaymak\\Desktop\\Papers\\2025 Parkinson STN-DBS Dyskinesia LFP-ECG\\files\\data\\sub-103\\103_mergedData_v4.0_lfp_left.P\n",
      "corrected times while loading: C:\\Users\\a.kaymak\\Desktop\\Papers\\2025 Parkinson STN-DBS Dyskinesia LFP-ECG\\files\\data\\sub-103\\103_mergedData_v4.0_lfp_left.P\n",
      "... SUB - 103 : L02-01 channel was not found!\n",
      "... SUB - 103 : L03-01 channel was not found!\n",
      "... SUB - 103 : L04-01 channel was not found!\n",
      "LFP Recording: SUB-105\n",
      "... pickle loading: C:\\Users\\a.kaymak\\Desktop\\Papers\\2025 Parkinson STN-DBS Dyskinesia LFP-ECG\\files\\data\\sub-105\\105_mergedData_v4.0_lfp_right.P\n",
      "... pickle loading: C:\\Users\\a.kaymak\\Desktop\\Papers\\2025 Parkinson STN-DBS Dyskinesia LFP-ECG\\files\\data\\sub-105\\105_mergedData_v4.0_lfp_left.P\n",
      "... SUB - 105 : L02-01 channel was not found!\n",
      "... SUB - 105 : L03-01 channel was not found!\n",
      "... SUB - 105 : L04-01 channel was not found!\n",
      "LFP Recording: SUB-108\n",
      "... pickle loading: C:\\Users\\a.kaymak\\Desktop\\Papers\\2025 Parkinson STN-DBS Dyskinesia LFP-ECG\\files\\data\\sub-108\\108_mergedData_v4.0_lfp_right.P\n",
      "... pickle loading: C:\\Users\\a.kaymak\\Desktop\\Papers\\2025 Parkinson STN-DBS Dyskinesia LFP-ECG\\files\\data\\sub-108\\108_mergedData_v4.0_lfp_left.P\n",
      "... SUB - 108 : L02-01 channel was not found!\n",
      "... SUB - 108 : L03-01 channel was not found!\n",
      "... SUB - 108 : L04-01 channel was not found!\n",
      "LFP Recording: SUB-109\n",
      "... pickle loading: C:\\Users\\a.kaymak\\Desktop\\Papers\\2025 Parkinson STN-DBS Dyskinesia LFP-ECG\\files\\data\\sub-109\\109_mergedData_v4.0_lfp_right.P\n",
      "... pickle loading: C:\\Users\\a.kaymak\\Desktop\\Papers\\2025 Parkinson STN-DBS Dyskinesia LFP-ECG\\files\\data\\sub-109\\109_mergedData_v4.0_lfp_left.P\n",
      "... SUB - 109 : L02-01 channel was not found!\n",
      "... SUB - 109 : L03-01 channel was not found!\n",
      "... SUB - 109 : L04-01 channel was not found!\n"
     ]
    }
   ],
   "source": [
    "PSD_I_LFP_noLID, PSD_I_LFP_LID = utils_psd.normalize_patient_ephysiology_event_psd_to_baseline(df_events=df_TAPPING_MOTOR_events,\n",
    "                                                                                               recording_type=\"LFP\",\n",
    "                                                                                               event_mode=\"ipsilateral\", \n",
    "                                                                                               PATH=PATH)     \n",
    "PSD_I_LFP_LID.to_pickle(DATA_IO.path_events + \"psd/LFP/IPSILATERAL_MOTOR_LID.pkl\")\n",
    "PSD_I_LFP_noLID.to_pickle(DATA_IO.path_events + \"psd/LFP/IPSILATERAL_MOTOR_noLID.pkl\")"
   ]
  }
 ],
 "metadata": {
  "kernelspec": {
   "display_name": "Python 3 (ipykernel)",
   "language": "python",
   "name": "python3"
  },
  "language_info": {
   "codemirror_mode": {
    "name": "ipython",
    "version": 3
   },
   "file_extension": ".py",
   "mimetype": "text/x-python",
   "name": "python",
   "nbconvert_exporter": "python",
   "pygments_lexer": "ipython3",
   "version": "3.9.19"
  }
 },
 "nbformat": 4,
 "nbformat_minor": 4
}

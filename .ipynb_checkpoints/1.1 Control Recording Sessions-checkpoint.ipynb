{
 "cells": [
  {
   "cell_type": "code",
   "execution_count": null,
   "id": "66aad3fd-0430-4cdf-91eb-51b1a25046f2",
   "metadata": {},
   "outputs": [],
   "source": [
    "# Import public packages and functions\n",
    "import os\n",
    "import pandas as pd\n",
    "import numpy as np\n",
    "import sys\n",
    "import json\n",
    "from pathlib import Path\n",
    "import seaborn as sns\n",
    "\n",
    "# inserting the lib folder to the compiler\n",
    "sys.path.insert(0, './lib')\n",
    "sys.path.insert(0, './utils/')\n",
    "\n",
    "from lib_event import EVENTS\n",
    "from lib_data import DATA_IO\n",
    "from lib_LFP import LFP\n",
    "\n",
    "import utils_plotting, utils_plotting_accelerometer, utils_accelerometer, utils_plotting_patient_activity, utils_misc\n",
    "import matplotlib.pyplot as plt"
   ]
  },
  {
   "cell_type": "code",
   "execution_count": 1,
   "id": "ef2bf852-12ab-418f-9a85-a4e63e3c7592",
   "metadata": {},
   "outputs": [
    {
     "ename": "NameError",
     "evalue": "name 'os' is not defined",
     "output_type": "error",
     "traceback": [
      "\u001b[1;31m---------------------------------------------------------------------------\u001b[0m",
      "\u001b[1;31mNameError\u001b[0m                                 Traceback (most recent call last)",
      "Cell \u001b[1;32mIn[1], line 1\u001b[0m\n\u001b[1;32m----> 1\u001b[0m PATH_CURR      \u001b[38;5;241m=\u001b[39m \u001b[43mos\u001b[49m\u001b[38;5;241m.\u001b[39mpath\u001b[38;5;241m.\u001b[39mabspath(os\u001b[38;5;241m.\u001b[39mcurdir)    \u001b[38;5;66;03m# current code\u001b[39;00m\n\u001b[0;32m      2\u001b[0m PATH           \u001b[38;5;241m=\u001b[39m (\u001b[38;5;28mstr\u001b[39m(Path(PATH_CURR)\u001b[38;5;241m.\u001b[39mparent)) \u001b[38;5;66;03m# data repository: upper directory where datasets situated\u001b[39;00m\n\u001b[0;32m      3\u001b[0m SUB_LIST       \u001b[38;5;241m=\u001b[39m utils_misc\u001b[38;5;241m.\u001b[39mget_SUB_list(DATA_IO\u001b[38;5;241m.\u001b[39mpath_data)\n",
      "\u001b[1;31mNameError\u001b[0m: name 'os' is not defined"
     ]
    }
   ],
   "source": [
    "PATH_CURR      = os.path.abspath(os.curdir)    # current code\n",
    "PATH           = (str(Path(PATH_CURR).parent)) # data repository: upper directory where datasets situated\n",
    "SUB_LIST       = utils_misc.get_SUB_list(DATA_IO.path_data) # get the SUB id list which we have a recording of themSUB            = \"008\""
   ]
  },
  {
   "cell_type": "code",
   "execution_count": null,
   "id": "53b84cd3-6500-4796-9695-19fd1366c892",
   "metadata": {},
   "outputs": [],
   "source": [
    "SUB_LIST = ['012']"
   ]
  },
  {
   "cell_type": "code",
   "execution_count": 4,
   "id": "5560e3cd-f2ce-4828-bee9-85d418fb1c78",
   "metadata": {},
   "outputs": [
    {
     "data": {
      "text/plain": [
       "\"\\nfor SUB in SUB_LIST:\\n    EVENTS_HISTORY    = EVENTS(PATH, SUB, 'acc_right')\\n    utils_plotting_accelerometer.plot_patient_activity(EVENTS_HISTORY, SUB)\\n\""
      ]
     },
     "execution_count": 4,
     "metadata": {},
     "output_type": "execute_result"
    }
   ],
   "source": [
    "\"\"\"\n",
    "for SUB in SUB_LIST:\n",
    "    EVENTS_HISTORY    = EVENTS(PATH, SUB, 'acc_right')\n",
    "    utils_plotting_accelerometer.plot_patient_activity(EVENTS_HISTORY, SUB)\n",
    "\"\"\""
   ]
  },
  {
   "cell_type": "code",
   "execution_count": 2,
   "id": "75190ec9-17e7-4025-948a-9d067d878e0f",
   "metadata": {},
   "outputs": [
    {
     "ename": "NameError",
     "evalue": "name 'SUB_LIST' is not defined",
     "output_type": "error",
     "traceback": [
      "\u001b[1;31m---------------------------------------------------------------------------\u001b[0m",
      "\u001b[1;31mNameError\u001b[0m                                 Traceback (most recent call last)",
      "Cell \u001b[1;32mIn[2], line 1\u001b[0m\n\u001b[1;32m----> 1\u001b[0m \u001b[38;5;28;01mfor\u001b[39;00m SUB \u001b[38;5;129;01min\u001b[39;00m \u001b[43mSUB_LIST\u001b[49m:\n\u001b[0;32m      2\u001b[0m     LFP_SUB    \u001b[38;5;241m=\u001b[39m LFP(PATH, SUB)\n\u001b[0;32m      3\u001b[0m     \u001b[38;5;28;01mfor\u001b[39;00m hemisphere \u001b[38;5;129;01min\u001b[39;00m [\u001b[38;5;124m\"\u001b[39m\u001b[38;5;124mright\u001b[39m\u001b[38;5;124m\"\u001b[39m, \u001b[38;5;124m\"\u001b[39m\u001b[38;5;124mleft\u001b[39m\u001b[38;5;124m\"\u001b[39m]:\n",
      "\u001b[1;31mNameError\u001b[0m: name 'SUB_LIST' is not defined"
     ]
    }
   ],
   "source": [
    "for SUB in SUB_LIST:\n",
    "    LFP_SUB    = LFP(PATH, SUB)\n",
    "    for hemisphere in [\"right\", \"left\"]:\n",
    "        utils_plotting_patient_activity.plot_LFP_contact_recordings(LFP_SUB, SUB, hemisphere)"
   ]
  },
  {
   "cell_type": "code",
   "execution_count": null,
   "id": "93cb2a1b-5442-47a0-a6c7-f78bcc2ce5ba",
   "metadata": {},
   "outputs": [],
   "source": []
  }
 ],
 "metadata": {
  "kernelspec": {
   "display_name": "Python 3 (ipykernel)",
   "language": "python",
   "name": "python3"
  },
  "language_info": {
   "codemirror_mode": {
    "name": "ipython",
    "version": 3
   },
   "file_extension": ".py",
   "mimetype": "text/x-python",
   "name": "python",
   "nbconvert_exporter": "python",
   "pygments_lexer": "ipython3",
   "version": "3.9.18"
  }
 },
 "nbformat": 4,
 "nbformat_minor": 5
}

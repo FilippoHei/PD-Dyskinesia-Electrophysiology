{
 "cells": [
  {
   "cell_type": "code",
   "execution_count": 7,
   "metadata": {},
   "outputs": [],
   "source": [
    "# Import public packages and functions\n",
    "import os\n",
    "import pandas as pd\n",
    "import numpy as np\n",
    "import sys\n",
    "import json\n",
    "from pathlib import Path\n",
    "import pickle\n",
    "\n",
    "import seaborn as sns\n",
    "import matplotlib.pyplot as plt\n",
    "import scikit_posthocs as sp\n",
    "\n",
    "# inserting the lib folder to the compiler\n",
    "sys.path.insert(0, './lib')\n",
    "sys.path.insert(0, './utils/')\n",
    "\n",
    "#import utils_plotting\n",
    "import utils_accelerometer, utils_misc\n",
    "\n",
    "from lib_LFP import LFP\n",
    "from lib_event import EVENTS\n",
    "from lib_data import DATA_IO"
   ]
  },
  {
   "cell_type": "code",
   "execution_count": 11,
   "metadata": {},
   "outputs": [],
   "source": [
    "PATH_CURR   = os.path.abspath(os.curdir)    # current code\n",
    "PATH        = (str(Path(PATH_CURR).parent)) # data repository: upper directory where datasets situated\n",
    "PATH_DATA   = PATH + \"\\\\data\"               # the recordings data directory\n",
    "PATH_EVENTS = PATH + \"\\\\events\"\n",
    "SUB_LIST    = utils_misc.get_SUB_list(PATH_DATA) # get the SUB id list which we have a recording of them"
   ]
  },
  {
   "cell_type": "markdown",
   "metadata": {},
   "source": [
    "# 1. Save LFP-Event Recordings"
   ]
  },
  {
   "cell_type": "code",
   "execution_count": 5,
   "metadata": {},
   "outputs": [
    {
     "name": "stdout",
     "output_type": "stream",
     "text": [
      "LFP Recording: SUB-020\n",
      "... pickle loading: C:\\Users\\a.kaymak\\Desktop\\Papers\\2025 Parkinson STN-DBS Dyskinesia LFP-ECG\\files\\data\\sub-020\\020_mergedData_v4.0_lfp_right.P\n",
      "... pickle loading: C:\\Users\\a.kaymak\\Desktop\\Papers\\2025 Parkinson STN-DBS Dyskinesia LFP-ECG\\files\\data\\sub-020\\020_mergedData_v4.0_lfp_left.P\n",
      "... SUB - 020 : L02-01 channel was not found!\n",
      "... SUB - 020 : L03-01 channel was not found!\n",
      "... SUB - 020 : L04-01 channel was not found!\n",
      "LFP Recording: SUB-021\n",
      "... pickle loading: C:\\Users\\a.kaymak\\Desktop\\Papers\\2025 Parkinson STN-DBS Dyskinesia LFP-ECG\\files\\data\\sub-021\\021_mergedData_v4.0_lfp_right.P\n",
      "... pickle loading: C:\\Users\\a.kaymak\\Desktop\\Papers\\2025 Parkinson STN-DBS Dyskinesia LFP-ECG\\files\\data\\sub-021\\021_mergedData_v4.0_lfp_left.P\n",
      "... SUB - 021 : L02-01 channel was not found!\n",
      "... SUB - 021 : L03-01 channel was not found!\n",
      "... SUB - 021 : L04-01 channel was not found!\n",
      "LFP Recording: SUB-101\n",
      "... pickle loading: C:\\Users\\a.kaymak\\Desktop\\Papers\\2025 Parkinson STN-DBS Dyskinesia LFP-ECG\\files\\data\\sub-101\\101_mergedData_v4.0_lfp_right.P\n",
      "... pickle loading: C:\\Users\\a.kaymak\\Desktop\\Papers\\2025 Parkinson STN-DBS Dyskinesia LFP-ECG\\files\\data\\sub-101\\101_mergedData_v4.0_lfp_left.P\n",
      "... SUB - 101 : L02-01 channel was not found!\n",
      "... SUB - 101 : L03-01 channel was not found!\n",
      "... SUB - 101 : L04-01 channel was not found!\n",
      "LFP Recording: SUB-102\n",
      "... pickle loading: C:\\Users\\a.kaymak\\Desktop\\Papers\\2025 Parkinson STN-DBS Dyskinesia LFP-ECG\\files\\data\\sub-102\\102_mergedData_v4.0_lfp_right.P\n",
      "... pickle loading: C:\\Users\\a.kaymak\\Desktop\\Papers\\2025 Parkinson STN-DBS Dyskinesia LFP-ECG\\files\\data\\sub-102\\102_mergedData_v4.0_lfp_left.P\n",
      "... SUB - 102 : L02-01 channel was not found!\n",
      "... SUB - 102 : L03-01 channel was not found!\n",
      "... SUB - 102 : L04-01 channel was not found!\n",
      "LFP Recording: SUB-103\n",
      "... pickle loading: C:\\Users\\a.kaymak\\Desktop\\Papers\\2025 Parkinson STN-DBS Dyskinesia LFP-ECG\\files\\data\\sub-103\\103_mergedData_v4.0_lfp_right.P\n",
      "corrected times while loading: C:\\Users\\a.kaymak\\Desktop\\Papers\\2025 Parkinson STN-DBS Dyskinesia LFP-ECG\\files\\data\\sub-103\\103_mergedData_v4.0_lfp_right.P\n",
      "... pickle loading: C:\\Users\\a.kaymak\\Desktop\\Papers\\2025 Parkinson STN-DBS Dyskinesia LFP-ECG\\files\\data\\sub-103\\103_mergedData_v4.0_lfp_left.P\n",
      "corrected times while loading: C:\\Users\\a.kaymak\\Desktop\\Papers\\2025 Parkinson STN-DBS Dyskinesia LFP-ECG\\files\\data\\sub-103\\103_mergedData_v4.0_lfp_left.P\n",
      "... SUB - 103 : L02-01 channel was not found!\n",
      "... SUB - 103 : L03-01 channel was not found!\n",
      "... SUB - 103 : L04-01 channel was not found!\n",
      "LFP Recording: SUB-105\n",
      "... pickle loading: C:\\Users\\a.kaymak\\Desktop\\Papers\\2025 Parkinson STN-DBS Dyskinesia LFP-ECG\\files\\data\\sub-105\\105_mergedData_v4.0_lfp_right.P\n",
      "... pickle loading: C:\\Users\\a.kaymak\\Desktop\\Papers\\2025 Parkinson STN-DBS Dyskinesia LFP-ECG\\files\\data\\sub-105\\105_mergedData_v4.0_lfp_left.P\n",
      "... SUB - 105 : L02-01 channel was not found!\n",
      "... SUB - 105 : L03-01 channel was not found!\n",
      "... SUB - 105 : L04-01 channel was not found!\n",
      "LFP Recording: SUB-107\n",
      "... pickle loading: C:\\Users\\a.kaymak\\Desktop\\Papers\\2025 Parkinson STN-DBS Dyskinesia LFP-ECG\\files\\data\\sub-107\\107_mergedData_v4.0_lfp_right.P\n",
      "... pickle loading: C:\\Users\\a.kaymak\\Desktop\\Papers\\2025 Parkinson STN-DBS Dyskinesia LFP-ECG\\files\\data\\sub-107\\107_mergedData_v4.0_lfp_left.P\n",
      "... SUB - 107 : R02-01 channel was not found!\n",
      "... SUB - 107 : R03-01 channel was not found!\n",
      "... SUB - 107 : R04-01 channel was not found!\n",
      "LFP Recording: SUB-108\n",
      "... pickle loading: C:\\Users\\a.kaymak\\Desktop\\Papers\\2025 Parkinson STN-DBS Dyskinesia LFP-ECG\\files\\data\\sub-108\\108_mergedData_v4.0_lfp_right.P\n",
      "... pickle loading: C:\\Users\\a.kaymak\\Desktop\\Papers\\2025 Parkinson STN-DBS Dyskinesia LFP-ECG\\files\\data\\sub-108\\108_mergedData_v4.0_lfp_left.P\n",
      "... SUB - 108 : L02-01 channel was not found!\n",
      "... SUB - 108 : L03-01 channel was not found!\n",
      "... SUB - 108 : L04-01 channel was not found!\n",
      "LFP Recording: SUB-109\n",
      "... pickle loading: C:\\Users\\a.kaymak\\Desktop\\Papers\\2025 Parkinson STN-DBS Dyskinesia LFP-ECG\\files\\data\\sub-109\\109_mergedData_v4.0_lfp_right.P\n",
      "... pickle loading: C:\\Users\\a.kaymak\\Desktop\\Papers\\2025 Parkinson STN-DBS Dyskinesia LFP-ECG\\files\\data\\sub-109\\109_mergedData_v4.0_lfp_left.P\n",
      "... SUB - 109 : L02-01 channel was not found!\n",
      "... SUB - 109 : L03-01 channel was not found!\n",
      "... SUB - 109 : L04-01 channel was not found!\n"
     ]
    }
   ],
   "source": [
    "for SUB in SUB_LIST:\n",
    "    \n",
    "    LFP_SUB           = LFP(PATH, SUB)\n",
    "    \n",
    "    # 1. Load event history of patient\n",
    "    df_lfp_events     = pd.read_csv(DATA_IO.path_events + \"SUB_\"+ SUB +\"_EVENTS_LFP.csv\")\n",
    "    \n",
    "    # remove short events\n",
    "    df_lfp_events     = df_lfp_events[df_lfp_events.duration>=0.2]\n",
    "\n",
    "    # removing irregular dyskinesia scores\n",
    "    df_lfp_events     = df_lfp_events[(~df_lfp_events['dyskinesia_arm'].isnull()) & (~df_lfp_events['dyskinesia_total'].isnull())]\n",
    "\n",
    "    # removing non-continuous events due to the artifact removal \n",
    "    df_lfp_events     = df_lfp_events[df_lfp_events.duration== (df_lfp_events.event_finish_index-df_lfp_events.event_start_index)/2048]\n",
    "    \n",
    "    # 2. Get the LFP recordings dataframe\n",
    "    df_lfp_recordings = LFP_SUB.extract_LFP_events_segments(df_lfp_events)\n",
    "    \n",
    "    # 3. Save the dataframe as a pickle file\n",
    "    df_lfp_recordings.to_pickle(DATA_IO.path_events + \"SUB_\"+ SUB +\"_EVENTS_LFP_RECORDINGS.pkl\")"
   ]
  },
  {
   "cell_type": "markdown",
   "metadata": {},
   "source": [
    "# 2. Save LFP-Baseline Recordings"
   ]
  },
  {
   "cell_type": "code",
   "execution_count": 28,
   "metadata": {},
   "outputs": [
    {
     "name": "stdout",
     "output_type": "stream",
     "text": [
      "LFP Recording: SUB-012\n",
      "... pickle loading: C:\\Users\\a.kaymak\\Desktop\\Papers\\2025 Parkinson STN-DBS Dyskinesia LFP-ECG\\files\\data\\sub-012\\012_mergedData_v4.0_lfp_right.P\n",
      "... pickle loading: C:\\Users\\a.kaymak\\Desktop\\Papers\\2025 Parkinson STN-DBS Dyskinesia LFP-ECG\\files\\data\\sub-012\\012_mergedData_v4.0_lfp_left.P\n",
      "... SUB - 012 : L02-01 channel was not found!\n",
      "... SUB - 012 : L03-01 channel was not found!\n",
      "... SUB - 012 : L04-01 channel was not found!\n",
      "... SUB - 012 : left_02-01 channel was not found!\n",
      "... SUB - 012 : left_03-01 channel was not found!\n",
      "... SUB - 012 : left_04-01 channel was not found!\n"
     ]
    }
   ],
   "source": [
    "for SUB in SUB_LIST:  \n",
    "    \n",
    "    if(SUB!=\"019\"):\n",
    "        \n",
    "        LFP_SUB      = LFP(PATH, SUB)\n",
    "        LFP_baseline = LFP_SUB.get_baseline_recording(t_min=0, t_max=5)\n",
    "\n",
    "        # pickle the baseline dictionary\n",
    "        with open(DATA_IO.path_events + \"baseline_recordings/LFP/\"+ SUB +\".pkl\", 'wb') as handle:\n",
    "            pickle.dump(LFP_baseline, handle, protocol=pickle.HIGHEST_PROTOCOL)"
   ]
  },
  {
   "cell_type": "code",
   "execution_count": null,
   "metadata": {},
   "outputs": [],
   "source": []
  }
 ],
 "metadata": {
  "kernelspec": {
   "display_name": "Python 3 (ipykernel)",
   "language": "python",
   "name": "python3"
  },
  "language_info": {
   "codemirror_mode": {
    "name": "ipython",
    "version": 3
   },
   "file_extension": ".py",
   "mimetype": "text/x-python",
   "name": "python",
   "nbconvert_exporter": "python",
   "pygments_lexer": "ipython3",
   "version": "3.9.19"
  }
 },
 "nbformat": 4,
 "nbformat_minor": 4
}

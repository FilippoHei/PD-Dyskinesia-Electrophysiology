{
 "cells": [
  {
   "cell_type": "code",
   "execution_count": 1,
   "metadata": {},
   "outputs": [],
   "source": [
    "import warnings\n",
    "warnings.filterwarnings(\"ignore\")\n",
    "\n",
    "# Import public packages and functions\n",
    "import os\n",
    "import pandas as pd\n",
    "import numpy as np\n",
    "import sys\n",
    "import json\n",
    "from pathlib import Path\n",
    "\n",
    "import seaborn as sns\n",
    "import matplotlib.pyplot as plt\n",
    "import scikit_posthocs as sp\n",
    "\n",
    "# inserting the lib folder to the compiler\n",
    "sys.path.insert(0, './lib')\n",
    "sys.path.insert(0, './utils/')\n",
    "\n",
    "#import utils scripts\n",
    "import utils_accelerometer, utils_misc, utils_psd, utils_plotting_psd\n",
    "\n",
    "from lib_LFP import LFP\n",
    "from lib_event import EVENTS\n",
    "from lib_data import DATA_IO"
   ]
  },
  {
   "cell_type": "raw",
   "metadata": {},
   "source": [
    "load event files"
   ]
  },
  {
   "cell_type": "code",
   "execution_count": 2,
   "metadata": {},
   "outputs": [],
   "source": [
    "df_TAPPING_EVENTS_MOTOR_AREA                    = pd.read_pickle(DATA_IO.path_events + \"LFP_TAPPING_EVENTS_MOTOR_AREA.pkl\")\n",
    "df_TAPPING_EVENTS_ASSOCIATIVE_AREA              = pd.read_pickle(DATA_IO.path_events + \"LFP_TAPPING_EVENTS_ASSOCIATIVE_AREA.pkl\")\n",
    "df_TAPPING_EVENTS_LIMBIC_AREA                   = pd.read_pickle(DATA_IO.path_events + \"LFP_TAPPING_EVENTS_LIMBIC_AREA.pkl\")\n",
    "\n",
    "df_INVOLUNTARY_MOVEMENT_EVENTS_MOTOR_AREA       = pd.read_pickle(DATA_IO.path_events + \"LFP_INVOLUNTARY_MOVEMENT_EVENTS_MOTOR_AREA.pkl\")\n",
    "df_INVOLUNTARY_MOVEMENT_EVENTS_ASSOCIATIVE_AREA = pd.read_pickle(DATA_IO.path_events + \"LFP_INVOLUNTARY_MOVEMENT_EVENTS_ASSOCIATIVE_AREA.pkl\")\n",
    "df_INVOLUNTARY_MOVEMENT_EVENTS_LIMBIC_AREA      = pd.read_pickle(DATA_IO.path_events + \"LFP_INVOLUNTARY_MOVEMENT_EVENTS_LIMBIC_AREA.pkl\")"
   ]
  },
  {
   "cell_type": "raw",
   "metadata": {},
   "source": [
    "in case of dyskinesia scores were not assigned at the beginning of sessions (where there is no levadopa induced dyskinea), there might be np.nan\n",
    "values for some CDRS scores. Replace them with \"none\" scoring."
   ]
  },
  {
   "cell_type": "code",
   "execution_count": 3,
   "metadata": {},
   "outputs": [],
   "source": [
    "df_TAPPING_EVENTS_MOTOR_AREA                    = df_TAPPING_EVENTS_MOTOR_AREA.fillna(\"none\")\n",
    "df_TAPPING_EVENTS_ASSOCIATIVE_AREA              = df_TAPPING_EVENTS_ASSOCIATIVE_AREA.fillna(\"none\")\n",
    "df_TAPPING_EVENTS_LIMBIC_AREA                   = df_TAPPING_EVENTS_LIMBIC_AREA.fillna(\"none\")\n",
    "\n",
    "df_INVOLUNTARY_MOVEMENT_EVENTS_MOTOR_AREA       = df_INVOLUNTARY_MOVEMENT_EVENTS_MOTOR_AREA.fillna(\"none\")\n",
    "df_INVOLUNTARY_MOVEMENT_EVENTS_ASSOCIATIVE_AREA = df_INVOLUNTARY_MOVEMENT_EVENTS_ASSOCIATIVE_AREA.fillna(\"none\")\n",
    "df_INVOLUNTARY_MOVEMENT_EVENTS_LIMBIC_AREA      = df_INVOLUNTARY_MOVEMENT_EVENTS_LIMBIC_AREA.fillna(\"none\")"
   ]
  },
  {
   "cell_type": "raw",
   "metadata": {},
   "source": [
    "for bilateral events, we need to define CDRS_bilateral_hand score. It is the average of the scores in right and left hand."
   ]
  },
  {
   "cell_type": "code",
   "execution_count": 4,
   "metadata": {},
   "outputs": [],
   "source": [
    "# Create the inverse dictionary to map numbers back to strings\n",
    "severity_event = {v: k for k, v in EVENTS.event_severity.items()}\n",
    "\n",
    "# Function to compute bilateral hand severity\n",
    "def compute_bilateral_hand_severity(row):\n",
    "    right_severity = EVENTS.event_severity[row['CDRS_right_hand']]\n",
    "    left_severity = EVENTS.event_severity[row['CDRS_left_hand']]\n",
    "    average_severity = np.ceil((right_severity + left_severity) / 2)\n",
    "    return severity_event[average_severity]"
   ]
  },
  {
   "cell_type": "code",
   "execution_count": 5,
   "metadata": {},
   "outputs": [],
   "source": [
    "# Apply the function to the DataFrame\n",
    "df_TAPPING_EVENTS_MOTOR_AREA['CDRS_bilateral_hand']                    = df_TAPPING_EVENTS_MOTOR_AREA.apply(compute_bilateral_hand_severity, axis=1)\n",
    "df_TAPPING_EVENTS_ASSOCIATIVE_AREA['CDRS_bilateral_hand']              = df_TAPPING_EVENTS_ASSOCIATIVE_AREA.apply(compute_bilateral_hand_severity, axis=1)\n",
    "df_TAPPING_EVENTS_LIMBIC_AREA['CDRS_bilateral_hand']                   = df_TAPPING_EVENTS_LIMBIC_AREA.apply(compute_bilateral_hand_severity, axis=1)\n",
    "\n",
    "df_INVOLUNTARY_MOVEMENT_EVENTS_MOTOR_AREA['CDRS_bilateral_hand']       = df_INVOLUNTARY_MOVEMENT_EVENTS_MOTOR_AREA.apply(compute_bilateral_hand_severity, axis=1)\n",
    "df_INVOLUNTARY_MOVEMENT_EVENTS_ASSOCIATIVE_AREA['CDRS_bilateral_hand'] = df_INVOLUNTARY_MOVEMENT_EVENTS_ASSOCIATIVE_AREA.apply(compute_bilateral_hand_severity, axis=1)\n",
    "df_INVOLUNTARY_MOVEMENT_EVENTS_LIMBIC_AREA['CDRS_bilateral_hand']      = df_INVOLUNTARY_MOVEMENT_EVENTS_LIMBIC_AREA.apply(compute_bilateral_hand_severity, axis=1)"
   ]
  },
  {
   "cell_type": "raw",
   "metadata": {},
   "source": [
    "save the updated dataframes as pickles"
   ]
  },
  {
   "cell_type": "code",
   "execution_count": 7,
   "metadata": {},
   "outputs": [],
   "source": [
    "df_TAPPING_EVENTS_MOTOR_AREA.to_pickle(DATA_IO.path_events + \"LFP_TAPPING_EVENTS_MOTOR_AREA.pkl\")\n",
    "df_TAPPING_EVENTS_ASSOCIATIVE_AREA.to_pickle(DATA_IO.path_events + \"LFP_TAPPING_EVENTS_ASSOCIATIVE_AREA.pkl\")\n",
    "df_TAPPING_EVENTS_LIMBIC_AREA.to_pickle(DATA_IO.path_events + \"LFP_TAPPING_EVENTS_LIMBIC_AREA.pkl\")\n",
    "\n",
    "df_INVOLUNTARY_MOVEMENT_EVENTS_MOTOR_AREA.to_pickle(DATA_IO.path_events + \"LFP_INVOLUNTARY_MOVEMENT_EVENTS_MOTOR_AREA.pkl\")\n",
    "df_INVOLUNTARY_MOVEMENT_EVENTS_ASSOCIATIVE_AREA.to_pickle(DATA_IO.path_events + \"LFP_INVOLUNTARY_MOVEMENT_EVENTS_ASSOCIATIVE_AREA.pkl\")\n",
    "df_INVOLUNTARY_MOVEMENT_EVENTS_LIMBIC_AREA.to_pickle(DATA_IO.path_events + \"LFP_INVOLUNTARY_MOVEMENT_EVENTS_LIMBIC_AREA.pkl\")"
   ]
  },
  {
   "cell_type": "code",
   "execution_count": null,
   "metadata": {},
   "outputs": [],
   "source": []
  }
 ],
 "metadata": {
  "kernelspec": {
   "display_name": "Python 3 (ipykernel)",
   "language": "python",
   "name": "python3"
  },
  "language_info": {
   "codemirror_mode": {
    "name": "ipython",
    "version": 3
   },
   "file_extension": ".py",
   "mimetype": "text/x-python",
   "name": "python",
   "nbconvert_exporter": "python",
   "pygments_lexer": "ipython3",
   "version": "3.9.18"
  }
 },
 "nbformat": 4,
 "nbformat_minor": 4
}

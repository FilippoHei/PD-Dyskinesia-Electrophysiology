{
 "cells": [
  {
   "cell_type": "code",
   "execution_count": 1,
   "metadata": {},
   "outputs": [],
   "source": [
    "# Import public packages and functions\n",
    "import os\n",
    "import pandas as pd\n",
    "import numpy as np\n",
    "import sys\n",
    "import json\n",
    "from pathlib import Path\n",
    "\n",
    "import seaborn as sns\n",
    "import matplotlib.pyplot as plt\n",
    "import scikit_posthocs as sp\n",
    "\n",
    "import warnings\n",
    "warnings.filterwarnings(\"ignore\")\n",
    "\n",
    "# inserting the lib folder to the compiler\n",
    "sys.path.insert(0, './lib')\n",
    "sys.path.insert(0, './utils/')\n",
    "\n",
    "import utils_plotting_psd, utils_plotting, utils_psd, utils_io, utils_statistics\n",
    "pd.options.display.float_format = \"{:,.3f}\".format\n",
    "\n",
    "from lib_data import DATA_IO"
   ]
  },
  {
   "cell_type": "code",
   "execution_count": 2,
   "metadata": {},
   "outputs": [],
   "source": [
    "PATH_CURR = os.path.abspath(os.curdir)    # current code\n",
    "PATH      = (str(Path(PATH_CURR).parent)) # data repository: upper directory where datasets situated"
   ]
  },
  {
   "cell_type": "code",
   "execution_count": 3,
   "metadata": {},
   "outputs": [],
   "source": [
    "# load PSD dataframe\n",
    "LFP_PSD_controlateral = utils_io.load_LFP_event_PSD(event_category=\"tapping\", event_laterality=\"controlateral\")\n",
    "LFP_PSD_ipsilateral   = utils_io.load_LFP_event_PSD(event_category=\"tapping\", event_laterality=\"ipsilateral\")"
   ]
  },
  {
   "cell_type": "markdown",
   "metadata": {
    "jp-MarkdownHeadingCollapsed": true
   },
   "source": [
    "# 1. Plotting"
   ]
  },
  {
   "cell_type": "markdown",
   "metadata": {
    "jp-MarkdownHeadingCollapsed": true
   },
   "source": [
    "## 1.1 Controlateral"
   ]
  },
  {
   "cell_type": "code",
   "execution_count": null,
   "metadata": {},
   "outputs": [],
   "source": [
    "utils_plotting_psd.plot_LID_severity_psd(LFP_PSD_controlateral, vmin=-50, vmax=100, segment=\"pre_event\", dyskinesia_strategy=\"dyskinesia_arm\", error_type=\"se\", \n",
    "                                         figure_name=DATA_IO.path_figure + \"LFP-PSD/tapping/controlateral/motor_LID_arm_severity_for_pre_event_segment\")\n",
    "utils_plotting_psd.plot_LID_severity_psd(LFP_PSD_controlateral, vmin=-50, vmax=100, segment=\"event\", dyskinesia_strategy=\"dyskinesia_arm\", error_type=\"se\", \n",
    "                                         figure_name=DATA_IO.path_figure + \"LFP-PSD/tapping/controlateral/motor_LID_arm_severity_for_event_segment\")\n",
    "utils_plotting_psd.plot_LID_severity_psd(LFP_PSD_controlateral, vmin=-50, vmax=100, segment=\"post_event\", dyskinesia_strategy=\"dyskinesia_arm\", error_type=\"se\", \n",
    "                                         figure_name=DATA_IO.path_figure + \"LFP-PSD/tapping/controlateral/motor_LID_arm_severity_for_post_event_segment\")"
   ]
  },
  {
   "cell_type": "markdown",
   "metadata": {},
   "source": [
    "## 1.2 Ipsilateral"
   ]
  },
  {
   "cell_type": "code",
   "execution_count": null,
   "metadata": {},
   "outputs": [],
   "source": [
    "utils_plotting_psd.plot_LID_severity_psd(LFP_PSD_ipsilateral, vmin=-50, vmax=100, segment=\"pre_event\", dyskinesia_strategy=\"dyskinesia_arm\", error_type=\"se\", \n",
    "                                         figure_name=DATA_IO.path_figure + \"LFP-PSD/tapping/ipsilateral/motor_LID_arm_severity_for_pre_event_segment\")\n",
    "utils_plotting_psd.plot_LID_severity_psd(LFP_PSD_ipsilateral, vmin=-50, vmax=100, segment=\"event\", dyskinesia_strategy=\"dyskinesia_arm\", error_type=\"se\", \n",
    "                                         figure_name=DATA_IO.path_figure + \"LFP-PSD/tapping/ipsilateral/motor_LID_arm_severity_for_event_segment\")\n",
    "utils_plotting_psd.plot_LID_severity_psd(LFP_PSD_ipsilateral, vmin=-50, vmax=100, segment=\"post_event\", dyskinesia_strategy=\"dyskinesia_arm\", error_type=\"se\", \n",
    "                                         figure_name=DATA_IO.path_figure + \"LFP-PSD/tapping/ipsilateral/motor_LID_arm_severity_for_post_event_segment\")"
   ]
  },
  {
   "cell_type": "markdown",
   "metadata": {
    "jp-MarkdownHeadingCollapsed": true
   },
   "source": [
    "# 2. Statistical Analyses (Python)"
   ]
  },
  {
   "cell_type": "markdown",
   "metadata": {},
   "source": [
    "## 2.2 Between Dyskinesia Severity Groups For Event Segments"
   ]
  },
  {
   "cell_type": "code",
   "execution_count": 4,
   "metadata": {},
   "outputs": [],
   "source": [
    "LFP_PSD = pd.DataFrame()\n",
    "\n",
    "for severity in LFP_PSD_controlateral.keys():\n",
    "    LFP_PSD = pd.concat([LFP_PSD, LFP_PSD_controlateral[severity]], ignore_index=True)\n",
    "\n",
    "LFP_PSD['grouping_1'] = LFP_PSD['dyskinesia_arm'].map({'none':'A_noLID', 'mild':'B_LID', 'moderate':'B_LID'})\n",
    "LFP_PSD['grouping_2'] = LFP_PSD['dyskinesia_arm']\n",
    "LFP_PSD.loc[(LFP_PSD['event_start_time'] < 30)  & (LFP_PSD['grouping_2'] == \"none\"), 'grouping_2'] = 'noLID_noDOPA'\n",
    "LFP_PSD.loc[(LFP_PSD['event_start_time'] >= 30) & (LFP_PSD['grouping_2'] == \"none\"), 'grouping_2'] = 'noLID_DOPA'\n",
    "LFP_PSD['grouping_3_1'] = LFP_PSD['grouping_2'].map({'noLID_noDOPA':'A_noLID_noDOPA', 'noLID_DOPA':'B_noLID_DOPA', 'mild':'C_mild', 'moderate':'D_moderate'})\n",
    "LFP_PSD['grouping_3_2'] = LFP_PSD['grouping_2'].map({'noLID_noDOPA':'D_noLID_noDOPA', 'noLID_DOPA':'A_noLID_DOPA', 'mild':'B_mild', 'moderate':'C_moderate'})\n",
    "LFP_PSD['grouping_3_3'] = LFP_PSD['grouping_2'].map({'noLID_noDOPA':'C_noLID_noDOPA', 'noLID_DOPA':'D_noLID_DOPA', 'mild':'A_mild', 'moderate':'B_moderate'})\n",
    "LFP_PSD['grouping_2_1'] = LFP_PSD['grouping_2'].map({'noLID_noDOPA':'A_noLID_noDOPA', 'noLID_DOPA':'B_noLID_DOPA', 'mild':'C_LID', 'moderate':'C_LID'})\n",
    "LFP_PSD['grouping_2_2'] = LFP_PSD['grouping_2_1'].map({'A_noLID_noDOPA':'C_noLID_noDOPA', 'B_noLID_DOPA':'A_noLID_DOPA', 'C_LID':'B_LID'})\n",
    "\n",
    "features_pre_event  = ['pre_event_theta_mean', 'pre_event_alpha_mean', 'pre_event_beta_low_mean', 'pre_event_beta_high_mean', 'pre_event_gamma_mean']\n",
    "features_event      = ['event_theta_mean', 'event_alpha_mean', 'event_beta_low_mean', 'event_beta_high_mean', 'event_gamma_mean']\n",
    "features_post_event = ['post_event_theta_mean', 'post_event_alpha_mean', 'post_event_beta_low_mean', 'post_event_beta_high_mean', 'post_event_gamma_mean']"
   ]
  },
  {
   "cell_type": "markdown",
   "metadata": {
    "jp-MarkdownHeadingCollapsed": true
   },
   "source": [
    "### 2.2.1 Pre-Event Segment"
   ]
  },
  {
   "cell_type": "code",
   "execution_count": null,
   "metadata": {},
   "outputs": [],
   "source": [
    "LMM_results = utils_statistics.run_LMM_model(dataset=LFP_PSD, response_variables=features_pre_event, independent_variable=\"grouping_1\", \n",
    "                                             random_effect=\"patient\", random_intercept=True, random_slope=False, constant_variance=False)\n",
    "LMM_results[['feature', 'group_1', 'group_2', 'coefficient', 'p_value']]"
   ]
  },
  {
   "cell_type": "code",
   "execution_count": null,
   "metadata": {},
   "outputs": [],
   "source": [
    "LMM_results_1 = utils_statistics.run_LMM_model(dataset=LFP_PSD, response_variables=features_pre_event, independent_variable=\"grouping_2_1\", \n",
    "                                               random_effect=\"patient\", random_intercept=True, random_slope=False, constant_variance=False)\n",
    "LMM_results_2 = utils_statistics.run_LMM_model(dataset=LFP_PSD, response_variables=features_pre_event, independent_variable=\"grouping_2_2\", \n",
    "                                               random_effect=\"patient\", random_intercept=True, random_slope=False, constant_variance=False)\n",
    "\n",
    "LMM_results_2 = LMM_results_2[(LMM_results_2.group_1==\"A_noLID_DOPA\") & (LMM_results_2.group_2==\"B_LID\")]\n",
    "\n",
    "LMM_results                      = pd.concat([LMM_results_1, LMM_results_2], ignore_index=True)\n",
    "\n",
    "LMM_results[\"p_value_corrected\"] = utils_statistics.apply_multiple_correction(LMM_results.p_value.to_list(), correction_method=\"holm\")\n",
    "LMM_results[['feature', 'group_1', 'group_2', 'coefficient', 'p_value_corrected']]"
   ]
  },
  {
   "cell_type": "code",
   "execution_count": 27,
   "metadata": {},
   "outputs": [
    {
     "name": "stdout",
     "output_type": "stream",
     "text": [
      "Linear Mixed Effect Model Started\n",
      "------------------------------------------------------------------\n",
      "--> independent variable : grouping_3_1\n",
      "--> groups               : A_noLID_noDOPA, B_noLID_DOPA, C_mild, D_moderate\n",
      "--> random effect        : patient\n",
      "--> random intercept     : True\n",
      "--> random slope         : False\n",
      "------------------------------------------------------------------\n",
      "--> response variable    : pre_event_theta_mean\n",
      "--> response variable    : pre_event_alpha_mean\n",
      "--> response variable    : pre_event_beta_low_mean\n",
      "--> response variable    : pre_event_beta_high_mean\n",
      "--> response variable    : pre_event_gamma_mean\n",
      "------------------------------------------------------------------\n",
      "------------------------------------------------------------------\n",
      "------------------------------------------------------------------\n",
      "Linear Mixed Effect Model Started\n",
      "------------------------------------------------------------------\n",
      "--> independent variable : grouping_3_2\n",
      "--> groups               : A_noLID_DOPA, B_mild, C_moderate, D_noLID_noDOPA\n",
      "--> random effect        : patient\n",
      "--> random intercept     : True\n",
      "--> random slope         : False\n",
      "------------------------------------------------------------------\n",
      "--> response variable    : pre_event_theta_mean\n",
      "--> response variable    : pre_event_alpha_mean\n",
      "--> response variable    : pre_event_beta_low_mean\n",
      "--> response variable    : pre_event_beta_high_mean\n",
      "--> response variable    : pre_event_gamma_mean\n",
      "------------------------------------------------------------------\n",
      "------------------------------------------------------------------\n",
      "------------------------------------------------------------------\n",
      "Linear Mixed Effect Model Started\n",
      "------------------------------------------------------------------\n",
      "--> independent variable : grouping_3_3\n",
      "--> groups               : A_mild, B_moderate, C_noLID_noDOPA, D_noLID_DOPA\n",
      "--> random effect        : patient\n",
      "--> random intercept     : True\n",
      "--> random slope         : False\n",
      "------------------------------------------------------------------\n",
      "--> response variable    : pre_event_theta_mean\n",
      "--> response variable    : pre_event_alpha_mean\n",
      "--> response variable    : pre_event_beta_low_mean\n",
      "--> response variable    : pre_event_beta_high_mean\n",
      "--> response variable    : pre_event_gamma_mean\n",
      "------------------------------------------------------------------\n",
      "------------------------------------------------------------------\n",
      "------------------------------------------------------------------\n"
     ]
    }
   ],
   "source": [
    "LMM_results_1 = utils_statistics.run_LMM_model(dataset=LFP_PSD, response_variables=features_pre_event, independent_variable=\"grouping_3_1\", \n",
    "                                               random_effect=\"patient\", random_intercept=True, random_slope=False, constant_variance=True)\n",
    "LMM_results_2 = utils_statistics.run_LMM_model(dataset=LFP_PSD, response_variables=features_pre_event, independent_variable=\"grouping_3_2\", \n",
    "                                               random_effect=\"patient\", random_intercept=True, random_slope=False, constant_variance=True)\n",
    "LMM_results_3 = utils_statistics.run_LMM_model(dataset=LFP_PSD, response_variables=features_pre_event, independent_variable=\"grouping_3_3\", \n",
    "                                               random_effect=\"patient\", random_intercept=True, random_slope=False, constant_variance=True)\n",
    " \n",
    "LMM_results_2         = LMM_results_2[(LMM_results_2.group_1==\"A_noLID_DOPA\") & ((LMM_results_2.group_2==\"B_mild\") | (LMM_results_2.group_2==\"C_moderate\"))]\n",
    "LMM_results_3         = LMM_results_3[(LMM_results_3.group_1==\"A_mild\") & (LMM_results_3.group_2==\"B_moderate\")]\n",
    "LMM_results_pre_event = pd.concat([LMM_results_1, LMM_results_2, LMM_results_3], ignore_index=True)\n",
    "\n",
    "LMM_results_pre_event[\"group_1\"] = LMM_results_pre_event[\"group_1\"] .map({'A_noLID_noDOPA':'noLID_noDOPA', 'A_noLID_DOPA':'noLID_DOPA', 'A_mild':'mild'})\n",
    "LMM_results_pre_event[\"group_2\"] = LMM_results_pre_event[\"group_2\"] .map({'B_noLID_DOPA':'noLID_DOPA', 'C_mild':'mild', 'D_moderate':'moderate',\n",
    "                                                                          'B_mild':'mild', 'C_moderate':'moderate', 'B_moderate':'moderate'})\n",
    "\n",
    "LMM_results_pre_event['p_value_corrected'] = LMM_results_pre_event.groupby('feature')['p_value'].transform(lambda x: utils_statistics.apply_multiple_correction(x, 'fdr_bh')) # correction within frequency band\n",
    "#LMM_results_pre_event[\"p_value_corrected\"] = utils_statistics.apply_multiple_correction(LMM_results_pre_event.p_value, correction_method='bonferroni')"
   ]
  },
  {
   "cell_type": "markdown",
   "metadata": {},
   "source": [
    "### 2.2.2 Event Segment"
   ]
  },
  {
   "cell_type": "code",
   "execution_count": 29,
   "metadata": {},
   "outputs": [
    {
     "name": "stdout",
     "output_type": "stream",
     "text": [
      "Linear Mixed Effect Model Started\n",
      "------------------------------------------------------------------\n",
      "--> independent variable : grouping_3_1\n",
      "--> groups               : A_noLID_noDOPA, B_noLID_DOPA, C_mild, D_moderate\n",
      "--> random effect        : patient\n",
      "--> random intercept     : True\n",
      "--> random slope         : False\n",
      "------------------------------------------------------------------\n",
      "--> response variable    : event_theta_mean\n",
      "--> response variable    : event_alpha_mean\n",
      "--> response variable    : event_beta_low_mean\n",
      "--> response variable    : event_beta_high_mean\n",
      "--> response variable    : event_gamma_mean\n",
      "------------------------------------------------------------------\n",
      "------------------------------------------------------------------\n",
      "------------------------------------------------------------------\n",
      "Linear Mixed Effect Model Started\n",
      "------------------------------------------------------------------\n",
      "--> independent variable : grouping_3_2\n",
      "--> groups               : A_noLID_DOPA, B_mild, C_moderate, D_noLID_noDOPA\n",
      "--> random effect        : patient\n",
      "--> random intercept     : True\n",
      "--> random slope         : False\n",
      "------------------------------------------------------------------\n",
      "--> response variable    : event_theta_mean\n",
      "--> response variable    : event_alpha_mean\n",
      "--> response variable    : event_beta_low_mean\n",
      "--> response variable    : event_beta_high_mean\n",
      "--> response variable    : event_gamma_mean\n",
      "------------------------------------------------------------------\n",
      "------------------------------------------------------------------\n",
      "------------------------------------------------------------------\n",
      "Linear Mixed Effect Model Started\n",
      "------------------------------------------------------------------\n",
      "--> independent variable : grouping_3_3\n",
      "--> groups               : A_mild, B_moderate, C_noLID_noDOPA, D_noLID_DOPA\n",
      "--> random effect        : patient\n",
      "--> random intercept     : True\n",
      "--> random slope         : False\n",
      "------------------------------------------------------------------\n",
      "--> response variable    : event_theta_mean\n",
      "--> response variable    : event_alpha_mean\n",
      "--> response variable    : event_beta_low_mean\n",
      "--> response variable    : event_beta_high_mean\n",
      "--> response variable    : event_gamma_mean\n",
      "------------------------------------------------------------------\n",
      "------------------------------------------------------------------\n",
      "------------------------------------------------------------------\n"
     ]
    }
   ],
   "source": [
    "LMM_results_1 = utils_statistics.run_LMM_model(dataset=LFP_PSD, response_variables=features_event, independent_variable=\"grouping_3_1\", \n",
    "                                               random_effect=\"patient\", random_intercept=True, random_slope=False, constant_variance=True)\n",
    "LMM_results_2 = utils_statistics.run_LMM_model(dataset=LFP_PSD, response_variables=features_event, independent_variable=\"grouping_3_2\", \n",
    "                                               random_effect=\"patient\", random_intercept=True, random_slope=False, constant_variance=True)\n",
    "LMM_results_3 = utils_statistics.run_LMM_model(dataset=LFP_PSD, response_variables=features_event, independent_variable=\"grouping_3_3\", \n",
    "                                               random_effect=\"patient\", random_intercept=True, random_slope=False, constant_variance=True)\n",
    " \n",
    "LMM_results_2     = LMM_results_2[(LMM_results_2.group_1==\"A_noLID_DOPA\") & ((LMM_results_2.group_2==\"B_mild\") | (LMM_results_2.group_2==\"C_moderate\"))]\n",
    "LMM_results_3     = LMM_results_3[(LMM_results_3.group_1==\"A_mild\") & (LMM_results_3.group_2==\"B_moderate\")]\n",
    "LMM_results_event = pd.concat([LMM_results_1, LMM_results_2, LMM_results_3], ignore_index=True)\n",
    "\n",
    "LMM_results_event[\"group_1\"] = LMM_results_event[\"group_1\"] .map({'A_noLID_noDOPA':'noLID_noDOPA', 'A_noLID_DOPA':'noLID_DOPA', 'A_mild':'mild'})\n",
    "LMM_results_event[\"group_2\"] = LMM_results_event[\"group_2\"] .map({'B_noLID_DOPA':'noLID_DOPA', 'C_mild':'mild', 'D_moderate':'moderate',\n",
    "                                                                          'B_mild':'mild', 'C_moderate':'moderate', 'B_moderate':'moderate'})\n",
    "\n",
    "LMM_results_event['p_value_corrected'] = LMM_results_event.groupby('feature')['p_value'].transform(lambda x: utils_statistics.apply_multiple_correction(x, 'fdr_bh')) # correction within frequency band\n",
    "#LMM_results_event[\"p_value_corrected\"] = utils_statistics.apply_multiple_correction(LMM_results_event.p_value, correction_method='bonferroni')"
   ]
  },
  {
   "cell_type": "markdown",
   "metadata": {
    "jp-MarkdownHeadingCollapsed": true
   },
   "source": [
    "### 2.2.3 Post-Event Segment"
   ]
  },
  {
   "cell_type": "code",
   "execution_count": 31,
   "metadata": {},
   "outputs": [
    {
     "name": "stdout",
     "output_type": "stream",
     "text": [
      "Linear Mixed Effect Model Started\n",
      "------------------------------------------------------------------\n",
      "--> independent variable : grouping_3_1\n",
      "--> groups               : A_noLID_noDOPA, B_noLID_DOPA, C_mild, D_moderate\n",
      "--> random effect        : patient\n",
      "--> random intercept     : True\n",
      "--> random slope         : False\n",
      "------------------------------------------------------------------\n",
      "--> response variable    : post_event_theta_mean\n",
      "--> response variable    : post_event_alpha_mean\n",
      "--> response variable    : post_event_beta_low_mean\n",
      "--> response variable    : post_event_beta_high_mean\n",
      "--> response variable    : post_event_gamma_mean\n",
      "------------------------------------------------------------------\n",
      "------------------------------------------------------------------\n",
      "------------------------------------------------------------------\n",
      "Linear Mixed Effect Model Started\n",
      "------------------------------------------------------------------\n",
      "--> independent variable : grouping_3_2\n",
      "--> groups               : A_noLID_DOPA, B_mild, C_moderate, D_noLID_noDOPA\n",
      "--> random effect        : patient\n",
      "--> random intercept     : True\n",
      "--> random slope         : False\n",
      "------------------------------------------------------------------\n",
      "--> response variable    : post_event_theta_mean\n",
      "--> response variable    : post_event_alpha_mean\n",
      "--> response variable    : post_event_beta_low_mean\n",
      "--> response variable    : post_event_beta_high_mean\n",
      "--> response variable    : post_event_gamma_mean\n",
      "------------------------------------------------------------------\n",
      "------------------------------------------------------------------\n",
      "------------------------------------------------------------------\n",
      "Linear Mixed Effect Model Started\n",
      "------------------------------------------------------------------\n",
      "--> independent variable : grouping_3_3\n",
      "--> groups               : A_mild, B_moderate, C_noLID_noDOPA, D_noLID_DOPA\n",
      "--> random effect        : patient\n",
      "--> random intercept     : True\n",
      "--> random slope         : False\n",
      "------------------------------------------------------------------\n",
      "--> response variable    : post_event_theta_mean\n",
      "--> response variable    : post_event_alpha_mean\n",
      "--> response variable    : post_event_beta_low_mean\n",
      "--> response variable    : post_event_beta_high_mean\n",
      "--> response variable    : post_event_gamma_mean\n",
      "------------------------------------------------------------------\n",
      "------------------------------------------------------------------\n",
      "------------------------------------------------------------------\n"
     ]
    }
   ],
   "source": [
    "LMM_results_1 = utils_statistics.run_LMM_model(dataset=LFP_PSD, response_variables=features_post_event, independent_variable=\"grouping_3_1\", \n",
    "                                               random_effect=\"patient\", random_intercept=True, random_slope=False, constant_variance=True)\n",
    "LMM_results_2 = utils_statistics.run_LMM_model(dataset=LFP_PSD, response_variables=features_post_event, independent_variable=\"grouping_3_2\", \n",
    "                                               random_effect=\"patient\", random_intercept=True, random_slope=False, constant_variance=True)\n",
    "LMM_results_3 = utils_statistics.run_LMM_model(dataset=LFP_PSD, response_variables=features_post_event, independent_variable=\"grouping_3_3\", \n",
    "                                               random_effect=\"patient\", random_intercept=True, random_slope=False, constant_variance=True)\n",
    " \n",
    "LMM_results_2         = LMM_results_2[(LMM_results_2.group_1==\"A_noLID_DOPA\") & ((LMM_results_2.group_2==\"B_mild\") | (LMM_results_2.group_2==\"C_moderate\"))]\n",
    "LMM_results_3         = LMM_results_3[(LMM_results_3.group_1==\"A_mild\") & (LMM_results_3.group_2==\"B_moderate\")]\n",
    "LMM_results_post_event = pd.concat([LMM_results_1, LMM_results_2, LMM_results_3], ignore_index=True)\n",
    "\n",
    "LMM_results_post_event[\"group_1\"] = LMM_results_post_event[\"group_1\"] .map({'A_noLID_noDOPA':'noLID_noDOPA', 'A_noLID_DOPA':'noLID_DOPA', 'A_mild':'mild'})\n",
    "LMM_results_post_event[\"group_2\"] = LMM_results_post_event[\"group_2\"] .map({'B_noLID_DOPA':'noLID_DOPA', 'C_mild':'mild', 'D_moderate':'moderate',\n",
    "                                                                          'B_mild':'mild', 'C_moderate':'moderate', 'B_moderate':'moderate'})\n",
    "\n",
    "LMM_results_post_event['p_value_corrected'] = LMM_results_post_event.groupby('feature')['p_value'].transform(lambda x: utils_statistics.apply_multiple_correction(x, 'fdr_bh')) # correction within frequency band\n",
    "#LMM_results_post_event[\"p_value_corrected\"] = utils_statistics.apply_multiple_correction(LMM_results_post_event.p_value, correction_method='bonferroni')"
   ]
  },
  {
   "cell_type": "markdown",
   "metadata": {},
   "source": [
    "### Plotting"
   ]
  },
  {
   "cell_type": "code",
   "execution_count": 33,
   "metadata": {},
   "outputs": [
    {
     "data": {
      "text/plain": [
       "<Figure size 640x480 with 0 Axes>"
      ]
     },
     "metadata": {},
     "output_type": "display_data"
    },
    {
     "data": {
      "image/png": "[encoded data removed]",
      "text/plain": [
       "<Figure size 728.346x826.772 with 3 Axes>"
      ]
     },
     "metadata": {},
     "output_type": "display_data"
    },
    {
     "data": {
      "text/plain": [
       "<Figure size 640x480 with 0 Axes>"
      ]
     },
     "metadata": {},
     "output_type": "display_data"
    },
    {
     "data": {
      "image/png": "[encoded data removed]",
      "text/plain": [
       "<Figure size 728.346x826.772 with 3 Axes>"
      ]
     },
     "metadata": {},
     "output_type": "display_data"
    },
    {
     "data": {
      "text/plain": [
       "<Figure size 640x480 with 0 Axes>"
      ]
     },
     "metadata": {},
     "output_type": "display_data"
    },
    {
     "data": {
      "image/png": "[encoded data removed]",
      "text/plain": [
       "<Figure size 728.346x826.772 with 3 Axes>"
      ]
     },
     "metadata": {},
     "output_type": "display_data"
    }
   ],
   "source": [
    "plt = utils_plotting.get_figure_template()\n",
    "ax  = plt.subplot2grid((77, 66), (0, 0) , colspan=24, rowspan=11)\n",
    "ax  = utils_plotting.plot_coefficient_heatmap(LMM_results_pre_event, features_pre_event, alpha=0.05, ax=ax)\n",
    "plt.savefig(DATA_IO.path_figure + \"statistics/motor_STN_pre_event_segment.svg\", dpi=300)\n",
    "\n",
    "plt = utils_plotting.get_figure_template()\n",
    "ax  = plt.subplot2grid((77, 66), (0, 0) , colspan=24, rowspan=11)\n",
    "ax  = utils_plotting.plot_coefficient_heatmap(LMM_results_event, features_event, alpha=0.05, ax=ax)\n",
    "plt.savefig(DATA_IO.path_figure + \"statistics/motor_STN_event_segment.svg\", dpi=300)\n",
    "\n",
    "plt = utils_plotting.get_figure_template()\n",
    "ax  = plt.subplot2grid((77, 66), (0, 0) , colspan=24, rowspan=11)\n",
    "ax  = utils_plotting.plot_coefficient_heatmap(LMM_results_post_event, features_post_event, alpha=0.05, ax=ax)\n",
    "plt.savefig(DATA_IO.path_figure + \"statistics/motor_STN_post_event_segment.svg\", dpi=300)"
   ]
  },
  {
   "cell_type": "code",
   "execution_count": 46,
   "metadata": {},
   "outputs": [],
   "source": [
    "LFP_PSD[\"severity\"] = LFP_PSD.grouping_2"
   ]
  },
  {
   "cell_type": "code",
   "execution_count": 58,
   "metadata": {},
   "outputs": [],
   "source": [
    "LFP_PSD[['patient','severity','pre_event_theta_mean','pre_event_alpha_mean','pre_event_beta_low_mean','pre_event_beta_high_mean','pre_event_gamma_mean',\n",
    "         'event_theta_mean','event_alpha_mean','event_beta_low_mean','event_beta_high_mean','event_gamma_mean',\n",
    "         'post_event_theta_mean','post_event_alpha_mean','post_event_beta_low_mean','post_event_beta_high_mean','post_event_gamma_mean']].to_csv(\"LFP_PSD.csv\", index=False)"
   ]
  },
  {
   "cell_type": "markdown",
   "metadata": {},
   "source": [
    "## 2.3 Within Dyskinesia Severity Groups"
   ]
  },
  {
   "cell_type": "code",
   "execution_count": null,
   "metadata": {},
   "outputs": [],
   "source": [
    "# make a compact version\n",
    "\n",
    "theta = LFP_PSD.pre_event_theta_mean.to_list()\n",
    "theta.extend(LFP_PSD.event_theta_mean.to_list())\n",
    "theta.extend(LFP_PSD.post_event_theta_mean.to_list())\n",
    "\n",
    "alpha = LFP_PSD.pre_event_alpha_mean.to_list()\n",
    "alpha.extend(LFP_PSD.event_alpha_mean.to_list())\n",
    "alpha.extend(LFP_PSD.post_event_alpha_mean.to_list())\n",
    "\n",
    "beta_low = LFP_PSD.pre_event_beta_low_mean.to_list()\n",
    "beta_low.extend(LFP_PSD.event_beta_low_mean.to_list())\n",
    "beta_low.extend(LFP_PSD.post_event_beta_low_mean.to_list())\n",
    "\n",
    "beta_high = LFP_PSD.pre_event_beta_high_mean.to_list()\n",
    "beta_high.extend(LFP_PSD.event_beta_high_mean.to_list())\n",
    "beta_high.extend(LFP_PSD.post_event_beta_high_mean.to_list())\n",
    "\n",
    "gamma  = LFP_PSD.pre_event_gamma_mean.to_list()\n",
    "gamma.extend(LFP_PSD.event_gamma_mean.to_list())\n",
    "gamma.extend(LFP_PSD.event_gamma_mean.to_list())\n",
    "\n",
    "segment = [\"pre_event\"] * len(LFP_PSD)\n",
    "segment.extend([\"event\"] * len(LFP_PSD))\n",
    "segment.extend([\"post_event\"] * len(LFP_PSD))\n",
    "\n",
    "LFP_PSD_compact                   = pd.DataFrame()\n",
    "LFP_PSD_compact['patient']        = LFP_PSD['patient'].to_list() * 3\n",
    "LFP_PSD_compact['event_no']       = LFP_PSD['event_no'].to_list() * 3\n",
    "LFP_PSD_compact['grouping_1']     = LFP_PSD['grouping_1'].to_list() * 3\n",
    "LFP_PSD_compact['grouping_2']     = LFP_PSD['grouping_2'].to_list() * 3\n",
    "LFP_PSD_compact['grouping_3']     = LFP_PSD['grouping_3_1'].to_list() * 3\n",
    "LFP_PSD_compact['segment']        = segment\n",
    "LFP_PSD_compact['theta_mean']     = theta\n",
    "LFP_PSD_compact['alpha_mean']     = alpha\n",
    "\n",
    "LFP_PSD_compact['beta_low_mean']  = beta_low\n",
    "LFP_PSD_compact['beta_high_mean'] = beta_high\n",
    "LFP_PSD_compact['gamma_mean']     = gamma\n",
    "\n",
    "LFP_PSD_compact['segment_1']      = LFP_PSD_compact['segment'].map({'pre_event':'A_pre_event', 'event':'B_event', 'post_event':'C_post_event'})\n",
    "LFP_PSD_compact['segment_2']      = LFP_PSD_compact['segment'].map({'pre_event':'C_pre_event', 'event':'A_event', 'post_event':'B_post_event'})"
   ]
  },
  {
   "cell_type": "markdown",
   "metadata": {},
   "source": [
    "### 2.3.1 NoLID NoDOPA"
   ]
  },
  {
   "cell_type": "code",
   "execution_count": null,
   "metadata": {},
   "outputs": [],
   "source": [
    "LMM_results_1 = utils_statistics.run_LMM_model(dataset=LFP_PSD_compact[LFP_PSD_compact.grouping_3==\"A_noLID_noDOPA\"], \n",
    "                                               response_variables=[\"theta_mean\",\"alpha_mean\", \"beta_low_mean\", \"beta_high_mean\", \"gamma_mean\"], \n",
    "                                               independent_variable=\"segment_1\", random_effect=\"patient\", \n",
    "                                               random_intercept=True, random_slope=True)\n",
    "\n",
    "print(\"------------------------------------------------------------------\")\n",
    "print(\"\")\n",
    "print(\"------------------------------------------------------------------\")\n",
    "LMM_results_2 = utils_statistics.run_LMM_model(dataset=LFP_PSD_compact[(LFP_PSD_compact.grouping_3==\"A_noLID_noDOPA\")], \n",
    "                                               response_variables=[\"theta_mean\",\"alpha_mean\", \"beta_low_mean\", \"beta_high_mean\", \"gamma_mean\"], \n",
    "                                               independent_variable=\"segment_2\", random_effect=\"patient\", \n",
    "                                               random_intercept=True, random_slope=True)\n",
    "\n",
    "LMM_results_2                                 = LMM_results_2[(LMM_results_2.group_1 == \"A_event\") & (LMM_results_2.group_2 == \"B_post_event\")]\n",
    "LMM_results_noLID_noDOPA                      = pd.concat([LMM_results_1, LMM_results_2], ignore_index=True)\n",
    "LMM_results_noLID_noDOPA[\"p_value_corrected\"] = utils_statistics.apply_multiple_correction(LMM_results_noLID_noDOPA.p_value, correction_method='holm')\n",
    "LMM_results_noLID_noDOPA"
   ]
  },
  {
   "cell_type": "markdown",
   "metadata": {},
   "source": [
    "### 2.3.2 NoLID DOPA"
   ]
  },
  {
   "cell_type": "code",
   "execution_count": null,
   "metadata": {},
   "outputs": [],
   "source": [
    "LMM_results_1 = utils_statistics.run_LMM_model(dataset=LFP_PSD_compact[LFP_PSD_compact.grouping_3==\"B_noLID_DOPA\"], \n",
    "                                               response_variables=[\"theta_mean\",\"alpha_mean\", \"beta_low_mean\", \"beta_high_mean\", \"gamma_mean\"], \n",
    "                                               independent_variable=\"segment_1\", random_effect=\"patient\", \n",
    "                                               random_intercept=True, random_slope=True)\n",
    "\n",
    "print(\"------------------------------------------------------------------\")\n",
    "print(\"\")\n",
    "print(\"------------------------------------------------------------------\")\n",
    "LMM_results_2 = utils_statistics.run_LMM_model(dataset=LFP_PSD_compact[LFP_PSD_compact.grouping_3==\"B_noLID_DOPA\"], \n",
    "                                               response_variables=[\"theta_mean\",\"alpha_mean\", \"beta_low_mean\", \"beta_high_mean\", \"gamma_mean\"], \n",
    "                                               independent_variable=\"segment_2\", random_effect=\"patient\", \n",
    "                                               random_intercept=True, random_slope=True)\n",
    "\n",
    "LMM_results_2                               = LMM_results_2[(LMM_results_2.group_1 == \"A_event\") & (LMM_results_2.group_2 == \"B_post_event\")]\n",
    "LMM_results_noLID_DOPA                      = pd.concat([LMM_results_1, LMM_results_2], ignore_index=True)\n",
    "LMM_results_noLID_DOPA[\"p_value_corrected\"] = utils_statistics.apply_multiple_correction(LMM_results_noLID_DOPA.p_value, correction_method='holm')\n",
    "\n",
    "LMM_results_noLID_DOPA"
   ]
  },
  {
   "cell_type": "markdown",
   "metadata": {},
   "source": [
    "### 2.3.3 Mild"
   ]
  },
  {
   "cell_type": "code",
   "execution_count": null,
   "metadata": {},
   "outputs": [],
   "source": [
    "LMM_results_1 = utils_statistics.run_LMM_model(dataset=LFP_PSD_compact[LFP_PSD_compact.grouping_3==\"C_mild\"], \n",
    "                                               response_variables=[\"theta_mean\",\"alpha_mean\", \"beta_low_mean\", \"beta_high_mean\", \"gamma_mean\"], \n",
    "                                               independent_variable=\"segment_1\", random_effect=\"patient\", \n",
    "                                               random_intercept=True, random_slope=True)\n",
    "\n",
    "print(\"------------------------------------------------------------------\")\n",
    "print(\"\")\n",
    "print(\"------------------------------------------------------------------\")\n",
    "LMM_results_2 = utils_statistics.run_LMM_model(dataset=LFP_PSD_compact[LFP_PSD_compact.grouping_3==\"C_mild\"], \n",
    "                                               response_variables=[\"theta_mean\",\"alpha_mean\", \"beta_low_mean\", \"beta_high_mean\", \"gamma_mean\"], \n",
    "                                               independent_variable=\"segment_2\", random_effect=\"patient\", \n",
    "                                               random_intercept=True, random_slope=True)\n",
    "\n",
    "LMM_results_2                         = LMM_results_2[(LMM_results_2.group_1 == \"A_event\") & (LMM_results_2.group_2 == \"B_post_event\")]\n",
    "LMM_results_mild                      = pd.concat([LMM_results_1, LMM_results_2], ignore_index=True)\n",
    "LMM_results_mild[\"p_value_corrected\"] = utils_statistics.apply_multiple_correction(LMM_results_mild.p_value, correction_method='bonferroni')\n",
    "\n",
    "LMM_results_mild"
   ]
  },
  {
   "cell_type": "markdown",
   "metadata": {},
   "source": [
    "### 2.3.3 Moderate"
   ]
  },
  {
   "cell_type": "code",
   "execution_count": null,
   "metadata": {},
   "outputs": [],
   "source": [
    "LMM_results_1 = utils_statistics.run_LMM_model(dataset=LFP_PSD_compact[LFP_PSD_compact.grouping_3==\"D_moderate\"], \n",
    "                                               response_variables=[\"theta_mean\",\"alpha_mean\", \"beta_low_mean\", \"beta_high_mean\", \"gamma_mean\"], \n",
    "                                               independent_variable=\"segment_1\", random_effect=\"patient\", \n",
    "                                               random_intercept=True, random_slope=False)\n",
    "\n",
    "print(\"------------------------------------------------------------------\")\n",
    "print(\"\")\n",
    "print(\"------------------------------------------------------------------\")\n",
    "LMM_results_2 = utils_statistics.run_LMM_model(dataset=LFP_PSD_compact[LFP_PSD_compact.grouping_3==\"D_moderate\"], \n",
    "                                               response_variables=[\"theta_mean\",\"alpha_mean\", \"beta_low_mean\", \"beta_high_mean\", \"gamma_mean\"], \n",
    "                                               independent_variable=\"segment_2\", random_effect=\"patient\", \n",
    "                                               random_intercept=True, random_slope=False)\n",
    "\n",
    "LMM_results_2                             = LMM_results_2[(LMM_results_2.group_1 == \"A_event\") & (LMM_results_2.group_2 == \"B_post_event\")]\n",
    "LMM_results_moderate                      = pd.concat([LMM_results_1, LMM_results_2], ignore_index=True)\n",
    "LMM_results_moderate[\"p_value_corrected\"] = utils_statistics.apply_multiple_correction(LMM_results_moderate.p_value, correction_method='bonferroni')\n",
    "\n",
    "LMM_results_moderate"
   ]
  },
  {
   "cell_type": "markdown",
   "metadata": {
    "jp-MarkdownHeadingCollapsed": true
   },
   "source": [
    "## 2.4 Consider Dyskinesia Severity + Event Segment Interaction (Similar to Two-Way Anova)"
   ]
  },
  {
   "cell_type": "code",
   "execution_count": null,
   "metadata": {},
   "outputs": [],
   "source": [
    "results_1 = utils_statistics.run_LMM_model_with_interaction(dataset=LFP_PSD_compact, \n",
    "                                                            response_variables=['theta_mean', 'alpha_mean', 'beta_low_mean', 'beta_high_mean','gamma_mean'], \n",
    "                                                            independed_variable=\"grouping_2\", block_variable=\"segment_1\", random_effect=\"patient\", \n",
    "                                                            random_intercept=True, random_slope=True)\n",
    "results_2 = utils_statistics.run_LMM_model_with_interaction(dataset=LFP_PSD_compact, \n",
    "                                                            response_variables=['theta_mean', 'alpha_mean', 'beta_low_mean', 'beta_high_mean','gamma_mean'], \n",
    "                                                            independed_variable=\"grouping_3\", block_variable=\"segment_1\", random_effect=\"patient\", \n",
    "                                                            random_intercept=True, random_slope=True)\n",
    "\n",
    "results_2 = results_2[(results_2.reference_severity==\"A_mild\") & (results_2.comparison_severity==\"B_moderate\")]\n",
    "results                      = pd.concat([results_1, results_2], ignore_index=True)\n",
    "results[\"p_value_corrected\"] = utils_statistics.apply_multiple_correction(results.p_value, correction_method='fdr_bh')"
   ]
  },
  {
   "cell_type": "code",
   "execution_count": null,
   "metadata": {},
   "outputs": [],
   "source": [
    "results[['feature', 'reference_severity', 'reference_segment',\n",
    "       'comparison_severity', 'comparison_segment', 'coefficient','p_value_corrected']]"
   ]
  },
  {
   "cell_type": "markdown",
   "metadata": {},
   "source": [
    "# 3. Statistical Analyses (Matlab Results)"
   ]
  },
  {
   "cell_type": "code",
   "execution_count": 165,
   "metadata": {},
   "outputs": [],
   "source": [
    "LMM_result = pd.read_csv(DATA_IO.path_events + \"lmm/lmm_comparison_ECOG.csv\")\n",
    "\n",
    "LMM_result = LMM_result[~(((LMM_result.reference_group==\"mild\") & ((LMM_result.comparison_group==\"noLID_noDOPA\") | (LMM_result.comparison_group==\"noLID_DOPA\"))) |\n",
    "                         ((LMM_result.reference_group==\"noLID_DOPA\") & (LMM_result.comparison_group==\"noLID_noDOPA\")))]\n",
    "\n",
    "features_pre_event     = ['pre_event_theta_mean', 'pre_event_alpha_mean', 'pre_event_beta_low_mean', 'pre_event_beta_high_mean', 'pre_event_gamma_mean']\n",
    "features_event         = ['event_theta_mean', 'event_alpha_mean', 'event_beta_low_mean', 'event_beta_high_mean', 'event_gamma_mean']\n",
    "features_post_event    = ['post_event_theta_mean', 'post_event_alpha_mean', 'post_event_beta_low_mean', 'post_event_beta_high_mean', 'post_event_gamma_mean']\n",
    "\n",
    "LMM_results_pre_event  = LMM_result[LMM_result.feature.isin(features_pre_event)]\n",
    "LMM_results_event      = LMM_result[LMM_result.feature.isin(features_event)]\n",
    "LMM_results_post_event = LMM_result[LMM_result.feature.isin(features_post_event)]\n",
    "\n",
    "LMM_results_pre_event[\"p_value_corrected\"]  = LMM_results_pre_event.groupby('feature')['p_value'].transform(lambda x: utils_statistics.apply_multiple_correction(x, 'fdr_bh'))\n",
    "LMM_results_event[\"p_value_corrected\"]      = LMM_results_event.groupby('feature')['p_value'].transform(lambda x: utils_statistics.apply_multiple_correction(x, 'fdr_bh'))\n",
    "LMM_results_post_event[\"p_value_corrected\"] = LMM_results_post_event.groupby('feature')['p_value'].transform(lambda x: utils_statistics.apply_multiple_correction(x, 'fdr_bh'))\n",
    "\n",
    "LMM_results_pre_event[\"group_1\"]  = LMM_results_pre_event.reference_group\n",
    "LMM_results_pre_event[\"group_2\"]  = LMM_results_pre_event.comparison_group\n",
    "\n",
    "LMM_results_event[\"group_1\"]      = LMM_results_event.reference_group\n",
    "LMM_results_event[\"group_2\"]      = LMM_results_event.comparison_group\n",
    "\n",
    "LMM_results_post_event[\"group_1\"] = LMM_results_post_event.reference_group\n",
    "LMM_results_post_event[\"group_2\"] = LMM_results_post_event.comparison_group\n",
    "\n",
    "\n",
    "plt = utils_plotting.get_figure_template()\n",
    "ax  = plt.subplot2grid((77, 66), (0, 0) , colspan=24, rowspan=11)\n",
    "ax  = utils_plotting.plot_coefficient_heatmap(LMM_results_pre_event, features_pre_event, alpha=0.05, ax=ax)\n",
    "plt.savefig(DATA_IO.path_figure + \"statistics/motor_STN_pre_event_segment.svg\", dpi=300)\n",
    "\n",
    "plt = utils_plotting.get_figure_template()\n",
    "ax  = plt.subplot2grid((77, 66), (0, 0) , colspan=24, rowspan=11)\n",
    "ax  = utils_plotting.plot_coefficient_heatmap(LMM_results_event, features_event, alpha=0.05, ax=ax)\n",
    "plt.savefig(DATA_IO.path_figure + \"statistics/motor_STN_event_segment.svg\", dpi=300)\n",
    "\n",
    "plt = utils_plotting.get_figure_template()\n",
    "ax  = plt.subplot2grid((77, 66), (0, 0) , colspan=24, rowspan=11)\n",
    "ax  = utils_plotting.plot_coefficient_heatmap(LMM_results_post_event, features_post_event, alpha=0.05, ax=ax)\n",
    "plt.savefig(DATA_IO.path_figure + \"statistics/motor_STN_post_event_segment.svg\", dpi=300)"
   ]
  },
  {
   "cell_type": "code",
   "execution_count": null,
   "metadata": {},
   "outputs": [],
   "source": [
    "sns.pointplot(data=LFP_PSD_compact, x=\"segment\", y=\"theta_mean\", hue=\"grouping_1\", errorbar=('sd', 1),dodge=0.2,\n",
    "              palette = [utils_plotting.colors[\"no_LID\"],utils_plotting.colors['tapping']['severe']])"
   ]
  },
  {
   "cell_type": "code",
   "execution_count": null,
   "metadata": {},
   "outputs": [],
   "source": [
    "sns.pointplot(data=LFP_PSD_compact, x=\"segment\", y=\"alpha_mean\", hue=\"grouping_1\", errorbar=('sd', 1),dodge=0.2,\n",
    "              palette = [utils_plotting.colors[\"no_LID\"],utils_plotting.colors['tapping']['severe']])"
   ]
  },
  {
   "cell_type": "code",
   "execution_count": null,
   "metadata": {},
   "outputs": [],
   "source": [
    "sns.pointplot(data=LFP_PSD_compact, x=\"segment\", y=\"beta_low_mean\", hue=\"grouping_1\", errorbar=('sd', 1),dodge=0.2,\n",
    "              palette = [utils_plotting.colors[\"no_LID\"],utils_plotting.colors['tapping']['severe']])"
   ]
  },
  {
   "cell_type": "code",
   "execution_count": null,
   "metadata": {},
   "outputs": [],
   "source": [
    "sns.pointplot(data=LFP_PSD_compact, x=\"segment\", y=\"beta_high_mean\", hue=\"grouping_1\", errorbar=('sd', 1),dodge=0.2,\n",
    "              palette = [utils_plotting.colors[\"no_LID\"],utils_plotting.colors['tapping']['severe']])"
   ]
  },
  {
   "cell_type": "code",
   "execution_count": null,
   "metadata": {},
   "outputs": [],
   "source": [
    "sns.pointplot(data=LFP_PSD_compact, x=\"segment\", y=\"gamma_mean\", hue=\"grouping_2\", errorbar=('sd', 1),dodge=0.3,\n",
    "              palette = [utils_plotting.colors[\"no_LID\"],utils_plotting.colors['tapping']['mild'],utils_plotting.colors['tapping']['moderate']])"
   ]
  },
  {
   "cell_type": "code",
   "execution_count": null,
   "metadata": {},
   "outputs": [],
   "source": [
    "sns.pointplot(data=LFP_PSD_compact, x=\"segment\", y=\"beta_high_mean\", hue=\"grouping_2\", errorbar=('sd', 1), dodge=0.3,\n",
    "              palette = [utils_plotting.colors[\"no_LID\"],utils_plotting.colors['tapping']['mild'],utils_plotting.colors['tapping']['moderate']])"
   ]
  },
  {
   "cell_type": "code",
   "execution_count": null,
   "metadata": {},
   "outputs": [],
   "source": [
    "sns.pointplot(data=LFP_PSD_compact, x=\"segment\", y=\"beta_low_mean\", hue=\"grouping_2\", \n",
    "              palette = [utils_plotting.colors[\"no_LID\"],utils_plotting.colors['tapping']['mild'],utils_plotting.colors['tapping']['moderate']])"
   ]
  },
  {
   "cell_type": "code",
   "execution_count": null,
   "metadata": {},
   "outputs": [],
   "source": [
    "sns.pointplot(data=LFP_PSD_compact, x=\"segment\", y=\"alpha_mean\", hue=\"grouping_2\", \n",
    "              palette = [utils_plotting.colors[\"no_LID\"],utils_plotting.colors['tapping']['mild'],utils_plotting.colors['tapping']['moderate']])"
   ]
  },
  {
   "cell_type": "code",
   "execution_count": null,
   "metadata": {},
   "outputs": [],
   "source": [
    "sns.pointplot(data=LFP_PSD_compact, x=\"segment\", y=\"theta_mean\", hue=\"grouping_2\", \n",
    "              palette = [utils_plotting.colors[\"no_LID\"],utils_plotting.colors['tapping']['mild'],utils_plotting.colors['tapping']['moderate']])"
   ]
  },
  {
   "cell_type": "code",
   "execution_count": null,
   "metadata": {},
   "outputs": [],
   "source": [
    "import matplotlib.pyplot as plt\n",
    "import numpy as np\n",
    "\n",
    "# Define the fixed effects coefficients and confidence intervals\n",
    "coef_names = [\"Intercept\", \"grouping_2[T.B_mild]\", \"grouping_2[T.C_moderate]\"]\n",
    "coef_values = [-5.747, 22.131, 0.836]\n",
    "conf_intervals = [[-10.292, -1.202], [-14.048, 58.310], [-19.408, 21.079]]\n",
    "\n",
    "# Prepare data for plotting\n",
    "errors = [(coef_values[i] - conf_intervals[i][0], conf_intervals[i][1] - coef_values[i]) for i in range(len(coef_values))]\n",
    "\n",
    "# Plot fixed effects with confidence intervals\n",
    "plt.figure(figsize=(8, 6))\n",
    "plt.errorbar(coef_values, coef_names, xerr=np.array(errors).T, fmt='o', color='blue', ecolor='gray', capsize=5)\n",
    "plt.axvline(x=0, color='red', linestyle='--')  # Line at zero for reference\n",
    "plt.xlabel(\"Coefficient Estimate\")\n",
    "plt.title(\"Fixed Effects Coefficients with 95% Confidence Intervals\")\n",
    "plt.show()"
   ]
  },
  {
   "cell_type": "code",
   "execution_count": null,
   "metadata": {},
   "outputs": [],
   "source": [
    "import pandas as pd\n",
    "import seaborn as sns\n",
    "\n",
    "# Example random effects data for plotting\n",
    "random_effects_data = {\n",
    "    'Group': ['Group1', 'Group2', 'Group3', 'Group4', 'Group5'],\n",
    "    'Random_Effect': [10, -5, 15, -3, 7]\n",
    "}\n",
    "\n",
    "# Convert to DataFrame\n",
    "random_effects_df = pd.DataFrame(random_effects_data)\n",
    "\n",
    "# Plot random effects\n",
    "plt.figure(figsize=(8, 6))\n",
    "sns.barplot(x=\"Random_Effect\", y=\"Group\", data=random_effects_df, color='skyblue')\n",
    "plt.axvline(x=0, color='red', linestyle='--')  # Line at zero for reference\n",
    "plt.xlabel(\"Random Effect Estimate\")\n",
    "plt.title(\"Random Effects by Group\")\n",
    "plt.show()"
   ]
  },
  {
   "cell_type": "code",
   "execution_count": null,
   "metadata": {},
   "outputs": [],
   "source": [
    "# Coefficient results data\n",
    "coef_data = pd.DataFrame({\n",
    "    'Coef': ['Intercept', 'grouping_1[T.B_LID]'],\n",
    "    'Estimate': [215.733, 132.842],\n",
    "    'Std. Error': [156.891, 118.719],\n",
    "    'CI Lower': [-91.768, -99.844],\n",
    "    'CI Upper': [523.234, 365.528]\n",
    "})\n",
    "\n",
    "# Plotting\n",
    "plt.figure(figsize=(8, 5))\n",
    "sns.pointplot(data=coef_data, x='Coef', y='Estimate',join=False,capsize=0.2,color='blue')\n",
    "plt.errorbar(coef_data['Coef'], coef_data['Estimate'], yerr=[coef_data['Estimate'] - coef_data['CI Lower'], coef_data['CI Upper'] - coef_data['Estimate']], fmt='o', color='blue', capsize=4)\n",
    "plt.axhline(0, color='gray', linestyle='--', linewidth=1)\n",
    "plt.ylabel(\"Coefficient Estimate\")\n",
    "plt.title(\"Fixed Effects Coefficients with 95% Confidence Intervals\")\n",
    "plt.show()"
   ]
  },
  {
   "cell_type": "code",
   "execution_count": null,
   "metadata": {},
   "outputs": [],
   "source": []
  }
 ],
 "metadata": {
  "kernelspec": {
   "display_name": "Python 3 (ipykernel)",
   "language": "python",
   "name": "python3"
  },
  "language_info": {
   "codemirror_mode": {
    "name": "ipython",
    "version": 3
   },
   "file_extension": ".py",
   "mimetype": "text/x-python",
   "name": "python",
   "nbconvert_exporter": "python",
   "pygments_lexer": "ipython3",
   "version": "3.9.19"
  }
 },
 "nbformat": 4,
 "nbformat_minor": 4
}

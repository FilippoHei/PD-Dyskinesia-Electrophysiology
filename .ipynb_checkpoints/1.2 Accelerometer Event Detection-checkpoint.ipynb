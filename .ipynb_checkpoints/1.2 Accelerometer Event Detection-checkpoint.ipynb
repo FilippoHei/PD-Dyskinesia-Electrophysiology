{
 "cells": [
  {
   "cell_type": "code",
   "execution_count": 1,
   "metadata": {},
   "outputs": [],
   "source": [
    "# Import public packages and functions\n",
    "import os\n",
    "import pandas as pd\n",
    "import numpy as np\n",
    "import sys\n",
    "import json\n",
    "from pathlib import Path\n",
    "import seaborn as sns\n",
    "\n",
    "# inserting the lib folder to the compiler\n",
    "sys.path.insert(0, './lib')\n",
    "sys.path.insert(0, './utils/')\n",
    "\n",
    "import warnings\n",
    "warnings.filterwarnings(\"ignore\")\n",
    "\n",
    "from lib_event import EVENTS\n",
    "from lib_data import DATA_IO\n",
    "\n",
    "import utils_plotting_accelerometer, utils_misc"
   ]
  },
  {
   "cell_type": "code",
   "execution_count": 2,
   "metadata": {},
   "outputs": [],
   "source": [
    "PATH_CURR   = os.path.abspath(os.curdir)    # current code\n",
    "PATH        = (str(Path(PATH_CURR).parent)) # data repository: upper directory where datasets situated\n",
    "PATH_DATA   = PATH + \"\\\\data\"               # the recordings data directory\n",
    "PATH_EVENTS = PATH + \"\\\\events\"\n",
    "SUB_LIST    = utils_misc.get_SUB_list(PATH_DATA) # get the SUB id list which we have a recording of them"
   ]
  },
  {
   "cell_type": "raw",
   "metadata": {},
   "source": [
    "Events with a duration shorter than 200ms were dropped due to unstable statistics and PSD estimation in further analyses. Additionally, the events in \n",
    "the accelerometer and electrophysiological recordings were separately identified due to the different sampling frequencies."
   ]
  },
  {
   "cell_type": "markdown",
   "metadata": {},
   "source": [
    "# 1. ACCELEROMETER EVENTS"
   ]
  },
  {
   "cell_type": "code",
   "execution_count": 3,
   "metadata": {},
   "outputs": [
    {
     "name": "stdout",
     "output_type": "stream",
     "text": [
      "EVENT HISTORY: SUB-008\n",
      "... loading started\n",
      "... pickle loading: C:\\Users\\a.kaymak\\Desktop\\Papers\\2025 Parkinson STN-DBS Dyskinesia LFP-ECG\\files\\data\\sub-008\\008_mergedData_v4.0_acc_right.P\n",
      "... task periods were defined\n",
      "... events were categorized\n",
      "... dyskinesia evaluation was collected\n",
      "... event loading completed\n",
      "--------------------------------------------------------------------\n",
      "EVENT HISTORY: SUB-009\n",
      "... loading started\n",
      "... pickle loading: C:\\Users\\a.kaymak\\Desktop\\Papers\\2025 Parkinson STN-DBS Dyskinesia LFP-ECG\\files\\data\\sub-009\\009_mergedData_v4.0_acc_right.P\n",
      "... task periods were defined\n",
      "... events were categorized\n",
      "... dyskinesia evaluation was collected\n",
      "... event loading completed\n",
      "--------------------------------------------------------------------\n",
      "EVENT HISTORY: SUB-010\n",
      "... loading started\n",
      "... pickle loading: C:\\Users\\a.kaymak\\Desktop\\Papers\\2025 Parkinson STN-DBS Dyskinesia LFP-ECG\\files\\data\\sub-010\\010_mergedData_v4.0_acc_right.P\n",
      "\n",
      "\t...correct tasks in C:\\Users\\a.kaymak\\Desktop\\Papers\\2025 Parkinson STN-DBS Dyskinesia LFP-ECG\\files\\data\\sub-010\\010_mergedData_v4.0_acc_right.P\n",
      "... task periods were defined\n",
      "... events were categorized\n",
      "... dyskinesia evaluation was collected\n",
      "... event loading completed\n",
      "--------------------------------------------------------------------\n",
      "EVENT HISTORY: SUB-012\n",
      "... loading started\n",
      "... pickle loading: C:\\Users\\a.kaymak\\Desktop\\Papers\\2025 Parkinson STN-DBS Dyskinesia LFP-ECG\\files\\data\\sub-012\\012_mergedData_v4.0_acc_right.P\n",
      "... task periods were defined\n",
      "... events were categorized\n",
      "... dyskinesia evaluation was collected\n",
      "... event loading completed\n",
      "--------------------------------------------------------------------\n",
      "EVENT HISTORY: SUB-013\n",
      "... loading started\n",
      "... pickle loading: C:\\Users\\a.kaymak\\Desktop\\Papers\\2025 Parkinson STN-DBS Dyskinesia LFP-ECG\\files\\data\\sub-013\\013_mergedData_v4.0_acc_right.P\n",
      "... task periods were defined\n",
      "... events were categorized\n",
      "... dyskinesia evaluation was collected\n",
      "... event loading completed\n",
      "--------------------------------------------------------------------\n",
      "EVENT HISTORY: SUB-014\n",
      "... loading started\n",
      "... pickle loading: C:\\Users\\a.kaymak\\Desktop\\Papers\\2025 Parkinson STN-DBS Dyskinesia LFP-ECG\\files\\data\\sub-014\\014_mergedData_v4.0_acc_right.P\n",
      "... task periods were defined\n",
      "... events were categorized\n",
      "... dyskinesia evaluation was collected\n",
      "... event loading completed\n",
      "--------------------------------------------------------------------\n",
      "EVENT HISTORY: SUB-016\n",
      "... loading started\n",
      "... pickle loading: C:\\Users\\a.kaymak\\Desktop\\Papers\\2025 Parkinson STN-DBS Dyskinesia LFP-ECG\\files\\data\\sub-016\\016_mergedData_v4.0_acc_right.P\n",
      "... task periods were defined\n",
      "... events were categorized\n",
      "... dyskinesia evaluation was collected\n",
      "... event loading completed\n",
      "--------------------------------------------------------------------\n",
      "EVENT HISTORY: SUB-017\n",
      "... loading started\n",
      "... pickle loading: C:\\Users\\a.kaymak\\Desktop\\Papers\\2025 Parkinson STN-DBS Dyskinesia LFP-ECG\\files\\data\\sub-017\\017_mergedData_v4.0_acc_right.P\n",
      "... task periods were defined\n",
      "... events were categorized\n",
      "... dyskinesia evaluation was collected\n",
      "... event loading completed\n",
      "--------------------------------------------------------------------\n",
      "EVENT HISTORY: SUB-019\n",
      "... loading started\n",
      "... pickle loading: C:\\Users\\a.kaymak\\Desktop\\Papers\\2025 Parkinson STN-DBS Dyskinesia LFP-ECG\\files\\data\\sub-019\\019_mergedData_v4.0_acc_right.P\n",
      "... task periods were defined\n",
      "... events were categorized\n",
      "... dyskinesia evaluation was collected\n",
      "... event loading completed\n",
      "--------------------------------------------------------------------\n",
      "EVENT HISTORY: SUB-020\n",
      "... loading started\n",
      "... pickle loading: C:\\Users\\a.kaymak\\Desktop\\Papers\\2025 Parkinson STN-DBS Dyskinesia LFP-ECG\\files\\data\\sub-020\\020_mergedData_v4.0_acc_right.P\n",
      "... task periods were defined\n",
      "... events were categorized\n",
      "... dyskinesia evaluation was collected\n",
      "... event loading completed\n",
      "--------------------------------------------------------------------\n",
      "EVENT HISTORY: SUB-021\n",
      "... loading started\n",
      "... pickle loading: C:\\Users\\a.kaymak\\Desktop\\Papers\\2025 Parkinson STN-DBS Dyskinesia LFP-ECG\\files\\data\\sub-021\\021_mergedData_v4.0_acc_right.P\n",
      "... task periods were defined\n",
      "... events were categorized\n",
      "... dyskinesia evaluation was collected\n",
      "... event loading completed\n",
      "--------------------------------------------------------------------\n",
      "EVENT HISTORY: SUB-101\n",
      "... loading started\n",
      "... pickle loading: C:\\Users\\a.kaymak\\Desktop\\Papers\\2025 Parkinson STN-DBS Dyskinesia LFP-ECG\\files\\data\\sub-101\\101_mergedData_v4.0_acc_right.P\n",
      "... task periods were defined\n",
      "... events were categorized\n",
      "... dyskinesia evaluation was collected\n",
      "... event loading completed\n",
      "--------------------------------------------------------------------\n",
      "EVENT HISTORY: SUB-102\n",
      "... loading started\n",
      "... pickle loading: C:\\Users\\a.kaymak\\Desktop\\Papers\\2025 Parkinson STN-DBS Dyskinesia LFP-ECG\\files\\data\\sub-102\\102_mergedData_v4.0_acc_right.P\n",
      "... task periods were defined\n",
      "... events were categorized\n",
      "... dyskinesia evaluation was collected\n",
      "... event loading completed\n",
      "--------------------------------------------------------------------\n",
      "EVENT HISTORY: SUB-103\n",
      "... loading started\n",
      "... pickle loading: C:\\Users\\a.kaymak\\Desktop\\Papers\\2025 Parkinson STN-DBS Dyskinesia LFP-ECG\\files\\data\\sub-103\\103_mergedData_v4.0_acc_right.P\n",
      "corrected times while loading: C:\\Users\\a.kaymak\\Desktop\\Papers\\2025 Parkinson STN-DBS Dyskinesia LFP-ECG\\files\\data\\sub-103\\103_mergedData_v4.0_acc_right.P\n",
      "... task periods were defined\n",
      "... events were categorized\n",
      "... dyskinesia evaluation was collected\n",
      "... event loading completed\n",
      "--------------------------------------------------------------------\n",
      "EVENT HISTORY: SUB-105\n",
      "... loading started\n",
      "... pickle loading: C:\\Users\\a.kaymak\\Desktop\\Papers\\2025 Parkinson STN-DBS Dyskinesia LFP-ECG\\files\\data\\sub-105\\105_mergedData_v4.0_acc_right.P\n",
      "... task periods were defined\n",
      "... events were categorized\n",
      "... dyskinesia evaluation was collected\n",
      "... event loading completed\n",
      "--------------------------------------------------------------------\n",
      "EVENT HISTORY: SUB-107\n",
      "... loading started\n",
      "... pickle loading: C:\\Users\\a.kaymak\\Desktop\\Papers\\2025 Parkinson STN-DBS Dyskinesia LFP-ECG\\files\\data\\sub-107\\107_mergedData_v4.0_acc_right.P\n",
      "... task periods were defined\n",
      "... events were categorized\n",
      "... dyskinesia evaluation was collected\n",
      "... event loading completed\n",
      "--------------------------------------------------------------------\n",
      "EVENT HISTORY: SUB-108\n",
      "... loading started\n",
      "... pickle loading: C:\\Users\\a.kaymak\\Desktop\\Papers\\2025 Parkinson STN-DBS Dyskinesia LFP-ECG\\files\\data\\sub-108\\108_mergedData_v4.0_acc_right.P\n",
      "... task periods were defined\n",
      "... events were categorized\n",
      "... dyskinesia evaluation was collected\n",
      "... event loading completed\n",
      "--------------------------------------------------------------------\n",
      "EVENT HISTORY: SUB-109\n",
      "... loading started\n",
      "... pickle loading: C:\\Users\\a.kaymak\\Desktop\\Papers\\2025 Parkinson STN-DBS Dyskinesia LFP-ECG\\files\\data\\sub-109\\109_mergedData_v4.0_acc_right.P\n",
      "... task periods were defined\n",
      "... events were categorized\n",
      "... dyskinesia evaluation was collected\n",
      "... event loading completed\n",
      "--------------------------------------------------------------------\n"
     ]
    }
   ],
   "source": [
    "for SUB in SUB_LIST:\n",
    "    EVENTS_HISTORY    = EVENTS(PATH, SUB, 'acc_right')\n",
    "    df_SUB_acc_events = EVENTS_HISTORY.get_event_dataframe()\n",
    "    df_SUB_acc_events = df_SUB_acc_events[df_SUB_acc_events.duration >= 0.2]\n",
    "    df_SUB_acc_events.to_csv(DATA_IO.path_events + \"SUB_\"+ SUB +\"_EVENTS_ACC.csv\", index=False)"
   ]
  },
  {
   "cell_type": "markdown",
   "metadata": {},
   "source": [
    "# 2. LFP/ECOG EVENTS"
   ]
  },
  {
   "cell_type": "code",
   "execution_count": null,
   "metadata": {},
   "outputs": [],
   "source": [
    "for SUB in SUB_LIST:\n",
    "    EVENTS_HISTORY    = EVENTS(PATH, SUB, 'lfp_right')\n",
    "    df_SUB_lfp_events = EVENTS_HISTORY.get_event_dataframe()\n",
    "    df_SUB_lfp_events = df_SUB_lfp_events[df_SUB_lfp_events.duration >= 0.2]\n",
    "    df_SUB_lfp_events.to_csv(DATA_IO.path_events + \"SUB_\"+ SUB +\"_EVENTS_LFP.csv\", index=False)"
   ]
  },
  {
   "cell_type": "markdown",
   "metadata": {},
   "source": [
    "# 3. MERGE PATIENTS DATAFRAMES TOGETHER"
   ]
  },
  {
   "cell_type": "code",
   "execution_count": 4,
   "metadata": {},
   "outputs": [],
   "source": [
    "df_accelerometer_events = pd.DataFrame()\n",
    "df_lfp_events           = pd.DataFrame()\n",
    "event_files             = utils_misc.get_files_with_specific_format(PATH_EVENTS, suffix=\".csv\")"
   ]
  },
  {
   "cell_type": "markdown",
   "metadata": {},
   "source": [
    "## 3.1 Merge Accelerometer Events"
   ]
  },
  {
   "cell_type": "code",
   "execution_count": 5,
   "metadata": {},
   "outputs": [],
   "source": [
    "for file in event_files:\n",
    "    if(\"ACC\" in file):\n",
    "        if(len(df_accelerometer_events)==0): # if the dataframe is empty\n",
    "            df_accelerometer_events = pd.read_csv(PATH_EVENTS + \"\\\\\" + file)\n",
    "        else:\n",
    "            df_accelerometer_events = pd.concat([df_accelerometer_events, pd.read_csv(PATH_EVENTS + \"\\\\\" + file)], ignore_index=True)\n",
    "\n",
    "# Apply the function to each row and create a new column\n",
    "df_accelerometer_events.to_csv(DATA_IO.path_events + \"EVENTS_ACC.csv\", index=False)"
   ]
  },
  {
   "cell_type": "markdown",
   "metadata": {},
   "source": [
    "## 3.2 Merge LFP/ECoG Events"
   ]
  },
  {
   "cell_type": "code",
   "execution_count": 6,
   "metadata": {},
   "outputs": [
    {
     "ename": "NameError",
     "evalue": "name 'get_cdrs_value' is not defined",
     "output_type": "error",
     "traceback": [
      "\u001b[1;31m---------------------------------------------------------------------------\u001b[0m",
      "\u001b[1;31mNameError\u001b[0m                                 Traceback (most recent call last)",
      "Cell \u001b[1;32mIn[6], line 9\u001b[0m\n\u001b[0;32m      6\u001b[0m             df_lfp_events \u001b[38;5;241m=\u001b[39m pd\u001b[38;5;241m.\u001b[39mconcat([df_lfp_events, pd\u001b[38;5;241m.\u001b[39mread_csv(PATH_EVENTS \u001b[38;5;241m+\u001b[39m \u001b[38;5;124m\"\u001b[39m\u001b[38;5;130;01m\\\\\u001b[39;00m\u001b[38;5;124m\"\u001b[39m \u001b[38;5;241m+\u001b[39m file)], ignore_index\u001b[38;5;241m=\u001b[39m\u001b[38;5;28;01mTrue\u001b[39;00m)\n\u001b[0;32m      8\u001b[0m \u001b[38;5;66;03m# Apply the function to each row and create a new column\u001b[39;00m\n\u001b[1;32m----> 9\u001b[0m df_lfp_events[\u001b[38;5;124m'\u001b[39m\u001b[38;5;124mdyskinesia_score\u001b[39m\u001b[38;5;124m'\u001b[39m] \u001b[38;5;241m=\u001b[39m df_lfp_events\u001b[38;5;241m.\u001b[39mapply(\u001b[43mget_cdrs_value\u001b[49m, axis\u001b[38;5;241m=\u001b[39m\u001b[38;5;241m1\u001b[39m)\n\u001b[0;32m     10\u001b[0m df_lfp_events\u001b[38;5;241m.\u001b[39mto_csv(DATA_IO\u001b[38;5;241m.\u001b[39mpath_events \u001b[38;5;241m+\u001b[39m \u001b[38;5;124m\"\u001b[39m\u001b[38;5;124mEVENTS_LFP.csv\u001b[39m\u001b[38;5;124m\"\u001b[39m, index\u001b[38;5;241m=\u001b[39m\u001b[38;5;28;01mFalse\u001b[39;00m)\n",
      "\u001b[1;31mNameError\u001b[0m: name 'get_cdrs_value' is not defined"
     ]
    }
   ],
   "source": [
    "for file in event_files:\n",
    "    if(\"LFP\" in file):\n",
    "        if(len(df_lfp_events)==0): # if the dataframe is empty\n",
    "            df_lfp_events = pd.read_csv(PATH_EVENTS + \"\\\\\" + file)\n",
    "        else:\n",
    "            df_lfp_events = pd.concat([df_lfp_events, pd.read_csv(PATH_EVENTS + \"\\\\\" + file)], ignore_index=True)\n",
    "\n",
    "# Apply the function to each row and create a new column\n",
    "df_lfp_events['dyskinesia_score'] = df_lfp_events.apply(get_cdrs_value, axis=1)\n",
    "df_lfp_events.to_csv(DATA_IO.path_events + \"EVENTS_LFP.csv\", index=False)"
   ]
  },
  {
   "cell_type": "code",
   "execution_count": null,
   "metadata": {},
   "outputs": [],
   "source": []
  }
 ],
 "metadata": {
  "kernelspec": {
   "display_name": "Python 3 (ipykernel)",
   "language": "python",
   "name": "python3"
  },
  "language_info": {
   "codemirror_mode": {
    "name": "ipython",
    "version": 3
   },
   "file_extension": ".py",
   "mimetype": "text/x-python",
   "name": "python",
   "nbconvert_exporter": "python",
   "pygments_lexer": "ipython3",
   "version": "3.9.18"
  }
 },
 "nbformat": 4,
 "nbformat_minor": 4
}

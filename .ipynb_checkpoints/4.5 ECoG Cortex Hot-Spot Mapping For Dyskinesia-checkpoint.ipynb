{
 "cells": [
  {
   "cell_type": "code",
   "execution_count": 1,
   "id": "347a6da4-5601-42fe-ad26-01cbc6216926",
   "metadata": {},
   "outputs": [],
   "source": [
    "import os\n",
    "import pandas as pd\n",
    "import numpy as np\n",
    "import sys\n",
    "import json\n",
    "from pathlib import Path\n",
    "from scipy import signal\n",
    "\n",
    "import warnings\n",
    "warnings.filterwarnings(\"ignore\")\n",
    "\n",
    "# inserting the lib folder to the compiler\n",
    "sys.path.insert(0, './lib')\n",
    "sys.path.insert(0, './utils/')\n",
    "\n",
    "import utils_io, utils_misc, utils_cortical_atlas\n",
    "from lib_data import DATA_IO"
   ]
  },
  {
   "cell_type": "code",
   "execution_count": 69,
   "id": "562bf7d5-0cf0-45fb-b407-f6dfc4d780b5",
   "metadata": {},
   "outputs": [],
   "source": [
    "import numpy as np\n",
    "from sklearn.metrics import normalized_mutual_info_score\n",
    "from sklearn.utils import resample\n",
    "\n",
    "def apply_z_transform_and_discritize(X):\n",
    "    \n",
    "    # apply z-transform\n",
    "    mean_X       = np.mean(X)\n",
    "    std_X        = np.std(X)\n",
    "    X_normalized = (X - mean_X) / std_X\n",
    "    \n",
    "    X_normalized[X_normalized>=3]  = 3\n",
    "    X_normalized[X_normalized<=-3] = -3\n",
    "\n",
    "    # discritize the independent variable\n",
    "    z_score_bin_edges  = [-3, -2, -1, 0, 1, 2, 3]\n",
    "    X_normalized_bined = binned_X = np.digitize(X_normalized, bins=z_score_bin_edges)\n",
    "    \n",
    "    return X_normalized_bined\n",
    "\n",
    "def panzeri_treves_bias_correction(NMI, n):\n",
    "    return NMI - (1/(2*n) + (1/12)*(1/n**2))\n",
    "    \n",
    "def calculate_normalized_mutual_information(X, Y):\n",
    "    NMI = normalized_mutual_info_score(X, Y)\n",
    "    \n",
    "    return NMI"
   ]
  },
  {
   "cell_type": "code",
   "execution_count": 71,
   "id": "8a2a443b-1444-40e3-a50b-5e0feb0f0e06",
   "metadata": {},
   "outputs": [],
   "source": [
    "# load ECoG channel MNI coordinates\n",
    "MNI_ECoG_channels = pd.read_pickle(DATA_IO.path_coordinates + \"MNI_ECoG_channels.pkl\")\n",
    "MNI_ECoG_channels = utils_cortical_atlas.flip_ECoG_channels_left_to_right_hemisphere(MNI_ECoG_channels)\n",
    "\n",
    "# load dataframe of ECoG tapping events\n",
    "ECOG_PSD          = utils_io.load_ECoG_event_PSD(event_category=\"tapping\", event_laterality=\"controlateral\")\n",
    "feature           = \"event_gamma_mean\"\n",
    "\n",
    "ECOG_feature      = utils_misc.create_spatial_data_for_PSD_features(ECOG_PSD, MNI_ECoG_channels, data_type=\"ecog\", feature=feature)"
   ]
  },
  {
   "cell_type": "code",
   "execution_count": 81,
   "id": "998b2090-dd03-4c9b-9b46-1527560428be",
   "metadata": {},
   "outputs": [
    {
     "name": "stdout",
     "output_type": "stream",
     "text": [
      "Parietal cortex : 0.04538415776522089\n",
      "Sensory cortex : 0.02662529085312741\n",
      "Motor cortex : 0.008653923300119932\n",
      "Prefrontal cortex : 0.08937828523512839\n"
     ]
    }
   ],
   "source": [
    "ecog_df = pd.DataFrame(ECOG_feature)\n",
    "severity_mapping = {'noLID_noDOPA': 0, 'noLID_DOPA':1,'mild': 2, 'moderate': 3}\n",
    "ecog_df['severity_encoded'] = ecog_df['severity'].map(severity_mapping)\n",
    "\n",
    "for cortex in ecog_df.AAL3_cortex.unique():\n",
    "    X   = apply_z_transform_and_discritize(ecog_df[ecog_df.AAL3_cortex==cortex][\"value\"].values)\n",
    "    Y   = ecog_df[ecog_df.AAL3_cortex==cortex][\"severity_encoded\"].values\n",
    "    NMI = calculate_normalized_mutual_information(X,Y)\n",
    "    print(cortex + \" : \"+ str(NMI))"
   ]
  },
  {
   "cell_type": "code",
   "execution_count": null,
   "id": "ff8b645f-9d46-460e-af13-e5c648a31d64",
   "metadata": {},
   "outputs": [],
   "source": []
  }
 ],
 "metadata": {
  "kernelspec": {
   "display_name": "Python 3 (ipykernel)",
   "language": "python",
   "name": "python3"
  },
  "language_info": {
   "codemirror_mode": {
    "name": "ipython",
    "version": 3
   },
   "file_extension": ".py",
   "mimetype": "text/x-python",
   "name": "python",
   "nbconvert_exporter": "python",
   "pygments_lexer": "ipython3",
   "version": "3.9.19"
  }
 },
 "nbformat": 4,
 "nbformat_minor": 5
}

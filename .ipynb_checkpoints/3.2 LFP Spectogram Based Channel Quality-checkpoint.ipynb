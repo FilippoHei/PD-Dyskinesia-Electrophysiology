{
 "cells": [
  {
   "cell_type": "code",
   "execution_count": 1,
   "metadata": {},
   "outputs": [],
   "source": [
    "import warnings\n",
    "warnings.filterwarnings(\"ignore\")\n",
    "\n",
    "# Import public packages and functions\n",
    "import os\n",
    "import pandas as pd\n",
    "import numpy as np\n",
    "import sys\n",
    "import json\n",
    "from pathlib import Path\n",
    "\n",
    "import seaborn as sns\n",
    "import matplotlib.pyplot as plt\n",
    "import scipy\n",
    "\n",
    "# inserting the lib folder to the compiler\n",
    "sys.path.insert(0, './lib')\n",
    "sys.path.insert(0, './utils/')\n",
    "\n",
    "import utils_io, utils_spectogram, utils_plotting, utils_plotting_spectogram\n",
    "\n",
    "from lib_LFP import LFP\n",
    "from lib_event import EVENTS\n",
    "from lib_data import DATA_IO"
   ]
  },
  {
   "cell_type": "markdown",
   "metadata": {},
   "source": [
    "# 1. Data Load"
   ]
  },
  {
   "cell_type": "code",
   "execution_count": 3,
   "metadata": {},
   "outputs": [],
   "source": [
    "PATH_CUR     = os.path.abspath(os.curdir)                   # current code\n",
    "PATH         = (str(Path(PATH_CUR).parent))                 # data repository: upper directory where datasets situated\n",
    "fs           = 2048\n",
    "time_vector  = np.linspace(-2,2,fs*4)"
   ]
  },
  {
   "cell_type": "code",
   "execution_count": 9,
   "metadata": {},
   "outputs": [
    {
     "name": "stdout",
     "output_type": "stream",
     "text": [
      "Patient 019: does not have baseline recordings\n"
     ]
    }
   ],
   "source": [
    "# load LFP events\n",
    "LFP_EVENTS   = utils_io.load_LFP_events(event_category=\"tapping\", stn_areas=[\"motor\", \"associative\", \"limbic\"], fs=fs)\n",
    "\n",
    "# import baseline recordings\n",
    "LFP_BASELINE = utils_io.load_baseline_recordings(recording_type=\"LFP\")"
   ]
  },
  {
   "cell_type": "markdown",
   "metadata": {},
   "source": [
    "# 2. Measure the CV for LFP Channels of Patients Under LID"
   ]
  },
  {
   "cell_type": "code",
   "execution_count": 11,
   "metadata": {},
   "outputs": [],
   "source": [
    "SUB_LIST = [\"008\",\"009\",\"012\",\"013\",\"014\",\"020\",\"021\",\"102\",\"105\",\"107\",\"108\"]"
   ]
  },
  {
   "cell_type": "code",
   "execution_count": null,
   "metadata": {},
   "outputs": [
    {
     "name": "stdout",
     "output_type": "stream",
     "text": [
      "########################################################################\n",
      "Patient 008 - STN motor area: LFP channel cv measurement started...\n",
      "---> left hemisphere - 04-01 channel is completed.\n"
     ]
    }
   ],
   "source": [
    "for patient in SUB_LIST:\n",
    "\n",
    "    print(\"########################################################################\")\n",
    "    # get LFP events of patients in LFP channels belonging to different STN segments\n",
    "    patient_motor_events       = LFP_EVENTS[\"motor\"][\"controlateral\"][\"LID\"]\n",
    "    patient_motor_events       = patient_motor_events[patient_motor_events.patient==patient]\n",
    "    patient_associative_events = LFP_EVENTS[\"associative\"][\"controlateral\"][\"LID\"]\n",
    "    patient_associative_events = patient_associative_events[patient_associative_events.patient==patient]\n",
    "    patient_limbic_events      = LFP_EVENTS[\"limbic\"][\"controlateral\"][\"LID\"]\n",
    "    patient_limbic_events      = patient_limbic_events[patient_limbic_events.patient==patient]\n",
    "    \n",
    "    # measure the coefficient of variation for each LFP channel\n",
    "    df_motor_channel_cv       = utils_spectogram.get_LFP_channel_coefficient_of_variation(patient_motor_events,\n",
    "                                                                                          dataset_baseline=LFP_BASELINE,\n",
    "                                                                                          fs=fs, stn_area=\"motor\")\n",
    "    df_associative_channel_cv = utils_spectogram.get_LFP_channel_coefficient_of_variation(patient_associative_events, \n",
    "                                                                                          dataset_baseline=LFP_BASELINE, \n",
    "                                                                                          fs=fs, stn_area=\"associative\")\n",
    "    df_limbic_channel_cv      = utils_spectogram.get_LFP_channel_coefficient_of_variation(patient_limbic_events, \n",
    "                                                                                          dataset_baseline=LFP_BASELINE, \n",
    "                                                                                          fs=fs,stn_area=\"limbic\")\n",
    "    # combine all LFP channels\n",
    "    df_patient_channel_cv     = pd.concat([df_motor_channel_cv, df_associative_channel_cv, df_limbic_channel_cv], ignore_index=True)\n",
    "    \n",
    "    # save df file \n",
    "    df_patient_channel_cv.to_pickle(DATA_IO.path_events + \"channel_cv/LFP/\" + patient + \".pkl\")\n",
    "    \n",
    "    # save plot file file \n",
    "    utils_plotting_spectogram.plot_patient_channels_cv(df_patient_channel_cv, patient=patient, figure_name=DATA_IO.path_figure + patient + \"/channel_cv\")"
   ]
  },
  {
   "cell_type": "markdown",
   "metadata": {},
   "source": [
    "# 3. Plot Normalized Event Spectrograms for LFP Channels"
   ]
  },
  {
   "cell_type": "code",
   "execution_count": null,
   "metadata": {},
   "outputs": [],
   "source": [
    "for patient in SUB_LIST:\n",
    "    \n",
    "    df_patient_channel_cv = pd.read_pickle(DATA_IO.path_events + \"channel_cv/LFP/\" + patient + \".pkl\")\n",
    "    \n",
    "    for hemisphere in df_patient_channel_cv.hemisphere.unique():\n",
    "        for channel in df_patient_channel_cv[df_patient_channel_cv.hemisphere==hemisphere].channel.unique():\n",
    "\n",
    "            stn_area = df_patient_channel_cv[(df_patient_channel_cv.hemisphere==hemisphere) & (df_patient_channel_cv.channel==channel)].stn_area.unique()[0]\n",
    "\n",
    "            ###################################################################################################################################################\n",
    "            # plot for all LID events #########################################################################################################################\n",
    "            ###################################################################################################################################################\n",
    "            event_spectograms, b_mean, b_std = utils_spectogram.get_normalized_event_spectogram_by_channel(LFP_EVENTS[stn_area][\"controlateral\"][dyskinesia],\n",
    "                                                                                                           LFP_BASELINE, \n",
    "                                                                                                           patient=patient,\n",
    "                                                                                                           hemisphere=hemisphere,\n",
    "                                                                                                           channel=channel,\n",
    "                                                                                                           fs=fs)\n",
    "            # get the average spectrogram and then normalize to baseline frequency mean\n",
    "            event_spectogram_avg  = np.nanmean(event_spectograms, axis=0)\n",
    "            event_spectogram_norm = (event_spectogram_avg - b_mean) / b_mean * 100\n",
    "\n",
    "            utils_plotting_spectogram.plot_spectogram(event_spect_one_sec, np.linspace(-1,1,fs*2),\n",
    "                                                      title              = \"SUB \" + patient + \",\" + hemisphere + \" \" + channel + \",\" + dyskinesia,\n",
    "                                                      normalization_type = \"percent\", \n",
    "                                                      cbar               = False,\n",
    "                                                      file_path          = DATA_IO.path_figure + \"/\" + patient + \"/spectrogram/\" + dyskinesia + \"/\",\n",
    "                                                      figure_name        = hemisphere + \"_\" + channel)\n",
    "\n",
    "            ###################################################################################################################################################\n",
    "            # plot for different LID severity #################################################################################################################\n",
    "            ###################################################################################################################################################\n",
    "            #\n",
    "            # LID      = LFP_EVENTS[stn_area][\"controlateral\"][dyskinesia]\n",
    "            #\n",
    "            # for severity in [\"mild\",\"moderate\",\"severe\"]:\n",
    "            #    \n",
    "            #     LID      = LID[LID.dyskinesia_arm==severity]\n",
    "            #     \n",
    "            #     event_spectograms, b_mean, b_std = utils_spectogram.get_normalized_event_spectogram_by_channel(LID,\n",
    "            #                                                                                                   LFP_BASELINE, \n",
    "            #                                                                                                    patient=patient,\n",
    "            #                                                                                                    hemisphere=hemisphere,\n",
    "            #                                                                                                    channel=channel,\n",
    "            #                                                                                                   fs=fs)\n",
    "            #    # get the average spectrogram and then normalize to baseline frequency mean\n",
    "            #    event_spectogram_avg  = np.nanmean(event_spectograms, axis=0)\n",
    "            #    event_spectogram_norm = (event_spectogram_avg - b_mean) / b_mean * 100\n",
    "            #    \n",
    "            #    utils_plotting_spectogram.plot_spectogram(event_spectogram_norm, time_vector,\n",
    "            #                                              title              = \"SUB \" + patient + \",\" + hemisphere + \" \" + channel + \",\" + dyskinesia,\n",
    "            #                                              normalization_type = \"percent\", \n",
    "            #                                              cbar               = False,\n",
    "            #                                              file_path          = DATA_IO.path_figure + \"/\" + patient + \"/spectrogram/\" + severity + \"/\",\n",
    "            #                                              figure_name        = hemisphere + \"_\" + channel)"
   ]
  }
 ],
 "metadata": {
  "kernelspec": {
   "display_name": "Python 3 (ipykernel)",
   "language": "python",
   "name": "python3"
  },
  "language_info": {
   "codemirror_mode": {
    "name": "ipython",
    "version": 3
   },
   "file_extension": ".py",
   "mimetype": "text/x-python",
   "name": "python",
   "nbconvert_exporter": "python",
   "pygments_lexer": "ipython3",
   "version": "3.9.19"
  }
 },
 "nbformat": 4,
 "nbformat_minor": 4
}

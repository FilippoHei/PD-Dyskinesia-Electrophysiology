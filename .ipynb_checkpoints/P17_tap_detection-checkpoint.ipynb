{
 "cells": [
  {
   "cell_type": "code",
   "execution_count": 9,
   "id": "acd2b31d-eed0-490d-92b9-10cba22f56f4",
   "metadata": {},
   "outputs": [],
   "source": [
    "# Import public packages and functions\n",
    "import os\n",
    "import pandas as pd\n",
    "import numpy as np\n",
    "import pickle\n",
    "import sys\n",
    "import json\n",
    "from pathlib import Path\n",
    "import seaborn as sns\n",
    "import matplotlib.pyplot as plt\n",
    "from scipy.signal import find_peaks\n",
    "\n",
    "# inserting the lib folder to the compiler\n",
    "sys.path.insert(0, './lib')\n",
    "sys.path.insert(0, './utils/')\n",
    "\n",
    "import warnings\n",
    "warnings.filterwarnings(\"ignore\")\n",
    "\n",
    "from lib_event import EVENTS\n",
    "from lib_accelerometer import ACCELEROMETER\n",
    "from lib_data import DATA_IO\n",
    "\n",
    "import utils_plotting_tapping, utils_misc, utils_accelerometer"
   ]
  },
  {
   "cell_type": "code",
   "execution_count": 11,
   "id": "006e453e-e7aa-439b-aa1b-69c4cf8389da",
   "metadata": {},
   "outputs": [],
   "source": [
    "PATH_CURR   = os.path.abspath(os.curdir)    # current code\n",
    "PATH        = (str(Path(PATH_CURR).parent)) # data repository: upper directory where datasets situated\n",
    "PATH_DATA   = PATH + \"\\\\data\"               # the recordings data directory\n",
    "PATH_EVENTS = PATH + \"\\\\events\"\n",
    "SUB_LIST    = utils_misc.get_SUB_list(PATH_DATA) # get the SUB id list which we have a recording of them"
   ]
  },
  {
   "cell_type": "markdown",
   "id": "3ee128a6-b8f0-4c5e-b066-7a413de7ba57",
   "metadata": {
    "jp-MarkdownHeadingCollapsed": true
   },
   "source": [
    "# 1. Get Tapping Indices"
   ]
  },
  {
   "cell_type": "code",
   "execution_count": 14,
   "id": "fbb1fc7a-c081-4403-876e-cffcb8567095",
   "metadata": {},
   "outputs": [],
   "source": [
    "def custom_tap_finding_p017(acc_class, move_type='tap'):\n",
    "\n",
    "    acc_class = acc_class.get_data()\n",
    "    fs        = int(acc_class.fs)\n",
    "\n",
    "    if move_type == 'tap':\n",
    "        \n",
    "        sel = acc_class.data[:, 4] == 'tap'  # 4 is task column\n",
    "        d   = acc_class.data[:, 1][sel]  # 1 because of ACC_L_X\n",
    "        t   = acc_class.times[sel]\n",
    "        idx = np.arange(acc_class.data.shape[0])[sel]\n",
    "\n",
    "        THR                  = .5e-7\n",
    "        peak_idx, peak_props = find_peaks(d, height=THR, distance=int(fs*5))\n",
    "\n",
    "        peak_t               = t[peak_idx]\n",
    "        peak_i               = idx[peak_idx]\n",
    "\n",
    "        # create boolean positive during tap\n",
    "        tap_bool             = np.zeros(acc_class.data.shape[0])\n",
    "\n",
    "        for i in peak_i:\n",
    "            try:\n",
    "                if acc_class.times[i+fs] - acc_class.times[i-(2*fs)] > 3:\n",
    "                    tap_bool[i - (2*fs):i] = 1\n",
    "                else: tap_bool[i - (2*fs):i+fs] = 1\n",
    "            except IndexError:\n",
    "                tap_bool[i - (2*fs):i] = 1\n",
    "        \n",
    "    return peak_i, peak_t, tap_bool\n",
    "    \n",
    "def filter_events_by_time_threshold(event_indices, fs, time_threshold):\n",
    "    # Convert minimum time from seconds to samples\n",
    "    min_time_samples = fs * time_threshold\n",
    "    filtered_events  = [event_indices[0]]  # Start with the first event\n",
    "    deleted_events   = []  # List to store deleted events\n",
    "\n",
    "    # Iterate over the remaining events\n",
    "    for i in range(1, len(event_indices)):\n",
    "        start_current, end_current = event_indices[i]\n",
    "        _, end_previous = filtered_events[-1]\n",
    "        \n",
    "        # Check if the current event starts at least min_time_samples after the previous event\n",
    "        if((start_current - end_previous) >= min_time_samples):\n",
    "            filtered_events.append(event_indices[i])\n",
    "        else:\n",
    "            deleted_events.append(event_indices[i])\n",
    "\n",
    "    return filtered_events, deleted_events\n",
    "\n",
    "def plot_single_tap(tap_indices, index, fs, hand, alignment):\n",
    "    if(alignment==\"onset\"):\n",
    "        tap_start_index  = tap_indices[index][0] - 5*fs\n",
    "        tap_finish_index = tap_indices[index][1]\n",
    "        \n",
    "        if(hand==\"right\"):\n",
    "            tap = SUB_ACCELEROMETER.ACC_R[tap_start_index:tap_finish_index]\n",
    "        else:\n",
    "            tap = SUB_ACCELEROMETER.ACC_L[tap_start_index:tap_finish_index]\n",
    "            \n",
    "        if(len(tap)<fs*10):\n",
    "            tap = np.pad(tap, (0, fs*10- len(tap)), constant_values=np.nan)\n",
    "        else:\n",
    "            tap = tap[0:fs*10]\n",
    "    else:\n",
    "        tap_start_index  = tap_indices[index][1] - (tap_indices[index][1]-tap_indices[index][0])\n",
    "        tap_finish_index = tap_indices[index][1] + 5*fs\n",
    "        if(hand==\"right\"):\n",
    "            tap = SUB_ACCELEROMETER.ACC_R[tap_start_index:tap_finish_index]\n",
    "        else:\n",
    "            tap = SUB_ACCELEROMETER.ACC_L[tap_start_index:tap_finish_index]\n",
    "        if(len(tap)<fs*10):\n",
    "            tap = np.pad(tap, (fs*10- len(tap),0), constant_values=np.nan) # pad the front\n",
    "        else:\n",
    "            tap = tap[-fs*10:] \n",
    "\n",
    "    t = np.linspace(-5, 5, fs*10)\n",
    "    if(hand==\"right\"):\n",
    "        plt.plot(t, tap, c=\"r\", linewidth=1)\n",
    "    else:\n",
    "        plt.plot(t, tap, c=\"b\", linewidth=1)\n",
    "    plt.axvline(x=0, color='k', label=alignment)\n",
    "    plt.ylim([0,1e-6])\n",
    "    plt.title(hand + \" hand:  index \" + str(index))\n",
    "    plt.show()"
   ]
  },
  {
   "cell_type": "code",
   "execution_count": 16,
   "id": "6cfbd06d-0b90-4dbc-97e6-2355b2aa8372",
   "metadata": {},
   "outputs": [
    {
     "name": "stdout",
     "output_type": "stream",
     "text": [
      "ACCELEROMETER: SUB-017\n",
      "... loading started\n",
      "... pickle loading: C:\\Users\\a.kaymak\\Desktop\\Papers\\2025 Parkinson STN-DBS Dyskinesia LFP-ECG\\files\\data\\sub-017\\017_mergedData_v4.0_acc_right.P\n",
      "... pickle loading: C:\\Users\\a.kaymak\\Desktop\\Papers\\2025 Parkinson STN-DBS Dyskinesia LFP-ECG\\files\\data\\sub-017\\017_mergedData_v4.0_acc_left.P\n",
      "... pickle loading: C:\\Users\\a.kaymak\\Desktop\\Papers\\2025 Parkinson STN-DBS Dyskinesia LFP-ECG\\files\\data\\sub-017\\017_mergedData_v4.0_acc_left.P\n",
      "left hemisphere removed overlapping taps: 8\n"
     ]
    }
   ],
   "source": [
    "SUB_ACCELEROMETER                                     = ACCELEROMETER(PATH, \"017\")\n",
    "acc_class_L                                           = DATA_IO(PATH, \"017\", 'acc_left')\n",
    "\n",
    "tapping_L_boolean                                     = custom_tap_finding_p017(acc_class_L, move_type='tap')[2]  # boolean array\n",
    "tapping_L_indices_filtered                            = utils_accelerometer.get_task_period_times_indices(tapping_L_boolean) # indices\n",
    "tapping_L_indices_filtered, tapping_L_indices_removed = filter_events_by_time_threshold(tapping_L_indices_filtered, fs=512, time_threshold=4) # remove taps within 4 seconds range\n",
    "    \n",
    "print(\"left hemisphere removed overlapping taps: \" + str(len(tapping_L_indices_removed)))"
   ]
  },
  {
   "cell_type": "markdown",
   "id": "8960f18d-2e4f-4b52-bb5b-87d018194dba",
   "metadata": {},
   "source": [
    "# 2. Refine Taps"
   ]
  },
  {
   "cell_type": "code",
   "execution_count": null,
   "id": "d3d1d643-7610-466c-80bc-1c70d1ba1314",
   "metadata": {},
   "outputs": [],
   "source": [
    "for index in range(len(tapping_L_indices_filtered)):\n",
    "    plot_single_tap(tapping_L_indices_filtered, index=index, fs=512, hand=\"left\", alignment=\"onset\")\n",
    "    plot_single_tap(tapping_L_indices_filtered, index=index, fs=512, hand=\"left\", alignment=\"offset\")\n",
    "    print(\"--------------------------------------------------------------------------\")\n",
    "    print(\"--------------------------------------------------------------------------\")\n",
    "    print(\"--------------------------------------------------------------------------\")"
   ]
  },
  {
   "cell_type": "code",
   "execution_count": null,
   "id": "42e56e00-d53d-421a-93a2-d85805bb0ff8",
   "metadata": {},
   "outputs": [],
   "source": [
    "fs    = 512\n",
    "index = 91\n",
    "hand  = \"left\"\n",
    "\n",
    "if(hand==\"right\"):\n",
    "    print(\"length : \" + str((tapping_R_indices_filtered[index][1]-tapping_R_indices_filtered[index][0]) / fs) + \" seconds\")\n",
    "else:\n",
    "    print(\"length : \" + str((tapping_L_indices_filtered[index][1]-tapping_L_indices_filtered[index][0]) / fs) + \" seconds\")\n",
    "    \n",
    "if(hand==\"right\"):\n",
    "    plot_single_tap(tapping_L_indices_filtered, index=index, fs=512, hand=\"right\", alignment=\"onset\")\n",
    "    plot_single_tap(tapping_L_indices_filtered, index=index, fs=512, hand=\"right\", alignment=\"onset\")\n",
    "else:\n",
    "    plot_single_tap(tapping_L_indices_filtered, index=index, fs=512, hand=\"left\", alignment=\"onset\")\n",
    "    plot_single_tap(tapping_L_indices_filtered, index=index, fs=512, hand=\"left\", alignment=\"offset\")"
   ]
  },
  {
   "cell_type": "code",
   "execution_count": null,
   "id": "af92499a-b07b-4c0a-a43d-272481752633",
   "metadata": {},
   "outputs": [],
   "source": [
    "# correct onset\n",
    "correction = -0.5\n",
    "\n",
    "if(hand==\"right\"):\n",
    "    plot_single_tap([(int(tapping_R_indices_filtered[index][0]+correction*fs),tapping_R_indices_filtered[index][1])], index=0, fs=512, hand=hand, alignment=\"onset\")\n",
    "else:\n",
    "    plot_single_tap([(int(tapping_L_indices_filtered[index][0]+correction*fs),tapping_L_indices_filtered[index][1])], index=0, fs=512, hand=hand, alignment=\"onset\")"
   ]
  },
  {
   "cell_type": "code",
   "execution_count": null,
   "id": "db40199a-be03-4a4f-99ed-224acb690df6",
   "metadata": {},
   "outputs": [],
   "source": [
    "# correct offset\n",
    "\n",
    "correction = 1\n",
    "\n",
    "if(hand==\"right\"):\n",
    "    plot_single_tap([(int(tapping_R_indices_filtered[index][0]),int(tapping_R_indices_filtered[index][1]+correction*fs))], index=0, fs=512, hand=hand, alignment=\"offset\")\n",
    "else:\n",
    "    plot_single_tap([(int(tapping_L_indices_filtered[index][0]),int(tapping_L_indices_filtered[index][1]+correction*fs))], index=0, fs=512, hand=hand, alignment=\"offset\")"
   ]
  },
  {
   "cell_type": "code",
   "execution_count": 22,
   "id": "3d6bad6a-b769-476f-be9d-c1b61d2602ba",
   "metadata": {},
   "outputs": [],
   "source": [
    "tapping_L_indices_filtered[0]  = (int(tapping_L_indices_filtered[0][0]+1.4*fs),int(tapping_L_indices_filtered[0][1]))\n",
    "tapping_L_indices_filtered[1]  = (int(tapping_L_indices_filtered[1][0]+0.8*fs),int(tapping_L_indices_filtered[1][1]+0.5*fs))\n",
    "tapping_L_indices_filtered[2]  = (int(tapping_L_indices_filtered[2][0]+0.5*fs),int(tapping_L_indices_filtered[2][1]+0.5*fs))\n",
    "tapping_L_indices_filtered[3]  = (int(tapping_L_indices_filtered[3][0]+0.25*fs),int(tapping_L_indices_filtered[3][1]+0.5*fs))\n",
    "tapping_L_indices_filtered[5]  = (int(tapping_L_indices_filtered[5][0]+1*fs),int(tapping_L_indices_filtered[5][1]+1.2*fs))\n",
    "tapping_L_indices_filtered[6]  = (int(tapping_L_indices_filtered[6][0]+0.6*fs),int(tapping_L_indices_filtered[6][1]))\n",
    "tapping_L_indices_filtered[8]  = (int(tapping_L_indices_filtered[8][0]),int(tapping_L_indices_filtered[8][1]+0.6*fs))\n",
    "tapping_L_indices_filtered[14] = (int(tapping_L_indices_filtered[14][0]),int(tapping_L_indices_filtered[14][1]+1*fs))\n",
    "tapping_L_indices_filtered[15] = (int(tapping_L_indices_filtered[15][0]-0.3*fs),int(tapping_L_indices_filtered[15][1]-0.3*fs))\n",
    "tapping_L_indices_filtered[29] = (int(tapping_L_indices_filtered[29][1]-0.3*fs),int(tapping_L_indices_filtered[29][1]+0.8*fs))\n",
    "tapping_L_indices_filtered[30] = (int(tapping_L_indices_filtered[30][0]+1.2*fs),int(tapping_L_indices_filtered[30][1]))\n",
    "tapping_L_indices_filtered[31] = (int(tapping_L_indices_filtered[31][0]+1.2*fs),int(tapping_L_indices_filtered[31][1]+0.5*fs))\n",
    "tapping_L_indices_filtered[60] = (int(tapping_L_indices_filtered[60][1]-0.85*fs),int(tapping_L_indices_filtered[60][1]+0.6*fs))\n",
    "tapping_L_indices_filtered[61] = (int(tapping_L_indices_filtered[61][0]+1*fs),int(tapping_L_indices_filtered[61][1]))\n",
    "tapping_L_indices_filtered[63] = (int(tapping_L_indices_filtered[61][0]-0.5*fs),int(tapping_L_indices_filtered[63][1]))\n",
    "\n",
    "remove_L_indices               = [7,8,9,10,11,12,13,16,17,18,19,20,21,22,23,24,25,26,27,28,32,33,34,35,36,37,38,39,40,41,42,43,44,45,46,47,48,49,50,\n",
    "                                  51,52,53,54,55,56,57,58,59,62,64,65,66,67,68,69,70,71,72,73,74,75,76,77,78,79,80,81,82,83,84,85,86,87,88,89,90,91]\n",
    "tapping_L_indices_corrected    = [value for i, value in enumerate(tapping_L_indices_filtered) if i not in remove_L_indices]"
   ]
  },
  {
   "cell_type": "code",
   "execution_count": 26,
   "id": "ba2595e7-d82c-42f8-9c49-78b37fc8ca9b",
   "metadata": {},
   "outputs": [],
   "source": [
    "sub_taps          = {}\n",
    "sub_taps[\"right\"] = []\n",
    "sub_taps[\"left\"]  = tapping_L_indices_corrected\n",
    "with open(DATA_IO.path_events + \"017_updated_taps\", 'wb') as handle:\n",
    "    pickle.dump(sub_taps, handle, protocol=pickle.HIGHEST_PROTOCOL)"
   ]
  },
  {
   "cell_type": "code",
   "execution_count": null,
   "id": "26ebd5db-cd8a-4506-b54f-4b5f6c413427",
   "metadata": {},
   "outputs": [],
   "source": []
  },
  {
   "cell_type": "code",
   "execution_count": null,
   "id": "c1d7caee-fc14-43dc-9086-21ae2744f110",
   "metadata": {},
   "outputs": [],
   "source": []
  }
 ],
 "metadata": {
  "kernelspec": {
   "display_name": "Python 3 (ipykernel)",
   "language": "python",
   "name": "python3"
  },
  "language_info": {
   "codemirror_mode": {
    "name": "ipython",
    "version": 3
   },
   "file_extension": ".py",
   "mimetype": "text/x-python",
   "name": "python",
   "nbconvert_exporter": "python",
   "pygments_lexer": "ipython3",
   "version": "3.9.19"
  }
 },
 "nbformat": 4,
 "nbformat_minor": 5
}

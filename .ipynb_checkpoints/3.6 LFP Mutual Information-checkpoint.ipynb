{
 "cells": [
  {
   "cell_type": "code",
   "execution_count": 1,
   "metadata": {},
   "outputs": [],
   "source": [
    "# Import public packages and functions\n",
    "import os\n",
    "import pandas as pd\n",
    "import numpy as np\n",
    "import sys\n",
    "import json\n",
    "from pathlib import Path\n",
    "\n",
    "import seaborn as sns\n",
    "import matplotlib.pyplot as plt\n",
    "\n",
    "import warnings\n",
    "warnings.filterwarnings(\"ignore\")\n",
    "\n",
    "# inserting the lib folder to the compiler\n",
    "sys.path.insert(0, './lib')\n",
    "sys.path.insert(0, './utils/')\n",
    "\n",
    "import utils_io, utils_misc\n",
    "\n",
    "from lib_data import DATA_IO"
   ]
  },
  {
   "cell_type": "code",
   "execution_count": 2,
   "metadata": {},
   "outputs": [],
   "source": [
    "PATH_CURR = os.path.abspath(os.curdir)    # current code\n",
    "PATH      = (str(Path(PATH_CURR).parent)) # data repository: upper directory where datasets situated\n",
    "SUB_LIST  = utils_misc.get_SUB_list(DATA_IO.path_data) # get the SUB id list which we have a recording of them"
   ]
  },
  {
   "cell_type": "markdown",
   "metadata": {
    "jp-MarkdownHeadingCollapsed": true
   },
   "source": [
    "# 1. Define the LFP Channel MNI Coordinates"
   ]
  },
  {
   "cell_type": "code",
   "execution_count": 113,
   "metadata": {},
   "outputs": [],
   "source": [
    "# load LFP contact coordinates\n",
    "MNI_coordinates     = pd.read_csv(DATA_IO.path_coordinates + \"contact_coordinates.csv\")\n",
    "MNI_LFP_coordinates = MNI_coordinates[MNI_coordinates.recording_type == \"lfp\"]\n",
    "MNI_LFP_channels    = pd.DataFrame(columns=[\"patient\", \"hemisphere\", \"channel\", \"x\", \"y\", \"z\"])   \n",
    "\n",
    "for patient in SUB_LIST:\n",
    "    \n",
    "    df_lfp_events   = pd.read_pickle(DATA_IO.path_events +  \"SUB_\" + patient + \"_EVENTS_LFP_RECORDINGS.pkl\")\n",
    "    LFP_hemispheres = df_lfp_events.LFP_hemisphere.unique()\n",
    "    \n",
    "    for hemisphere in LFP_hemispheres:\n",
    "        LFP_channels = df_lfp_events[df_lfp_events.LFP_hemisphere==hemisphere].LFP_channel.unique()\n",
    "\n",
    "        for channel in LFP_channels:\n",
    "            \n",
    "            # get the contact 1 & 2 names\n",
    "            contact_1 = int(channel.split(\"-\")[0])\n",
    "            contact_2 = int(channel.split(\"-\")[1])\n",
    "    \n",
    "            # get the coordinates of contact 1 & 2\n",
    "            contact_1_coordinates = MNI_LFP_coordinates[(MNI_LFP_coordinates.patient==int(patient)) & \n",
    "                                                        (MNI_LFP_coordinates.hemisphere==hemisphere) & \n",
    "                                                        (MNI_LFP_coordinates.contact==contact_1)]\n",
    "            contact_2_coordinates = MNI_LFP_coordinates[(MNI_LFP_coordinates.patient==int(patient)) & \n",
    "                                                        (MNI_LFP_coordinates.hemisphere==hemisphere) & \n",
    "                                                        (MNI_LFP_coordinates.contact==contact_2)]\n",
    "    \n",
    "            row               = {}\n",
    "            row[\"patient\"]    = patient\n",
    "            row[\"hemisphere\"] = hemisphere\n",
    "            row[\"channel\"]    = channel\n",
    "            row[\"x\"]          = (float(contact_1_coordinates.x) + float(contact_2_coordinates.x)) / 2\n",
    "            row[\"y\"]          = (float(contact_1_coordinates.y) + float(contact_2_coordinates.y)) / 2\n",
    "            row[\"z\"]          = (float(contact_1_coordinates.z) + float(contact_2_coordinates.z)) / 2\n",
    "            \n",
    "            MNI_LFP_channels.loc[len(MNI_LFP_channels)] = row \n",
    "\n",
    "MNI_LFP_channels.drop_duplicates(inplace=True)\n",
    "MNI_LFP_channels.to_pickle(DATA_IO.path_coordinates + \"MNI_LFP_channels.pkl\")"
   ]
  },
  {
   "cell_type": "code",
   "execution_count": 28,
   "metadata": {},
   "outputs": [],
   "source": [
    "# load dataframe of LFP tapping events\n",
    "LFP_PSD = utils_io.load_LFP_event_PSD(event_category=\"tapping\", event_laterality=\"controlateral\")\n",
    "\n",
    "# load LFP contact coordinates\n",
    "MNI_coordinates     = pd.read_csv(DATA_IO.path_coordinates + \"contact_coordinates.csv\")\n",
    "MNI_LFP_coordinates = MNI_coordinates[MNI_coordinates.recording_type == \"lfp\"]\n",
    "MNI_LFP_channels    = pd.DataFrame(columns=[\"patient\", \"hemisphere\", \"channel\", \"x\", \"y\", \"z\"])                                \n",
    "\n",
    "for severity in list(LFP_PSD.keys()):\n",
    "    for patient in LFP_PSD[severity].patient.unique():\n",
    "    \n",
    "        # select the hemisphere of the LFP strip for the selected patients\n",
    "        hemisphere = LFP_PSD[severity][LFP_PSD[severity].patient==patient].LFP_hemisphere.unique()[0]\n",
    "    \n",
    "        # find all the rereferenced LFP channels where the controlateral LFP activity is measured for tapping events\n",
    "        for channel in LFP_PSD[severity][(LFP_PSD[severity].patient==patient) & (LFP_PSD[severity].LFP_hemisphere==hemisphere)].LFP_channel.unique():\n",
    "    \n",
    "            # get the contact 1 & 2 names\n",
    "            contact_1 = int(channel.split(\"-\")[0])\n",
    "            contact_2 = int(channel.split(\"-\")[1])\n",
    "    \n",
    "            # get the coordinates of contact 1 & 2\n",
    "            contact_1_coordinates = MNI_LFP_coordinates[(MNI_LFP_coordinates.patient==int(patient)) & \n",
    "                                                        (MNI_LFP_coordinates.hemisphere==hemisphere) & \n",
    "                                                        (MNI_LFP_coordinates.contact==contact_1)]\n",
    "            contact_2_coordinates = MNI_LFP_coordinates[(MNI_LFP_coordinates.patient==int(patient)) & \n",
    "                                                        (MNI_LFP_coordinates.hemisphere==hemisphere) & \n",
    "                                                        (MNI_LFP_coordinates.contact==contact_2)]\n",
    "    \n",
    "            row               = {}\n",
    "            row[\"patient\"]    = patient\n",
    "            row[\"hemisphere\"] = hemisphere\n",
    "            row[\"channel\"]    = channel\n",
    "            row[\"x\"]          = (float(contact_1_coordinates.x) + float(contact_2_coordinates.x)) / 2\n",
    "            row[\"y\"]          = (float(contact_1_coordinates.y) + float(contact_2_coordinates.y)) / 2\n",
    "            row[\"z\"]          = (float(contact_1_coordinates.z) + float(contact_2_coordinates.z)) / 2\n",
    "            \n",
    "            MNI_LFP_channels.loc[len(MNI_LFP_channels)] = row \n",
    "\n",
    "MNI_LFP_channels.drop_duplicates(inplace=True)\n",
    "MNI_LFP_channels.to_pickle(DATA_IO.path_coordinates + \"MNI_LFP_channels.pkl\")"
   ]
  },
  {
   "cell_type": "code",
   "execution_count": 115,
   "metadata": {},
   "outputs": [],
   "source": []
  },
  {
   "cell_type": "markdown",
   "metadata": {},
   "source": [
    "# 1. DATA IO"
   ]
  },
  {
   "cell_type": "code",
   "execution_count": 13,
   "metadata": {},
   "outputs": [],
   "source": [
    "# load dataframe of LFP tapping events\n",
    "LFP_PSD                = utils_io.load_LFP_event_PSD(event_category=\"tapping\", event_laterality=\"controlateral\")\n",
    "# load LFP channel MNI coordinates\n",
    "MNI_STN_motor_channels = pd.read_pickle(DATA_IO.path_coordinates + \"MNI_LFP_motor_channels.pkl\")\n",
    "\n",
    "feature                   = \"event_gamma_mean\"\n",
    "LFP_feature               = []\n",
    "\n",
    "for severity in LFP_PSD.keys():\n",
    "    STN_dynamic               = LFP_PSD[\"moderate\"][[\"patient\",\"LFP_hemisphere\",\"LFP_channel\",\"event_gamma_mean\"]]\n",
    "    STN_dynamic[\"hemisphere\"] = STN_dynamic.LFP_hemisphere\n",
    "    STN_dynamic[\"channel\"]    = STN_dynamic.LFP_channel\n",
    "    STN_dynamic[\"feature\"]    = STN_dynamic[feature]\n",
    "    STN_dynamic               = STN_dynamic[[\"patient\",\"hemisphere\",\"channel\",\"feature\"]]\n",
    "    STN_dynamic               = pd.merge(STN_dynamic, MNI_STN_motor_channels, on=['patient', 'hemisphere', 'channel'], how='inner')\n",
    "\n",
    "    # map left hemisphere to right hemisphere\n",
    "    STN_dynamic.loc[STN_dynamic.hemisphere == \"left\", 'x'] *= -1\n",
    "    STN_dynamic               = STN_dynamic[[\"patient\",\"feature\",\"x\",\"y\",\"z\"]]\n",
    "\n",
    "    if(len(LFP_feature)==0):\n",
    "        LFP_feature = STN_dynamic\n",
    "    else:\n",
    "        LFP_feature = pd.concat([LFP_feature, STN_dynamic], ignore_index=True)"
   ]
  },
  {
   "cell_type": "code",
   "execution_count": 15,
   "metadata": {},
   "outputs": [],
   "source": [
    "df = STN_dynamic\n",
    "import statsmodels.formula.api as smf\n",
    "from sklearn.metrics import mutual_info_score"
   ]
  },
  {
   "cell_type": "code",
   "execution_count": 17,
   "metadata": {},
   "outputs": [
    {
     "name": "stdout",
     "output_type": "stream",
     "text": [
      "         Mixed Linear Model Regression Results\n",
      "========================================================\n",
      "Model:            MixedLM Dependent Variable: feature   \n",
      "No. Observations: 592     Method:             REML      \n",
      "No. Groups:       7       Scale:              1791.8103 \n",
      "Min. group size:  14      Log-Likelihood:     -3061.0790\n",
      "Max. group size:  231     Converged:          Yes       \n",
      "Mean group size:  84.6                                  \n",
      "--------------------------------------------------------\n",
      "              Coef.  Std.Err.   z   P>|z| [0.025  0.975]\n",
      "--------------------------------------------------------\n",
      "Intercept     85.977   10.566 8.137 0.000 65.268 106.686\n",
      "z             10.749    1.142 9.411 0.000  8.510  12.988\n",
      "Group Var    380.180    5.864                           \n",
      "========================================================\n",
      "\n"
     ]
    }
   ],
   "source": [
    "# 1. Mixed-Effects Model with patient as random effect\n",
    "# We are focusing on the z-axis, with random effects for patients.\n",
    "model = smf.mixedlm(\"feature ~ z\", df, groups=df[\"patient\"])\n",
    "result = model.fit()\n",
    "\n",
    "# Summary of the model\n",
    "print(result.summary())"
   ]
  },
  {
   "cell_type": "code",
   "execution_count": 11,
   "metadata": {},
   "outputs": [
    {
     "name": "stdout",
     "output_type": "stream",
     "text": [
      "Mutual Information between z and feature: 0.012826556848421029\n"
     ]
    }
   ],
   "source": [
    "# 2. Calculate Mutual Information with respect to z-axis\n",
    "\n",
    "# Discretize z-axis and feature to compute mutual information\n",
    "def discretize(data, num_bins):\n",
    "    return np.digitize(data, np.histogram(data, bins=num_bins)[1][1:-1])\n",
    "\n",
    "z_disc = discretize(df['z'].values, num_bins=5)\n",
    "feature_disc = discretize(df['feature'].values, num_bins=5)\n",
    "\n",
    "# Compute Mutual Information\n",
    "mi_z = mutual_info_score(z_disc, feature_disc)\n",
    "print(f\"Mutual Information between z and feature: {mi_z}\")\n"
   ]
  },
  {
   "cell_type": "code",
   "execution_count": null,
   "metadata": {},
   "outputs": [],
   "source": []
  }
 ],
 "metadata": {
  "kernelspec": {
   "display_name": "Python 3 (ipykernel)",
   "language": "python",
   "name": "python3"
  },
  "language_info": {
   "codemirror_mode": {
    "name": "ipython",
    "version": 3
   },
   "file_extension": ".py",
   "mimetype": "text/x-python",
   "name": "python",
   "nbconvert_exporter": "python",
   "pygments_lexer": "ipython3",
   "version": "3.9.19"
  }
 },
 "nbformat": 4,
 "nbformat_minor": 4
}

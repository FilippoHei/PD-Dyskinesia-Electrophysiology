{
 "cells": [
  {
   "cell_type": "code",
   "execution_count": 1,
   "id": "c922231a",
   "metadata": {},
   "outputs": [],
   "source": [
    "import os\n",
    "import pandas as pd\n",
    "import numpy as np\n",
    "import sys\n",
    "from pathlib import Path\n",
    "import warnings\n",
    "warnings.filterwarnings(\"ignore\")\n",
    "\n",
    "# project paths and helpers\n",
    "sys.path.insert(0, './lib')\n",
    "sys.path.insert(0, './utils/')\n",
    "\n",
    "import utils_io\n",
    "from utils_wPLI import get_wPLI_psi\n",
    "from utils_plotting_wPLI import plot_wPLI_on_cortex\n",
    "from lib_data import DATA_IO"
   ]
  },
  {
   "cell_type": "code",
   "execution_count": 2,
   "id": "193077db",
   "metadata": {},
   "outputs": [],
   "source": [
    "PATH_CURR = os.path.abspath(os.curdir)\n",
    "PATH      = (str(Path(PATH_CURR).parent))\n",
    "fs        = 2048"
   ]
  },
  {
   "cell_type": "markdown",
   "id": "311c3b66",
   "metadata": {},
   "source": [
    "### 1. Load Events"
   ]
  },
  {
   "cell_type": "code",
   "execution_count": null,
   "id": "47e119d6",
   "metadata": {},
   "outputs": [],
   "source": [
    "EVENTS_ECOG      = utils_io.load_ECoG_events(event_category=\"tapping\", fs=fs)\n",
    "EVENTS_ECOG_LID  = EVENTS_ECOG['controlateral']['LID']\n",
    "EVENTS_ECOG_noLID= EVENTS_ECOG['controlateral']['noLID']\n",
    "# Given the event starting times, split the noLID dataframe into a medOff and medOn dataframe \n",
    "# as defined by events that occur before or after 30 minutes after medication intake.\n",
    "EVENTS_ECOG_noLID_medOff = EVENTS_ECOG_noLID[EVENTS_ECOG_noLID.event_start_time <= 30]\n",
    "EVENTS_ECOG_noLID_medOn  = EVENTS_ECOG_noLID[EVENTS_ECOG_noLID.event_start_time > 30]\n",
    "\n",
    "EVENTS_LFP             = utils_io.load_LFP_events(event_category=\"tapping\", stn_areas=[\"motor\"], fs=fs)\n",
    "EVENTS_LFP_MOTOR_LID   = EVENTS_LFP['motor']['controlateral']['LID']\n",
    "EVENTS_LFP_MOTOR_noLID = EVENTS_LFP['motor']['controlateral']['noLID']\n",
    "# Given the event starting times, split the noLID dataframe into a medOff and medOn dataframe \n",
    "# as defined by events that occur before or after 30 minutes after medication intake.\n",
    "EVENTS_LFP_MOTOR_noLID_medOff = EVENTS_LFP_MOTOR_noLID[EVENTS_LFP_MOTOR_noLID.event_start_time <= 30]\n",
    "EVENTS_LFP_MOTOR_noLID_medOn  = EVENTS_LFP_MOTOR_noLID[EVENTS_LFP_MOTOR_noLID.event_start_time > 30]\n",
    "\n",
    "# Delete large variables that are not used to save memory\n",
    "del EVENTS_ECOG, EVENTS_LFP, EVENTS_ECOG_noLID, EVENTS_LFP_MOTOR_noLID"
   ]
  },
  {
   "cell_type": "markdown",
   "id": "606c680a",
   "metadata": {},
   "source": [
    "### 2. Pairwise wPLI & PSI"
   ]
  },
  {
   "cell_type": "markdown",
   "id": "d0cf4aac",
   "metadata": {},
   "source": [
    "#### 2.1 Pre-Event Calculation"
   ]
  },
  {
   "cell_type": "code",
   "execution_count": null,
   "id": "34b82d02",
   "metadata": {},
   "outputs": [],
   "source": [
    "# ------- No LID med off (i.e., <= 30 min) pre-event recording -------\n",
    "filename = \"STN_MOTOR_vs_Cortex_wPLI_noLID_medOff_preEvent\"\n",
    "noLID_medOff_preEventResults = get_wPLI_psi(dataset_LFP=EVENTS_LFP_MOTOR_noLID_medOff, dataset_ECOG=EVENTS_ECOG_noLID_medOff, filename=filename,\n",
    "                                             condition=\"pre_event_recording\", fs=fs, n_perm=1000)\n",
    "\n",
    "# ------- No LID med on (i.e., > 30 min) pre-event recording -------\n",
    "filename = \"STN_MOTOR_vs_Cortex_wPLI_noLID_medOn_preEvent\"\n",
    "noLID_medOn_preEventResults = get_wPLI_psi(dataset_LFP=EVENTS_LFP_MOTOR_noLID_medOn, dataset_ECOG=EVENTS_ECOG_noLID_medOn, filename=filename,\n",
    "                                             condition=\"pre_event_recording\", fs=fs, n_perm=1000)\n",
    "\n",
    "# ------- LID pre-event recording -------\n",
    "filename = \"STN_MOTOR_vs_Cortex_wPLI_LID_preEvent\"\n",
    "LID_preEventResults = get_wPLI_psi(dataset_LFP=EVENTS_LFP_MOTOR_LID, dataset_ECOG=EVENTS_ECOG_LID, filename=filename, \n",
    "                                             condition=\"pre_event_recording\", fs=fs, n_perm=1000)\n"
   ]
  },
  {
   "cell_type": "markdown",
   "id": "b2ae56e8",
   "metadata": {},
   "source": [
    "#### 2.2 During Event Calculation"
   ]
  },
  {
   "cell_type": "code",
   "execution_count": null,
   "id": "30610d42",
   "metadata": {},
   "outputs": [],
   "source": [
    "# ------- No LID med off (i.e., <= 30 min) event recording -------\n",
    "filename = \"STN_MOTOR_vs_Cortex_wPLI_noLID_medOff_event\"\n",
    "noLID_medOff_eventResults = get_wPLI_psi(dataset_LFP=EVENTS_LFP_MOTOR_noLID_medOff, dataset_ECOG=EVENTS_ECOG_noLID_medOff, filename=filename, \n",
    "                                         condition=\"event_recording\", fs=fs, n_perm=1000)\n",
    "\n",
    "# ------- No LID med on (i.e., > 30 min) event recording -------\n",
    "filename = \"STN_MOTOR_vs_Cortex_wPLI_noLID_medOn_event\"\n",
    "noLID_medOn_eventResults = get_wPLI_psi(dataset_LFP=EVENTS_LFP_MOTOR_noLID_medOn, dataset_ECOG=EVENTS_ECOG_noLID_medOn, filename=filename, \n",
    "                                         condition=\"event_recording\", fs=fs, n_perm=1000)\n",
    "\n",
    "# ------- LID event recording -------\n",
    "filename = \"STN_MOTOR_vs_Cortex_wPLI_LID_event\"\n",
    "LID_eventResults = get_wPLI_psi(dataset_LFP=EVENTS_LFP_MOTOR_LID, dataset_ECOG=EVENTS_ECOG_LID, filename=filename, \n",
    "                                         condition=\"event_recording\", fs=fs, n_perm=1000)\n"
   ]
  },
  {
   "cell_type": "markdown",
   "id": "d6ec7f2e",
   "metadata": {},
   "source": [
    "#### 2.3 Post-Event Calculation"
   ]
  },
  {
   "cell_type": "code",
   "execution_count": null,
   "id": "a3222a01",
   "metadata": {},
   "outputs": [],
   "source": [
    "# ------- No LID med off (i.e., <= 30 min) post-event recording -------\n",
    "filename = \"STN_MOTOR_vs_Cortex_wPLI_noLID_medOff_postEvent\"\n",
    "noLID_medOff_postEventResults = get_wPLI_psi(dataset_LFP=EVENTS_LFP_MOTOR_noLID_medOff, dataset_ECOG=EVENTS_ECOG_noLID_medOff, filename=filename,\n",
    "                                             condition=\"post_event_recording\", fs=fs, n_perm=1000)\n",
    "\n",
    "# ------- No LID med on (i.e., > 30 min) post-event recording -------\n",
    "filename = \"STN_MOTOR_vs_Cortex_wPLI_noLID_medOn_postEvent\"\n",
    "noLID_medOn_postEventResults = get_wPLI_psi(dataset_LFP=EVENTS_LFP_MOTOR_noLID_medOn, dataset_ECOG=EVENTS_ECOG_noLID_medOn, filename=filename,\n",
    "                                             condition=\"post_event_recording\", fs=fs, n_perm=1000)\n",
    "\n",
    "# ------- LID post-event recording -------\n",
    "filename = \"STN_MOTOR_vs_Cortex_wPLI_LID_postEvent\"\n",
    "LID_postEventResults = get_wPLI_psi(dataset_LFP=EVENTS_LFP_MOTOR_LID, dataset_ECOG=EVENTS_ECOG_LID, filename=filename,\n",
    "                                             condition=\"post_event_recording\", fs=fs, n_perm=1000)\n"
   ]
  },
  {
   "cell_type": "markdown",
   "id": "6fec914c",
   "metadata": {},
   "source": [
    "#### Some sanity checks"
   ]
  },
  {
   "cell_type": "code",
   "execution_count": null,
   "id": "d4f29bfa",
   "metadata": {},
   "outputs": [],
   "source": [
    "# Compare to numbers of patients in the original EVENTS_ECOG dataframe\n",
    "unique_patients_ecog = EVENTS_ECOG_noLID['patient'].unique()\n",
    "unique_patients_all = pd.concat([EVENTS_ECOG['controlateral']['noLID'], EVENTS_ECOG['ipsilateral']['noLID']], ignore_index=True)['patient'].unique()\n",
    "print(f\"{len(unique_patients_ecog)} unique patients in the original ECoG noLID data frame (with contralateral tapping events): {unique_patients_ecog}\")\n",
    "print(f\"{len(unique_patients_all)} unique patients in the original ECoG noLID data frame (all trials): {unique_patients_all}\")\n",
    "\n",
    "# Compare to numbers of patients in the original EVENTS_LFP dataframe\n",
    "unique_patients_lfp = EVENTS_LFP_MOTOR_noLID['patient'].unique()\n",
    "unique_patients_lfp_all = pd.concat([EVENTS_LFP['motor']['controlateral']['noLID'], EVENTS_LFP['motor']['ipsilateral']['noLID']], ignore_index=True)['patient'].unique()\n",
    "print(f\"{len(unique_patients_lfp)} unique patients in the original LFP noLID data frame (with contralateral tapping events): {unique_patients_lfp}\")\n",
    "print(f\"{len(unique_patients_lfp_all)} unique patients in the original LFP noLID data frame (all trials): {unique_patients_lfp_all}\")\n",
    "\n",
    "print(\"---------------------------------------------------------------------------------------------------------------\")\n",
    "\n",
    "df = pd.read_pickle(DATA_IO.path_events + \"coherence/STN_MOTOR_vs_Cortex_wPLI_LID_Event.pkl\")\n",
    "# Get number of unique patients and print their ids\n",
    "unique_patients = df['patient'].unique()\n",
    "print(f\"{len(unique_patients)} unique patients in the LID wPLI dataset: {unique_patients}\")\n",
    "\n",
    "# Compare to numbers of patients in the original EVENTS_ECOG dataframe\n",
    "unique_patients_ecog = EVENTS_ECOG_LID['patient'].unique()\n",
    "unique_patients_all = pd.concat([EVENTS_ECOG['controlateral']['LID'], EVENTS_ECOG['ipsilateral']['LID']], ignore_index=True)['patient'].unique()\n",
    "print(f\"{len(unique_patients_ecog)} unique patients in the original ECoG LID data frame (with contralateral tapping events): {unique_patients_ecog}\")\n",
    "print(f\"{len(unique_patients_all)} unique patients in the original ECoG LID data frame (all trials): {unique_patients_all}\")\n",
    "\n",
    "# Compare to numbers of patients in the original EVENTS_LFP dataframe\n",
    "unique_patients_lfp = EVENTS_LFP_MOTOR_LID['patient'].unique()\n",
    "unique_patients_lfp_all = pd.concat([EVENTS_LFP['motor']['controlateral']['LID'], EVENTS_LFP['motor']['ipsilateral']['LID']], ignore_index=True)['patient'].unique()\n",
    "print(f\"{len(unique_patients_lfp)} unique patients in the original LFP LID data frame (with contralateral tapping events): {unique_patients_lfp}\")\n",
    "print(f\"{len(unique_patients_lfp_all)} unique patients in the original LFP LID data frame (all trials): {unique_patients_lfp_all}\")\n"
   ]
  },
  {
   "cell_type": "code",
   "execution_count": null,
   "id": "4d1d37ec",
   "metadata": {},
   "outputs": [],
   "source": [
    "# Check if all tapping events in ECoG LID dataframe also show CDRS on that same side \n",
    "CDRS_laterality = []\n",
    "for index, event in EVENTS_ECOG_LID.iterrows():\n",
    "    if event['event_laterality'] == 'right':\n",
    "        CDRS_laterality.append(event['CDRS_right_hand'] > 0)\n",
    "    elif event['event_laterality'] == 'left':\n",
    "        CDRS_laterality.append(event['CDRS_left_hand'] > 0)\n",
    "\n",
    "print(f\"All tapping events in ECoG LID dataframe show CDRS on the same side: {all(CDRS_laterality)}\")\n",
    "\n",
    "# Check if all tapping events in ECoG LID dataframe also show CDRS on that same side \n",
    "CDRS_laterality = []\n",
    "CDRS_total = []\n",
    "for index, event in EVENTS_ECOG_noLID.iterrows():\n",
    "    if event['event_laterality'] == 'right':\n",
    "        CDRS_laterality.append(event['CDRS_right_hand'] == 0)\n",
    "    elif event['event_laterality'] == 'left':\n",
    "        CDRS_laterality.append(event['CDRS_left_hand'] == 0)\n",
    "    CDRS_total.append(event['CDRS_total'] == 0)\n",
    "\n",
    "print(f\"No tapping events in ECoG noLID dataframe show CDRS on the same side: {all(CDRS_laterality)}\")\n",
    "print(f\"All tapping events in ECoG noLID dataframe have a total CDRS of 0: {all(CDRS_total)}\")"
   ]
  },
  {
   "cell_type": "markdown",
   "id": "d504dd22",
   "metadata": {},
   "source": [
    "### 3. Plot connectivity values onto cortical surface"
   ]
  },
  {
   "cell_type": "markdown",
   "id": "56d4aea7",
   "metadata": {},
   "source": [
    "#### 3.1 Plot pre-event wPLI maps"
   ]
  },
  {
   "cell_type": "code",
   "execution_count": null,
   "id": "ce6cbe41",
   "metadata": {},
   "outputs": [],
   "source": [
    "# Plot pre-events LID results \n",
    "df = pd.read_pickle(DATA_IO.path_events + \"coherence/STN_MOTOR_vs_Cortex_wPLI_LID_preEvent.pkl\")\n",
    "filename = \"wPLI_LID_preEvent\"\n",
    "# Loop through all frequency bands\n",
    "# for band in ['theta', 'alpha', 'beta_low', 'beta_high', 'gamma', 'gamma_III']:\n",
    "for band in ['beta_low', 'beta_high']:\n",
    "    plot_wPLI_on_cortex(df, filename=filename, frequencyBand=band, onlyOneHemisphere=True, safeFile=True, \n",
    "                        fixedCmap=np.arange(-0.05, 0.151, 0.05))\n"
   ]
  },
  {
   "cell_type": "markdown",
   "id": "b11f7145",
   "metadata": {},
   "source": [
    "#### 3.2 Plot event wPLI maps"
   ]
  },
  {
   "cell_type": "code",
   "execution_count": null,
   "id": "39306dec",
   "metadata": {},
   "outputs": [],
   "source": [
    "# Plot during events LID results \n",
    "df = pd.read_pickle(DATA_IO.path_events + \"coherence/STN_MOTOR_vs_Cortex_wPLI_LID_event.pkl\")\n",
    "filename = \"wPLI_LID_event\"\n",
    "# Loop through all frequency bands\n",
    "# for band in ['theta', 'alpha', 'beta_low', 'beta_high', 'gamma', 'gamma_III']:\n",
    "for band in ['beta_low', 'beta_high']:\n",
    "    plot_wPLI_on_cortex(df, filename=filename, frequencyBand=band, onlyOneHemisphere=True, safeFile=True, \n",
    "                        fixedCmap=np.arange(-0.05, 0.151, 0.05))\n"
   ]
  },
  {
   "cell_type": "markdown",
   "id": "c791e890",
   "metadata": {},
   "source": [
    "#### 3.3 Plot post-event wPLI maps"
   ]
  },
  {
   "cell_type": "code",
   "execution_count": null,
   "id": "3fb51837",
   "metadata": {},
   "outputs": [],
   "source": [
    "# Plot post-events LID results \n",
    "df = pd.read_pickle(DATA_IO.path_events + \"coherence/STN_MOTOR_vs_Cortex_wPLI_LID_postEvent.pkl\")\n",
    "filename = \"wPLI_LID_postevent\"\n",
    "# Loop through all frequency bands\n",
    "for band in ['theta', 'alpha', 'beta_low', 'beta_high', 'gamma', 'gamma_III']:\n",
    "    plot_wPLI_on_cortex(df, filename=filename, frequencyBand=band, onlyOneHemisphere=True)"
   ]
  },
  {
   "cell_type": "markdown",
   "id": "39ce4eb8",
   "metadata": {},
   "source": [
    "#### 3.4 Plot the changes from pre-event to event phase "
   ]
  },
  {
   "cell_type": "code",
   "execution_count": 6,
   "id": "d197e53c",
   "metadata": {},
   "outputs": [
    {
     "name": "stdout",
     "output_type": "stream",
     "text": [
      "Selected band: theta\n",
      "Saving screenshot to ../figures/LFP-ECoG wPLI/wPLI_LID_preEventVSevent_oneHemisphere_theta_-0.10-0.10.png\n",
      "Selected band: alpha\n",
      "Saving screenshot to ../figures/LFP-ECoG wPLI/wPLI_LID_preEventVSevent_oneHemisphere_alpha_-0.10-0.10.png\n",
      "Selected band: beta_low\n",
      "Saving screenshot to ../figures/LFP-ECoG wPLI/wPLI_LID_preEventVSevent_oneHemisphere_beta_low_-0.10-0.10.png\n",
      "Selected band: beta_high\n",
      "Saving screenshot to ../figures/LFP-ECoG wPLI/wPLI_LID_preEventVSevent_oneHemisphere_beta_high_-0.10-0.10.png\n",
      "Selected band: gamma\n",
      "Saving screenshot to ../figures/LFP-ECoG wPLI/wPLI_LID_preEventVSevent_oneHemisphere_gamma_-0.10-0.10.png\n",
      "Selected band: gamma_III\n",
      "Saving screenshot to ../figures/LFP-ECoG wPLI/wPLI_LID_preEventVSevent_oneHemisphere_gamma_III_-0.10-0.10.png\n"
     ]
    }
   ],
   "source": [
    "# Plot pre vs during events LID results\n",
    "df_preEvent = pd.read_pickle(DATA_IO.path_events + \"coherence/STN_MOTOR_vs_Cortex_wPLI_LID_preEvent.pkl\")\n",
    "df_event = pd.read_pickle(DATA_IO.path_events + \"coherence/STN_MOTOR_vs_Cortex_wPLI_LID_event.pkl\")\n",
    "\n",
    "# Check if the same patients and channels are in both dataframes (check for each row)\n",
    "df_diff = []\n",
    "for index, row in df_event.iterrows():\n",
    "    # find the matching patient and channel in df_preEvent\n",
    "    df_preEvent_row = df_preEvent[(df_preEvent[\"patient\"] == row[\"patient\"]) & (df_preEvent[\"ECoG_channel\"] == row[\"ECoG_channel\"]) & (df_preEvent[\"LFP_channel\"] == row[\"LFP_channel\"])]\n",
    "    if not df_preEvent_row.empty:\n",
    "        df_diff.append({\n",
    "            \"patient\": row[\"patient\"],\n",
    "            \"ECoG_channel\": row[\"ECoG_channel\"],\n",
    "            \"freqs\": row[\"freqs\"],\n",
    "            \"wpli\": row[\"wpli\"] - df_preEvent_row.iloc[0][\"wpli\"],\n",
    "            \"psi\": row[\"psi\"] - df_preEvent_row.iloc[0][\"psi\"]\n",
    "        })\n",
    "df_diff = pd.DataFrame(df_diff)\n",
    "\n",
    "filename = \"wPLI_LID_preEventVSevent\"\n",
    "# Loop through all frequency bands\n",
    "for band in ['theta', 'alpha', 'beta_low', 'beta_high', 'gamma', 'gamma_III']:\n",
    "    plot_wPLI_on_cortex(df_diff, filename=filename, frequencyBand=band, onlyOneHemisphere=True, \n",
    "                        cmap=\"bwr\", fixedCmap=np.arange(-0.1, 0.11, 0.05))"
   ]
  }
 ],
 "metadata": {
  "kernelspec": {
   "display_name": "neuro",
   "language": "python",
   "name": "python3"
  },
  "language_info": {
   "codemirror_mode": {
    "name": "ipython",
    "version": 3
   },
   "file_extension": ".py",
   "mimetype": "text/x-python",
   "name": "python",
   "nbconvert_exporter": "python",
   "pygments_lexer": "ipython3",
   "version": "3.11.13"
  }
 },
 "nbformat": 4,
 "nbformat_minor": 5
}

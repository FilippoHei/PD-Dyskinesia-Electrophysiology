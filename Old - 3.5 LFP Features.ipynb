{
 "cells": [
  {
   "cell_type": "code",
   "execution_count": 2,
   "metadata": {},
   "outputs": [],
   "source": [
    "# Import public packages and functions\n",
    "import os\n",
    "import pandas as pd\n",
    "import numpy as np\n",
    "import sys\n",
    "import json\n",
    "from pathlib import Path\n",
    "\n",
    "import seaborn as sns\n",
    "import matplotlib.pyplot as plt\n",
    "import scikit_posthocs as sp\n",
    "\n",
    "import warnings\n",
    "warnings.filterwarnings(\"ignore\")\n",
    "\n",
    "# inserting the lib folder to the compiler\n",
    "sys.path.insert(0, './lib')\n",
    "sys.path.insert(0, './utils/')\n",
    "\n",
    "import utils_plotting_psd, utils_plotting, utils_psd\n",
    "\n",
    "from lib_data import DATA_IO\n",
    "from lib_statistics import NON_PARAMETRIC_TEST, PARAMETRIC_TEST"
   ]
  },
  {
   "cell_type": "code",
   "execution_count": 3,
   "metadata": {},
   "outputs": [],
   "source": [
    "PATH_CURR = os.path.abspath(os.curdir)    # current code\n",
    "PATH      = (str(Path(PATH_CURR).parent)) # data repository: upper directory where datasets situated"
   ]
  },
  {
   "cell_type": "code",
   "execution_count": 4,
   "metadata": {},
   "outputs": [],
   "source": [
    "features  = ['patient', 'event_no', 'event_category', 'event_laterality','event_start_time', 'duration','LFP_hemisphere', \n",
    "             'LFP_channel', 'pre_event_psd', 'event_psd', 'post_event_psd', 'dyskinesia_arm','dyskinesia_total']"
   ]
  },
  {
   "cell_type": "markdown",
   "metadata": {},
   "source": [
    "# 1. DATA IO"
   ]
  },
  {
   "cell_type": "code",
   "execution_count": 8,
   "metadata": {},
   "outputs": [],
   "source": [
    "PSD_TAPPING_C_MOTOR_LID   = pd.read_pickle(DATA_IO.path_events + \"psd/LFP/CONTROLATERAL_MOTOR_LID.pkl\")\n",
    "PSD_TAPPING_C_MOTOR_noLID = pd.read_pickle(DATA_IO.path_events + \"psd/LFP/CONTROLATERAL_MOTOR_noLID.pkl\")\n",
    "PSD_TAPPING_C_MOTOR_LID   = PSD_TAPPING_C_MOTOR_LID[features]\n",
    "PSD_TAPPING_C_MOTOR_noLID = PSD_TAPPING_C_MOTOR_noLID[features]\n",
    "PSD_TAPPING_C_MOTOR       = pd.concat([PSD_TAPPING_C_MOTOR_noLID, PSD_TAPPING_C_MOTOR_LID], ignore_index=True)"
   ]
  },
  {
   "cell_type": "markdown",
   "metadata": {},
   "source": [
    "# 2. MEASURE PSD FEATURES"
   ]
  },
  {
   "cell_type": "code",
   "execution_count": 11,
   "metadata": {},
   "outputs": [],
   "source": [
    "PSD_TAPPING_C_MOTOR       = utils_psd.extract_PSD_features_for_events(PSD_TAPPING_C_MOTOR)"
   ]
  },
  {
   "cell_type": "markdown",
   "metadata": {},
   "source": [
    "# 3. STATISTICAL TEST"
   ]
  },
  {
   "cell_type": "code",
   "execution_count": 13,
   "metadata": {},
   "outputs": [],
   "source": [
    "df_stats_results = NON_PARAMETRIC_TEST.dunn_test(dataset=PSD_TAPPING_C_MOTOR, group_variable=\"dyskinesia_arm\", subset_variable=\"\",\n",
    "                              feature_set=['dyskinesia_arm','pre_event_theta_peak', 'pre_event_theta_peak_frequency', 'pre_event_theta_mean', \n",
    "                                            'pre_event_alpha_peak', 'pre_event_alpha_peak_frequency', 'pre_event_alpha_mean', \n",
    "                                            'pre_event_beta_low_peak', 'pre_event_beta_low_peak_frequency', 'pre_event_beta_low_mean', \n",
    "                                            'pre_event_beta_high_peak', 'pre_event_beta_high_peak_frequency', 'pre_event_beta_high_mean', \n",
    "                                            'pre_event_gamma_peak', 'pre_event_gamma_peak_frequency', 'pre_event_gamma_mean', \n",
    "                                            'event_theta_peak', 'event_theta_peak_frequency', 'event_theta_mean', \n",
    "                                            'event_alpha_peak', 'event_alpha_peak_frequency', 'event_alpha_mean', \n",
    "                                            'event_beta_low_peak', 'event_beta_low_peak_frequency', 'event_beta_low_mean', \n",
    "                                            'event_beta_high_peak', 'event_beta_high_peak_frequency', 'event_beta_high_mean', \n",
    "                                            'event_gamma_peak', 'event_gamma_peak_frequency', 'event_gamma_mean',\n",
    "                                            'post_event_theta_peak', 'post_event_theta_peak_frequency', 'post_event_theta_mean', \n",
    "                                            'post_event_alpha_peak', 'post_event_alpha_peak_frequency', 'post_event_alpha_mean', \n",
    "                                            'post_event_beta_low_peak', 'post_event_beta_low_peak_frequency', 'post_event_beta_low_mean', \n",
    "                                            'post_event_beta_high_peak', 'post_event_beta_high_peak_frequency', 'post_event_beta_high_mean', \n",
    "                                            'post_event_gamma_peak', 'post_event_gamma_peak_frequency', 'post_event_gamma_mean', \n",
    "                                            ])\n"
   ]
  },
  {
   "cell_type": "markdown",
   "metadata": {},
   "source": [
    "# 4. PLOTTING"
   ]
  },
  {
   "cell_type": "code",
   "execution_count": 22,
   "metadata": {},
   "outputs": [
    {
     "ename": "KeyError",
     "evalue": "'voluntary'",
     "output_type": "error",
     "traceback": [
      "\u001b[1;31m---------------------------------------------------------------------------\u001b[0m",
      "\u001b[1;31mKeyError\u001b[0m                                  Traceback (most recent call last)",
      "Cell \u001b[1;32mIn[22], line 2\u001b[0m\n\u001b[0;32m      1\u001b[0m colors \u001b[38;5;241m=\u001b[39m [utils_plotting\u001b[38;5;241m.\u001b[39mcolors[\u001b[38;5;124m'\u001b[39m\u001b[38;5;124mno_LID\u001b[39m\u001b[38;5;124m'\u001b[39m],\n\u001b[1;32m----> 2\u001b[0m           \u001b[43mutils_plotting\u001b[49m\u001b[38;5;241;43m.\u001b[39;49m\u001b[43mcolors\u001b[49m\u001b[43m[\u001b[49m\u001b[38;5;124;43m'\u001b[39;49m\u001b[38;5;124;43mvoluntary\u001b[39;49m\u001b[38;5;124;43m'\u001b[39;49m\u001b[43m]\u001b[49m[\u001b[38;5;124m'\u001b[39m\u001b[38;5;124mmild\u001b[39m\u001b[38;5;124m'\u001b[39m], utils_plotting\u001b[38;5;241m.\u001b[39mcolors[\u001b[38;5;124m'\u001b[39m\u001b[38;5;124mvoluntary\u001b[39m\u001b[38;5;124m'\u001b[39m][\u001b[38;5;124m'\u001b[39m\u001b[38;5;124mmoderate\u001b[39m\u001b[38;5;124m'\u001b[39m]]\n\u001b[0;32m      3\u001b[0m order  \u001b[38;5;241m=\u001b[39m [\u001b[38;5;124m\"\u001b[39m\u001b[38;5;124mnone\u001b[39m\u001b[38;5;124m\"\u001b[39m, \u001b[38;5;124m\"\u001b[39m\u001b[38;5;124mmild\u001b[39m\u001b[38;5;124m\"\u001b[39m, \u001b[38;5;124m\"\u001b[39m\u001b[38;5;124mmoderate\u001b[39m\u001b[38;5;124m\"\u001b[39m]\n",
      "\u001b[1;31mKeyError\u001b[0m: 'voluntary'"
     ]
    }
   ],
   "source": [
    "colors = [utils_plotting.colors['no_LID'],\n",
    "          utils_plotting.colors['tapping']['mild'], utils_plotting.colors['tapping']['moderate']]\n",
    "order  = [\"none\", \"mild\", \"moderate\"]"
   ]
  },
  {
   "cell_type": "code",
   "execution_count": null,
   "metadata": {},
   "outputs": [],
   "source": [
    "plt   = utils_plotting.get_figure_template()\n",
    "\n",
    "ax_11 = plt.subplot2grid((75, 40), (0, 0)  , colspan=10, rowspan=8)\n",
    "ax_12 = plt.subplot2grid((75, 40), (0, 11) , colspan=6, rowspan=8)\n",
    "ax_21 = plt.subplot2grid((75, 40), (15, 0) , colspan=10, rowspan=8)\n",
    "ax_22 = plt.subplot2grid((75, 40), (15, 11) , colspan=6, rowspan=8)\n",
    "ax_31 = plt.subplot2grid((75, 40), (30, 0) , colspan=10, rowspan=8)\n",
    "ax_32 = plt.subplot2grid((75, 40), (30, 11) , colspan=6, rowspan=8)\n",
    "ax_41 = plt.subplot2grid((75, 40), (45, 0) , colspan=10, rowspan=8)\n",
    "ax_42 = plt.subplot2grid((75, 40), (45, 11) , colspan=6, rowspan=8)\n",
    "\n",
    "\n",
    "utils_plotting.boxplot(data=PSD_TAPPING_C_MOTOR, feat_x=\"pre_event_theta_mean\", feat_y=\"dyskinesia_arm\", axis=ax_11, color_palette=colors, order=order, hue=\"\", hue_order=\"\", orient=\"h\")\n",
    "ax_11.set_title(\"θ Mean (% Change vs DOPA-OFF)\", fontsize=utils_plotting.LABEL_SIZE_label)\n",
    "ax_11.set_ylabel(\"\", fontsize=utils_plotting.LABEL_SIZE)\n",
    "ax_11.set_xlim([-100,400])\n",
    "ax_12 = utils_plotting.heatmap_significance(dataset=df_stats_results[df_stats_results.feature == \"pre_event_theta_mean\"], order=order, axis=ax_12)\n",
    "ax_12.set_title(\"Dunn's Test\", fontsize=utils_plotting.LABEL_SIZE_label)\n",
    "\n",
    "utils_plotting.boxplot(data=PSD_TAPPING_C_MOTOR, feat_x=\"pre_event_beta_low_mean\", feat_y=\"dyskinesia_arm\", axis=ax_21, color_palette=colors, order=order, hue=\"\", hue_order=\"\", orient=\"h\")\n",
    "ax_21.set_title(\"Low-β Mean (% Change vs DOPA-OFF)\", fontsize=utils_plotting.LABEL_SIZE_label)\n",
    "ax_21.set_ylabel(\"\", fontsize=utils_plotting.LABEL_SIZE)\n",
    "ax_21.set_xlim([-100,60])\n",
    "ax_22 = utils_plotting.heatmap_significance(dataset=df_stats_results[df_stats_results.feature == \"pre_event_beta_low_mean\"], order=order, axis=ax_22)\n",
    "\n",
    "utils_plotting.boxplot(data=PSD_TAPPING_C_MOTOR, feat_x=\"pre_event_beta_high_mean\", feat_y=\"dyskinesia_arm\", axis=ax_31, color_palette=colors, order=order, hue=\"\", hue_order=\"\", orient=\"h\")\n",
    "ax_31.set_title(\"High-β Mean (% Change vs DOPA-OFF)\", fontsize=utils_plotting.LABEL_SIZE_label)\n",
    "ax_31.set_ylabel(\"\", fontsize=utils_plotting.LABEL_SIZE)\n",
    "ax_31.set_xlim([-100,60])\n",
    "ax_32 = utils_plotting.heatmap_significance(dataset=df_stats_results[df_stats_results.feature == \"pre_event_beta_low_mean\"], order=order, axis=ax_32)\n",
    "\n",
    "utils_plotting.boxplot(data=PSD_TAPPING_C_MOTOR, feat_x=\"pre_event_gamma_mean\", feat_y=\"dyskinesia_arm\", axis=ax_41, color_palette=colors, order=order, hue=\"\", hue_order=\"\", orient=\"h\")\n",
    "ax_41.set_title(\"γ Mean (% Change vs DOPA-OFF)\", fontsize=utils_plotting.LABEL_SIZE_label)\n",
    "ax_41.set_ylabel(\"\", fontsize=utils_plotting.LABEL_SIZE)\n",
    "ax_42 = utils_plotting.heatmap_significance(dataset=df_stats_results[df_stats_results.feature == \"pre_event_gamma_mean\"], order=order, axis=ax_42)\n",
    "ax_41.set_xlim([-50,75])\n",
    "\n",
    "plt.savefig(\"pre_event.svg\", dpi=300)\n"
   ]
  },
  {
   "cell_type": "code",
   "execution_count": null,
   "metadata": {},
   "outputs": [],
   "source": [
    "plt   = utils_plotting.get_figure_template()\n",
    "\n",
    "ax_11 = plt.subplot2grid((75, 40), (0, 0)  , colspan=10, rowspan=8)\n",
    "ax_12 = plt.subplot2grid((75, 40), (0, 11) , colspan=6, rowspan=8)\n",
    "ax_21 = plt.subplot2grid((75, 40), (15, 0) , colspan=10, rowspan=8)\n",
    "ax_22 = plt.subplot2grid((75, 40), (15, 11) , colspan=6, rowspan=8)\n",
    "ax_31 = plt.subplot2grid((75, 40), (30, 0) , colspan=10, rowspan=8)\n",
    "ax_32 = plt.subplot2grid((75, 40), (30, 11) , colspan=6, rowspan=8)\n",
    "ax_41 = plt.subplot2grid((75, 40), (45, 0) , colspan=10, rowspan=8)\n",
    "ax_42 = plt.subplot2grid((75, 40), (45, 11) , colspan=6, rowspan=8)\n",
    "\n",
    "\n",
    "utils_plotting.boxplot(data=PSD_TAPPING_C_MOTOR, feat_x=\"event_theta_mean\", feat_y=\"dyskinesia_arm\", axis=ax_11, color_palette=colors, order=order, hue=\"\", hue_order=\"\", orient=\"h\")\n",
    "ax_11.set_title(\"θ Mean (% Change vs DOPA-OFF)\", fontsize=utils_plotting.LABEL_SIZE_label)\n",
    "ax_11.set_ylabel(\"\", fontsize=utils_plotting.LABEL_SIZE)\n",
    "ax_11.set_xlim([-100,400])\n",
    "ax_12 = utils_plotting.heatmap_significance(dataset=df_stats_results[df_stats_results.feature == \"event_theta_mean\"], order=order, axis=ax_12)\n",
    "ax_12.set_title(\"Dunn's Test\", fontsize=utils_plotting.LABEL_SIZE_label)\n",
    "\n",
    "utils_plotting.boxplot(data=PSD_TAPPING_C_MOTOR, feat_x=\"event_beta_low_mean\", feat_y=\"dyskinesia_arm\", axis=ax_21, color_palette=colors, order=order, hue=\"\", hue_order=\"\", orient=\"h\")\n",
    "ax_21.set_title(\"Low-β Mean (% Change vs DOPA-OFF)\", fontsize=utils_plotting.LABEL_SIZE_label)\n",
    "ax_21.set_ylabel(\"\", fontsize=utils_plotting.LABEL_SIZE)\n",
    "ax_21.set_xlim([-100,60])\n",
    "ax_22 = utils_plotting.heatmap_significance(dataset=df_stats_results[df_stats_results.feature == \"event_beta_low_mean\"], order=order, axis=ax_22)\n",
    "\n",
    "utils_plotting.boxplot(data=PSD_TAPPING_C_MOTOR, feat_x=\"event_beta_high_mean\", feat_y=\"dyskinesia_arm\", axis=ax_31, color_palette=colors, order=order, hue=\"\", hue_order=\"\", orient=\"h\")\n",
    "ax_31.set_title(\"High-β Mean (% Change vs DOPA-OFF)\", fontsize=utils_plotting.LABEL_SIZE_label)\n",
    "ax_31.set_ylabel(\"\", fontsize=utils_plotting.LABEL_SIZE)\n",
    "ax_31.set_xlim([-100,60])\n",
    "ax_32 = utils_plotting.heatmap_significance(dataset=df_stats_results[df_stats_results.feature == \"event_beta_low_mean\"], order=order, axis=ax_32)\n",
    "\n",
    "utils_plotting.boxplot(data=PSD_TAPPING_C_MOTOR, feat_x=\"event_gamma_mean\", feat_y=\"dyskinesia_arm\", axis=ax_41, color_palette=colors, order=order, hue=\"\", hue_order=\"\", orient=\"h\")\n",
    "ax_41.set_title(\"γ Mean (% Change vs DOPA-OFF)\", fontsize=utils_plotting.LABEL_SIZE_label)\n",
    "ax_41.set_ylabel(\"\", fontsize=utils_plotting.LABEL_SIZE)\n",
    "ax_42 = utils_plotting.heatmap_significance(dataset=df_stats_results[df_stats_results.feature == \"event_gamma_mean\"], order=order, axis=ax_42)\n",
    "ax_41.set_xlim([-50,75])\n",
    "\n",
    "plt.savefig(\"event.svg\", dpi=300)\n"
   ]
  },
  {
   "cell_type": "code",
   "execution_count": 19,
   "metadata": {},
   "outputs": [
    {
     "ename": "NameError",
     "evalue": "name 'colors' is not defined",
     "output_type": "error",
     "traceback": [
      "\u001b[1;31m---------------------------------------------------------------------------\u001b[0m",
      "\u001b[1;31mNameError\u001b[0m                                 Traceback (most recent call last)",
      "Cell \u001b[1;32mIn[19], line 13\u001b[0m\n\u001b[0;32m      9\u001b[0m ax_41 \u001b[38;5;241m=\u001b[39m plt\u001b[38;5;241m.\u001b[39msubplot2grid((\u001b[38;5;241m75\u001b[39m, \u001b[38;5;241m40\u001b[39m), (\u001b[38;5;241m45\u001b[39m, \u001b[38;5;241m0\u001b[39m) , colspan\u001b[38;5;241m=\u001b[39m\u001b[38;5;241m10\u001b[39m, rowspan\u001b[38;5;241m=\u001b[39m\u001b[38;5;241m8\u001b[39m)\n\u001b[0;32m     10\u001b[0m ax_42 \u001b[38;5;241m=\u001b[39m plt\u001b[38;5;241m.\u001b[39msubplot2grid((\u001b[38;5;241m75\u001b[39m, \u001b[38;5;241m40\u001b[39m), (\u001b[38;5;241m45\u001b[39m, \u001b[38;5;241m11\u001b[39m) , colspan\u001b[38;5;241m=\u001b[39m\u001b[38;5;241m6\u001b[39m, rowspan\u001b[38;5;241m=\u001b[39m\u001b[38;5;241m8\u001b[39m)\n\u001b[1;32m---> 13\u001b[0m utils_plotting\u001b[38;5;241m.\u001b[39mboxplot(data\u001b[38;5;241m=\u001b[39mPSD_TAPPING_C_MOTOR, feat_x\u001b[38;5;241m=\u001b[39m\u001b[38;5;124m\"\u001b[39m\u001b[38;5;124mpost_event_theta_mean\u001b[39m\u001b[38;5;124m\"\u001b[39m, feat_y\u001b[38;5;241m=\u001b[39m\u001b[38;5;124m\"\u001b[39m\u001b[38;5;124mdyskinesia_arm\u001b[39m\u001b[38;5;124m\"\u001b[39m, axis\u001b[38;5;241m=\u001b[39max_11, color_palette\u001b[38;5;241m=\u001b[39m\u001b[43mcolors\u001b[49m, order\u001b[38;5;241m=\u001b[39morder, hue\u001b[38;5;241m=\u001b[39m\u001b[38;5;124m\"\u001b[39m\u001b[38;5;124m\"\u001b[39m, hue_order\u001b[38;5;241m=\u001b[39m\u001b[38;5;124m\"\u001b[39m\u001b[38;5;124m\"\u001b[39m, orient\u001b[38;5;241m=\u001b[39m\u001b[38;5;124m\"\u001b[39m\u001b[38;5;124mh\u001b[39m\u001b[38;5;124m\"\u001b[39m)\n\u001b[0;32m     14\u001b[0m ax_11\u001b[38;5;241m.\u001b[39mset_title(\u001b[38;5;124m\"\u001b[39m\u001b[38;5;124mθ Mean (\u001b[39m\u001b[38;5;124m%\u001b[39m\u001b[38;5;124m Change vs DOPA-OFF)\u001b[39m\u001b[38;5;124m\"\u001b[39m, fontsize\u001b[38;5;241m=\u001b[39mutils_plotting\u001b[38;5;241m.\u001b[39mLABEL_SIZE_label)\n\u001b[0;32m     15\u001b[0m ax_11\u001b[38;5;241m.\u001b[39mset_ylabel(\u001b[38;5;124m\"\u001b[39m\u001b[38;5;124m\"\u001b[39m, fontsize\u001b[38;5;241m=\u001b[39mutils_plotting\u001b[38;5;241m.\u001b[39mLABEL_SIZE)\n",
      "\u001b[1;31mNameError\u001b[0m: name 'colors' is not defined"
     ]
    },
    {
     "data": {
      "text/plain": [
       "<Figure size 640x480 with 0 Axes>"
      ]
     },
     "metadata": {},
     "output_type": "display_data"
    },
    {
     "data": {
      "image/png": "[encoded data removed]",
      "text/plain": [
       "<Figure size 728.346x826.772 with 9 Axes>"
      ]
     },
     "metadata": {},
     "output_type": "display_data"
    }
   ],
   "source": [
    "plt   = utils_plotting.get_figure_template()\n",
    "\n",
    "ax_11 = plt.subplot2grid((75, 40), (0, 0)  , colspan=10, rowspan=8)\n",
    "ax_12 = plt.subplot2grid((75, 40), (0, 11) , colspan=6, rowspan=8)\n",
    "ax_21 = plt.subplot2grid((75, 40), (15, 0) , colspan=10, rowspan=8)\n",
    "ax_22 = plt.subplot2grid((75, 40), (15, 11) , colspan=6, rowspan=8)\n",
    "ax_31 = plt.subplot2grid((75, 40), (30, 0) , colspan=10, rowspan=8)\n",
    "ax_32 = plt.subplot2grid((75, 40), (30, 11) , colspan=6, rowspan=8)\n",
    "ax_41 = plt.subplot2grid((75, 40), (45, 0) , colspan=10, rowspan=8)\n",
    "ax_42 = plt.subplot2grid((75, 40), (45, 11) , colspan=6, rowspan=8)\n",
    "\n",
    "\n",
    "utils_plotting.boxplot(data=PSD_TAPPING_C_MOTOR, feat_x=\"post_event_theta_mean\", feat_y=\"dyskinesia_arm\", axis=ax_11, color_palette=colors, order=order, hue=\"\", hue_order=\"\", orient=\"h\")\n",
    "ax_11.set_title(\"θ Mean (% Change vs DOPA-OFF)\", fontsize=utils_plotting.LABEL_SIZE_label)\n",
    "ax_11.set_ylabel(\"\", fontsize=utils_plotting.LABEL_SIZE)\n",
    "ax_11.set_xlim([-100,400])\n",
    "ax_12 = utils_plotting.heatmap_significance(dataset=df_stats_results[df_stats_results.feature == \"post_event_theta_mean\"], order=order, axis=ax_12)\n",
    "ax_12.set_title(\"Dunn's Test\", fontsize=utils_plotting.LABEL_SIZE_label)\n",
    "\n",
    "utils_plotting.boxplot(data=PSD_TAPPING_C_MOTOR, feat_x=\"post_event_beta_low_mean\", feat_y=\"dyskinesia_arm\", axis=ax_21, color_palette=colors, order=order, hue=\"\", hue_order=\"\", orient=\"h\")\n",
    "ax_21.set_title(\"Low-β Mean (% Change vs DOPA-OFF)\", fontsize=utils_plotting.LABEL_SIZE_label)\n",
    "ax_21.set_ylabel(\"\", fontsize=utils_plotting.LABEL_SIZE)\n",
    "ax_21.set_xlim([-100,60])\n",
    "ax_22 = utils_plotting.heatmap_significance(dataset=df_stats_results[df_stats_results.feature == \"post_event_beta_low_mean\"], order=order, axis=ax_22)\n",
    "\n",
    "utils_plotting.boxplot(data=PSD_TAPPING_C_MOTOR, feat_x=\"post_event_beta_high_mean\", feat_y=\"dyskinesia_arm\", axis=ax_31, color_palette=colors, order=order, hue=\"\", hue_order=\"\", orient=\"h\")\n",
    "ax_31.set_title(\"High-β Mean (% Change vs DOPA-OFF)\", fontsize=utils_plotting.LABEL_SIZE_label)\n",
    "ax_31.set_ylabel(\"\", fontsize=utils_plotting.LABEL_SIZE)\n",
    "ax_31.set_xlim([-100,60])\n",
    "ax_32 = utils_plotting.heatmap_significance(dataset=df_stats_results[df_stats_results.feature == \"post_event_beta_low_mean\"], order=order, axis=ax_32)\n",
    "\n",
    "utils_plotting.boxplot(data=PSD_TAPPING_C_MOTOR, feat_x=\"post_event_gamma_mean\", feat_y=\"dyskinesia_arm\", axis=ax_41, color_palette=colors, order=order, hue=\"\", hue_order=\"\", orient=\"h\")\n",
    "ax_41.set_title(\"γ Mean (% Change vs DOPA-OFF)\", fontsize=utils_plotting.LABEL_SIZE_label)\n",
    "ax_41.set_ylabel(\"\", fontsize=utils_plotting.LABEL_SIZE)\n",
    "ax_42 = utils_plotting.heatmap_significance(dataset=df_stats_results[df_stats_results.feature == \"post_event_gamma_mean\"], order=order, axis=ax_42)\n",
    "ax_41.set_xlim([-50,75])\n",
    "\n",
    "plt.savefig(\"post_event.svg\", dpi=300)"
   ]
  },
  {
   "cell_type": "code",
   "execution_count": null,
   "metadata": {},
   "outputs": [],
   "source": []
  },
  {
   "cell_type": "code",
   "execution_count": null,
   "metadata": {},
   "outputs": [],
   "source": []
  },
  {
   "cell_type": "code",
   "execution_count": null,
   "metadata": {},
   "outputs": [],
   "source": []
  },
  {
   "cell_type": "code",
   "execution_count": null,
   "metadata": {},
   "outputs": [],
   "source": []
  },
  {
   "cell_type": "code",
   "execution_count": null,
   "metadata": {},
   "outputs": [],
   "source": []
  },
  {
   "cell_type": "code",
   "execution_count": null,
   "metadata": {},
   "outputs": [],
   "source": []
  },
  {
   "cell_type": "code",
   "execution_count": null,
   "metadata": {},
   "outputs": [],
   "source": []
  },
  {
   "cell_type": "code",
   "execution_count": null,
   "metadata": {},
   "outputs": [],
   "source": []
  },
  {
   "cell_type": "code",
   "execution_count": null,
   "metadata": {},
   "outputs": [],
   "source": []
  },
  {
   "cell_type": "code",
   "execution_count": null,
   "metadata": {},
   "outputs": [],
   "source": [
    "plt    = utils_plotting.get_figure_template()\n",
    "\n",
    "ax_1   = plt.subplot2grid((75, 40), (0, 0) , colspan=5, rowspan=20)\n",
    "ax_2   = plt.subplot2grid((75, 40), (0, 5) , colspan=5, rowspan=20)\n",
    "ax_3   = plt.subplot2grid((75, 40), (0, 15) , colspan=5, rowspan=20)\n",
    "ax_4   = plt.subplot2grid((75, 40), (0, 20) , colspan=5, rowspan=20)\n",
    "ax_5   = plt.subplot2grid((75, 40), (0, 30) , colspan=5, rowspan=20)\n",
    "ax_6   = plt.subplot2grid((75, 40), (0, 35) , colspan=5, rowspan=20)\n",
    "\n",
    "ax_7   = plt.subplot2grid((75, 40), (30, 0) , colspan=5, rowspan=20)\n",
    "ax_8   = plt.subplot2grid((75, 40), (30, 5) , colspan=5, rowspan=20)\n",
    "ax_9   = plt.subplot2grid((75, 40), (30, 15) , colspan=5, rowspan=20)\n",
    "ax_10  = plt.subplot2grid((75, 40), (30, 20) , colspan=5, rowspan=20)\n",
    "ax_11  = plt.subplot2grid((75, 40), (30, 30) , colspan=5, rowspan=20)\n",
    "ax_12  = plt.subplot2grid((75, 40), (30, 35) , colspan=5, rowspan=20)\n",
    "\n",
    "########################################################################################################################\n",
    "# PEAK PLOTS ###########################################################################################################\n",
    "########################################################################################################################\n",
    "utils_plotting.boxplot(data=PSD_TAPPING_C_MOTOR, feat_x=\"dyskinesia_arm\", feat_y=\"beta_low_peak_onset_ratio\", axis=ax_1, \n",
    "                       color_palette=colors, order=order, hue=\"\", hue_order=\"\", orient=\"v\", show_whiskers=False)\n",
    "ax_1.set_ylabel(\"Low-β Peak Ratio (%)\", fontsize=utils_plotting.LABEL_SIZE)\n",
    "ax_1.set_xticklabels(\"\")\n",
    "ax_1.set_ylim([-125,25])\n",
    "ax_1.set_title(\"Onset Transition\", fontsize=utils_plotting.LABEL_SIZE)\n",
    "\n",
    "utils_plotting.boxplot(data=PSD_TAPPING_C_MOTOR, feat_x=\"dyskinesia_arm\", feat_y=\"beta_low_peak_offset_ratio\", axis=ax_2, \n",
    "                       color_palette=colors, order=order, hue=\"\", hue_order=\"\", orient=\"v\", show_whiskers=False)\n",
    "ax_2.set_ylabel(\"\", fontsize=utils_plotting.LABEL_SIZE)\n",
    "ax_2.set_xticklabels(\"\")\n",
    "ax_2.set_yticklabels(\"\")\n",
    "ax_2.set_ylim([-125,25])\n",
    "ax_2.set_title(\"Offset Transition\", fontsize=utils_plotting.LABEL_SIZE)\n",
    "\n",
    "utils_plotting.boxplot(data=PSD_TAPPING_C_MOTOR, feat_x=\"dyskinesia_arm\", feat_y=\"beta_high_peak_onset_ratio\", axis=ax_3, \n",
    "                       color_palette=colors, order=order, hue=\"\", hue_order=\"\", orient=\"v\", show_whiskers=False)\n",
    "ax_3.set_ylabel(\"High-β Peak Ratio (%)\", fontsize=utils_plotting.LABEL_SIZE)\n",
    "ax_3.set_xticklabels(\"\")\n",
    "ax_3.set_ylim([-250,50])\n",
    "ax_3.set_title(\"Onset Transition\", fontsize=utils_plotting.LABEL_SIZE)\n",
    "\n",
    "utils_plotting.boxplot(data=PSD_TAPPING_C_MOTOR, feat_x=\"dyskinesia_arm\", feat_y=\"beta_high_peak_offset_ratio\", axis=ax_4, \n",
    "                       color_palette=colors, order=order, hue=\"\", hue_order=\"\", orient=\"v\", show_whiskers=False)\n",
    "ax_4.set_ylabel(\"\", fontsize=utils_plotting.LABEL_SIZE)\n",
    "ax_4.set_xticklabels(\"\")\n",
    "ax_4.set_yticklabels(\"\")\n",
    "ax_4.set_ylim([-250,50])\n",
    "ax_4.set_title(\"Offset Transition\", fontsize=utils_plotting.LABEL_SIZE)\n",
    "\n",
    "utils_plotting.boxplot(data=PSD_TAPPING_C_MOTOR, feat_x=\"dyskinesia_arm\", feat_y=\"gamma_peak_onset_ratio\", axis=ax_5, \n",
    "                       color_palette=colors, order=order, hue=\"\", hue_order=\"\", orient=\"v\", show_whiskers=False)\n",
    "ax_5.set_ylabel(\"γ Peak Ratio (%)\", fontsize=utils_plotting.LABEL_SIZE)\n",
    "ax_5.set_xticklabels(\"\")\n",
    "ax_5.set_ylim([-200,0])\n",
    "ax_5.set_title(\"Onset Transition\", fontsize=utils_plotting.LABEL_SIZE)\n",
    "\n",
    "utils_plotting.boxplot(data=PSD_TAPPING_C_MOTOR, feat_x=\"dyskinesia_arm\", feat_y=\"gamma_peak_offset_ratio\", axis=ax_6, \n",
    "                       color_palette=colors, order=order, hue=\"\", hue_order=\"\", orient=\"v\", show_whiskers=False)\n",
    "ax_6.set_ylabel(\"\", fontsize=utils_plotting.LABEL_SIZE)\n",
    "ax_6.set_xticklabels(\"\")\n",
    "ax_6.set_yticklabels(\"\")\n",
    "ax_6.set_ylim([-200,0])\n",
    "ax_6.set_title(\"Offset Transition\", fontsize=utils_plotting.LABEL_SIZE)\n",
    "\n",
    "########################################################################################################################\n",
    "# BASELINE PLOTS #######################################################################################################\n",
    "########################################################################################################################\n",
    "\n",
    "utils_plotting.boxplot(data=PSD_TAPPING_C_MOTOR, feat_x=\"dyskinesia_arm\", feat_y=\"beta_low_baseline_onset_ratio\", axis=ax_7, \n",
    "                       color_palette=colors, order=order, hue=\"\", hue_order=\"\", orient=\"v\", show_whiskers=False)\n",
    "ax_7.set_ylabel(\"Low-β Baseline Ratio (%)\", fontsize=utils_plotting.LABEL_SIZE)\n",
    "ax_7.set_xticklabels(\"\")\n",
    "ax_7.set_ylim([-175,25])\n",
    "ax_7.set_title(\"Onset Transition\", fontsize=utils_plotting.LABEL_SIZE)\n",
    "\n",
    "utils_plotting.boxplot(data=PSD_TAPPING_C_MOTOR, feat_x=\"dyskinesia_arm\", feat_y=\"beta_low_baseline_offset_ratio\", axis=ax_8, \n",
    "                       color_palette=colors, order=order, hue=\"\", hue_order=\"\", orient=\"v\", show_whiskers=False)\n",
    "ax_8.set_ylabel(\"\", fontsize=utils_plotting.LABEL_SIZE)\n",
    "ax_8.set_xticklabels(\"\")\n",
    "ax_8.set_yticklabels(\"\")\n",
    "ax_8.set_ylim([-175,25])\n",
    "ax_8.set_title(\"Offset Transition\", fontsize=utils_plotting.LABEL_SIZE)\n",
    "\n",
    "utils_plotting.boxplot(data=PSD_TAPPING_C_MOTOR, feat_x=\"dyskinesia_arm\", feat_y=\"beta_high_baseline_onset_ratio\", axis=ax_9, \n",
    "                       color_palette=colors, order=order, hue=\"\", hue_order=\"\", orient=\"v\", show_whiskers=False)\n",
    "ax_9.set_ylabel(\"High-β Baseline Ratio (%)\", fontsize=utils_plotting.LABEL_SIZE)\n",
    "ax_9.set_xticklabels(\"\")\n",
    "ax_9.set_ylim([-175,25])\n",
    "ax_9.set_title(\"Onset Transition\", fontsize=utils_plotting.LABEL_SIZE)\n",
    "\n",
    "utils_plotting.boxplot(data=PSD_TAPPING_C_MOTOR, feat_x=\"dyskinesia_arm\", feat_y=\"beta_high_baseline_offset_ratio\", axis=ax_10, \n",
    "                       color_palette=colors, order=order, hue=\"\", hue_order=\"\", orient=\"v\", show_whiskers=False)\n",
    "ax_10.set_ylabel(\"\", fontsize=utils_plotting.LABEL_SIZE)\n",
    "ax_10.set_xticklabels(\"\")\n",
    "ax_10.set_yticklabels(\"\")\n",
    "ax_10.set_ylim([-175,25])\n",
    "ax_10.set_title(\"Offset Transition\", fontsize=utils_plotting.LABEL_SIZE)\n",
    "\n",
    "utils_plotting.boxplot(data=PSD_TAPPING_C_MOTOR, feat_x=\"dyskinesia_arm\", feat_y=\"gamma_baseline_onset_ratio\", axis=ax_11, \n",
    "                       color_palette=colors, order=order, hue=\"\", hue_order=\"\", orient=\"v\", show_whiskers=False)\n",
    "ax_11.set_ylabel(\"γ Baseline Ratio (%)\", fontsize=utils_plotting.LABEL_SIZE)\n",
    "ax_11.set_xticklabels(\"\")\n",
    "ax_11.set_ylim([-175,50])\n",
    "ax_11.set_title(\"Onset Transition\", fontsize=utils_plotting.LABEL_SIZE)\n",
    "\n",
    "utils_plotting.boxplot(data=PSD_TAPPING_C_MOTOR, feat_x=\"dyskinesia_arm\", feat_y=\"gamma_baseline_offset_ratio\", axis=ax_12, \n",
    "                       color_palette=colors, order=order, hue=\"\", hue_order=\"\", orient=\"v\", show_whiskers=False)\n",
    "ax_12.set_ylabel(\"\", fontsize=utils_plotting.LABEL_SIZE)\n",
    "ax_12.set_xticklabels(\"\")\n",
    "ax_12.set_yticklabels(\"\")\n",
    "ax_12.set_ylim([-175,50])\n",
    "ax_12.set_title(\"Offset Transition\", fontsize=utils_plotting.LABEL_SIZE)\n",
    "\n",
    "plt.savefig(\"b.svg\", dpi=300)"
   ]
  },
  {
   "cell_type": "code",
   "execution_count": null,
   "metadata": {},
   "outputs": [],
   "source": [
    "df_stats_results[(df_stats_results.feature == \"beta_high_peak_onset_ratio\") & (df_stats_results.pvalue <= 0.05)] "
   ]
  },
  {
   "cell_type": "code",
   "execution_count": null,
   "metadata": {},
   "outputs": [],
   "source": []
  }
 ],
 "metadata": {
  "kernelspec": {
   "display_name": "Python 3 (ipykernel)",
   "language": "python",
   "name": "python3"
  },
  "language_info": {
   "codemirror_mode": {
    "name": "ipython",
    "version": 3
   },
   "file_extension": ".py",
   "mimetype": "text/x-python",
   "name": "python",
   "nbconvert_exporter": "python",
   "pygments_lexer": "ipython3",
   "version": "3.9.19"
  }
 },
 "nbformat": 4,
 "nbformat_minor": 4
}

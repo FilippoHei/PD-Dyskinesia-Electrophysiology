{
 "cells": [
  {
   "cell_type": "code",
   "execution_count": 1,
   "metadata": {},
   "outputs": [],
   "source": [
    "# Import public packages and functions\n",
    "import os\n",
    "import pandas as pd\n",
    "import numpy as np\n",
    "import sys\n",
    "import json\n",
    "from pathlib import Path\n",
    "\n",
    "import seaborn as sns\n",
    "import matplotlib.pyplot as plt\n",
    "import scikit_posthocs as sp\n",
    "from statsmodels.stats.multitest import multipletests\n",
    "\n",
    "import warnings\n",
    "warnings.filterwarnings(\"ignore\")\n",
    "\n",
    "# inserting the lib folder to the compiler\n",
    "sys.path.insert(0, './lib')\n",
    "sys.path.insert(0, './utils/')\n",
    "\n",
    "import utils_plotting_psd, utils_plotting, utils_psd, utils_io, utils_statistics\n",
    "pd.options.display.float_format = \"{:,.3f}\".format\n",
    "\n",
    "from lib_data import DATA_IO"
   ]
  },
  {
   "cell_type": "code",
   "execution_count": 2,
   "metadata": {},
   "outputs": [],
   "source": [
    "PATH_CURR              = os.path.abspath(os.curdir)    # current code\n",
    "PATH                   = (str(Path(PATH_CURR).parent)) # data repository: upper directory where datasets situated"
   ]
  },
  {
   "cell_type": "markdown",
   "metadata": {},
   "source": [
    "# 1. DATA LOAD"
   ]
  },
  {
   "cell_type": "code",
   "execution_count": 4,
   "metadata": {},
   "outputs": [],
   "source": [
    "#####################################################################\n",
    "# STEP 1: Loading PSD Data\n",
    "#####################################################################\n",
    "\n",
    "# load ECOG-PSD dataframe\n",
    "ECOG_PSD_controlateral = utils_io.load_ECoG_event_PSD(event_category=\"tapping\", event_laterality=\"controlateral\")\n",
    "\n",
    "# concat all different dyskinesia severity dataframe into single dataframe\n",
    "ECOG_PSD = pd.DataFrame()\n",
    "for severity in ECOG_PSD_controlateral.keys():\n",
    "    ECOG_PSD = pd.concat([ECOG_PSD, ECOG_PSD_controlateral[severity]], ignore_index=True)\n",
    "\n",
    "# assign severity scores\n",
    "ECOG_PSD[\"severity\"] = ECOG_PSD['dyskinesia_arm']\n",
    "ECOG_PSD.loc[(ECOG_PSD['severity'] != \"none\"), 'severity']                                        = 'LID'\n",
    "ECOG_PSD.loc[(ECOG_PSD['event_start_time'] < 30)  & (ECOG_PSD['severity'] == \"none\"), 'severity'] = 'noLID_noDOPA'\n",
    "ECOG_PSD.loc[(ECOG_PSD['event_start_time'] >= 30) & (ECOG_PSD['severity'] == \"none\"), 'severity'] = 'noLID_DOPA'\n",
    "\n",
    "\n",
    "# arrange the dataframe\n",
    "ECOG_PSD['hemisphere'] = ECOG_PSD['ECoG_hemisphere']\n",
    "ECOG_PSD['channel']    = ECOG_PSD['ECoG_channel']\n",
    "# create a unique channel identifier\n",
    "ECOG_PSD[\"channel_id\"] = ECOG_PSD[\"patient\"] + \"_\" + ECOG_PSD[\"hemisphere\"] + \"_\" + ECOG_PSD[\"channel\"]\n",
    "\n",
    "ECOG_PSD = ECOG_PSD[['patient', \"channel_id\", 'severity',\n",
    "                     'pre_event_theta_mean', 'pre_event_alpha_mean', 'pre_event_beta_low_mean','pre_event_beta_high_mean','pre_event_gamma_mean',\n",
    "                     'event_theta_mean', 'event_alpha_mean', 'event_beta_low_mean','event_beta_high_mean','event_gamma_mean', \n",
    "                     'post_event_theta_mean', 'post_event_alpha_mean', 'post_event_beta_low_mean','post_event_beta_high_mean','post_event_gamma_mean']]\n",
    "\n",
    "features = ['pre_event_theta_mean', 'pre_event_alpha_mean', 'pre_event_beta_low_mean',\n",
    "            'pre_event_beta_high_mean','pre_event_gamma_mean',\n",
    "            'event_theta_mean', 'event_alpha_mean', 'event_beta_low_mean',\n",
    "            'event_beta_high_mean','event_gamma_mean', \n",
    "            'post_event_theta_mean', 'post_event_alpha_mean',\n",
    "            'post_event_beta_low_mean','post_event_beta_high_mean','post_event_gamma_mean']"
   ]
  },
  {
   "cell_type": "code",
   "execution_count": 5,
   "metadata": {},
   "outputs": [
    {
     "name": "stdout",
     "output_type": "stream",
     "text": [
      "NoLID NoDOPA patients : 10\n",
      "NoLID DOPA patients   : 9\n",
      "LID patients          : 8\n"
     ]
    }
   ],
   "source": [
    "print(\"NoLID NoDOPA patients : \" + str(ECOG_PSD_controlateral[\"noLID_noDOPA\"].patient.nunique()))\n",
    "print(\"NoLID DOPA patients   : \" + str(ECOG_PSD_controlateral[\"noLID_DOPA\"].patient.nunique()))\n",
    "print(\"LID patients          : \" + str(ECOG_PSD_controlateral[\"LID\"].patient.nunique()))"
   ]
  },
  {
   "cell_type": "markdown",
   "metadata": {},
   "source": [
    "# 2. LME"
   ]
  },
  {
   "cell_type": "code",
   "execution_count": 7,
   "metadata": {},
   "outputs": [],
   "source": [
    "dataset_noLIDnoDOPA_vs_noLIDDOPA = ECOG_PSD[ECOG_PSD.severity!=\"LID\"].copy()\n",
    "dataset_noLIDnoDOPA_vs_LID       = ECOG_PSD[ECOG_PSD.severity!=\"noLID_DOPA\"].copy()\n",
    "dataset_noLIDDOPA_vs_LID         = ECOG_PSD[ECOG_PSD.severity!=\"noLID_noDOPA\"].copy()\n",
    "\n",
    "dataset_noLIDnoDOPA_vs_noLIDDOPA.severity = dataset_noLIDnoDOPA_vs_noLIDDOPA.severity.map({'noLID_noDOPA': 0, 'noLID_DOPA': 1})\n",
    "dataset_noLIDnoDOPA_vs_LID.severity       = dataset_noLIDnoDOPA_vs_LID.severity.map({'noLID_noDOPA': 0, 'LID': 1})\n",
    "dataset_noLIDDOPA_vs_LID.severity         = dataset_noLIDDOPA_vs_LID.severity.map({'noLID_DOPA': 0, 'LID': 1})\n",
    "                  \n",
    "dataset_noLIDnoDOPA_vs_noLIDDOPA.reset_index(drop=True, inplace=True)\n",
    "dataset_noLIDnoDOPA_vs_LID.reset_index(drop=True, inplace=True)\n",
    "dataset_noLIDDOPA_vs_LID.reset_index(drop=True, inplace=True)"
   ]
  },
  {
   "cell_type": "code",
   "execution_count": 8,
   "metadata": {},
   "outputs": [],
   "source": [
    "def built_nested_lme_and_fit(dataset, feature):\n",
    "    \n",
    "    import statsmodels.formula.api as smf\n",
    "    \n",
    "    model   = smf.mixedlm(formula    = f\"{feature} ~ severity\",\n",
    "                          data       = dataset, \n",
    "                          groups     = dataset[\"patient\"], \n",
    "                          vc_formula = {\"channel\": \"0 + C(channel_id)\"})  # random intercept per channel\n",
    "    result  = model.fit()\n",
    "\n",
    "    coef    = result.fe_params[\"severity\"]\n",
    "    p_value = result.pvalues[\"severity\"]\n",
    "    std_err = result.bse[\"severity\"]\n",
    "    z_stat  = coef/std_err\n",
    "    return [coef, p_value, z_stat]"
   ]
  },
  {
   "cell_type": "markdown",
   "metadata": {},
   "source": [
    "## 2.1 NoLID-NoDOPA vs noLID-DOPA"
   ]
  },
  {
   "cell_type": "code",
   "execution_count": 10,
   "metadata": {},
   "outputs": [],
   "source": [
    "lme_results = []\n",
    "dataset     = dataset_noLIDnoDOPA_vs_noLIDDOPA\n",
    "for feature in features:\n",
    "    lme_results.append(built_nested_lme_and_fit(dataset, feature))\n",
    "\n",
    "lme_noLIDnoDOPA_vs_noLIDDOPA                     = pd.DataFrame(data=lme_results, columns=[\"coefficient\", \"p_value\", \"z_stat\"])\n",
    "lme_noLIDnoDOPA_vs_noLIDDOPA[\"feature\"]          = features\n",
    "lme_noLIDnoDOPA_vs_noLIDDOPA[\"reference_group\"]  = \"noLID_noDOPA\"\n",
    "lme_noLIDnoDOPA_vs_noLIDDOPA[\"comparison_group\"] = \"noLID_DOPA\"\n",
    "lme_noLIDnoDOPA_vs_noLIDDOPA[\"p_value_corrected\"] = multipletests(lme_noLIDnoDOPA_vs_noLIDDOPA.p_value.to_list(), method='holm')[1]"
   ]
  },
  {
   "cell_type": "markdown",
   "metadata": {},
   "source": [
    "## 2.2 NoLID-NoDOPA vs LID"
   ]
  },
  {
   "cell_type": "code",
   "execution_count": 18,
   "metadata": {},
   "outputs": [],
   "source": [
    "lme_results = []\n",
    "dataset     = dataset_noLIDnoDOPA_vs_LID\n",
    "for feature in features:\n",
    "    lme_results.append(built_nested_lme_and_fit(dataset, feature))\n",
    "\n",
    "lme_noLIDnoDOPA_vs_LID                     = pd.DataFrame(data=lme_results, columns=[\"coefficient\", \"p_value\", \"z_stat\"])\n",
    "lme_noLIDnoDOPA_vs_LID[\"feature\"]          = features\n",
    "lme_noLIDnoDOPA_vs_LID[\"reference_group\"]  = \"noLID_noDOPA\"\n",
    "lme_noLIDnoDOPA_vs_LID[\"comparison_group\"] = \"LID\"\n",
    "lme_noLIDnoDOPA_vs_LID[\"p_value_corrected\"] = multipletests(lme_noLIDnoDOPA_vs_LID.p_value.to_list(), method='holm')[1]"
   ]
  },
  {
   "cell_type": "markdown",
   "metadata": {},
   "source": [
    "## 3.3 NoLID-DOPA vs LID"
   ]
  },
  {
   "cell_type": "code",
   "execution_count": 20,
   "metadata": {},
   "outputs": [],
   "source": [
    "lme_results = []\n",
    "dataset     = dataset_noLIDDOPA_vs_LID\n",
    "for feature in features:\n",
    "    lme_results.append(built_nested_lme_and_fit(dataset, feature))\n",
    "\n",
    "lme_noLIDDOPA_vs_LID                     = pd.DataFrame(data=lme_results, columns=[\"coefficient\", \"p_value\", \"z_stat\"])\n",
    "lme_noLIDDOPA_vs_LID[\"feature\"]          = features\n",
    "lme_noLIDDOPA_vs_LID[\"reference_group\"]  = \"noLID_DOPA\"\n",
    "lme_noLIDDOPA_vs_LID[\"comparison_group\"] = \"LID\"\n",
    "lme_noLIDDOPA_vs_LID[\"p_value_corrected\"] = multipletests(lme_noLIDDOPA_vs_LID.p_value.to_list(), method='holm')[1]"
   ]
  },
  {
   "cell_type": "code",
   "execution_count": 23,
   "metadata": {},
   "outputs": [],
   "source": [
    "LMM_result_ECOG = pd.concat([lme_noLIDnoDOPA_vs_noLIDDOPA, lme_noLIDDOPA_vs_LID], ignore_index=True)\n",
    "LMM_result_ECOG.to_csv(DATA_IO.path_events + \"lme/lme_ECOG.csv\")"
   ]
  },
  {
   "cell_type": "markdown",
   "metadata": {},
   "source": [
    "# 3. PLOTTING"
   ]
  },
  {
   "cell_type": "code",
   "execution_count": 36,
   "metadata": {},
   "outputs": [],
   "source": [
    "LMM_result_ECOG                      = pd.read_csv(DATA_IO.path_events + \"lme/lme_ECOG.csv\")\n",
    "LMM_result_LFP                       = pd.read_csv(DATA_IO.path_events + \"lme/lme_STN.csv\")\n",
    "\n",
    "features_pre_event                   = ['pre_event_theta_mean', 'pre_event_alpha_mean', 'pre_event_beta_low_mean','pre_event_beta_high_mean','pre_event_gamma_mean']\n",
    "features_event                       = ['event_theta_mean', 'event_alpha_mean', 'event_beta_low_mean','event_beta_high_mean','event_gamma_mean']\n",
    "features_post_event                  = ['post_event_theta_mean', 'post_event_alpha_mean', 'post_event_beta_low_mean','post_event_beta_high_mean','post_event_gamma_mean']\n",
    "\n",
    "LMM_LFP_results_pre_event            = LMM_result_LFP[LMM_result_LFP.feature.isin(features_pre_event)]\n",
    "LMM_LFP_results_event                = LMM_result_LFP[LMM_result_LFP.feature.isin(features_event)]\n",
    "LMM_LFP_results_post_event           = LMM_result_LFP[LMM_result_LFP.feature.isin(features_post_event)]\n",
    "LMM_ECOG_results_pre_event           = LMM_result_ECOG[LMM_result_ECOG.feature.isin(features_pre_event)]\n",
    "LMM_ECOG_results_event               = LMM_result_ECOG[LMM_result_ECOG.feature.isin(features_event)]\n",
    "LMM_ECOG_results_post_event          = LMM_result_ECOG[LMM_result_ECOG.feature.isin(features_post_event)]"
   ]
  },
  {
   "cell_type": "code",
   "execution_count": 38,
   "metadata": {},
   "outputs": [],
   "source": [
    "def plot_tstats_by_band(df, ref, comp, color_data, ax):\n",
    "\n",
    "    # filter data\n",
    "    plot_df = df[(df['reference_group'] == ref) & (df['comparison_group'] == comp)].copy()\n",
    "\n",
    "    # prepare feature labels and significance colors\n",
    "    plot_df['band'] = (\n",
    "        plot_df['feature']\n",
    "        .str.replace('event_', '', regex=False)\n",
    "        .str.replace('_mean', '', regex=False)\n",
    "    )\n",
    "    plot_df['significant'] = plot_df['p_value_corrected'] < 0.05\n",
    "    plot_df['color']       = plot_df['significant'].map({True: color_data, False: '#ccccccff'})\n",
    "\n",
    "    # Plot using Seaborn (structure only)\n",
    "    ax = sns.scatterplot(data=plot_df, x='band', y='z_stat', c=plot_df.color.to_list(), s=15, ax=ax)\n",
    "\n",
    "    # Decorations\n",
    "    # ax.axhline(-2, linestyle='--', color='gray')\n",
    "    # ax.axhline(2, linestyle='--', color='gray')\n",
    "    ax.set_title(f\"{ref} vs {comp}\", fontsize=utils_plotting.LABEL_SIZE)\n",
    "    ax.set_ylabel(\"\", fontsize=utils_plotting.LABEL_SIZE)\n",
    "    ax.set_xlabel(ref, fontsize=utils_plotting.LABEL_SIZE)\n",
    "    ax.set_title(comp, fontsize=utils_plotting.LABEL_SIZE)\n",
    "    ax.set_ylim(-15, 15)\n",
    "    \n",
    "    # clean up spines and ticks\n",
    "    for spine in ax.spines.values():\n",
    "        spine.set_visible(False)\n",
    "    ax.xaxis.set_ticks_position('none')\n",
    "    ax.yaxis.set_ticks_position('none')\n",
    "    ax.set_xticklabels(ax.get_xticklabels(), fontsize=utils_plotting.LABEL_SIZE, rotation=90)\n",
    "    ax.set_yticks([-15, -10, -5, 0, 5, 10, 15])\n",
    "    ax.set_yticklabels(ax.get_yticklabels(), fontsize=utils_plotting.LABEL_SIZE)\n",
    "\n",
    "    return ax"
   ]
  },
  {
   "cell_type": "code",
   "execution_count": 40,
   "metadata": {},
   "outputs": [
    {
     "data": {
      "text/plain": [
       "<Figure size 640x480 with 0 Axes>"
      ]
     },
     "metadata": {},
     "output_type": "display_data"
    },
    {
     "data": {
      "image/png": "[encoded data removed]",
      "text/plain": [
       "<Figure size 728.346x826.772 with 6 Axes>"
      ]
     },
     "metadata": {},
     "output_type": "display_data"
    }
   ],
   "source": [
    "# plot\n",
    "c_STN    = \"#006466ff\"\n",
    "c_CORTEX = \"#4d194dff\"\n",
    "\n",
    "\n",
    "plt = utils_plotting.get_figure_template()\n",
    "\n",
    "ax1 = plt.subplot2grid((77, 66), (0, 0) , colspan=15, rowspan=10)\n",
    "ax3 = plt.subplot2grid((77, 66), (0, 22), colspan=15, rowspan=10)\n",
    "\n",
    "ax4 = plt.subplot2grid((77, 66), (20, 0) , colspan=15, rowspan=10)\n",
    "ax6 = plt.subplot2grid((77, 66), (20, 22), colspan=15, rowspan=10)\n",
    "\n",
    "ax7 = plt.subplot2grid((77, 66), (40, 0) , colspan=15, rowspan=10)\n",
    "ax9 = plt.subplot2grid((77, 66), (40, 22), colspan=15, rowspan=10)\n",
    "\n",
    "ax1 = plot_tstats_by_band(LMM_LFP_results_pre_event  , 'noLID_noDOPA', 'noLID_DOPA', c_STN, ax1)\n",
    "ax3 = plot_tstats_by_band(LMM_LFP_results_pre_event  , 'noLID_DOPA'  , 'LID'       , c_STN, ax3)\n",
    "ax1 = plot_tstats_by_band(LMM_ECOG_results_pre_event , 'noLID_noDOPA', 'noLID_DOPA', c_CORTEX, ax1)\n",
    "ax3 = plot_tstats_by_band(LMM_ECOG_results_pre_event , 'noLID_DOPA'  , 'LID'       , c_CORTEX, ax3)\n",
    "\n",
    "ax4 = plot_tstats_by_band(LMM_LFP_results_event      , 'noLID_noDOPA', 'noLID_DOPA', c_STN, ax4)\n",
    "ax6 = plot_tstats_by_band(LMM_LFP_results_event      , 'noLID_DOPA'  , 'LID'       , c_STN, ax6)\n",
    "ax4 = plot_tstats_by_band(LMM_ECOG_results_event     , 'noLID_noDOPA', 'noLID_DOPA', c_CORTEX, ax4)\n",
    "ax6 = plot_tstats_by_band(LMM_ECOG_results_event     , 'noLID_DOPA'  , 'LID'       , c_CORTEX, ax6)\n",
    "\n",
    "ax7 = plot_tstats_by_band(LMM_LFP_results_post_event , 'noLID_noDOPA', 'noLID_DOPA', c_STN, ax7)\n",
    "ax9 = plot_tstats_by_band(LMM_LFP_results_post_event , 'noLID_DOPA'  , 'LID'       , c_STN, ax9)\n",
    "ax7 = plot_tstats_by_band(LMM_ECOG_results_post_event, 'noLID_noDOPA', 'noLID_DOPA', c_CORTEX, ax7)\n",
    "ax9 = plot_tstats_by_band(LMM_ECOG_results_post_event, 'noLID_DOPA'  , 'LID'       , c_CORTEX, ax9)\n",
    "\n",
    "plt.savefig(DATA_IO.path_figure + \"LME_PSD_results.svg\", dpi=1200)"
   ]
  },
  {
   "cell_type": "markdown",
   "metadata": {},
   "source": [
    "# 4. PLOTTING-PSD"
   ]
  },
  {
   "cell_type": "code",
   "execution_count": 3,
   "metadata": {},
   "outputs": [],
   "source": [
    "# load PSD dataframe\n",
    "ECOG_PSD_controlateral = utils_io.load_ECoG_event_PSD(event_category=\"tapping\", event_laterality=\"controlateral\")\n",
    "ECOG_PSD_ipsilateral   = utils_io.load_ECoG_event_PSD(event_category=\"tapping\", event_laterality=\"ipsilateral\")\n",
    "\n",
    "# load MNI Coordinates of ECoG channels\n",
    "MNI_ECoG_channels      = pd.read_pickle(DATA_IO.path_coordinates + \"MNI_ECoG_channels.pkl\")\n",
    "\n",
    "# Define Cortical Parcellation\n",
    "ECOG_PSD_controlateral_motor      = utils_psd.select_ECoG_PSD_based_on_cortical_parcellation(ECOG_PSD_controlateral, MNI_ECoG_channels, cortical_region=\"Motor cortex\")\n",
    "ECOG_PSD_controlateral_sensory    = utils_psd.select_ECoG_PSD_based_on_cortical_parcellation(ECOG_PSD_controlateral, MNI_ECoG_channels, cortical_region=\"Sensory cortex\")\n",
    "ECOG_PSD_controlateral_prefrontal = utils_psd.select_ECoG_PSD_based_on_cortical_parcellation(ECOG_PSD_controlateral, MNI_ECoG_channels, cortical_region=\"Prefrontal cortex\")\n",
    "ECOG_PSD_controlateral_parietal   = utils_psd.select_ECoG_PSD_based_on_cortical_parcellation(ECOG_PSD_controlateral, MNI_ECoG_channels, cortical_region=\"Parietal cortex\")"
   ]
  },
  {
   "cell_type": "code",
   "execution_count": 4,
   "metadata": {},
   "outputs": [
    {
     "name": "stdout",
     "output_type": "stream",
     "text": [
      "NoLID NoDOPA patients : 10\n",
      "NoLID DOPA patients   : 9\n",
      "LID patients          : 8\n"
     ]
    }
   ],
   "source": [
    "ECOG_PSD_controlateral = utils_io.load_ECoG_event_PSD(event_category=\"tapping\", event_laterality=\"controlateral\")\n",
    "ECOG_PSD               = pd.DataFrame()\n",
    "\n",
    "for severity in ECOG_PSD_controlateral.keys():\n",
    "    ECOG_PSD = pd.concat([ECOG_PSD, ECOG_PSD_controlateral[severity]], ignore_index=True)\n",
    "\n",
    "ECOG_PSD['severity']  = ECOG_PSD['dyskinesia_arm']\n",
    "ECOG_PSD.loc[(ECOG_PSD['event_start_time'] < 30)  & (ECOG_PSD['dyskinesia_arm'] == \"none\"), 'severity'] = 'noLID_noDOPA'\n",
    "ECOG_PSD.loc[(ECOG_PSD['event_start_time'] >= 30) & (ECOG_PSD['dyskinesia_arm'] == \"none\"), 'severity'] = 'noLID_DOPA'\n",
    "ECOG_PSD.loc[(ECOG_PSD['dyskinesia_arm'] != \"none\"), 'severity'] = 'LID'\n",
    "\n",
    "features = ['pre_event_theta_mean', 'pre_event_alpha_mean', 'pre_event_beta_low_mean','pre_event_beta_high_mean','pre_event_gamma_mean',\n",
    "            'event_theta_mean', 'event_alpha_mean', 'event_beta_low_mean','event_beta_high_mean','event_gamma_mean',\n",
    "            'post_event_theta_mean', 'post_event_alpha_mean', 'post_event_beta_low_mean','post_event_beta_high_mean','post_event_gamma_mean',\n",
    "            \"severity\",\"patient\"]\n",
    "\n",
    "ECOG_PSD[features].to_csv(DATA_IO.path_events + \"ECOG_PSD.csv\")\n",
    "\n",
    "print(\"NoLID NoDOPA patients : \" + str(ECOG_PSD_controlateral[\"noLID_noDOPA\"].patient.nunique()))\n",
    "print(\"NoLID DOPA patients   : \" + str(ECOG_PSD_controlateral[\"noLID_DOPA\"].patient.nunique()))\n",
    "print(\"LID patients          : \" + str(ECOG_PSD_controlateral[\"LID\"].patient.nunique()))"
   ]
  },
  {
   "cell_type": "markdown",
   "metadata": {
    "jp-MarkdownHeadingCollapsed": true
   },
   "source": [
    "## 1.1 All Channels"
   ]
  },
  {
   "cell_type": "code",
   "execution_count": 15,
   "metadata": {},
   "outputs": [
    {
     "data": {
      "text/plain": [
       "<Figure size 640x480 with 0 Axes>"
      ]
     },
     "metadata": {},
     "output_type": "display_data"
    },
    {
     "data": {
      "image/png": "[encoded data removed]",
      "text/plain": [
       "<Figure size 728.346x826.772 with 1 Axes>"
      ]
     },
     "metadata": {},
     "output_type": "display_data"
    },
    {
     "data": {
      "text/plain": [
       "<Figure size 640x480 with 0 Axes>"
      ]
     },
     "metadata": {},
     "output_type": "display_data"
    },
    {
     "data": {
      "image/png": "[encoded data removed]",
      "text/plain": [
       "<Figure size 728.346x826.772 with 1 Axes>"
      ]
     },
     "metadata": {},
     "output_type": "display_data"
    },
    {
     "data": {
      "text/plain": [
       "<Figure size 640x480 with 0 Axes>"
      ]
     },
     "metadata": {},
     "output_type": "display_data"
    },
    {
     "data": {
      "image/png": "[encoded data removed]",
      "text/plain": [
       "<Figure size 728.346x826.772 with 1 Axes>"
      ]
     },
     "metadata": {},
     "output_type": "display_data"
    }
   ],
   "source": [
    "utils_plotting_psd.plot_LID_severity_psd(ECOG_PSD_controlateral, averaging=\"mean\", vmin=-50, vmax=150, segment=\"pre_event\", error_type=\"se\", \n",
    "                                         figure_name=DATA_IO.path_figure + \"ECoG-PSD/controlateral/all_channels_for_pre_event_segment\")\n",
    "utils_plotting_psd.plot_LID_severity_psd(ECOG_PSD_controlateral, averaging=\"mean\", vmin=-50, vmax=150, segment=\"event\", error_type=\"se\", \n",
    "                                         figure_name=DATA_IO.path_figure + \"ECoG-PSD/controlateral/all_channels_for_event_segment\")\n",
    "utils_plotting_psd.plot_LID_severity_psd(ECOG_PSD_controlateral, averaging=\"mean\", vmin=-50, vmax=150, segment=\"post_event\", error_type=\"se\", \n",
    "                                         figure_name=DATA_IO.path_figure + \"ECoG-PSD/controlateral/all_channels_for_post_event_segment\")"
   ]
  },
  {
   "cell_type": "markdown",
   "metadata": {},
   "source": [
    "## 1.2 Mortor Cortex"
   ]
  },
  {
   "cell_type": "code",
   "execution_count": null,
   "metadata": {},
   "outputs": [],
   "source": [
    "utils_plotting_psd.plot_LID_severity_psd(ECOG_PSD_controlateral_motor, segment=\"pre_event\", dyskinesia_strategy=\"dyskinesia_arm\", error_type=\"se\", \n",
    "                                         figure_name=DATA_IO.path_figure + \"ECoG-PSD/controlateral//motor_cortex_channels_for_pre_event_segment\")\n",
    "utils_plotting_psd.plot_LID_severity_psd(ECOG_PSD_controlateral_motor, segment=\"event\", dyskinesia_strategy=\"dyskinesia_arm\", error_type=\"se\", \n",
    "                                         figure_name=DATA_IO.path_figure + \"ECoG-PSD/controlateral//motor_cortex_channels_for_event_segment\")\n",
    "utils_plotting_psd.plot_LID_severity_psd(ECOG_PSD_controlateral_motor, segment=\"post_event\", dyskinesia_strategy=\"dyskinesia_arm\", error_type=\"se\", \n",
    "                                         figure_name=DATA_IO.path_figure + \"ECoG-PSD/controlateral/motor_cortex_channels_for_post_event_segment\")"
   ]
  },
  {
   "cell_type": "markdown",
   "metadata": {},
   "source": [
    "## 1.3 Sensory Cortex"
   ]
  },
  {
   "cell_type": "code",
   "execution_count": null,
   "metadata": {},
   "outputs": [],
   "source": [
    "utils_plotting_psd.plot_LID_severity_psd(ECOG_PSD_controlateral_sensory, segment=\"pre_event\", dyskinesia_strategy=\"dyskinesia_arm\", error_type=\"se\", \n",
    "                                         figure_name=DATA_IO.path_figure + \"ECoG-PSD/controlateral//sensory_cortex_channels_for_pre_event_segment\")\n",
    "utils_plotting_psd.plot_LID_severity_psd(ECOG_PSD_controlateral_sensory, segment=\"event\", dyskinesia_strategy=\"dyskinesia_arm\", error_type=\"se\", \n",
    "                                         figure_name=DATA_IO.path_figure + \"ECoG-PSD/controlateral//sensory_cortex_channels_for_event_segment\")\n",
    "utils_plotting_psd.plot_LID_severity_psd(ECOG_PSD_controlateral_sensory, segment=\"post_event\", dyskinesia_strategy=\"dyskinesia_arm\", error_type=\"se\", \n",
    "                                         figure_name=DATA_IO.path_figure + \"ECoG-PSD/controlateral/sensory_cortex_channels_for_post_event_segment\")"
   ]
  },
  {
   "cell_type": "markdown",
   "metadata": {},
   "source": [
    "## 1.4 Prefrontal Cortex"
   ]
  },
  {
   "cell_type": "code",
   "execution_count": null,
   "metadata": {},
   "outputs": [],
   "source": [
    "utils_plotting_psd.plot_LID_severity_psd(ECOG_PSD_controlateral_prefrontal, segment=\"pre_event\", dyskinesia_strategy=\"dyskinesia_arm\", error_type=\"se\", \n",
    "                                         figure_name=DATA_IO.path_figure + \"ECoG-PSD/controlateral//prefrontal_cortex_channels_for_pre_event_segment\")\n",
    "utils_plotting_psd.plot_LID_severity_psd(ECOG_PSD_controlateral_prefrontal, segment=\"event\", dyskinesia_strategy=\"dyskinesia_arm\", error_type=\"se\", \n",
    "                                         figure_name=DATA_IO.path_figure + \"ECoG-PSD/controlateral//prefrontal_cortex_channels_for_event_segment\")\n",
    "utils_plotting_psd.plot_LID_severity_psd(ECOG_PSD_controlateral_prefrontal, segment=\"post_event\", dyskinesia_strategy=\"dyskinesia_arm\", error_type=\"se\", \n",
    "                                         figure_name=DATA_IO.path_figure + \"ECoG-PSD/controlateral/prefrontal_cortex_channels_for_post_event_segment\")"
   ]
  },
  {
   "cell_type": "markdown",
   "metadata": {},
   "source": [
    "## 1.5 Parietal Cortex"
   ]
  },
  {
   "cell_type": "code",
   "execution_count": null,
   "metadata": {},
   "outputs": [],
   "source": [
    "utils_plotting_psd.plot_LID_severity_psd(ECOG_PSD_controlateral_parietal, segment=\"pre_event\", dyskinesia_strategy=\"dyskinesia_arm\", error_type=\"se\", \n",
    "                                         figure_name=DATA_IO.path_figure + \"ECoG-PSD/controlateral//parietal_cortex_channels_for_pre_event_segment\")\n",
    "utils_plotting_psd.plot_LID_severity_psd(ECOG_PSD_controlateral_parietal, segment=\"event\", dyskinesia_strategy=\"dyskinesia_arm\", error_type=\"se\", \n",
    "                                         figure_name=DATA_IO.path_figure + \"ECoG-PSD/controlateral//parietal_cortex_channels_for_event_segment\")\n",
    "utils_plotting_psd.plot_LID_severity_psd(ECOG_PSD_controlateral_parietal, segment=\"post_event\", dyskinesia_strategy=\"dyskinesia_arm\", error_type=\"se\", \n",
    "                                         figure_name=DATA_IO.path_figure + \"ECoG-PSD/controlateral/parietal_cortex_channels_for_post_event_segment\")"
   ]
  }
 ],
 "metadata": {
  "kernelspec": {
   "display_name": "Python 3 (ipykernel)",
   "language": "python",
   "name": "python3"
  },
  "language_info": {
   "codemirror_mode": {
    "name": "ipython",
    "version": 3
   },
   "file_extension": ".py",
   "mimetype": "text/x-python",
   "name": "python",
   "nbconvert_exporter": "python",
   "pygments_lexer": "ipython3",
   "version": "3.9.19"
  }
 },
 "nbformat": 4,
 "nbformat_minor": 4
}

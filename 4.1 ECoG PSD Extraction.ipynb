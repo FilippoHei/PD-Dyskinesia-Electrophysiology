{
 "cells": [
  {
   "cell_type": "code",
   "execution_count": 2,
   "metadata": {},
   "outputs": [],
   "source": [
    "# Import public packages and functions\n",
    "import os\n",
    "import pandas as pd\n",
    "import numpy as np\n",
    "import sys\n",
    "import json\n",
    "from pathlib import Path\n",
    "\n",
    "import seaborn as sns\n",
    "import matplotlib.pyplot as plt\n",
    "import scikit_posthocs as sp\n",
    "\n",
    "import warnings\n",
    "warnings.filterwarnings(\"ignore\")\n",
    "\n",
    "# inserting the lib folder to the compiler\n",
    "sys.path.insert(0, './lib')\n",
    "sys.path.insert(0, './utils/')\n",
    "\n",
    "import utils_psd\n",
    "\n",
    "from lib_data import DATA_IO\n",
    "from lib_ECoG import ECoG"
   ]
  },
  {
   "cell_type": "code",
   "execution_count": 3,
   "metadata": {},
   "outputs": [],
   "source": [
    "PATH_CURR       = os.path.abspath(os.curdir)    # current code\n",
    "PATH            = (str(Path(PATH_CURR).parent)) # data repository: upper directory where datasets situated\n",
    "df_ECoG_events  = pd.read_pickle(DATA_IO.path_events + \"ECoG_EVENTS.pkl\")"
   ]
  },
  {
   "cell_type": "code",
   "execution_count": null,
   "metadata": {},
   "outputs": [],
   "source": []
  },
  {
   "cell_type": "markdown",
   "metadata": {},
   "source": [
    "# 1. Controlateral ECoG Extraction"
   ]
  },
  {
   "cell_type": "code",
   "execution_count": 4,
   "metadata": {},
   "outputs": [
    {
     "name": "stdout",
     "output_type": "stream",
     "text": [
      "Patient - 008\n",
      "Patient - 009\n",
      "Patient - 010\n",
      "Patient - 012\n",
      "Patient - 013\n",
      "Patient - 014\n",
      "Patient - 016\n",
      "Patient - 017\n",
      "Patient - 019\n",
      "Patient - 020\n",
      "Patient - 021\n",
      "Patient - 022\n",
      "Patient - 023\n"
     ]
    }
   ],
   "source": [
    "df_PSD_C_ECoG_noLID, df_PSD_C_ECoG_LID = utils_psd.normalize_patient_ephysiology_event_psd_to_baseline(df_events=df_ECoG_events,\n",
    "                                                                                                       recording_type=\"ECoG\",\n",
    "                                                                                                       event_mode=\"controlateral\", \n",
    "                                                                                                       PATH=PATH)     \n",
    "\n",
    "df_PSD_C_ECoG_LID.to_pickle(DATA_IO.path_events + \"psd/ECoG/CONTROLATERAL_LID.pkl\")\n",
    "df_PSD_C_ECoG_noLID.to_pickle(DATA_IO.path_events + \"psd/ECoG/CONTROLATERAL_noLID.pkl\")"
   ]
  },
  {
   "cell_type": "markdown",
   "metadata": {},
   "source": [
    "# 2. Ipsilateral ECoG Extraction"
   ]
  },
  {
   "cell_type": "code",
   "execution_count": 6,
   "metadata": {},
   "outputs": [
    {
     "name": "stdout",
     "output_type": "stream",
     "text": [
      "Patient - 008\n",
      "Patient - 009\n",
      "Patient - 010\n",
      "Patient - 012\n",
      "Patient - 013\n",
      "Patient - 014\n",
      "Patient - 016\n",
      "Patient - 017\n",
      "Patient - 019\n",
      "Patient - 020\n",
      "Patient - 021\n",
      "Patient - 022\n",
      "Patient - 023\n"
     ]
    }
   ],
   "source": [
    "df_PSD_I_ECoG_noLID, df_PSD_I_ECoG_LID = utils_psd.normalize_patient_ephysiology_event_psd_to_baseline(df_events=df_ECoG_events,\n",
    "                                                                                                       recording_type=\"ECoG\",\n",
    "                                                                                                       event_mode=\"ipsilateral\", \n",
    "                                                                                                       PATH=PATH)    \n",
    "df_PSD_I_ECoG_LID.to_pickle(DATA_IO.path_events + \"psd/ECoG/IPSILATERAL_LID.pkl\")\n",
    "df_PSD_I_ECoG_noLID.to_pickle(DATA_IO.path_events + \"psd/ECoG/IPSILATERAL_noLID.pkl\")"
   ]
  }
 ],
 "metadata": {
  "kernelspec": {
   "display_name": "Python 3 (ipykernel)",
   "language": "python",
   "name": "python3"
  },
  "language_info": {
   "codemirror_mode": {
    "name": "ipython",
    "version": 3
   },
   "file_extension": ".py",
   "mimetype": "text/x-python",
   "name": "python",
   "nbconvert_exporter": "python",
   "pygments_lexer": "ipython3",
   "version": "3.9.19"
  }
 },
 "nbformat": 4,
 "nbformat_minor": 4
}

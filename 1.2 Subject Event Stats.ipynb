{
 "cells": [
  {
   "cell_type": "code",
   "execution_count": 1,
   "metadata": {},
   "outputs": [],
   "source": [
    "# Import public packages and functions\n",
    "import os\n",
    "import pandas as pd\n",
    "import numpy as np\n",
    "import sys\n",
    "import json\n",
    "from pathlib import Path\n",
    "import seaborn as sns\n",
    "\n",
    "# inserting the lib folder to the compiler\n",
    "sys.path.insert(0, './lib')\n",
    "sys.path.insert(0, './utils/')\n",
    "\n",
    "from lib_event import EVENTS\n",
    "from lib_data import DATA_IO\n",
    "\n",
    "import utils_plotting_accelerometer"
   ]
  },
  {
   "cell_type": "code",
   "execution_count": 2,
   "metadata": {},
   "outputs": [],
   "source": [
    "PATH_CURR  = os.path.abspath(os.curdir)    # current code\n",
    "PATH       = (str(Path(PATH_CURR).parent)) # data repository: upper directory where datasets situated\n",
    "SUB        = '016'"
   ]
  },
  {
   "cell_type": "code",
   "execution_count": 3,
   "metadata": {},
   "outputs": [],
   "source": [
    "# 1. Load event history of patient\n",
    "df_events_016 = pd.read_csv(DATA_IO.path_events_dataframe + \"SUB_\"+ SUB +\"_EVENTS_ACC.csv\")"
   ]
  },
  {
   "cell_type": "code",
   "execution_count": 4,
   "metadata": {},
   "outputs": [],
   "source": [
    "def get_cdrs_value(row):\n",
    "    if row['laterality'] == 'right':\n",
    "        return row['CDRS_right_hand']\n",
    "    elif row['laterality'] == 'left':\n",
    "        return row['CDRS_left_hand']\n",
    "    elif row['laterality'] == 'bilateral':\n",
    "        return row['CDRS_total_hands']\n",
    "    else:\n",
    "        return None\n",
    "\n",
    "# Apply the function to each row and create a new column\n",
    "df_events_016['dyskinesia_score'] = df_events_016.apply(get_cdrs_value, axis=1)"
   ]
  },
  {
   "cell_type": "code",
   "execution_count": 5,
   "metadata": {},
   "outputs": [],
   "source": [
    "import seaborn as sns"
   ]
  },
  {
   "cell_type": "code",
   "execution_count": 6,
   "metadata": {},
   "outputs": [],
   "source": [
    "color_palette = [utils_plotting_accelerometer.colors[\"involuntary_movement\"]['LID_moderate'],\n",
    "                                    utils_plotting_accelerometer.colors[\"tapping\"]['LID_moderate']]"
   ]
  },
  {
   "cell_type": "code",
   "execution_count": 7,
   "metadata": {},
   "outputs": [],
   "source": [
    "def count_plot(data, feat_x, hue, axis, color_palette):\n",
    "    axis = sns.countplot(data, x=feat_x, hue=hue, orient=\"h\", palette=color_palette, ax=axis)\n",
    "    axis.set_xlabel(\"\")\n",
    "    axis.set_title(feat_x, fontsize=utils_plotting_accelerometer.LABEL_SIZE, weight=\"bold\")\n",
    "    axis.legend(loc=\"lower center\", fontsize=utils_plotting_accelerometer.LABEL_SIZE, \n",
    "                bbox_to_anchor=(0.5, -0.5), title=None, ncol=2, frameon=False)\n",
    "    return axis\n",
    "\n",
    "def boxplot(data, feat_x, feat_y, hue, axis, color_palette, ylabel):\n",
    "    axis = sns.boxplot(data=data, x=feat_x, y=feat_y, hue=hue, showfliers=False, ax=axis)\n",
    "    axis.set_xlabel(\"\")\n",
    "    axis.set_ylabel(ylabel, fontsize=utils_plotting_accelerometer.LABEL_SIZE)\n",
    "    axis.legend(loc=\"lower center\", fontsize=utils_plotting_accelerometer.LABEL_SIZE, \n",
    "                bbox_to_anchor=(0.5, -0.6), title=None, ncol=2, frameon=False)\n",
    "    return axis"
   ]
  },
  {
   "cell_type": "code",
   "execution_count": 8,
   "metadata": {},
   "outputs": [
    {
     "name": "stderr",
     "output_type": "stream",
     "text": [
      "C:\\Users\\a.kaymak\\AppData\\Local\\Temp\\ipykernel_15800\\1786288565.py:3: MatplotlibDeprecationWarning: Auto-removal of overlapping axes is deprecated since 3.6 and will be removed two minor releases later; explicitly call ax.remove() as needed.\n",
      "  ax1 = plt.subplot2grid((75, 50), (0, 0), colspan=10, rowspan=10)\n"
     ]
    },
    {
     "data": {
      "text/plain": [
       "<Figure size 640x480 with 0 Axes>"
      ]
     },
     "metadata": {},
     "output_type": "display_data"
    },
    {
     "data": {
      "image/png": "[encoded data removed]",
      "text/plain": [
       "<Figure size 728.346x826.772 with 2 Axes>"
      ]
     },
     "metadata": {},
     "output_type": "display_data"
    }
   ],
   "source": [
    "plt = utils_plotting_accelerometer.get_figure_template()\n",
    "\n",
    "ax1 = plt.subplot2grid((75, 50), (0, 0), colspan=10, rowspan=10)\n",
    "ax2 = plt.subplot2grid((75, 50), (0, 15) , colspan=15, rowspan=10)\n",
    "\n",
    "ax1 = count_plot(df_events_016, feat_x=\"laterality\", hue=\"event_category\", axis=ax1, color_palette=color_palette)\n",
    "ax2 = boxplot(df_events_016, feat_x=\"event_category\", feat_y=\"duration\", hue=\"dyskinesia_score\", axis=ax2, \n",
    "              color_palette=color_palette, ylabel=\"dur\")\n",
    "\n",
    "\n",
    "utils_plotting_accelerometer.set_axis(ax1)\n",
    "utils_plotting_accelerometer.set_axis(ax2)"
   ]
  }
 ],
 "metadata": {
  "kernelspec": {
   "display_name": "Python 3 (ipykernel)",
   "language": "python",
   "name": "python3"
  },
  "language_info": {
   "codemirror_mode": {
    "name": "ipython",
    "version": 3
   },
   "file_extension": ".py",
   "mimetype": "text/x-python",
   "name": "python",
   "nbconvert_exporter": "python",
   "pygments_lexer": "ipython3",
   "version": "3.9.18"
  }
 },
 "nbformat": 4,
 "nbformat_minor": 4
}

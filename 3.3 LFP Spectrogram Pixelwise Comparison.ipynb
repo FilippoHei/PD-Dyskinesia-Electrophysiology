{
 "cells": [
  {
   "cell_type": "code",
   "execution_count": 1,
   "metadata": {},
   "outputs": [],
   "source": [
    "from functools import partial\n",
    "from sklearn.feature_extraction.image import grid_to_graph\n",
    "from mpl_toolkits.mplot3d import Axes3D  # noqa: F401, analysis:ignore\n",
    "from scipy import stats\n",
    "import numpy as np\n",
    "import pandas as pd\n",
    "import sys\n",
    "\n",
    "import seaborn as sns\n",
    "import matplotlib.pyplot as plt\n",
    "import scikit_posthocs as sp\n",
    "from statsmodels.stats.multitest import multipletests\n",
    "\n",
    "import mne\n",
    "from mne.stats import (\n",
    "    bonferroni_correction,\n",
    "    fdr_correction,\n",
    "    permutation_cluster_1samp_test,\n",
    "    permutation_t_test, \n",
    "    permutation_cluster_test,\n",
    "    ttest_1samp_no_p)\n",
    "\n",
    "import statsmodels.api as sm\n",
    "from statsmodels.formula.api import mixedlm \n",
    "\n",
    "# inserting the lib folder to the compiler\n",
    "sys.path.insert(0, './lib')\n",
    "sys.path.insert(0, './utils/')\n",
    "\n",
    "import warnings\n",
    "warnings.filterwarnings(\"ignore\")\n",
    "\n",
    "from lib_data import DATA_IO\n",
    "import utils_spectrogram, utils_plotting, utils_statistics"
   ]
  },
  {
   "cell_type": "markdown",
   "metadata": {},
   "source": [
    "# 0. DATA I/O"
   ]
  },
  {
   "cell_type": "code",
   "execution_count": 3,
   "metadata": {},
   "outputs": [],
   "source": [
    "df_spectrogram              = pd.read_pickle(DATA_IO.path_events + \"time_frequency_activity/LFP_TFA\") \n",
    "df_spectrogram_noLID_noDOPA = df_spectrogram[df_spectrogram.severity==\"noLID_noDOPA\"]\n",
    "df_spectrogram_noLID_DOPA   = df_spectrogram[df_spectrogram.severity==\"noLID_DOPA\"]\n",
    "df_spectrogram_LID          = df_spectrogram[df_spectrogram.severity==\"LID\"]\n",
    "\n",
    "# filtering for stable estimation of LME coefficients\n",
    "df_spectrogram_noLID_noDOPA = df_spectrogram_noLID_noDOPA[df_spectrogram_noLID_noDOPA.patient.isin(df_spectrogram_noLID_noDOPA.patient.value_counts()[lambda x: x >= 5].index)]\n",
    "df_spectrogram_noLID_DOPA   = df_spectrogram_noLID_DOPA[df_spectrogram_noLID_DOPA.patient.isin(df_spectrogram_noLID_DOPA.patient.value_counts()[lambda x: x >= 5].index)]\n",
    "df_spectrogram_LID          = df_spectrogram_LID[df_spectrogram_LID.patient.isin(df_spectrogram_LID.patient.value_counts()[lambda x: x >= 5].index)]"
   ]
  },
  {
   "cell_type": "markdown",
   "metadata": {},
   "source": [
    "# 1. LME"
   ]
  },
  {
   "cell_type": "markdown",
   "metadata": {},
   "source": [
    "## 1.1 Train Models"
   ]
  },
  {
   "cell_type": "code",
   "execution_count": 6,
   "metadata": {},
   "outputs": [],
   "source": [
    "def point_wise_LME_spectrogram_between_severity(dataframe, feature_spectrogram, n_downsampling):\n",
    "    \n",
    "    X          = np.array(dataframe[feature_spectrogram].to_list())\n",
    "    X          = X.squeeze(axis=1)\n",
    "    not_nan_i  = ~np.isnan(X).any(axis=(1, 2))\n",
    "    X          = X[not_nan_i]\n",
    "\n",
    "    # get patients and spectrogram data\n",
    "    data       = np.array(X)\n",
    "    data       = utils_spectrogram.downsample_time_axis_for_spectrogram(data, target_time_points=n_downsampling)\n",
    "    patients   = np.array(dataframe.patient.to_list())[not_nan_i]\n",
    "    severity   = np.array(dataframe.severity.to_list())[not_nan_i]\n",
    "\n",
    "    # Store p-values\n",
    "    n_subjects = data.shape[0]\n",
    "    n_freq     = data.shape[1]\n",
    "    n_time     = data.shape[2]\n",
    "    p_values   = np.zeros((n_freq, n_time))\n",
    "    z_scores   = np.zeros((n_freq, n_time)) \n",
    "    \n",
    "    for f_i in range(n_freq):\n",
    "        for t_i in range(n_time):\n",
    "            \n",
    "            y  = data[:, f_i, t_i] # get all the points for the corresponding frequency x timepoint combination\n",
    "            df = pd.DataFrame({'voxel': y, 'patient': patients,'severity': severity})\n",
    "            \n",
    "            try:\n",
    "                # Fit LME\n",
    "                model              = mixedlm(\"voxel ~ severity\", df, groups=df[\"patient\"])\n",
    "                result             = model.fit(reml=False)\n",
    "                p_values[f_i, t_i] = result.pvalues['severity'] \n",
    "                z_scores[f_i, t_i] = result.tvalues['severity']\n",
    "            except Exception as e:\n",
    "                p_values[f_i, t_i] = 1\n",
    "                z_scores[f_i, t_i] = 0\n",
    "    \n",
    "        print(str(90-(f_i)) + \" Hz is completed...\")\n",
    "\n",
    "    # just in case any p value is np.nan\n",
    "    p_values[np.isnan(p_values)] = 1\n",
    "\n",
    "    return p_values, z_scores"
   ]
  },
  {
   "cell_type": "markdown",
   "metadata": {},
   "source": [
    "### 1.1.1. NoLID-NoDOPA vs LID"
   ]
  },
  {
   "cell_type": "code",
   "execution_count": 8,
   "metadata": {},
   "outputs": [],
   "source": [
    "# df_comparison_noLIDnoDOPA_vs_LID                = pd.concat([df_spectrogram_noLID_noDOPA, df_spectrogram_LID])\n",
    "# df_comparison_noLIDnoDOPA_vs_LID.severity       = df_comparison_noLIDnoDOPA_vs_LID.severity.map({'noLID_noDOPA': 0, 'LID': 1})\n",
    "# df_comparison_noLIDnoDOPA_vs_LID.reset_index(drop=True, inplace=True)\n",
    "\n",
    "# p_noLIDnoDOPA_vs_LID, z_noLIDnoDOPA_vs_LID      = point_wise_LME_spectrogram_between_severity(df_comparison_noLIDnoDOPA_vs_LID,\n",
    "#                                                                                               feature_spectrogram=\"offset_aligned_normalized\",\n",
    "#                                                                                               n_downsampling=50)\n",
    "# np.save(DATA_IO.path_events + \"time_frequency_activity/LFP_p_noLIDnoDOPA_vs_LID\", p_noLIDnoDOPA_vs_LID)\n",
    "# np.save(DATA_IO.path_events + \"time_frequency_activity/LFP_z_noLIDnoDOPA_vs_LID\", z_noLIDnoDOPA_vs_LID)"
   ]
  },
  {
   "cell_type": "markdown",
   "metadata": {},
   "source": [
    "### 1.1.2. NoLID-NoDOPA vs NoLID-DOPA"
   ]
  },
  {
   "cell_type": "code",
   "execution_count": null,
   "metadata": {},
   "outputs": [],
   "source": [
    "df_comparison_noLIDnoDOPA_vs_noLIDDOPA          = pd.concat([df_spectrogram_noLID_noDOPA, df_spectrogram_noLID_DOPA])\n",
    "df_comparison_noLIDnoDOPA_vs_noLIDDOPA.severity = df_comparison_noLIDnoDOPA_vs_noLIDDOPA.severity.map({'noLID_noDOPA': 0, 'noLID_DOPA': 1})\n",
    "df_comparison_noLIDnoDOPA_vs_noLIDDOPA.reset_index(drop=True, inplace=True)\n",
    "\n",
    "p_noLIDnoDOPA_vs_noLIDDOPA, z_noLIDnoDOPA_vs_noLIDDOPA = point_wise_LME_spectrogram_between_severity(df_comparison_noLIDnoDOPA_vs_noLIDDOPA,\n",
    "                                                                                                     feature_spectrogram=\"offset_aligned_normalized\",\n",
    "                                                                                                     n_downsampling=50)\n",
    "np.save(DATA_IO.path_events + \"time_frequency_activity/LFP_p_noLIDnoDOPA_vs_noLIDDOPA\", p_noLIDnoDOPA_vs_noLIDDOPA)\n",
    "np.save(DATA_IO.path_events + \"time_frequency_activity/LFP_z_noLIDnoDOPA_vs_noLIDDOPA\", z_noLIDnoDOPA_vs_noLIDDOPA)"
   ]
  },
  {
   "cell_type": "markdown",
   "metadata": {},
   "source": [
    "### 1.1.3. NoLID-DOPA vs LID"
   ]
  },
  {
   "cell_type": "code",
   "execution_count": null,
   "metadata": {},
   "outputs": [],
   "source": [
    "df_comparison_noLIDDOPA_vs_LID              = pd.concat([df_spectrogram_noLID_DOPA, df_spectrogram_LID])\n",
    "df_comparison_noLIDDOPA_vs_LID.severity     = df_comparison_noLIDDOPA_vs_LID.severity.map({'noLID_DOPA': 0, 'LID': 1})\n",
    "df_comparison_noLIDDOPA_vs_LID.reset_index(drop=True, inplace=True)\n",
    "\n",
    "p_noLIDDOPA_vs_LID, z_noLIDDOPA_vs_LID      = point_wise_LME_spectrogram_between_severity(df_comparison_noLIDDOPA_vs_LID,\n",
    "                                                                                          feature_spectrogram=\"offset_aligned_normalized\",\n",
    "                                                                                          n_downsampling=50)\n",
    "np.save(DATA_IO.path_events + \"time_frequency_activity/LFP_p_noLIDDOPA_vs_LID\", p_noLIDDOPA_vs_LID)\n",
    "np.save(DATA_IO.path_events + \"time_frequency_activity/LFP_z_noLIDDOPA_vs_LID\", z_noLIDDOPA_vs_LID)"
   ]
  },
  {
   "cell_type": "markdown",
   "metadata": {},
   "source": [
    "## 1.2 Load Results"
   ]
  },
  {
   "cell_type": "code",
   "execution_count": null,
   "metadata": {},
   "outputs": [],
   "source": [
    "p_noLIDnoDOPA_vs_noLIDDOPA = np.load(DATA_IO.path_events + \"time_frequency_activity/LFP_p_noLIDnoDOPA_vs_noLIDDOPA.npy\")\n",
    "z_noLIDnoDOPA_vs_noLIDDOPA = np.load(DATA_IO.path_events + \"time_frequency_activity/LFP_z_noLIDnoDOPA_vs_noLIDDOPA.npy\")\n",
    "# p_noLIDnoDOPA_vs_LID       = np.load(DATA_IO.path_events + \"time_frequency_activity/LFP_p_noLIDnoDOPA_vs_LID.npy\")\n",
    "# z_noLIDnoDOPA_vs_LID       = np.load(DATA_IO.path_events + \"time_frequency_activity/LFP_z_noLIDnoDOPA_vs_LID.npy\")\n",
    "p_noLIDDOPA_vs_LID         = np.load(DATA_IO.path_events + \"time_frequency_activity/LFP_p_noLIDDOPA_vs_LID.npy\")\n",
    "z_noLIDDOPA_vs_LID         = np.load(DATA_IO.path_events + \"time_frequency_activity/LFP_z_noLIDDOPA_vs_LID.npy\")"
   ]
  },
  {
   "cell_type": "code",
   "execution_count": null,
   "metadata": {},
   "outputs": [],
   "source": [
    "# MULTIPLE COMPARISON CORRECTION\n",
    "\n",
    "# NoLID-noDOPA vs LID\n",
    "# eliminating the frequency range between 35-60 Hz\n",
    "# p_noLIDnoDOPA_vs_LID[30:55,:]       = 1\n",
    "# z_noLIDnoDOPA_vs_LID[30:55,:]       = 0\n",
    "# p_noLIDnoDOPA_vs_LID                = fdr_correction(p_noLIDnoDOPA_vs_LID)[1]\n",
    "\n",
    "# NoLID-noDOPA vs noLID-DOPA\n",
    "# eliminating the frequency range between 35-60 Hz\n",
    "p_noLIDnoDOPA_vs_noLIDDOPA[30:55,:] = 1\n",
    "z_noLIDnoDOPA_vs_noLIDDOPA[30:55,:] = 0\n",
    "p_noLIDnoDOPA_vs_noLIDDOPA          = fdr_correction(p_noLIDnoDOPA_vs_noLIDDOPA)[1]\n",
    "\n",
    "# NoLID-DOPA vs LID\n",
    "# eliminating the frequency range between 35-60 Hz\n",
    "p_noLIDDOPA_vs_LID[30:55,:]         = 1\n",
    "z_noLIDDOPA_vs_LID[30:55,:]         = 0\n",
    "p_noLIDDOPA_vs_LID                  = fdr_correction(p_noLIDDOPA_vs_LID)[1]"
   ]
  },
  {
   "cell_type": "code",
   "execution_count": null,
   "metadata": {},
   "outputs": [],
   "source": [
    "from scipy.ndimage import label, sum as ndi_sum\n",
    "\n",
    "def plot_spectrogram_significance_with_pointwise_LME(p_values, z_scores, threshold, group, cmap, axis, fig=None, min_cluster_size=5):\n",
    "    \n",
    "    # time and frequency axes\n",
    "    time_vector = np.linspace(start=-2, stop=2, num=p_values.shape[1])\n",
    "\n",
    "    freq_changed = []\n",
    "    for x in np.arange(4, 91):\n",
    "        if (x >= 35) and (x < 60):\n",
    "            freq_changed.append(35 + ((x - 35) / 2.5))\n",
    "        elif x >= 60:\n",
    "            freq_changed.append(x - 15)\n",
    "        else:\n",
    "            freq_changed.append(x)\n",
    "    freq_changed = np.array(freq_changed)\n",
    "\n",
    "    # plot z-scores with fixed color range\n",
    "    mesh = axis.pcolormesh(time_vector, freq_changed, z_scores, shading='gouraud',\n",
    "                           cmap=cmap, rasterized=True, vmin=-5, vmax=5)\n",
    "\n",
    "    # create significance mask\n",
    "    significance_mask            = p_values <= threshold\n",
    "\n",
    "    # label connected components and filter small clusters\n",
    "    structure                    = np.ones((3, 3), dtype=int)  # 8-connectivity\n",
    "    labeled_array, num_features  = label(significance_mask, structure=structure)\n",
    "    sizes                        = ndi_sum(significance_mask, labeled_array, index=np.arange(1, num_features + 1))\n",
    "    filtered_mask                = np.zeros_like(significance_mask)\n",
    "\n",
    "    for i, size in enumerate(sizes):\n",
    "        if size >= min_cluster_size:\n",
    "            filtered_mask[labeled_array == (i + 1)] = 1\n",
    "\n",
    "    # overlay colored contours for significant areas\n",
    "    for region_id in range(1, num_features + 1):\n",
    "        region_mask = (labeled_array == region_id)\n",
    "\n",
    "        if np.sum(region_mask) < min_cluster_size:\n",
    "            continue  # Skip small clusters\n",
    "\n",
    "        mean_z = np.mean(z_scores[region_mask])\n",
    "        color = 'navy' if mean_z < 0 else 'crimson'\n",
    "\n",
    "        # create binary mask for this region only\n",
    "        region_display = np.zeros_like(filtered_mask)\n",
    "        region_display[region_mask] = 1\n",
    "\n",
    "        axis.contour(time_vector, freq_changed, region_display,\n",
    "                     levels=[0.5], colors=color, linewidths=1)\n",
    "\n",
    "    # axis ticks and labels\n",
    "    axis.set_xticks([-2, -1, 0, 1, 2])\n",
    "    axis.set_xticklabels([-2, -1, 0, 1, 2], fontsize=utils_plotting.LABEL_SIZE)\n",
    "    axis.set_yticks([4, 12, 20, 35, 45, 55, 65, 75])\n",
    "    axis.set_yticklabels([4, 12, 20, 35, 60, 70, 80, 90], fontsize=utils_plotting.LABEL_SIZE)\n",
    "    axis.set_title(group, fontsize=utils_plotting.LABEL_SIZE_title)\n",
    "\n",
    "    # clean up spines and ticks\n",
    "    for spine in axis.spines.values():\n",
    "        spine.set_visible(False)\n",
    "    axis.xaxis.set_ticks_position('none')\n",
    "    axis.yaxis.set_ticks_position('none')\n",
    "\n",
    "    # add colorbar if figure is provided\n",
    "    if fig is not None:\n",
    "        cbar = fig.colorbar(mesh, ax=axis, pad=0.02, aspect=20)\n",
    "        cbar.set_label('Z-score', fontsize=utils_plotting.LABEL_SIZE)\n",
    "        cbar.ax.tick_params(labelsize=utils_plotting.LABEL_SIZE)\n",
    "\n",
    "    return axis\n"
   ]
  },
  {
   "cell_type": "code",
   "execution_count": null,
   "metadata": {},
   "outputs": [],
   "source": [
    "# plot\n",
    "plt = utils_plotting.get_figure_template()\n",
    "\n",
    "ax1 = plt.subplot2grid((77, 66), (0, 0) , colspan=25, rowspan=15)\n",
    "ax2 = plt.subplot2grid((77, 66), (20, 0), colspan=25, rowspan=15)\n",
    "\n",
    "ax1 = plot_spectrogram_significance_with_pointwise_LME(p_values=p_noLIDnoDOPA_vs_noLIDDOPA, z_scores=z_noLIDnoDOPA_vs_noLIDDOPA, threshold=0.05, \n",
    "                                                       group=\"noLID-noDOPA vs noLID-DOPA\", cmap=\"Spectral_r\", axis=ax1, fig=plt)\n",
    "\n",
    "ax2 = plot_spectrogram_significance_with_pointwise_LME(p_values=p_noLIDDOPA_vs_LID, z_scores=z_noLIDDOPA_vs_LID, threshold=0.05, \n",
    "                                                       group=\"noLID-DOPA vs LID\", cmap=\"Spectral_r\", axis=ax2, fig=plt)\n",
    "\n",
    "plt.savefig(DATA_IO.path_figure + \"spectrogram/motor_stn_spectrogram_offset_pixelwise_differences_between_severity.svg\", dpi=1200)"
   ]
  },
  {
   "cell_type": "code",
   "execution_count": null,
   "metadata": {},
   "outputs": [],
   "source": []
  }
 ],
 "metadata": {
  "kernelspec": {
   "display_name": "Python 3 (ipykernel)",
   "language": "python",
   "name": "python3"
  },
  "language_info": {
   "codemirror_mode": {
    "name": "ipython",
    "version": 3
   },
   "file_extension": ".py",
   "mimetype": "text/x-python",
   "name": "python",
   "nbconvert_exporter": "python",
   "pygments_lexer": "ipython3",
   "version": "3.9.19"
  }
 },
 "nbformat": 4,
 "nbformat_minor": 4
}

{
 "cells": [
  {
   "cell_type": "code",
   "execution_count": 2,
   "metadata": {},
   "outputs": [],
   "source": [
    "# Import public packages and functions\n",
    "import os\n",
    "import pandas as pd\n",
    "import numpy as np\n",
    "import sys\n",
    "import json\n",
    "from pathlib import Path\n",
    "\n",
    "import seaborn as sns\n",
    "import matplotlib.pyplot as plt\n",
    "import scikit_posthocs as sp\n",
    "\n",
    "import warnings\n",
    "warnings.filterwarnings(\"ignore\")\n",
    "\n",
    "# inserting the lib folder to the compiler\n",
    "sys.path.insert(0, './lib')\n",
    "sys.path.insert(0, './utils/')\n",
    "\n",
    "import utils_misc, utils_io, utils_plotting, utils_statistics\n",
    "from lib_data import DATA_IO"
   ]
  },
  {
   "cell_type": "code",
   "execution_count": 6,
   "metadata": {},
   "outputs": [],
   "source": [
    "ECOG_PSD_controlateral = utils_io.load_ECoG_event_PSD(event_category=\"tapping\", event_laterality=\"controlateral\")\n",
    "ECOG_PSD               = pd.DataFrame()\n",
    "\n",
    "for severity in ECOG_PSD_controlateral.keys():\n",
    "    ECOG_PSD = pd.concat([ECOG_PSD, ECOG_PSD_controlateral[severity]], ignore_index=True)\n",
    "\n",
    "ECOG_PSD['severity'] = ECOG_PSD['dyskinesia_arm']\n",
    "ECOG_PSD.loc[(ECOG_PSD['event_start_time'] < 30)  & (ECOG_PSD['dyskinesia_arm'] == \"none\"), 'severity'] = 'noLID_noDOPA'\n",
    "ECOG_PSD.loc[(ECOG_PSD['event_start_time'] >= 30) & (ECOG_PSD['dyskinesia_arm'] == \"none\"), 'severity'] = 'noLID_DOPA'\n",
    "\n",
    "features_pre_event  = ['pre_event_theta_mean', 'pre_event_beta_low_mean','pre_event_beta_high_mean','pre_event_gamma_mean']\n",
    "features_event      = ['event_theta_mean', 'event_beta_low_mean','event_beta_high_mean','event_gamma_mean']\n",
    "features_post_event = ['post_event_theta_mean', 'post_event_beta_low_mean','post_event_beta_high_mean','post_event_gamma_mean']"
   ]
  },
  {
   "cell_type": "markdown",
   "metadata": {},
   "source": [
    "# 1. PCA Analysis"
   ]
  },
  {
   "cell_type": "code",
   "execution_count": 8,
   "metadata": {},
   "outputs": [],
   "source": [
    "pre_data_pca  , pre_explained_variance  , pre_pca_contributions   = utils_statistics.build_PCA_model(ECOG_PSD, features=features_pre_event, label=\"severity\", n_components=3)\n",
    "event_data_pca, event_explained_variance, event_pca_contributions = utils_statistics.build_PCA_model(ECOG_PSD, features=features_event, label=\"severity\", n_components=3)\n",
    "post_data_pca , post_explained_variance , post_pca_contributions  = utils_statistics.build_PCA_model(ECOG_PSD, features=features_post_event, label=\"severity\", n_components=3)"
   ]
  },
  {
   "cell_type": "code",
   "execution_count": 10,
   "metadata": {},
   "outputs": [],
   "source": [
    "df_pca_contributions            = pd.concat([pre_pca_contributions, event_pca_contributions, post_pca_contributions], ignore_index=True)\n",
    "df_pca_contributions[\"segment\"] = [\"pre_event\"] * 4 + [\"event\"] * 4 + [\"post_event\"] * 4\n",
    "df_pca_contributions[\"band\"]    = [\"theta\", \"beta_low\", \"beta_high\", \"gamma\"] * 3"
   ]
  },
  {
   "cell_type": "markdown",
   "metadata": {},
   "source": [
    "# 2. Plotting"
   ]
  },
  {
   "cell_type": "code",
   "execution_count": 13,
   "metadata": {},
   "outputs": [],
   "source": [
    "def plot_PCA_projections(data, group_feature, colors, axis):\n",
    "\n",
    "    groups = data[group_feature].unique()\n",
    "    \n",
    "    for group in groups:\n",
    "        axis = sns.scatterplot(data=data[data[group_feature] == group], \n",
    "                               x=\"PC1\", y=\"PC2\", ax=axis, s=5, color=colors[group], rasterized=True)\n",
    "\n",
    "    # remove spines\n",
    "    axis.spines.left.set_visible(False)\n",
    "    axis.spines.bottom.set_visible(False)\n",
    "    axis.spines.right.set_visible(False)\n",
    "    axis.spines.top.set_visible(False)\n",
    "    axis.spines.left.set_visible(False)\n",
    "    axis.spines.bottom.set_visible(False)\n",
    "    axis.spines.right.set_visible(False)\n",
    "    axis.spines.top.set_visible(False)\n",
    "    \n",
    "    # Remove the axes' borders (if still visible)\n",
    "    axis.xaxis.set_ticks_position('none')  # Hide the x-axis ticks\n",
    "    axis.yaxis.set_ticks_position('none')  # Hide the y-axis ticks\n",
    "\n",
    "    return axis\n",
    "    "
   ]
  },
  {
   "cell_type": "markdown",
   "metadata": {},
   "source": [
    "## 2.1 PCA Projections "
   ]
  },
  {
   "cell_type": "code",
   "execution_count": 15,
   "metadata": {},
   "outputs": [],
   "source": [
    "colors                 = {}\n",
    "colors[\"noLID_noDOPA\"] = utils_plotting.colors[\"no_LID_no_DOPA\"]\n",
    "colors[\"noLID_DOPA\"]   = utils_plotting.colors[\"no_LID_DOPA\"]\n",
    "colors[\"mild\"]         = utils_plotting.colors[\"tapping\"][\"mild\"]\n",
    "colors[\"moderate\"]     = utils_plotting.colors[\"tapping\"][\"moderate\"]"
   ]
  },
  {
   "cell_type": "code",
   "execution_count": 17,
   "metadata": {},
   "outputs": [
    {
     "data": {
      "text/plain": [
       "<Figure size 640x480 with 0 Axes>"
      ]
     },
     "metadata": {},
     "output_type": "display_data"
    },
    {
     "data": {
      "image/png": "[encoded data removed]",
      "text/plain": [
       "<Figure size 728.346x826.772 with 3 Axes>"
      ]
     },
     "metadata": {},
     "output_type": "display_data"
    }
   ],
   "source": [
    "plt          = utils_plotting.get_figure_template()\n",
    "\n",
    "ax_pca_pre   = plt.subplot2grid((77, 66), (0, 0) , colspan=10, rowspan=10)\n",
    "ax_pca_event = plt.subplot2grid((77, 66), (0, 15) , colspan=10, rowspan=10)\n",
    "ax_pca_post  = plt.subplot2grid((77, 66), (0, 30) , colspan=10, rowspan=10)\n",
    "\n",
    "ax_pca_pre   = plot_PCA_projections(pre_data_pca, group_feature=\"severity\", colors=colors, axis=ax_pca_pre)\n",
    "ax_pca_event = plot_PCA_projections(event_data_pca, group_feature=\"severity\", colors=colors, axis=ax_pca_event)\n",
    "ax_pca_post  = plot_PCA_projections(post_data_pca, group_feature=\"severity\", colors=colors, axis=ax_pca_post)\n",
    "\n",
    "ax_pca_pre.set_xlim([-5,10])\n",
    "ax_pca_event.set_xlim([-5,10])\n",
    "ax_pca_post.set_xlim([-5,10])\n",
    "\n",
    "ax_pca_pre.set_ylim([-5,10])\n",
    "ax_pca_event.set_ylim([-5,10])\n",
    "ax_pca_post.set_ylim([-5,10])\n",
    "\n",
    "ax_pca_pre.set_xticklabels(ax_pca_pre.get_xticklabels(), fontsize=utils_plotting.LABEL_SIZE)\n",
    "ax_pca_pre.set_yticklabels(ax_pca_pre.get_yticklabels(), fontsize=utils_plotting.LABEL_SIZE)\n",
    "ax_pca_event.set_xticklabels(ax_pca_event.get_xticklabels(), fontsize=utils_plotting.LABEL_SIZE)\n",
    "ax_pca_event.set_yticklabels(ax_pca_event.get_yticklabels(), fontsize=utils_plotting.LABEL_SIZE)\n",
    "ax_pca_post.set_xticklabels(ax_pca_post.get_xticklabels(), fontsize=utils_plotting.LABEL_SIZE)\n",
    "ax_pca_post.set_yticklabels(ax_pca_post.get_yticklabels(), fontsize=utils_plotting.LABEL_SIZE)\n",
    "\n",
    "plt.savefig(DATA_IO.path_figure + 'pca/cortex_pca_projections.svg', dpi=300)"
   ]
  },
  {
   "cell_type": "markdown",
   "metadata": {},
   "source": [
    "## 2. Plot Feature Loadings"
   ]
  },
  {
   "cell_type": "code",
   "execution_count": 19,
   "metadata": {},
   "outputs": [],
   "source": [
    "colors_frequency = [\"#B5179E\", \"#1DBCED\", \"#0154EF\", \"#EC096F\"]"
   ]
  },
  {
   "cell_type": "code",
   "execution_count": 21,
   "metadata": {},
   "outputs": [
    {
     "data": {
      "text/plain": [
       "<Figure size 640x480 with 0 Axes>"
      ]
     },
     "metadata": {},
     "output_type": "display_data"
    },
    {
     "data": {
      "image/png": "[encoded data removed]",
      "text/plain": [
       "<Figure size 728.346x826.772 with 2 Axes>"
      ]
     },
     "metadata": {},
     "output_type": "display_data"
    }
   ],
   "source": [
    "plt    = utils_plotting.get_figure_template()\n",
    "\n",
    "ax_PC1 = plt.subplot2grid((77, 66), (0, 0), colspan=10, rowspan=6)\n",
    "ax_PC2 = plt.subplot2grid((77, 66), (10, 0), colspan=10, rowspan=6)\n",
    "\n",
    "ax_PC1 = sns.lineplot(data=df_pca_contributions, x=\"segment\", y=\"PC1\", hue=\"band\", markers=True, palette=colors_frequency, \n",
    "                      marker=\"o\", ax=ax_PC1, linewidth=0.6, markersize=5, legend=False)\n",
    "ax_PC2 = sns.lineplot(data=df_pca_contributions, x=\"segment\", y=\"PC2\", hue=\"band\", markers=True, palette=colors_frequency,\n",
    "                      marker=\"o\", ax=ax_PC2, linewidth=0.6, markersize=5, legend=False)\n",
    "\n",
    "ax_PC1.set_yticks([0, 0.25, 0.50, 0.75, 1])\n",
    "ax_PC2.set_yticks([0, 0.25, 0.50, 0.75, 1])\n",
    "utils_plotting.set_axis(ax_PC1)\n",
    "utils_plotting.set_axis(ax_PC2)\n",
    "plt.savefig(DATA_IO.path_figure + 'pca/cortex_pca_loadings.svg', dpi=300)"
   ]
  },
  {
   "cell_type": "markdown",
   "metadata": {},
   "source": [
    "## 2.3 Plot Explained Variance"
   ]
  },
  {
   "cell_type": "code",
   "execution_count": 23,
   "metadata": {},
   "outputs": [
    {
     "data": {
      "text/plain": [
       "<Figure size 640x480 with 0 Axes>"
      ]
     },
     "metadata": {},
     "output_type": "display_data"
    },
    {
     "data": {
      "image/png": "[encoded data removed]",
      "text/plain": [
       "<Figure size 728.346x826.772 with 3 Axes>"
      ]
     },
     "metadata": {},
     "output_type": "display_data"
    }
   ],
   "source": [
    "# create the radar chart\n",
    "plt    = utils_plotting.get_figure_template()\n",
    "\n",
    "ax_PC1 = plt.subplot2grid((77, 66), (0, 0), colspan=14, rowspan=3)\n",
    "ax_PC2 = plt.subplot2grid((77, 66), (10, 0), colspan=14, rowspan=3)\n",
    "ax_PC3 = plt.subplot2grid((77, 66), (20, 0), colspan=14, rowspan=3)\n",
    "\n",
    "ax_PC1 = sns.barplot(data=pre_explained_variance, x=\"score\", y=\"component\", ax=ax_PC1)\n",
    "ax_PC2 = sns.barplot(data=event_explained_variance, x=\"score\", y=\"component\", ax=ax_PC2)\n",
    "ax_PC3 = sns.barplot(data=post_explained_variance, x=\"score\", y=\"component\", ax=ax_PC3)\n",
    "\n",
    "utils_plotting.set_axis(ax_PC1)\n",
    "utils_plotting.set_axis(ax_PC2)\n",
    "utils_plotting.set_axis(ax_PC3)\n",
    "\n",
    "ax_PC1.set_xticks([0, 0.25,0.5])\n",
    "ax_PC2.set_xticks([0, 0.25,0.5])\n",
    "ax_PC3.set_xticks([0, 0.25,0.5])\n",
    "\n",
    "ax_PC1.set_xlim([0,0.5])\n",
    "ax_PC2.set_xlim([0,0.5])\n",
    "ax_PC3.set_xlim([0,0.5])\n",
    "\n",
    "plt.savefig(DATA_IO.path_figure + 'pca/cortex_explained_variances.svg', dpi=300)"
   ]
  },
  {
   "cell_type": "markdown",
   "metadata": {},
   "source": [
    "## 2.4 Plot CH Scores"
   ]
  },
  {
   "cell_type": "code",
   "execution_count": 63,
   "metadata": {},
   "outputs": [
    {
     "data": {
      "text/plain": [
       "<Figure size 640x480 with 0 Axes>"
      ]
     },
     "metadata": {},
     "output_type": "display_data"
    },
    {
     "data": {
      "image/png": "[encoded data removed]",
      "text/plain": [
       "<Figure size 728.346x826.772 with 3 Axes>"
      ]
     },
     "metadata": {},
     "output_type": "display_data"
    }
   ],
   "source": [
    "severity_mapping  = {'noLID_noDOPA':0, 'noLID_DOPA':1, 'mild':2, 'moderate':3}\n",
    "ch_pre_event      = utils_statistics.ch_score(pre_data_pca[[\"PC1\",\"severity\"]], group_label=\"severity\", group_mapping=severity_mapping)\n",
    "ch_event          = utils_statistics.ch_score(event_data_pca[[\"PC1\",\"severity\"]], group_label=\"severity\", group_mapping=severity_mapping)\n",
    "ch_post_event     = utils_statistics.ch_score(post_data_pca[[\"PC1\",\"severity\"]], group_label=\"severity\", group_mapping=severity_mapping)\n",
    "\n",
    "plt      = utils_plotting.get_figure_template()\n",
    "\n",
    "ax_pre   = plt.subplot2grid((77, 66), (0, 0), colspan=5, rowspan=5)\n",
    "ax_event = plt.subplot2grid((77, 66), (0, 15), colspan=5, rowspan=5)\n",
    "ax_post  = plt.subplot2grid((77, 66), (0, 30), colspan=5, rowspan=5)\n",
    "\n",
    "ax_pre   = sns.heatmap(ch_pre_event, vmin=0, vmax=150, cmap=\"RdPu\", ax=ax_pre, cbar=False, annot=False, annot_kws={\"fontsize\":5})\n",
    "ax_event = sns.heatmap(ch_event, vmin=0, vmax=150, cmap=\"RdPu\", ax=ax_event, cbar=False, annot=False, annot_kws={\"fontsize\":5})\n",
    "ax_post  = sns.heatmap(ch_post_event, vmin=0, vmax=150, cmap=\"RdPu\", ax=ax_post, cbar=False, annot=False, annot_kws={\"fontsize\":5})\n",
    "\n",
    "utils_plotting.set_axis(ax_pre)\n",
    "utils_plotting.set_axis(ax_event)\n",
    "utils_plotting.set_axis(ax_post)\n",
    "\n",
    "plt.savefig(DATA_IO.path_figure + 'pca/cortex_PC1_ch.svg', dpi=300)"
   ]
  },
  {
   "cell_type": "code",
   "execution_count": 65,
   "metadata": {},
   "outputs": [
    {
     "data": {
      "text/plain": [
       "47.8406823643074"
      ]
     },
     "execution_count": 65,
     "metadata": {},
     "output_type": "execute_result"
    }
   ],
   "source": [
    "np.max([ch_pre_event.max().max(), ch_event.max().max(), ch_post_event.max().max()])"
   ]
  },
  {
   "cell_type": "code",
   "execution_count": 67,
   "metadata": {},
   "outputs": [
    {
     "data": {
      "text/plain": [
       "<Figure size 640x480 with 0 Axes>"
      ]
     },
     "metadata": {},
     "output_type": "display_data"
    },
    {
     "data": {
      "image/png": "[encoded data removed]",
      "text/plain": [
       "<Figure size 728.346x826.772 with 3 Axes>"
      ]
     },
     "metadata": {},
     "output_type": "display_data"
    }
   ],
   "source": [
    "severity_mapping  = {'noLID_noDOPA':0, 'noLID_DOPA':1, 'mild':2, 'moderate':3}\n",
    "ch_pre_event      = utils_statistics.ch_score(pre_data_pca[[\"PC2\",\"severity\"]], group_label=\"severity\", group_mapping=severity_mapping)\n",
    "ch_event          = utils_statistics.ch_score(event_data_pca[[\"PC2\",\"severity\"]], group_label=\"severity\", group_mapping=severity_mapping)\n",
    "ch_post_event     = utils_statistics.ch_score(post_data_pca[[\"PC2\",\"severity\"]], group_label=\"severity\", group_mapping=severity_mapping)\n",
    "\n",
    "plt      = utils_plotting.get_figure_template()\n",
    "\n",
    "ax_pre   = plt.subplot2grid((77, 66), (0, 0), colspan=5, rowspan=5)\n",
    "ax_event = plt.subplot2grid((77, 66), (0, 15), colspan=5, rowspan=5)\n",
    "ax_post  = plt.subplot2grid((77, 66), (0, 30), colspan=5, rowspan=5)\n",
    "\n",
    "ax_pre   = sns.heatmap(ch_pre_event, vmin=0, vmax=150, cmap=\"RdPu\", ax=ax_pre, cbar=False, annot=False, annot_kws={\"fontsize\":5})\n",
    "ax_event = sns.heatmap(ch_event, vmin=0, vmax=150, cmap=\"RdPu\", ax=ax_event, cbar=False, annot=False, annot_kws={\"fontsize\":5})\n",
    "ax_post  = sns.heatmap(ch_post_event, vmin=0, vmax=150, cmap=\"RdPu\", ax=ax_post, cbar=False, annot=False, annot_kws={\"fontsize\":5})\n",
    "\n",
    "utils_plotting.set_axis(ax_pre)\n",
    "utils_plotting.set_axis(ax_event)\n",
    "utils_plotting.set_axis(ax_post)\n",
    "\n",
    "plt.savefig(DATA_IO.path_figure + 'pca/cortex_PC2_ch.svg', dpi=300)"
   ]
  },
  {
   "cell_type": "code",
   "execution_count": 53,
   "metadata": {},
   "outputs": [
    {
     "data": {
      "text/plain": [
       "155.96383225328916"
      ]
     },
     "execution_count": 53,
     "metadata": {},
     "output_type": "execute_result"
    }
   ],
   "source": [
    "np.max([ch_pre_event.max().max(), ch_event.max().max(), ch_post_event.max().max()])"
   ]
  },
  {
   "cell_type": "code",
   "execution_count": 71,
   "metadata": {},
   "outputs": [
    {
     "data": {
      "text/html": [
       "<div>\n",
       "<style scoped>\n",
       "    .dataframe tbody tr th:only-of-type {\n",
       "        vertical-align: middle;\n",
       "    }\n",
       "\n",
       "    .dataframe tbody tr th {\n",
       "        vertical-align: top;\n",
       "    }\n",
       "\n",
       "    .dataframe thead th {\n",
       "        text-align: right;\n",
       "    }\n",
       "</style>\n",
       "<table border=\"1\" class=\"dataframe\">\n",
       "  <thead>\n",
       "    <tr style=\"text-align: right;\">\n",
       "      <th></th>\n",
       "      <th>noLID_noDOPA</th>\n",
       "      <th>noLID_DOPA</th>\n",
       "      <th>mild</th>\n",
       "      <th>moderate</th>\n",
       "    </tr>\n",
       "  </thead>\n",
       "  <tbody>\n",
       "    <tr>\n",
       "      <th>noLID_noDOPA</th>\n",
       "      <td>0.000000</td>\n",
       "      <td>7.773966</td>\n",
       "      <td>1.348885</td>\n",
       "      <td>19.808682</td>\n",
       "    </tr>\n",
       "    <tr>\n",
       "      <th>noLID_DOPA</th>\n",
       "      <td>7.773966</td>\n",
       "      <td>0.000000</td>\n",
       "      <td>9.532862</td>\n",
       "      <td>33.877039</td>\n",
       "    </tr>\n",
       "    <tr>\n",
       "      <th>mild</th>\n",
       "      <td>1.348885</td>\n",
       "      <td>9.532862</td>\n",
       "      <td>0.000000</td>\n",
       "      <td>6.619643</td>\n",
       "    </tr>\n",
       "    <tr>\n",
       "      <th>moderate</th>\n",
       "      <td>19.808682</td>\n",
       "      <td>33.877039</td>\n",
       "      <td>6.619643</td>\n",
       "      <td>0.000000</td>\n",
       "    </tr>\n",
       "  </tbody>\n",
       "</table>\n",
       "</div>"
      ],
      "text/plain": [
       "              noLID_noDOPA  noLID_DOPA      mild   moderate\n",
       "noLID_noDOPA      0.000000    7.773966  1.348885  19.808682\n",
       "noLID_DOPA        7.773966    0.000000  9.532862  33.877039\n",
       "mild              1.348885    9.532862  0.000000   6.619643\n",
       "moderate         19.808682   33.877039  6.619643   0.000000"
      ]
     },
     "execution_count": 71,
     "metadata": {},
     "output_type": "execute_result"
    }
   ],
   "source": [
    "ch_event\n"
   ]
  },
  {
   "cell_type": "code",
   "execution_count": 73,
   "metadata": {},
   "outputs": [
    {
     "data": {
      "text/html": [
       "<div>\n",
       "<style scoped>\n",
       "    .dataframe tbody tr th:only-of-type {\n",
       "        vertical-align: middle;\n",
       "    }\n",
       "\n",
       "    .dataframe tbody tr th {\n",
       "        vertical-align: top;\n",
       "    }\n",
       "\n",
       "    .dataframe thead th {\n",
       "        text-align: right;\n",
       "    }\n",
       "</style>\n",
       "<table border=\"1\" class=\"dataframe\">\n",
       "  <thead>\n",
       "    <tr style=\"text-align: right;\">\n",
       "      <th></th>\n",
       "      <th>noLID_noDOPA</th>\n",
       "      <th>noLID_DOPA</th>\n",
       "      <th>mild</th>\n",
       "      <th>moderate</th>\n",
       "    </tr>\n",
       "  </thead>\n",
       "  <tbody>\n",
       "    <tr>\n",
       "      <th>noLID_noDOPA</th>\n",
       "      <td>0.000000</td>\n",
       "      <td>31.375681</td>\n",
       "      <td>0.002132</td>\n",
       "      <td>0.000750</td>\n",
       "    </tr>\n",
       "    <tr>\n",
       "      <th>noLID_DOPA</th>\n",
       "      <td>31.375681</td>\n",
       "      <td>0.000000</td>\n",
       "      <td>17.830919</td>\n",
       "      <td>7.026086</td>\n",
       "    </tr>\n",
       "    <tr>\n",
       "      <th>mild</th>\n",
       "      <td>0.002132</td>\n",
       "      <td>17.830919</td>\n",
       "      <td>0.000000</td>\n",
       "      <td>0.000002</td>\n",
       "    </tr>\n",
       "    <tr>\n",
       "      <th>moderate</th>\n",
       "      <td>0.000750</td>\n",
       "      <td>7.026086</td>\n",
       "      <td>0.000002</td>\n",
       "      <td>0.000000</td>\n",
       "    </tr>\n",
       "  </tbody>\n",
       "</table>\n",
       "</div>"
      ],
      "text/plain": [
       "              noLID_noDOPA  noLID_DOPA       mild  moderate\n",
       "noLID_noDOPA      0.000000   31.375681   0.002132  0.000750\n",
       "noLID_DOPA       31.375681    0.000000  17.830919  7.026086\n",
       "mild              0.002132   17.830919   0.000000  0.000002\n",
       "moderate          0.000750    7.026086   0.000002  0.000000"
      ]
     },
     "execution_count": 73,
     "metadata": {},
     "output_type": "execute_result"
    }
   ],
   "source": [
    "ch_pre_event"
   ]
  },
  {
   "cell_type": "code",
   "execution_count": null,
   "metadata": {},
   "outputs": [],
   "source": []
  }
 ],
 "metadata": {
  "kernelspec": {
   "display_name": "Python 3 (ipykernel)",
   "language": "python",
   "name": "python3"
  },
  "language_info": {
   "codemirror_mode": {
    "name": "ipython",
    "version": 3
   },
   "file_extension": ".py",
   "mimetype": "text/x-python",
   "name": "python",
   "nbconvert_exporter": "python",
   "pygments_lexer": "ipython3",
   "version": "3.9.19"
  }
 },
 "nbformat": 4,
 "nbformat_minor": 4
}

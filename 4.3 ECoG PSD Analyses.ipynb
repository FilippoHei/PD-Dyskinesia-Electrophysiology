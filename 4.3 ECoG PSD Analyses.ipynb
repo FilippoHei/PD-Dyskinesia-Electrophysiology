{
 "cells": [
  {
   "cell_type": "code",
   "execution_count": 1,
   "metadata": {},
   "outputs": [],
   "source": [
    "# Import public packages and functions\n",
    "import os\n",
    "import pandas as pd\n",
    "import numpy as np\n",
    "import sys\n",
    "import json\n",
    "from pathlib import Path\n",
    "\n",
    "import seaborn as sns\n",
    "import matplotlib.pyplot as plt\n",
    "import scikit_posthocs as sp\n",
    "\n",
    "import warnings\n",
    "warnings.filterwarnings(\"ignore\")\n",
    "\n",
    "# inserting the lib folder to the compiler\n",
    "sys.path.insert(0, './lib')\n",
    "sys.path.insert(0, './utils/')\n",
    "\n",
    "import utils_plotting_psd, utils_plotting, utils_psd, utils_io, utils_statistics\n",
    "pd.options.display.float_format = \"{:,.3f}\".format\n",
    "\n",
    "from lib_data import DATA_IO"
   ]
  },
  {
   "cell_type": "code",
   "execution_count": null,
   "metadata": {},
   "outputs": [],
   "source": [
    "PATH_CURR              = os.path.abspath(os.curdir)    # current code\n",
    "PATH                   = (str(Path(PATH_CURR).parent)) # data repository: upper directory where datasets situated"
   ]
  },
  {
   "cell_type": "code",
   "execution_count": null,
   "metadata": {},
   "outputs": [],
   "source": [
    "# load PSD dataframe\n",
    "ECOG_PSD_controlateral = utils_io.load_ECoG_event_PSD(event_category=\"tapping\", event_laterality=\"controlateral\")\n",
    "ECOG_PSD_ipsilateral   = utils_io.load_ECoG_event_PSD(event_category=\"tapping\", event_laterality=\"ipsilateral\")\n",
    "\n",
    "# load MNI Coordinates of ECoG channels\n",
    "MNI_ECoG_channels      = pd.read_pickle(DATA_IO.path_coordinates + \"MNI_ECoG_channels.pkl\")\n",
    "\n",
    "# Define Cortical Parcellation\n",
    "ECOG_PSD_controlateral_motor      = utils_psd.select_ECoG_PSD_based_on_cortical_parcellation(ECOG_PSD_controlateral, MNI_ECoG_channels, cortical_region=\"Motor cortex\")\n",
    "ECOG_PSD_controlateral_sensory    = utils_psd.select_ECoG_PSD_based_on_cortical_parcellation(ECOG_PSD_controlateral, MNI_ECoG_channels, cortical_region=\"Sensory cortex\")\n",
    "ECOG_PSD_controlateral_prefrontal = utils_psd.select_ECoG_PSD_based_on_cortical_parcellation(ECOG_PSD_controlateral, MNI_ECoG_channels, cortical_region=\"Prefrontal cortex\")\n",
    "ECOG_PSD_controlateral_parietal   = utils_psd.select_ECoG_PSD_based_on_cortical_parcellation(ECOG_PSD_controlateral, MNI_ECoG_channels, cortical_region=\"Parietal cortex\")"
   ]
  },
  {
   "cell_type": "markdown",
   "metadata": {
    "jp-MarkdownHeadingCollapsed": true
   },
   "source": [
    "# 1. Controlateral ECoG-PSD for Tapping Events"
   ]
  },
  {
   "cell_type": "markdown",
   "metadata": {
    "jp-MarkdownHeadingCollapsed": true
   },
   "source": [
    "## 1.1 All Channels"
   ]
  },
  {
   "cell_type": "code",
   "execution_count": null,
   "metadata": {},
   "outputs": [],
   "source": [
    "utils_plotting_psd.plot_LID_severity_psd(ECOG_PSD_controlateral, segment=\"pre_event\", dyskinesia_strategy=\"dyskinesia_arm\", error_type=\"se\", \n",
    "                                         figure_name=DATA_IO.path_figure + \"ECoG-PSD/controlateral/all_channels_for_pre_event_segment\")\n",
    "utils_plotting_psd.plot_LID_severity_psd(ECOG_PSD_controlateral, segment=\"event\", dyskinesia_strategy=\"dyskinesia_arm\", error_type=\"se\", \n",
    "                                         figure_name=DATA_IO.path_figure + \"ECoG-PSD/controlateral/all_channels_for_event_segment\")\n",
    "utils_plotting_psd.plot_LID_severity_psd(ECOG_PSD_controlateral, segment=\"post_event\", dyskinesia_strategy=\"dyskinesia_arm\", error_type=\"se\", \n",
    "                                         figure_name=DATA_IO.path_figure + \"ECoG-PSD/controlateral/all_channels_for_post_event_segment\")"
   ]
  },
  {
   "cell_type": "markdown",
   "metadata": {
    "jp-MarkdownHeadingCollapsed": true
   },
   "source": [
    "## 1.2 Mortor Cortex"
   ]
  },
  {
   "cell_type": "code",
   "execution_count": null,
   "metadata": {},
   "outputs": [],
   "source": [
    "utils_plotting_psd.plot_LID_severity_psd(ECOG_PSD_controlateral_motor, segment=\"pre_event\", dyskinesia_strategy=\"dyskinesia_arm\", error_type=\"se\", \n",
    "                                         figure_name=DATA_IO.path_figure + \"ECoG-PSD/controlateral//motor_cortex_channels_for_pre_event_segment\")\n",
    "utils_plotting_psd.plot_LID_severity_psd(ECOG_PSD_controlateral_motor, segment=\"event\", dyskinesia_strategy=\"dyskinesia_arm\", error_type=\"se\", \n",
    "                                         figure_name=DATA_IO.path_figure + \"ECoG-PSD/controlateral//motor_cortex_channels_for_event_segment\")\n",
    "utils_plotting_psd.plot_LID_severity_psd(ECOG_PSD_controlateral_motor, segment=\"post_event\", dyskinesia_strategy=\"dyskinesia_arm\", error_type=\"se\", \n",
    "                                         figure_name=DATA_IO.path_figure + \"ECoG-PSD/controlateral/motor_cortex_channels_for_post_event_segment\")"
   ]
  },
  {
   "cell_type": "markdown",
   "metadata": {
    "jp-MarkdownHeadingCollapsed": true
   },
   "source": [
    "## 1.3 Sensory Cortex"
   ]
  },
  {
   "cell_type": "code",
   "execution_count": null,
   "metadata": {},
   "outputs": [],
   "source": [
    "utils_plotting_psd.plot_LID_severity_psd(ECOG_PSD_controlateral_sensory, segment=\"pre_event\", dyskinesia_strategy=\"dyskinesia_arm\", error_type=\"se\", \n",
    "                                         figure_name=DATA_IO.path_figure + \"ECoG-PSD/controlateral//sensory_cortex_channels_for_pre_event_segment\")\n",
    "utils_plotting_psd.plot_LID_severity_psd(ECOG_PSD_controlateral_sensory, segment=\"event\", dyskinesia_strategy=\"dyskinesia_arm\", error_type=\"se\", \n",
    "                                         figure_name=DATA_IO.path_figure + \"ECoG-PSD/controlateral//sensory_cortex_channels_for_event_segment\")\n",
    "utils_plotting_psd.plot_LID_severity_psd(ECOG_PSD_controlateral_sensory, segment=\"post_event\", dyskinesia_strategy=\"dyskinesia_arm\", error_type=\"se\", \n",
    "                                         figure_name=DATA_IO.path_figure + \"ECoG-PSD/controlateral/sensory_cortex_channels_for_post_event_segment\")"
   ]
  },
  {
   "cell_type": "markdown",
   "metadata": {
    "jp-MarkdownHeadingCollapsed": true
   },
   "source": [
    "## 1.4 Prefrontal Cortex"
   ]
  },
  {
   "cell_type": "code",
   "execution_count": null,
   "metadata": {},
   "outputs": [],
   "source": [
    "utils_plotting_psd.plot_LID_severity_psd(ECOG_PSD_controlateral_prefrontal, segment=\"pre_event\", dyskinesia_strategy=\"dyskinesia_arm\", error_type=\"se\", \n",
    "                                         figure_name=DATA_IO.path_figure + \"ECoG-PSD/controlateral//prefrontal_cortex_channels_for_pre_event_segment\")\n",
    "utils_plotting_psd.plot_LID_severity_psd(ECOG_PSD_controlateral_prefrontal, segment=\"event\", dyskinesia_strategy=\"dyskinesia_arm\", error_type=\"se\", \n",
    "                                         figure_name=DATA_IO.path_figure + \"ECoG-PSD/controlateral//prefrontal_cortex_channels_for_event_segment\")\n",
    "utils_plotting_psd.plot_LID_severity_psd(ECOG_PSD_controlateral_prefrontal, segment=\"post_event\", dyskinesia_strategy=\"dyskinesia_arm\", error_type=\"se\", \n",
    "                                         figure_name=DATA_IO.path_figure + \"ECoG-PSD/controlateral/prefrontal_cortex_channels_for_post_event_segment\")"
   ]
  },
  {
   "cell_type": "markdown",
   "metadata": {
    "jp-MarkdownHeadingCollapsed": true
   },
   "source": [
    "## 1.5 Parietal Cortex"
   ]
  },
  {
   "cell_type": "code",
   "execution_count": null,
   "metadata": {},
   "outputs": [],
   "source": [
    "utils_plotting_psd.plot_LID_severity_psd(ECOG_PSD_controlateral_parietal, segment=\"pre_event\", dyskinesia_strategy=\"dyskinesia_arm\", error_type=\"se\", \n",
    "                                         figure_name=DATA_IO.path_figure + \"ECoG-PSD/controlateral//parietal_cortex_channels_for_pre_event_segment\")\n",
    "utils_plotting_psd.plot_LID_severity_psd(ECOG_PSD_controlateral_parietal, segment=\"event\", dyskinesia_strategy=\"dyskinesia_arm\", error_type=\"se\", \n",
    "                                         figure_name=DATA_IO.path_figure + \"ECoG-PSD/controlateral//parietal_cortex_channels_for_event_segment\")\n",
    "utils_plotting_psd.plot_LID_severity_psd(ECOG_PSD_controlateral_parietal, segment=\"post_event\", dyskinesia_strategy=\"dyskinesia_arm\", error_type=\"se\", \n",
    "                                         figure_name=DATA_IO.path_figure + \"ECoG-PSD/controlateral/parietal_cortex_channels_for_post_event_segment\")"
   ]
  },
  {
   "cell_type": "markdown",
   "metadata": {
    "jp-MarkdownHeadingCollapsed": true
   },
   "source": [
    "# 2. Statistical Analyses"
   ]
  },
  {
   "cell_type": "markdown",
   "metadata": {},
   "source": [
    "## 2.2 Between Dyskinesia Severity Groups For Event Segments"
   ]
  },
  {
   "cell_type": "code",
   "execution_count": null,
   "metadata": {},
   "outputs": [],
   "source": [
    "ECOG_PSD = pd.DataFrame()\n",
    "\n",
    "for severity in ECOG_PSD_controlateral.keys():\n",
    "    ECOG_PSD = pd.concat([ECOG_PSD, ECOG_PSD_controlateral[severity]], ignore_index=True)\n",
    "\n",
    "ECOG_PSD['grouping_1'] = ECOG_PSD['dyskinesia_arm'].map({'none':'A_noLID', 'mild':'B_LID', 'moderate':'B_LID'})\n",
    "ECOG_PSD['grouping_2'] = ECOG_PSD['dyskinesia_arm']\n",
    "ECOG_PSD.loc[(ECOG_PSD['event_start_time'] < 30)  & (ECOG_PSD['grouping_2'] == \"none\"), 'grouping_2'] = 'noLID_noDOPA'\n",
    "ECOG_PSD.loc[(ECOG_PSD['event_start_time'] >= 30) & (ECOG_PSD['grouping_2'] == \"none\"), 'grouping_2'] = 'noLID_DOPA'\n",
    "ECOG_PSD['grouping_3_1'] = ECOG_PSD['grouping_2'].map({'noLID_noDOPA':'A_noLID_noDOPA', 'noLID_DOPA':'B_noLID_DOPA', 'mild':'C_mild', 'moderate':'D_moderate'})\n",
    "ECOG_PSD['grouping_3_2'] = ECOG_PSD['grouping_2'].map({'noLID_noDOPA':'D_noLID_noDOPA', 'noLID_DOPA':'A_noLID_DOPA', 'mild':'B_mild', 'moderate':'C_moderate'})\n",
    "ECOG_PSD['grouping_3_3'] = ECOG_PSD['grouping_2'].map({'noLID_noDOPA':'C_noLID_noDOPA', 'noLID_DOPA':'D_noLID_DOPA', 'mild':'A_mild', 'moderate':'B_moderate'})\n",
    "ECOG_PSD['grouping_2_1'] = ECOG_PSD['grouping_2'].map({'noLID_noDOPA':'A_noLID_noDOPA', 'noLID_DOPA':'B_noLID_DOPA', 'mild':'C_LID', 'moderate':'C_LID'})\n",
    "ECOG_PSD['grouping_2_2'] = ECOG_PSD['grouping_2_1'].map({'A_noLID_noDOPA':'C_noLID_noDOPA', 'B_noLID_DOPA':'A_noLID_DOPA', 'C_LID':'B_LID'})\n",
    "\n",
    "features_pre_event  = ['pre_event_theta_mean', 'pre_event_alpha_mean', 'pre_event_beta_low_mean', 'pre_event_beta_high_mean', 'pre_event_gamma_mean']\n",
    "features_event      = ['event_theta_mean', 'event_alpha_mean', 'event_beta_low_mean', 'event_beta_high_mean', 'event_gamma_mean']\n",
    "features_post_event = ['post_event_theta_mean', 'post_event_alpha_mean', 'post_event_beta_low_mean', 'post_event_beta_high_mean', 'post_event_gamma_mean']"
   ]
  },
  {
   "cell_type": "markdown",
   "metadata": {},
   "source": [
    "### 2.2.1 Pre-Event Segment"
   ]
  },
  {
   "cell_type": "code",
   "execution_count": null,
   "metadata": {},
   "outputs": [],
   "source": [
    "LMM_results_1 = utils_statistics.run_LMM_model(dataset=ECOG_PSD, response_variables=features_pre_event, independent_variable=\"grouping_3_1\", \n",
    "                                               random_effect=\"patient\", random_intercept=True, random_slope=False, constant_variance=True)\n",
    "LMM_results_2 = utils_statistics.run_LMM_model(dataset=ECOG_PSD, response_variables=features_pre_event, independent_variable=\"grouping_3_2\", \n",
    "                                               random_effect=\"patient\", random_intercept=True, random_slope=False, constant_variance=True)\n",
    "LMM_results_3 = utils_statistics.run_LMM_model(dataset=ECOG_PSD, response_variables=features_pre_event, independent_variable=\"grouping_3_3\", \n",
    "                                               random_effect=\"patient\", random_intercept=True, random_slope=False, constant_variance=True)\n",
    " \n",
    "LMM_results_2         = LMM_results_2[(LMM_results_2.group_1==\"A_noLID_DOPA\") & ((LMM_results_2.group_2==\"B_mild\") | (LMM_results_2.group_2==\"C_moderate\"))]\n",
    "LMM_results_3         = LMM_results_3[(LMM_results_3.group_1==\"A_mild\") & (LMM_results_3.group_2==\"B_moderate\")]\n",
    "LMM_results_pre_event = pd.concat([LMM_results_1, LMM_results_2, LMM_results_3], ignore_index=True)\n",
    "\n",
    "LMM_results_pre_event[\"group_1\"] = LMM_results_pre_event[\"group_1\"] .map({'A_noLID_noDOPA':'noLID_noDOPA', 'A_noLID_DOPA':'noLID_DOPA', 'A_mild':'mild'})\n",
    "LMM_results_pre_event[\"group_2\"] = LMM_results_pre_event[\"group_2\"] .map({'B_noLID_DOPA':'noLID_DOPA', 'C_mild':'mild', 'D_moderate':'moderate',\n",
    "                                                                          'B_mild':'mild', 'C_moderate':'moderate', 'B_moderate':'moderate'})\n",
    "\n",
    "LMM_results_pre_event['p_value_corrected'] = LMM_results_pre_event.groupby('feature')['p_value'].transform(lambda x: utils_statistics.apply_multiple_correction(x, 'fdr_bh')) # correction within frequency band\n",
    "#LMM_results_pre_event[\"p_value_corrected\"] = utils_statistics.apply_multiple_correction(LMM_results_pre_event.p_value, correction_method='bonferroni')"
   ]
  },
  {
   "cell_type": "markdown",
   "metadata": {},
   "source": [
    "### 2.2.2 Event Segment"
   ]
  },
  {
   "cell_type": "code",
   "execution_count": null,
   "metadata": {},
   "outputs": [],
   "source": [
    "LMM_results_1 = utils_statistics.run_LMM_model(dataset=ECOG_PSD, response_variables=features_event, independent_variable=\"grouping_3_1\", \n",
    "                                               random_effect=\"patient\", random_intercept=True, random_slope=False, constant_variance=True)\n",
    "LMM_results_2 = utils_statistics.run_LMM_model(dataset=ECOG_PSD, response_variables=features_event, independent_variable=\"grouping_3_2\", \n",
    "                                               random_effect=\"patient\", random_intercept=True, random_slope=False, constant_variance=True)\n",
    "LMM_results_3 = utils_statistics.run_LMM_model(dataset=ECOG_PSD, response_variables=features_event, independent_variable=\"grouping_3_3\", \n",
    "                                               random_effect=\"patient\", random_intercept=True, random_slope=False, constant_variance=True)\n",
    " \n",
    "LMM_results_2     = LMM_results_2[(LMM_results_2.group_1==\"A_noLID_DOPA\") & ((LMM_results_2.group_2==\"B_mild\") | (LMM_results_2.group_2==\"C_moderate\"))]\n",
    "LMM_results_3     = LMM_results_3[(LMM_results_3.group_1==\"A_mild\") & (LMM_results_3.group_2==\"B_moderate\")]\n",
    "LMM_results_event = pd.concat([LMM_results_1, LMM_results_2, LMM_results_3], ignore_index=True)\n",
    "\n",
    "LMM_results_event[\"group_1\"] = LMM_results_event[\"group_1\"] .map({'A_noLID_noDOPA':'noLID_noDOPA', 'A_noLID_DOPA':'noLID_DOPA', 'A_mild':'mild'})\n",
    "LMM_results_event[\"group_2\"] = LMM_results_event[\"group_2\"] .map({'B_noLID_DOPA':'noLID_DOPA', 'C_mild':'mild', 'D_moderate':'moderate',\n",
    "                                                                          'B_mild':'mild', 'C_moderate':'moderate', 'B_moderate':'moderate'})\n",
    "\n",
    "LMM_results_event['p_value_corrected'] = LMM_results_event.groupby('feature')['p_value'].transform(lambda x: utils_statistics.apply_multiple_correction(x, 'fdr_bh')) # correction within frequency band\n",
    "#LMM_results_event[\"p_value_corrected\"] = utils_statistics.apply_multiple_correction(LMM_results_event.p_value, correction_method='bonferroni')"
   ]
  },
  {
   "cell_type": "markdown",
   "metadata": {},
   "source": [
    "### 2.2.3 Post-Event Segment"
   ]
  },
  {
   "cell_type": "code",
   "execution_count": null,
   "metadata": {},
   "outputs": [],
   "source": [
    "LMM_results_1 = utils_statistics.run_LMM_model(dataset=ECOG_PSD, response_variables=features_post_event, independent_variable=\"grouping_3_1\", \n",
    "                                               random_effect=\"patient\", random_intercept=True, random_slope=False, constant_variance=True)\n",
    "LMM_results_2 = utils_statistics.run_LMM_model(dataset=ECOG_PSD, response_variables=features_post_event, independent_variable=\"grouping_3_2\", \n",
    "                                               random_effect=\"patient\", random_intercept=True, random_slope=False, constant_variance=True)\n",
    "LMM_results_3 = utils_statistics.run_LMM_model(dataset=ECOG_PSD, response_variables=features_post_event, independent_variable=\"grouping_3_3\", \n",
    "                                               random_effect=\"patient\", random_intercept=True, random_slope=False, constant_variance=True)\n",
    " \n",
    "LMM_results_2         = LMM_results_2[(LMM_results_2.group_1==\"A_noLID_DOPA\") & ((LMM_results_2.group_2==\"B_mild\") | (LMM_results_2.group_2==\"C_moderate\"))]\n",
    "LMM_results_3         = LMM_results_3[(LMM_results_3.group_1==\"A_mild\") & (LMM_results_3.group_2==\"B_moderate\")]\n",
    "LMM_results_post_event = pd.concat([LMM_results_1, LMM_results_2, LMM_results_3], ignore_index=True)\n",
    "\n",
    "LMM_results_post_event[\"group_1\"] = LMM_results_post_event[\"group_1\"] .map({'A_noLID_noDOPA':'noLID_noDOPA', 'A_noLID_DOPA':'noLID_DOPA', 'A_mild':'mild'})\n",
    "LMM_results_post_event[\"group_2\"] = LMM_results_post_event[\"group_2\"] .map({'B_noLID_DOPA':'noLID_DOPA', 'C_mild':'mild', 'D_moderate':'moderate',\n",
    "                                                                          'B_mild':'mild', 'C_moderate':'moderate', 'B_moderate':'moderate'})\n",
    "\n",
    "LMM_results_post_event['p_value_corrected'] = LMM_results_post_event.groupby('feature')['p_value'].transform(lambda x: utils_statistics.apply_multiple_correction(x, 'fdr_bh')) # correction within frequency band\n",
    "#LMM_results_post_event[\"p_value_corrected\"] = utils_statistics.apply_multiple_correction(LMM_results_post_event.p_value, correction_method='bonferroni')"
   ]
  },
  {
   "cell_type": "markdown",
   "metadata": {},
   "source": [
    "### Plotting"
   ]
  },
  {
   "cell_type": "code",
   "execution_count": null,
   "metadata": {},
   "outputs": [],
   "source": [
    "plt = utils_plotting.get_figure_template()\n",
    "ax  = plt.subplot2grid((77, 66), (0, 0) , colspan=24, rowspan=11)\n",
    "ax  = utils_plotting.plot_coefficient_heatmap(LMM_results_pre_event, features_pre_event, alpha=0.05, ax=ax)\n",
    "plt.savefig(DATA_IO.path_figure + \"statistics/cortex_pre_event_segment.svg\", dpi=300)\n",
    "\n",
    "plt = utils_plotting.get_figure_template()\n",
    "ax  = plt.subplot2grid((77, 66), (0, 0) , colspan=24, rowspan=11)\n",
    "ax  = utils_plotting.plot_coefficient_heatmap(LMM_results_event, features_event, alpha=0.05, ax=ax)\n",
    "plt.savefig(DATA_IO.path_figure + \"statistics/cortex_event_segment.svg\", dpi=300)\n",
    "\n",
    "plt = utils_plotting.get_figure_template()\n",
    "ax  = plt.subplot2grid((77, 66), (0, 0) , colspan=24, rowspan=11)\n",
    "ax  = utils_plotting.plot_coefficient_heatmap(LMM_results_post_event, features_post_event, alpha=0.05, ax=ax)\n",
    "plt.savefig(DATA_IO.path_figure + \"statistics/cortex_post_event_segment.svg\", dpi=300)"
   ]
  },
  {
   "cell_type": "code",
   "execution_count": null,
   "metadata": {},
   "outputs": [],
   "source": [
    "ECOG_PSD.grouping_2.unique()"
   ]
  },
  {
   "cell_type": "code",
   "execution_count": null,
   "metadata": {},
   "outputs": [],
   "source": [
    "features_post_event"
   ]
  },
  {
   "cell_type": "code",
   "execution_count": null,
   "metadata": {},
   "outputs": [],
   "source": [
    "ECOG_PSD[\"severity\"] = ECOG_PSD.grouping_2\n",
    "ECOG_PSD[['patient','severity','pre_event_theta_mean','pre_event_alpha_mean','pre_event_beta_low_mean','pre_event_beta_high_mean','pre_event_gamma_mean',\n",
    "         'event_theta_mean','event_alpha_mean','event_beta_low_mean','event_beta_high_mean','event_gamma_mean',\n",
    "         'post_event_theta_mean','post_event_alpha_mean','post_event_beta_low_mean','post_event_beta_high_mean','post_event_gamma_mean']].to_csv(\"ECOG_PSD.csv\", index=False)"
   ]
  },
  {
   "cell_type": "markdown",
   "metadata": {},
   "source": [
    "## 2.3 Within Dyskinesia Severity Groups"
   ]
  },
  {
   "cell_type": "code",
   "execution_count": null,
   "metadata": {},
   "outputs": [],
   "source": [
    "# make a compact version\n",
    "\n",
    "theta = ECOG_PSD.pre_event_theta_mean.to_list()\n",
    "theta.extend(ECOG_PSD.event_theta_mean.to_list())\n",
    "theta.extend(ECOG_PSD.post_event_theta_mean.to_list())\n",
    "\n",
    "alpha = ECOG_PSD.pre_event_alpha_mean.to_list()\n",
    "alpha.extend(ECOG_PSD.event_alpha_mean.to_list())\n",
    "alpha.extend(ECOG_PSD.post_event_alpha_mean.to_list())\n",
    "\n",
    "beta_low = ECOG_PSD.pre_event_beta_low_mean.to_list()\n",
    "beta_low.extend(ECOG_PSD.event_beta_low_mean.to_list())\n",
    "beta_low.extend(ECOG_PSD.post_event_beta_low_mean.to_list())\n",
    "\n",
    "beta_high = ECOG_PSD.pre_event_beta_high_mean.to_list()\n",
    "beta_high.extend(ECOG_PSD.event_beta_high_mean.to_list())\n",
    "beta_high.extend(ECOG_PSD.post_event_beta_high_mean.to_list())\n",
    "\n",
    "gamma  = ECOG_PSD.pre_event_gamma_mean.to_list()\n",
    "gamma.extend(ECOG_PSD.event_gamma_mean.to_list())\n",
    "gamma.extend(ECOG_PSD.event_gamma_mean.to_list())\n",
    "\n",
    "segment = [\"pre_event\"] * len(ECOG_PSD)\n",
    "segment.extend([\"event\"] * len(ECOG_PSD))\n",
    "segment.extend([\"post_event\"] * len(ECOG_PSD))\n",
    "\n",
    "ECOG_PSD_compact                   = pd.DataFrame()\n",
    "ECOG_PSD_compact['patient']        = ECOG_PSD['patient'].to_list() * 3\n",
    "ECOG_PSD_compact['event_no']       = ECOG_PSD['event_no'].to_list() * 3\n",
    "ECOG_PSD_compact['grouping_1']     = ECOG_PSD['grouping_1'].to_list() * 3\n",
    "ECOG_PSD_compact['grouping_2']     = ECOG_PSD['grouping_2'].to_list() * 3\n",
    "ECOG_PSD_compact['grouping_3']     = ECOG_PSD['grouping_3'].to_list() * 3\n",
    "ECOG_PSD_compact['segment']        = segment\n",
    "ECOG_PSD_compact['theta_mean']     = theta\n",
    "ECOG_PSD_compact['alpha_mean']     = alpha\n",
    "\n",
    "ECOG_PSD_compact['beta_low_mean']  = beta_low\n",
    "ECOG_PSD_compact['beta_high_mean'] = beta_high\n",
    "ECOG_PSD_compact['gamma_mean']     = gamma\n",
    "\n",
    "ECOG_PSD_compact['segment_1']      = ECOG_PSD_compact['segment'].map({'pre_event':'A_pre_event', 'event':'B_event', 'post_event':'C_post_event'})\n",
    "ECOG_PSD_compact['segment_2']      = ECOG_PSD_compact['segment'].map({'pre_event':'C_pre_event', 'event':'A_event', 'post_event':'B_post_event'})"
   ]
  },
  {
   "cell_type": "markdown",
   "metadata": {},
   "source": [
    "### 2.3.1 No-LID"
   ]
  },
  {
   "cell_type": "code",
   "execution_count": null,
   "metadata": {},
   "outputs": [],
   "source": [
    "LMM_results_1 = utils_statistics.run_LMM_model(dataset=ECOG_PSD_compact[ECOG_PSD_compact.grouping_2==\"A_noLID\"], \n",
    "                                               response_variables=[\"theta_mean\",\"alpha_mean\", \"beta_low_mean\", \"beta_high_mean\", \"gamma_mean\"], \n",
    "                                               independed_variable=\"segment_1\", random_effect=\"patient\", \n",
    "                                               random_intercept=True, random_slope=True, correction_method='fdr_bh')\n",
    "\n",
    "print(\"------------------------------------------------------------------\")\n",
    "print(\"\")\n",
    "print(\"------------------------------------------------------------------\")\n",
    "LMM_results_2 = utils_statistics.run_LMM_model(dataset=ECOG_PSD_compact[(ECOG_PSD_compact.grouping_2==\"A_noLID\") & (ECOG_PSD_compact.segment_1!=\"A_pre_event\")], \n",
    "                                               response_variables=[\"theta_mean\",\"alpha_mean\", \"beta_low_mean\", \"beta_high_mean\", \"gamma_mean\"], \n",
    "                                               independed_variable=\"segment_1\", random_effect=\"patient\", \n",
    "                                               random_intercept=True, random_slope=True, correction_method='fdr_bh')\n",
    "\n",
    "LMM_results                      = pd.concat([LMM_results_1, LMM_results_2], ignore_index=True)\n",
    "LMM_results[\"p_value_corrected\"] = utils_statistics.apply_multiple_correction(LMM_results.p_value, correction_method='fdr_bh')\n",
    "\n",
    "LMM_results"
   ]
  },
  {
   "cell_type": "markdown",
   "metadata": {},
   "source": [
    "### 2.3.2 Mild"
   ]
  },
  {
   "cell_type": "code",
   "execution_count": null,
   "metadata": {},
   "outputs": [],
   "source": [
    "LMM_results_1 = utils_statistics.run_LMM_model(dataset=ECOG_PSD_compact[ECOG_PSD_compact.grouping_2==\"B_mild\"], \n",
    "                                               response_variables=[\"theta_mean\",\"alpha_mean\", \"beta_low_mean\", \"beta_high_mean\", \"gamma_mean\"], \n",
    "                                               independed_variable=\"segment_1\", random_effect=\"patient\", \n",
    "                                               random_intercept=True, random_slope=True, correction_method='fdr_bh')\n",
    "\n",
    "print(\"------------------------------------------------------------------\")\n",
    "print(\"\")\n",
    "print(\"------------------------------------------------------------------\")\n",
    "LMM_results_2 = utils_statistics.run_LMM_model(dataset=ECOG_PSD_compact[(ECOG_PSD_compact.grouping_2==\"B_mild\") & (ECOG_PSD_compact.segment_1!=\"A_pre_event\")], \n",
    "                                               response_variables=[\"theta_mean\",\"alpha_mean\", \"beta_low_mean\", \"beta_high_mean\", \"gamma_mean\"], \n",
    "                                               independed_variable=\"segment_1\", random_effect=\"patient\", \n",
    "                                               random_intercept=True, random_slope=True, correction_method='fdr_bh')\n",
    "\n",
    "LMM_results                      = pd.concat([LMM_results_1, LMM_results_2], ignore_index=True)\n",
    "LMM_results[\"p_value_corrected\"] = utils_statistics.apply_multiple_correction(LMM_results.p_value, correction_method='fdr_bh')\n",
    "LMM_results"
   ]
  },
  {
   "cell_type": "markdown",
   "metadata": {},
   "source": [
    "### 2.3.3 Moderate"
   ]
  },
  {
   "cell_type": "code",
   "execution_count": null,
   "metadata": {},
   "outputs": [],
   "source": [
    "LMM_results_1 = utils_statistics.run_LMM_model(dataset=ECOG_PSD_compact[ECOG_PSD_compact.grouping_2==\"C_moderate\"], \n",
    "                                               response_variables=[\"theta_mean\",\"alpha_mean\", \"beta_low_mean\", \"beta_high_mean\", \"gamma_mean\"], \n",
    "                                               independed_variable=\"segment_1\", random_effect=\"patient\", \n",
    "                                               random_intercept=True, random_slope=True, correction_method='fdr_bh')\n",
    "\n",
    "print(\"------------------------------------------------------------------\")\n",
    "print(\"\")\n",
    "print(\"------------------------------------------------------------------\")\n",
    "LMM_results_2 = utils_statistics.run_LMM_model(dataset=ECOG_PSD_compact[(ECOG_PSD_compact.grouping_2==\"C_moderate\") & (ECOG_PSD_compact.segment_1!=\"A_pre_event\")], \n",
    "                                               response_variables=[\"theta_mean\",\"alpha_mean\", \"beta_low_mean\", \"beta_high_mean\", \"gamma_mean\"], \n",
    "                                               independed_variable=\"segment_1\", random_effect=\"patient\", \n",
    "                                               random_intercept=True, random_slope=True, correction_method='fdr_bh')\n",
    "\n",
    "LMM_results                      = pd.concat([LMM_results_1, LMM_results_2], ignore_index=True)\n",
    "LMM_results[\"p_value_corrected\"] = utils_statistics.apply_multiple_correction(LMM_results.p_value, correction_method='fdr_bh')\n",
    "LMM_results"
   ]
  },
  {
   "cell_type": "markdown",
   "metadata": {},
   "source": [
    "#### 2.3.4 LID"
   ]
  },
  {
   "cell_type": "code",
   "execution_count": null,
   "metadata": {},
   "outputs": [],
   "source": [
    "LMM_results_1 = utils_statistics.run_LMM_model(dataset=ECOG_PSD_compact[ECOG_PSD_compact.grouping_1==\"B_LID\"], \n",
    "                                               response_variables=[\"theta_mean\",\"alpha_mean\", \"beta_low_mean\", \"beta_high_mean\", \"gamma_mean\"], \n",
    "                                               independed_variable=\"segment_1\", random_effect=\"patient\", \n",
    "                                               random_intercept=True, random_slope=True, correction_method='fdr_bh')\n",
    "\n",
    "print(\"------------------------------------------------------------------\")\n",
    "print(\"\")\n",
    "print(\"------------------------------------------------------------------\")\n",
    "LMM_results_2 = utils_statistics.run_LMM_model(dataset=ECOG_PSD_compact[(ECOG_PSD_compact.grouping_1==\"B_LID\") & (ECOG_PSD_compact.segment_1!=\"A_pre_event\")], \n",
    "                                               response_variables=[\"theta_mean\",\"alpha_mean\", \"beta_low_mean\", \"beta_high_mean\", \"gamma_mean\"], \n",
    "                                               independed_variable=\"segment_1\", random_effect=\"patient\", \n",
    "                                               random_intercept=True, random_slope=True, correction_method='fdr_bh')\n",
    "\n",
    "LMM_results                      = pd.concat([LMM_results_1, LMM_results_2], ignore_index=True)\n",
    "LMM_results"
   ]
  },
  {
   "cell_type": "markdown",
   "metadata": {},
   "source": [
    "## 2.4 Consider Dyskinesia Severity + Event Segment Interaction (Similar to Two-Way Anova)"
   ]
  },
  {
   "cell_type": "code",
   "execution_count": null,
   "metadata": {},
   "outputs": [],
   "source": [
    "results_1 = utils_statistics.run_LMM_model_with_interaction(dataset=ECOG_PSD_compact, \n",
    "                                                            response_variables=['theta_mean', 'alpha_mean', 'beta_low_mean', 'beta_high_mean','gamma_mean'], \n",
    "                                                            independed_variable=\"grouping_2\", block_variable=\"segment_1\", random_effect=\"patient\", \n",
    "                                                            random_intercept=True, random_slope=True)\n",
    "results_2 = utils_statistics.run_LMM_model_with_interaction(dataset=ECOG_PSD_compact, \n",
    "                                                            response_variables=['theta_mean', 'alpha_mean', 'beta_low_mean', 'beta_high_mean','gamma_mean'], \n",
    "                                                            independed_variable=\"grouping_3\", block_variable=\"segment_1\", random_effect=\"patient\", \n",
    "                                                            random_intercept=True, random_slope=True)\n",
    "\n",
    "results_2 = results_2[(results_2.reference_severity==\"A_mild\") & (results_2.comparison_severity==\"B_moderate\")]\n",
    "LMM_results                      = pd.concat([results_1, results_2], ignore_index=True)\n",
    "LMM_results[\"p_value_corrected\"] = utils_statistics.apply_multiple_correction(LMM_results.p_value, correction_method='fdr_bh')"
   ]
  },
  {
   "cell_type": "code",
   "execution_count": null,
   "metadata": {},
   "outputs": [],
   "source": [
    "LMM_results[['feature', 'reference_severity', 'reference_segment',\n",
    "             'comparison_severity', 'comparison_segment', 'coefficient','p_value_corrected']]"
   ]
  },
  {
   "cell_type": "markdown",
   "metadata": {},
   "source": [
    "# 3. Statistical Analyses (Matlab Results)"
   ]
  },
  {
   "cell_type": "code",
   "execution_count": 7,
   "metadata": {},
   "outputs": [
    {
     "data": {
      "text/plain": [
       "<Figure size 640x480 with 0 Axes>"
      ]
     },
     "metadata": {},
     "output_type": "display_data"
    },
    {
     "data": {
      "image/png": "[encoded data removed]",
      "text/plain": [
       "<Figure size 728.346x826.772 with 3 Axes>"
      ]
     },
     "metadata": {},
     "output_type": "display_data"
    },
    {
     "data": {
      "text/plain": [
       "<Figure size 640x480 with 0 Axes>"
      ]
     },
     "metadata": {},
     "output_type": "display_data"
    },
    {
     "data": {
      "image/png": "[encoded data removed]",
      "text/plain": [
       "<Figure size 728.346x826.772 with 3 Axes>"
      ]
     },
     "metadata": {},
     "output_type": "display_data"
    },
    {
     "data": {
      "text/plain": [
       "<Figure size 640x480 with 0 Axes>"
      ]
     },
     "metadata": {},
     "output_type": "display_data"
    },
    {
     "data": {
      "image/png": "[encoded data removed]",
      "text/plain": [
       "<Figure size 728.346x826.772 with 3 Axes>"
      ]
     },
     "metadata": {},
     "output_type": "display_data"
    }
   ],
   "source": [
    "LMM_result = pd.read_csv(DATA_IO.path_events + \"lmm/lmm_comparison_ECOG.csv\")\n",
    "\n",
    "LMM_result = LMM_result[~(((LMM_result.reference_group==\"mild\") & ((LMM_result.comparison_group==\"noLID_noDOPA\") | (LMM_result.comparison_group==\"noLID_DOPA\"))) |\n",
    "                         ((LMM_result.reference_group==\"noLID_DOPA\") & (LMM_result.comparison_group==\"noLID_noDOPA\")))]\n",
    "\n",
    "features_pre_event     = ['pre_event_theta_mean', 'pre_event_alpha_mean', 'pre_event_beta_low_mean', 'pre_event_beta_high_mean', 'pre_event_gamma_mean']\n",
    "features_event         = ['event_theta_mean', 'event_alpha_mean', 'event_beta_low_mean', 'event_beta_high_mean', 'event_gamma_mean']\n",
    "features_post_event    = ['post_event_theta_mean', 'post_event_alpha_mean', 'post_event_beta_low_mean', 'post_event_beta_high_mean', 'post_event_gamma_mean']\n",
    "\n",
    "LMM_results_pre_event  = LMM_result[LMM_result.feature.isin(features_pre_event)]\n",
    "LMM_results_event      = LMM_result[LMM_result.feature.isin(features_event)]\n",
    "LMM_results_post_event = LMM_result[LMM_result.feature.isin(features_post_event)]\n",
    "\n",
    "LMM_results_pre_event[\"p_value_corrected\"]  = LMM_results_pre_event.groupby('feature')['p_value'].transform(lambda x: utils_statistics.apply_multiple_correction(x, 'fdr_bh'))\n",
    "LMM_results_event[\"p_value_corrected\"]      = LMM_results_event.groupby('feature')['p_value'].transform(lambda x: utils_statistics.apply_multiple_correction(x, 'fdr_bh'))\n",
    "LMM_results_post_event[\"p_value_corrected\"] = LMM_results_post_event.groupby('feature')['p_value'].transform(lambda x: utils_statistics.apply_multiple_correction(x, 'fdr_bh'))\n",
    "\n",
    "LMM_results_pre_event[\"group_1\"]  = LMM_results_pre_event.reference_group\n",
    "LMM_results_pre_event[\"group_2\"]  = LMM_results_pre_event.comparison_group\n",
    "\n",
    "LMM_results_event[\"group_1\"]      = LMM_results_event.reference_group\n",
    "LMM_results_event[\"group_2\"]      = LMM_results_event.comparison_group\n",
    "\n",
    "LMM_results_post_event[\"group_1\"] = LMM_results_post_event.reference_group\n",
    "LMM_results_post_event[\"group_2\"] = LMM_results_post_event.comparison_group\n",
    "\n",
    "\n",
    "plt = utils_plotting.get_figure_template()\n",
    "ax  = plt.subplot2grid((77, 66), (0, 0) , colspan=24, rowspan=11)\n",
    "ax  = utils_plotting.plot_coefficient_heatmap(LMM_results_pre_event, features_pre_event, alpha=0.05, ax=ax)\n",
    "plt.savefig(DATA_IO.path_figure + \"statistics/cortex_pre_event_segment.svg\", dpi=300)\n",
    "\n",
    "plt = utils_plotting.get_figure_template()\n",
    "ax  = plt.subplot2grid((77, 66), (0, 0) , colspan=24, rowspan=11)\n",
    "ax  = utils_plotting.plot_coefficient_heatmap(LMM_results_event, features_event, alpha=0.05, ax=ax)\n",
    "plt.savefig(DATA_IO.path_figure + \"statistics/cortex_event_segment.svg\", dpi=300)\n",
    "\n",
    "plt = utils_plotting.get_figure_template()\n",
    "ax  = plt.subplot2grid((77, 66), (0, 0) , colspan=24, rowspan=11)\n",
    "ax  = utils_plotting.plot_coefficient_heatmap(LMM_results_post_event, features_post_event, alpha=0.05, ax=ax)\n",
    "plt.savefig(DATA_IO.path_figure + \"statistics/cortex_post_event_segment.svg\", dpi=300)"
   ]
  },
  {
   "cell_type": "code",
   "execution_count": null,
   "metadata": {},
   "outputs": [],
   "source": []
  }
 ],
 "metadata": {
  "kernelspec": {
   "display_name": "Python 3 (ipykernel)",
   "language": "python",
   "name": "python3"
  },
  "language_info": {
   "codemirror_mode": {
    "name": "ipython",
    "version": 3
   },
   "file_extension": ".py",
   "mimetype": "text/x-python",
   "name": "python",
   "nbconvert_exporter": "python",
   "pygments_lexer": "ipython3",
   "version": "3.9.19"
  }
 },
 "nbformat": 4,
 "nbformat_minor": 4
}

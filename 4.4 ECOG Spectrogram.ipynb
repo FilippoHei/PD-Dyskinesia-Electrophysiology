{
 "cells": [
  {
   "cell_type": "code",
   "execution_count": 4,
   "metadata": {},
   "outputs": [],
   "source": [
    "# Import public packages and functions\n",
    "import os\n",
    "import pandas as pd\n",
    "import numpy as np\n",
    "import sys\n",
    "import json\n",
    "from pathlib import Path\n",
    "\n",
    "import seaborn as sns\n",
    "import matplotlib.pyplot as plt\n",
    "import scikit_posthocs as sp\n",
    "\n",
    "import warnings\n",
    "warnings.filterwarnings(\"ignore\")\n",
    "\n",
    "# inserting the lib folder to the compiler\n",
    "sys.path.insert(0, './lib')\n",
    "sys.path.insert(0, './utils/')\n",
    "\n",
    "import utils_misc, utils_io, utils_plotting, utils_mutual_information, utils_statistics, utils_spectrogram, utils_plotting_spectrogram\n",
    "from lib_data import DATA_IO"
   ]
  },
  {
   "cell_type": "code",
   "execution_count": 5,
   "metadata": {},
   "outputs": [
    {
     "name": "stdout",
     "output_type": "stream",
     "text": [
      "Patient 008: does not have right hemisphere baseline recordings\n",
      "Patient 009: does not have right hemisphere baseline recordings\n",
      "Patient 010: does not have left hemisphere baseline recordings\n",
      "Patient 012: does not have left hemisphere baseline recordings\n",
      "Patient 013: does not have left hemisphere baseline recordings\n",
      "Patient 014: does not have left hemisphere baseline recordings\n",
      "Patient 016: does not have left hemisphere baseline recordings\n",
      "Patient 019: does not have left hemisphere baseline recordings\n",
      "Patient 020: does not have left hemisphere baseline recordings\n",
      "Patient 021: does not have left hemisphere baseline recordings\n",
      "Patient 022: does not have left hemisphere baseline recordings\n",
      "Patient 023: does not have left hemisphere baseline recordings\n",
      "Patient 101: does not have right hemisphere baseline recordings\n",
      "Patient 101: does not have left hemisphere baseline recordings\n",
      "Patient 102: does not have right hemisphere baseline recordings\n",
      "Patient 102: does not have left hemisphere baseline recordings\n",
      "Patient 103: does not have right hemisphere baseline recordings\n",
      "Patient 103: does not have left hemisphere baseline recordings\n",
      "Patient 105: does not have right hemisphere baseline recordings\n",
      "Patient 105: does not have left hemisphere baseline recordings\n",
      "Patient 107: does not have right hemisphere baseline recordings\n",
      "Patient 107: does not have left hemisphere baseline recordings\n",
      "Patient 108: does not have right hemisphere baseline recordings\n",
      "Patient 108: does not have left hemisphere baseline recordings\n",
      "Patient 109: does not have right hemisphere baseline recordings\n",
      "Patient 109: does not have left hemisphere baseline recordings\n",
      "Patient 110: does not have right hemisphere baseline recordings\n",
      "Patient 110: does not have left hemisphere baseline recordings\n"
     ]
    }
   ],
   "source": [
    "fs                  = 2048\n",
    "PATH_CURR           = os.path.abspath(os.curdir)    # current code\n",
    "PATH                = (str(Path(PATH_CURR).parent)) # data repository: upper directory where datasets situate\n",
    "df_TAPPING_events   = pd.read_pickle(DATA_IO.path_events + \"ECoG_EVENTS.pkl\")\n",
    "df_TAPPING_events   = df_TAPPING_events[df_TAPPING_events.patient != \"019\"]\n",
    "\n",
    "df_controlateral    = df_TAPPING_events[df_TAPPING_events.event_laterality != df_TAPPING_events.ECoG_hemisphere]\n",
    "df_controlateral    = utils_misc.get_onset_and_offset_aligned_recordings(df_controlateral, fs=fs)\n",
    "df_controlateral    = df_controlateral[[\"patient\", \"ECoG_hemisphere\", \"ECoG_channel\", \"recording_onset_aligned\",\"recording_offset_aligned\",\"dyskinesia_arm\"]]\n",
    "df_controlateral.reset_index(inplace=True, drop=True)\n",
    "\n",
    "baseline_recordings = utils_io.load_baseline_recordings(recording_type=\"ECoG\")"
   ]
  },
  {
   "cell_type": "markdown",
   "metadata": {
    "jp-MarkdownHeadingCollapsed": true
   },
   "source": [
    "# 1. Calculate Channel and Severity-Wise Time-Frequency Activity"
   ]
  },
  {
   "cell_type": "code",
   "execution_count": 8,
   "metadata": {},
   "outputs": [
    {
     "name": "stdout",
     "output_type": "stream",
     "text": [
      "patient 008 - left - 02-01 - mild\n",
      "patient 008 - left - 02-01 - moderate\n",
      "patient 008 - left - 03-02 - mild\n",
      "patient 008 - left - 03-02 - moderate\n",
      "patient 008 - left - 04-03 - mild\n",
      "patient 008 - left - 04-03 - moderate\n",
      "patient 008 - left - 05-04 - mild\n",
      "patient 008 - left - 05-04 - moderate\n",
      "patient 008 - left - 06-05 - mild\n",
      "patient 008 - left - 06-05 - moderate\n",
      "patient 009 - left - 02-01 - none\n",
      "patient 009 - left - 02-01 - mild\n",
      "patient 009 - left - 03-02 - none\n",
      "patient 009 - left - 03-02 - mild\n",
      "patient 009 - left - 04-03 - none\n",
      "patient 009 - left - 04-03 - mild\n",
      "patient 009 - left - 05-04 - none\n",
      "patient 009 - left - 05-04 - mild\n",
      "patient 009 - left - 06-05 - none\n",
      "patient 009 - left - 06-05 - mild\n",
      "patient 010 - right - 02-01 - none\n",
      "patient 010 - right - 03-02 - none\n",
      "patient 010 - right - 04-03 - none\n",
      "patient 010 - right - 05-04 - none\n",
      "patient 010 - right - 06-05 - none\n",
      "patient 012 - right - 02-01 - mild\n",
      "patient 012 - right - 02-01 - moderate\n",
      "patient 012 - right - 03-02 - mild\n",
      "patient 012 - right - 03-02 - moderate\n",
      "patient 012 - right - 04-03 - mild\n",
      "patient 012 - right - 04-03 - moderate\n",
      "patient 012 - right - 05-04 - mild\n",
      "patient 012 - right - 05-04 - moderate\n",
      "patient 013 - right - 02-01 - none\n",
      "patient 013 - right - 03-02 - none\n",
      "patient 013 - right - 04-03 - none\n",
      "patient 013 - right - 05-04 - none\n",
      "patient 013 - right - 06-05 - none\n",
      "patient 013 - right - 07-06 - none\n",
      "patient 013 - right - 08-07 - none\n",
      "patient 013 - right - 09-08 - none\n",
      "patient 013 - right - 10-09 - none\n",
      "patient 013 - right - 11-10 - none\n",
      "patient 013 - right - 12-11 - none\n",
      "patient 014 - right - 02-01 - none\n",
      "patient 014 - right - 03-02 - none\n",
      "patient 014 - right - 04-03 - none\n",
      "patient 014 - right - 05-04 - none\n",
      "patient 014 - right - 06-05 - none\n",
      "patient 016 - right - 04-02 - none\n",
      "patient 016 - right - 04-02 - mild\n",
      "patient 016 - right - 05-04 - none\n",
      "patient 016 - right - 05-04 - mild\n",
      "patient 016 - right - 06-05 - none\n",
      "patient 016 - right - 06-05 - mild\n",
      "patient 020 - right - 02-01 - none\n",
      "patient 020 - right - 03-02 - none\n",
      "patient 020 - right - 04-03 - none\n",
      "patient 020 - right - 05-04 - none\n",
      "patient 020 - right - 06-05 - none\n",
      "patient 021 - right - 02-01 - none\n",
      "patient 021 - right - 02-01 - mild\n",
      "patient 021 - right - 02-01 - moderate\n",
      "patient 021 - right - 03-02 - none\n",
      "patient 021 - right - 03-02 - mild\n",
      "patient 021 - right - 03-02 - moderate\n",
      "patient 021 - right - 04-03 - none\n",
      "patient 021 - right - 04-03 - mild\n",
      "patient 021 - right - 04-03 - moderate\n",
      "patient 021 - right - 05-04 - none\n",
      "patient 021 - right - 05-04 - mild\n",
      "patient 021 - right - 05-04 - moderate\n",
      "patient 021 - right - 06-05 - none\n",
      "patient 021 - right - 06-05 - mild\n",
      "patient 021 - right - 06-05 - moderate\n",
      "patient 022 - right - 02-01 - none\n",
      "patient 022 - right - 02-01 - mild\n",
      "patient 022 - right - 03-02 - none\n",
      "patient 022 - right - 03-02 - mild\n",
      "patient 022 - right - 06-05 - none\n",
      "patient 022 - right - 06-05 - mild\n",
      "patient 022 - right - 04-03 - none\n",
      "patient 022 - right - 04-03 - mild\n",
      "patient 022 - right - 05-04 - none\n",
      "patient 022 - right - 05-04 - mild\n",
      "patient 023 - right - 02-01 - none\n",
      "patient 023 - right - 02-01 - mild\n",
      "patient 023 - right - 03-02 - none\n",
      "patient 023 - right - 03-02 - mild\n",
      "patient 023 - right - 04-03 - none\n",
      "patient 023 - right - 04-03 - mild\n",
      "patient 023 - right - 05-04 - none\n",
      "patient 023 - right - 05-04 - mild\n",
      "patient 023 - right - 06-05 - none\n",
      "patient 023 - right - 06-05 - mild\n"
     ]
    }
   ],
   "source": [
    "dataset               = pd.DataFrame(df_controlateral)\n",
    "dataset[\"hemisphere\"] = dataset.ECoG_hemisphere\n",
    "dataset[\"channel\"]    = dataset.ECoG_channel\n",
    "dataset.reset_index(inplace=True, drop=True)\n",
    "\n",
    "df_spectrogram        = utils_spectrogram.measure_normalized_multitaper_spectrograms(dataset, fs, baseline_recordings)\n",
    "df_spectrogram.to_pickle(DATA_IO.path_events + \"time_frequency_activity/ECOG_TFA\") "
   ]
  },
  {
   "cell_type": "markdown",
   "metadata": {},
   "source": [
    "# 2. Load Channel and Severity-Wise Time-Frequency Activity"
   ]
  },
  {
   "cell_type": "code",
   "execution_count": 12,
   "metadata": {},
   "outputs": [],
   "source": [
    "df_spectrogram       = pd.read_pickle(DATA_IO.path_events + \"time_frequency_activity/ECOG_TFA\") \n",
    "df_spectrogram_LID   = df_spectrogram[df_spectrogram.severity!=\"none\"]\n",
    "df_spectrogram_noLID = df_spectrogram[df_spectrogram.severity==\"none\"]"
   ]
  },
  {
   "cell_type": "markdown",
   "metadata": {
    "jp-MarkdownHeadingCollapsed": true
   },
   "source": [
    "# 3. Plot Spectrograms"
   ]
  },
  {
   "cell_type": "code",
   "execution_count": 9,
   "metadata": {},
   "outputs": [],
   "source": [
    "# measure mean spectrograms\n",
    "patient_onset_LID    = np.nanmean(list(df_spectrogram_LID[df_spectrogram_LID[\"onset_aligned_normalized\"].apply(lambda x: isinstance(x, np.ndarray))].onset_aligned_normalized), axis=0)\n",
    "patient_offset_LID   = np.nanmean(list(df_spectrogram_LID[df_spectrogram_LID[\"offset_aligned_normalized\"].apply(lambda x: isinstance(x, np.ndarray))].offset_aligned_normalized), axis=0)\n",
    "patient_onset_noLID  = np.nanmean(list(df_spectrogram_noLID[df_spectrogram_noLID[\"onset_aligned_normalized\"].apply(lambda x: isinstance(x, np.ndarray))].onset_aligned_normalized), axis=0)\n",
    "patient_offset_noLID = np.nanmean(list(df_spectrogram_noLID[df_spectrogram_noLID[\"offset_aligned_normalized\"].apply(lambda x: isinstance(x, np.ndarray))].offset_aligned_normalized), axis=0)"
   ]
  },
  {
   "cell_type": "code",
   "execution_count": 11,
   "metadata": {},
   "outputs": [
    {
     "data": {
      "text/plain": [
       "<Figure size 640x480 with 0 Axes>"
      ]
     },
     "metadata": {},
     "output_type": "display_data"
    },
    {
     "data": {
      "image/png": "[encoded data removed]",
      "text/plain": [
       "<Figure size 728.346x826.772 with 2 Axes>"
      ]
     },
     "metadata": {},
     "output_type": "display_data"
    }
   ],
   "source": [
    "plt      = utils_plotting.get_figure_template()\n",
    "ax_noLID = plt.subplot2grid((80, 40), (0, 0) , colspan=10, rowspan=17)\n",
    "ax_LID   = plt.subplot2grid((80, 40), (0, 12), colspan=10, rowspan=17)\n",
    "ax_noLID = utils_plotting_spectrogram.plot_mean_spectrogram(patient_offset_noLID, group = \"noLID\", time_vector=np.linspace(-2,2,fs*4), \n",
    "                                                            vmin=-40, vmax=40, cmap=\"viridis\", axis=ax_noLID)\n",
    "ax_LID   = utils_plotting_spectrogram.plot_mean_spectrogram(patient_offset_LID, group = \"LID\", time_vector=np.linspace(-2,2,fs*4), \n",
    "                                                            vmin=-40, vmax=40, cmap=\"viridis\", axis=ax_LID)\n",
    "plt.savefig(DATA_IO.path_figure + \"spectrogram/cortex_spectrogram.svg\", dpi=1200)"
   ]
  },
  {
   "cell_type": "markdown",
   "metadata": {
    "jp-MarkdownHeadingCollapsed": true
   },
   "source": [
    "# 4. Check Spectogram Pixel-Wise Significance"
   ]
  },
  {
   "cell_type": "code",
   "execution_count": null,
   "metadata": {},
   "outputs": [],
   "source": [
    "def contains_nan(matrix):\n",
    "    return np.isnan(matrix).any()\n",
    "\n",
    "spectrograms_LID   = np.array(df_spectrogram_LID[~df_spectrogram_LID['offset_aligned_normalized'].apply(contains_nan)].offset_aligned_normalized.to_list())\n",
    "spectrograms_noLID = np.array(df_spectrogram_noLID[~df_spectrogram_noLID['offset_aligned_normalized'].apply(contains_nan)].offset_aligned_normalized.to_list())"
   ]
  },
  {
   "cell_type": "markdown",
   "metadata": {
    "jp-MarkdownHeadingCollapsed": true
   },
   "source": [
    "## 4.1 Compute Permutation Cluster Test"
   ]
  },
  {
   "cell_type": "code",
   "execution_count": 17,
   "metadata": {},
   "outputs": [
    {
     "name": "stdout",
     "output_type": "stream",
     "text": [
      "Using a threshold of 3.948084\n",
      "stat_fun(H1): min=9.267922883244344e-13 max=16.455870864306526\n",
      "Running initial clustering …\n",
      "Found 186 clusters\n"
     ]
    },
    {
     "data": {
      "application/vnd.jupyter.widget-view+json": {
       "model_id": "c1577dcc5d9e4482a4145209e143ae64",
       "version_major": 2,
       "version_minor": 0
      },
      "text/plain": [
       "  0%|          | Permuting : 0/1023 [00:00<?,       ?it/s]"
      ]
     },
     "metadata": {},
     "output_type": "display_data"
    }
   ],
   "source": [
    "import mne\n",
    "from mne.stats import permutation_cluster_test\n",
    "\n",
    "# stack data along the first axis for permutation tests\n",
    "data           = np.array([spectrograms_LID, spectrograms_noLID])  # list of arrays for each condition\n",
    "adjacency      = mne.stats.combine_adjacency(87, 8192)\n",
    "n_permutations = 1000  # number of permutations\n",
    "# sun the cluster-based permutation test\n",
    "F_stats, clusters, cluster_p_values, H0 = permutation_cluster_test(data, adjacency=adjacency)"
   ]
  },
  {
   "cell_type": "code",
   "execution_count": 31,
   "metadata": {},
   "outputs": [],
   "source": [
    "with open(DATA_IO.path_events+'time_frequency_activity/ecog_permutation_test_clustering/F_stats.npy', 'wb') as f:np.save(f, F_stats)\n",
    "with open(DATA_IO.path_events+'time_frequency_activity/ecog_permutation_test_clustering/clusters.npy', 'wb') as f:np.save(f, clusters)\n",
    "with open(DATA_IO.path_events+'time_frequency_activity/ecog_permutation_test_clustering/cluster_p_values.npy', 'wb') as f:np.save(f, cluster_p_values)"
   ]
  },
  {
   "cell_type": "markdown",
   "metadata": {
    "jp-MarkdownHeadingCollapsed": true
   },
   "source": [
    "## 4.2 Load Permutation Cluster Test Results"
   ]
  },
  {
   "cell_type": "code",
   "execution_count": 9,
   "metadata": {},
   "outputs": [],
   "source": [
    "F_stats           = np.load(DATA_IO.path_events+'time_frequency_activity/ecog_permutation_test_clustering/F_stats.npy', allow_pickle=True)\n",
    "clusters          = np.load(DATA_IO.path_events+'time_frequency_activity/ecog_permutation_test_clustering/clusters.npy', allow_pickle=True)\n",
    "cluster_p_values  = np.load(DATA_IO.path_events+'time_frequency_activity/ecog_permutation_test_clustering/cluster_p_values.npy', allow_pickle=True)"
   ]
  },
  {
   "cell_type": "markdown",
   "metadata": {
    "jp-MarkdownHeadingCollapsed": true
   },
   "source": [
    "## 4.3 Plot F-Statistics"
   ]
  },
  {
   "cell_type": "code",
   "execution_count": 11,
   "metadata": {},
   "outputs": [
    {
     "data": {
      "text/plain": [
       "<Figure size 640x480 with 0 Axes>"
      ]
     },
     "metadata": {},
     "output_type": "display_data"
    },
    {
     "data": {
      "image/png": "[encoded data removed]",
      "text/plain": [
       "<Figure size 728.346x826.772 with 3 Axes>"
      ]
     },
     "metadata": {},
     "output_type": "display_data"
    }
   ],
   "source": [
    "plt      = utils_plotting.get_figure_template()\n",
    "ax_fstat = plt.subplot2grid((80, 40), (0, 0) , colspan=10, rowspan=17)\n",
    "ax_cbar  = plt.subplot2grid((80, 40), (0, 15), colspan=10, rowspan=17)\n",
    "\n",
    "ax_fstat, mesh = utils_plotting_spectrogram.plot_permutation_clusters_on_spectrogram(F_stats, clusters, cluster_p_values, alpha=0.05, \n",
    "                                                                                     time_vector=np.linspace(-2,2,fs*4), cmap=\"Reds\", vmax=30, axis=ax_fstat)\n",
    "cbar1 = plt.colorbar(mesh, ax=ax_cbar, orientation='vertical', fraction=0.05, pad=0.04)\n",
    "cbar1.set_label(\"F-Statistics\", fontsize=utils_plotting.LABEL_SIZE)\n",
    "\n",
    "plt.savefig(DATA_IO.path_figure + \"spectrogram/cortex_spectrogram_cluster_permutation.svg\", dpi=1200)"
   ]
  },
  {
   "cell_type": "markdown",
   "metadata": {},
   "source": [
    "# 5. Spectogram Mutual Information Analysis"
   ]
  },
  {
   "cell_type": "code",
   "execution_count": 14,
   "metadata": {},
   "outputs": [
    {
     "name": "stdout",
     "output_type": "stream",
     "text": [
      "87 x 204\n"
     ]
    }
   ],
   "source": [
    "df_spectrogram_LID[\"dyskinesia_group\"]    = 1 # assign numeric value 1 to dyskinetic event\n",
    "df_spectrogram_noLID[\"dyskinesia_group\"]  = 0 # assign numeric value 0 to dyskinetic event\n",
    "\n",
    "# concat two dataframes (no-LID and LID)\n",
    "df_offset_aligned = pd.concat([df_spectrogram_LID[[\"offset_aligned_normalized\",\"dyskinesia_group\"]], \n",
    "                               df_spectrogram_noLID[[\"offset_aligned_normalized\",\"dyskinesia_group\"]]], \n",
    "                              ignore_index=True)\n",
    "\n",
    "# rename the column\n",
    "df_offset_aligned[\"spectrogram\"] = df_offset_aligned[\"offset_aligned_normalized\"]\n",
    "df_offset_aligned                = df_offset_aligned[[\"spectrogram\", \"dyskinesia_group\"]]\n",
    "df_offset_aligned                = df_offset_aligned.dropna(subset=['spectrogram']) # removing nan spectrogram  \n",
    "\n",
    "# downsample spectrograms with means to reduce time resolution for mutual information calculation\n",
    "downsampled_spectrograms = []\n",
    "for index,row in df_offset_aligned.iterrows():\n",
    "    downsampled_spectrograms.append(utils_misc.spectrogram_downsampling_with_mean(row.spectrogram, fs=2048, time_interval_in_second=0.02)) # 20 ms. bins\n",
    "    \n",
    "df_offset_aligned[\"spectrogram\"] = downsampled_spectrograms\n",
    "\n",
    "n_rows = np.shape(df_offset_aligned.iloc[0].spectrogram)[0]\n",
    "n_cols = np.shape(df_offset_aligned.iloc[0].spectrogram)[1]\n",
    "\n",
    "print(str(n_rows) +  \" x \" + str(n_cols)) # time datapoints dropped from 8192 to 204"
   ]
  },
  {
   "cell_type": "markdown",
   "metadata": {},
   "source": [
    "Each spectrogram contains 87 frequency components (frequency resolution 1 from 4 to 90 Hz) and 204 (binned with 20 ms)\n",
    "time points equal to 4 seconds time period around event onset/offset [-2 seconds to +2 seconds]"
   ]
  },
  {
   "cell_type": "markdown",
   "metadata": {
    "jp-MarkdownHeadingCollapsed": true
   },
   "source": [
    "##  5.1 Measure Mutual Information and Significance"
   ]
  },
  {
   "cell_type": "code",
   "execution_count": 17,
   "metadata": {},
   "outputs": [
    {
     "name": "stdout",
     "output_type": "stream",
     "text": [
      "4 Hz mutual information measurement started\n",
      "5 Hz mutual information measurement started\n",
      "6 Hz mutual information measurement started\n",
      "7 Hz mutual information measurement started\n",
      "8 Hz mutual information measurement started\n",
      "9 Hz mutual information measurement started\n",
      "10 Hz mutual information measurement started\n",
      "11 Hz mutual information measurement started\n",
      "12 Hz mutual information measurement started\n",
      "13 Hz mutual information measurement started\n",
      "14 Hz mutual information measurement started\n",
      "15 Hz mutual information measurement started\n",
      "16 Hz mutual information measurement started\n",
      "17 Hz mutual information measurement started\n",
      "18 Hz mutual information measurement started\n",
      "19 Hz mutual information measurement started\n",
      "20 Hz mutual information measurement started\n",
      "21 Hz mutual information measurement started\n",
      "22 Hz mutual information measurement started\n",
      "23 Hz mutual information measurement started\n",
      "24 Hz mutual information measurement started\n",
      "25 Hz mutual information measurement started\n",
      "26 Hz mutual information measurement started\n",
      "27 Hz mutual information measurement started\n",
      "28 Hz mutual information measurement started\n",
      "29 Hz mutual information measurement started\n",
      "30 Hz mutual information measurement started\n",
      "31 Hz mutual information measurement started\n",
      "32 Hz mutual information measurement started\n",
      "33 Hz mutual information measurement started\n",
      "34 Hz mutual information measurement started\n",
      "35 Hz mutual information measurement started\n",
      "60 Hz mutual information measurement started\n",
      "61 Hz mutual information measurement started\n",
      "62 Hz mutual information measurement started\n",
      "63 Hz mutual information measurement started\n",
      "64 Hz mutual information measurement started\n",
      "65 Hz mutual information measurement started\n",
      "66 Hz mutual information measurement started\n",
      "67 Hz mutual information measurement started\n",
      "68 Hz mutual information measurement started\n",
      "69 Hz mutual information measurement started\n",
      "70 Hz mutual information measurement started\n",
      "71 Hz mutual information measurement started\n",
      "72 Hz mutual information measurement started\n",
      "73 Hz mutual information measurement started\n",
      "74 Hz mutual information measurement started\n",
      "75 Hz mutual information measurement started\n",
      "76 Hz mutual information measurement started\n",
      "77 Hz mutual information measurement started\n",
      "78 Hz mutual information measurement started\n",
      "79 Hz mutual information measurement started\n",
      "80 Hz mutual information measurement started\n",
      "81 Hz mutual information measurement started\n",
      "82 Hz mutual information measurement started\n",
      "83 Hz mutual information measurement started\n",
      "84 Hz mutual information measurement started\n",
      "85 Hz mutual information measurement started\n",
      "86 Hz mutual information measurement started\n",
      "87 Hz mutual information measurement started\n",
      "88 Hz mutual information measurement started\n",
      "89 Hz mutual information measurement started\n",
      "90 Hz mutual information measurement started\n"
     ]
    }
   ],
   "source": [
    "matrix_MI, matrix_MI_pvalues, matrix_bootstrap_max = utils_mutual_information.measure_spectrogram_mi(df_offset_aligned, n_iterations=100)"
   ]
  },
  {
   "cell_type": "markdown",
   "metadata": {
    "jp-MarkdownHeadingCollapsed": true
   },
   "source": [
    "## 5.2. Save Measured MI and P-Values"
   ]
  },
  {
   "cell_type": "code",
   "execution_count": 27,
   "metadata": {},
   "outputs": [],
   "source": [
    "with open(DATA_IO.path_events+'mutual_information/ECOG/matrix_MI.npy', 'wb') as f: np.save(f, matrix_MI)\n",
    "with open(DATA_IO.path_events+'mutual_information/ECOG/matrix_MI_pvalues.npy', 'wb') as f: np.save(f, matrix_MI_pvalues)\n",
    "with open(DATA_IO.path_events+'mutual_information/ECOG/matrix_bootstrap_max.npy', 'wb') as f: np.save(f, matrix_bootstrap_max)"
   ]
  },
  {
   "cell_type": "markdown",
   "metadata": {},
   "source": [
    "## 5.3. Load Measured MI and P-Values"
   ]
  },
  {
   "cell_type": "code",
   "execution_count": 8,
   "metadata": {},
   "outputs": [],
   "source": [
    "matrix_MI              = np.load(DATA_IO.path_events+'mutual_information/ECOG/matrix_MI.npy')\n",
    "matrix_MI_pvalues      = np.load(DATA_IO.path_events+'mutual_information/ECOG/matrix_MI_pvalues.npy')\n",
    "matrix_bootstrap_max   = np.load(DATA_IO.path_events+'mutual_information/ECOG/matrix_bootstrap_max.npy')\n",
    "\n",
    "significance_threshold = np.percentile(matrix_bootstrap_max.flatten(), 95)\n",
    "MI_significant         = matrix_MI_pvalues>=significance_threshold"
   ]
  },
  {
   "cell_type": "markdown",
   "metadata": {},
   "source": [
    "## 5.4 Plot Time-Frequency MI"
   ]
  },
  {
   "cell_type": "code",
   "execution_count": 13,
   "metadata": {},
   "outputs": [
    {
     "data": {
      "text/plain": [
       "<Figure size 640x480 with 0 Axes>"
      ]
     },
     "metadata": {},
     "output_type": "display_data"
    },
    {
     "data": {
      "image/png": "[encoded data removed]",
      "text/plain": [
       "<Figure size 728.346x826.772 with 3 Axes>"
      ]
     },
     "metadata": {},
     "output_type": "display_data"
    }
   ],
   "source": [
    "import matplotlib.colors as mcolors\n",
    "\n",
    "plt        = utils_plotting.get_figure_template()\n",
    "axis       = plt.subplot2grid((80, 40), (0, 0) , colspan=10, rowspan=17)\n",
    "ax_cbar    = plt.subplot2grid((80, 40), (0, 15), colspan=10, rowspan=17)\n",
    "axis, mesh = utils_plotting_spectrogram.plot_spectrogram_MI(matrix_MI, MI_significant, significance_threshold, cmap=\"plasma\", axis=axis)\n",
    "\n",
    "mesh.set_clim(significance_threshold, np.max(matrix_MI))\n",
    "cbar1 = plt.colorbar(mesh, ax=ax_cbar, orientation='vertical', fraction=0.05, pad=0.04)\n",
    "custom_ticks = np.linspace(significance_threshold, np.max(matrix_MI), 4)\n",
    "cbar1.set_ticks(custom_ticks)\n",
    "cbar1.set_ticklabels([f\"{tick:.2f}\" for tick in custom_ticks])\n",
    "cbar1.set_label(\"Information [bits]\", fontsize=utils_plotting.LABEL_SIZE)\n",
    "\n",
    "plt.savefig(DATA_IO.path_figure + 'mutual_information/cortex_spectrogram_MI.svg', dpi=1200)"
   ]
  }
 ],
 "metadata": {
  "kernelspec": {
   "display_name": "Python 3 (ipykernel)",
   "language": "python",
   "name": "python3"
  },
  "language_info": {
   "codemirror_mode": {
    "name": "ipython",
    "version": 3
   },
   "file_extension": ".py",
   "mimetype": "text/x-python",
   "name": "python",
   "nbconvert_exporter": "python",
   "pygments_lexer": "ipython3",
   "version": "3.9.19"
  }
 },
 "nbformat": 4,
 "nbformat_minor": 4
}

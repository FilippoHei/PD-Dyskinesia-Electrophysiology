{
 "cells": [
  {
   "cell_type": "code",
   "execution_count": 1,
   "metadata": {},
   "outputs": [],
   "source": [
    "# Import public packages and functions\n",
    "import os\n",
    "import pandas as pd\n",
    "import numpy as np\n",
    "import sys\n",
    "import json\n",
    "from pathlib import Path\n",
    "from scipy import signal\n",
    "\n",
    "import seaborn as sns\n",
    "import matplotlib.pyplot as plt\n",
    "import scikit_posthocs as sp\n",
    "\n",
    "import warnings\n",
    "warnings.filterwarnings(\"ignore\")\n",
    "\n",
    "# inserting the lib folder to the compiler\n",
    "sys.path.insert(0, './lib')\n",
    "sys.path.insert(0, './utils/')\n",
    "\n",
    "import utils_io, utils_coherence, utils_plotting_coherence, utils_plotting\n",
    "\n",
    "from lib_data import DATA_IO"
   ]
  },
  {
   "cell_type": "code",
   "execution_count": null,
   "metadata": {},
   "outputs": [],
   "source": [
    "PATH_CURR = os.path.abspath(os.curdir)    # current code\n",
    "PATH      = (str(Path(PATH_CURR).parent)) # data repository: upper directory where datasets situated\n",
    "fs        = 2048"
   ]
  },
  {
   "cell_type": "markdown",
   "metadata": {
    "jp-MarkdownHeadingCollapsed": true
   },
   "source": [
    "# 1. Measure Baseline Coherence Between LFP and ECOG Channels"
   ]
  },
  {
   "cell_type": "code",
   "execution_count": null,
   "metadata": {},
   "outputs": [],
   "source": [
    "#baseline_coherence_LFP_ECOG = utils_coherence.extract_baseline_coherence_between_ECOG_LFP_channels()\n",
    "#baseline_coherence_LFP_ECOG.to_pickle(DATA_IO.path_events + \"coherence/ECOG_LFP_BASELINE_COHERENCE.pkl\")\n",
    "baseline_coherence_LFP_ECOG = pd.read_pickle(DATA_IO.path_events + \"coherence/ECOG_LFP_BASELINE_COHERENCE.pkl\")"
   ]
  },
  {
   "cell_type": "code",
   "execution_count": null,
   "metadata": {},
   "outputs": [],
   "source": [
    "len(baseline_coherence_LFP_ECOG.iloc[0].coherence)"
   ]
  },
  {
   "cell_type": "markdown",
   "metadata": {},
   "source": [
    "## 1.1 Load Events"
   ]
  },
  {
   "cell_type": "code",
   "execution_count": null,
   "metadata": {},
   "outputs": [],
   "source": [
    "# load ECoG events\n",
    "EVENTS_ECOG            = utils_io.load_ECoG_events(event_category=\"tapping\", fs=2048)\n",
    "EVENTS_ECOG_LID        = EVENTS_ECOG['controlateral']['LID']\n",
    "EVENTS_ECOG_noLID      = EVENTS_ECOG['controlateral']['noLID']\n",
    "# load LFP events\n",
    "EVENTS_LFP             = utils_io.load_LFP_events(event_category=\"tapping\", stn_areas=[\"motor\"], fs=2048)\n",
    "EVENTS_LFP_MOTOR_LID   = EVENTS_LFP['motor']['controlateral']['LID']\n",
    "EVENTS_LFP_MOTOR_noLID = EVENTS_LFP['motor']['controlateral']['noLID']"
   ]
  },
  {
   "cell_type": "code",
   "execution_count": null,
   "metadata": {},
   "outputs": [],
   "source": [
    "plt.figure()\n",
    "plt.plot(np.arange(0, len(EVENTS_LFP['motor']['ipsilateral']['LID'].iloc[0].pre_event_recording), 10)/fs,\n",
    "         EVENTS_LFP['motor']['ipsilateral']['LID'].iloc[0].pre_event_recording[::10])\n",
    "plt.xlabel(\"Time (s)\")\n",
    "plt.ylabel(\"Amplitude\") "
   ]
  },
  {
   "cell_type": "markdown",
   "metadata": {
    "jp-MarkdownHeadingCollapsed": true
   },
   "source": [
    "## 1.2 Pairwise-Coherence Between MOTOR-STN and ECOG Channels"
   ]
  },
  {
   "cell_type": "code",
   "execution_count": null,
   "metadata": {},
   "outputs": [],
   "source": [
    "coherence_motor_LID    = utils_coherence.measure_ECOG_LFP_coherence(dataset_LFP                         = EVENTS_LFP_MOTOR_LID, \n",
    "                                                                    dataset_ECOG                        = EVENTS_ECOG_LID, \n",
    "                                                                    dataset_baseline_LFP_ECOG_coherence = baseline_coherence_LFP_ECOG, \n",
    "                                                                    mode                                = \"ipsilateral\")"
   ]
  },
  {
   "cell_type": "code",
   "execution_count": null,
   "metadata": {},
   "outputs": [],
   "source": [
    "coherence_motor_noLID  = utils_coherence.measure_ECOG_LFP_coherence(dataset_LFP                         = EVENTS_LFP_MOTOR_noLID,\n",
    "                                                                    dataset_ECOG                        = EVENTS_ECOG_noLID, \n",
    "                                                                    dataset_baseline_LFP_ECOG_coherence = baseline_coherence_LFP_ECOG, \n",
    "                                                                    mode                                = \"ipsilateral\")"
   ]
  },
  {
   "cell_type": "code",
   "execution_count": null,
   "metadata": {},
   "outputs": [],
   "source": [
    "coherence_motor_LID.to_pickle(DATA_IO.path_events + \"coherence/STN_MOTOR_vs_Cortex_Coherence_LID.pkl\")\n",
    "coherence_motor_noLID.to_pickle(DATA_IO.path_events + \"coherence/STN_MOTOR_vs_Cortex_Coherence_noLID.pkl\")"
   ]
  },
  {
   "cell_type": "markdown",
   "metadata": {},
   "source": [
    "# 2. Statistical Test"
   ]
  },
  {
   "cell_type": "code",
   "execution_count": null,
   "metadata": {},
   "outputs": [],
   "source": [
    "def built_lme_and_fit(dataset, feature):\n",
    "    \n",
    "    import statsmodels.formula.api as smf\n",
    "\n",
    "    subset  = dataset[dataset[feature].notna()]\n",
    "    model   = smf.mixedlm(formula    = f\"{feature} ~ state\",\n",
    "                          data       = subset, \n",
    "                          groups     = subset[\"patient\"],\n",
    "                          vc_formula = {\"event\": \"0 + C(event_no)\"})  # random intercept per event_no, nested\n",
    "    result  = model.fit()\n",
    "\n",
    "    coef    = result.fe_params[\"state\"]\n",
    "    p_value = result.pvalues[\"state\"]\n",
    "    std_err = result.bse[\"state\"]\n",
    "    z_stat  = coef/std_err\n",
    "    return [coef, p_value, z_stat]\n",
    "\n",
    "def collect_lme_results_across_features(dataset, features, ref_group, comp_group):\n",
    "    from statsmodels.stats.multitest import multipletests\n",
    "\n",
    "    def get_segment(feature):\n",
    "        if feature.startswith(\"pre_event\"):\n",
    "            return \"pre_event\"\n",
    "        elif feature.startswith(\"event\"):\n",
    "            return \"event\"\n",
    "        elif feature.startswith(\"post_event\"):\n",
    "            return \"post_event\"\n",
    "        else:\n",
    "            return \"other\"\n",
    "            \n",
    "    lme_results = []\n",
    "    data        = dataset.copy()\n",
    "    for feature in features:\n",
    "        lme_results.append(built_lme_and_fit(data, feature))\n",
    "    \n",
    "    lme_results                     = pd.DataFrame(data=lme_results, columns=[\"coefficient\", \"pvalue\",  \"z_stat\"])\n",
    "    lme_results[\"pvalue_corrected\"] = multipletests(lme_results.pvalue.to_list(), method='holm')[1]\n",
    "    lme_results[\"feature\"]          = features\n",
    "    lme_results[\"segment\"]          = lme_results[\"feature\"].apply(get_segment)\n",
    "    lme_results['frequency_band']   = (lme_results['feature']\n",
    "                                       .str.replace('event_', '', regex=False)\n",
    "                                       .str.replace('pre_', '', regex=False)\n",
    "                                       .str.replace('post_', '', regex=False)\n",
    "                                       .str.replace('_mean', '', regex=False))\n",
    "    lme_results[\"reference_group\"]  = ref_group\n",
    "    lme_results[\"comparison_group\"] = comp_group  \n",
    "    return lme_results"
   ]
  },
  {
   "cell_type": "code",
   "execution_count": null,
   "metadata": {},
   "outputs": [],
   "source": [
    "coherence_motor_LID    = pd.read_pickle(DATA_IO.path_events + \"coherence/STN_MOTOR_vs_Cortex_Coherence_LID.pkl\")\n",
    "coherence_motor_noLID  = pd.read_pickle(DATA_IO.path_events + \"coherence/STN_MOTOR_vs_Cortex_Coherence_noLID.pkl\")\n",
    "\n",
    "coherence_noLID_noDOPA = coherence_motor_noLID[coherence_motor_noLID.event_start_time <= 30]\n",
    "coherence_noLID_DOPA   = coherence_motor_noLID[coherence_motor_noLID.event_start_time >  30]\n",
    "coherence_LID          = coherence_motor_LID\n",
    "\n",
    "# get sensorymotor STN borders (dorsal vs ventral)\n",
    "MNI_STN                = pd.read_pickle(DATA_IO.path_events + \"LFP_channel_MNI.pkl\")\n",
    "MNI_STN['patient']     = MNI_STN['patient'].astype(object)\n",
    "\n",
    "# set state column\n",
    "coherence_noLID_noDOPA[\"state\"] = \"noLID_noDOPA\"\n",
    "coherence_noLID_DOPA[\"state\"]   = \"noLID_DOPA\"\n",
    "coherence_LID[\"state\"]          = \"LID\"\n",
    "\n",
    "# merge STN channel position information to the dataframe\n",
    "coherence_noLID_noDOPA = coherence_noLID_noDOPA.merge(MNI_STN[['patient', 'hemisphere', 'channel', 'position_dorsoventral']],\n",
    "                                                      how='left', left_on=['patient', 'LFP_hemisphere', 'LFP_channel'], \n",
    "                                                      right_on=['patient', 'hemisphere', 'channel']) \n",
    "coherence_noLID_DOPA   = coherence_noLID_DOPA.merge(MNI_STN[['patient', 'hemisphere', 'channel', 'position_dorsoventral']],\n",
    "                                                    how='left', left_on=['patient', 'LFP_hemisphere', 'LFP_channel'], \n",
    "                                                    right_on=['patient', 'hemisphere', 'channel']) \n",
    "coherence_LID          = coherence_LID.merge(MNI_STN[['patient', 'hemisphere', 'channel', 'position_dorsoventral']],\n",
    "                                             how='left', left_on=['patient', 'LFP_hemisphere', 'LFP_channel'], right_on=['patient', 'hemisphere', 'channel']) \n",
    "\n",
    "coherence_noLID_noDOPA = coherence_noLID_noDOPA.drop(columns=['hemisphere', 'channel'])\n",
    "coherence_noLID_DOPA   = coherence_noLID_DOPA.drop(columns=['hemisphere', 'channel'])\n",
    "coherence_LID          = coherence_LID.drop(columns=['hemisphere', 'channel'])\n",
    "\n",
    "# measure mean features\n",
    "coherence_noLID_noDOPA = utils_coherence.measure_mean_coherence_by_frequency_band(coherence_noLID_noDOPA)\n",
    "coherence_noLID_DOPA   = utils_coherence.measure_mean_coherence_by_frequency_band(coherence_noLID_DOPA)\n",
    "coherence_LID          = utils_coherence.measure_mean_coherence_by_frequency_band(coherence_LID)\n",
    "\n",
    "coherence_mean_dataset         = pd.concat([coherence_noLID_noDOPA, coherence_noLID_DOPA, coherence_LID], ignore_index=True)\n",
    "coherence_mean_dataset_dorsal  = coherence_mean_dataset[coherence_mean_dataset.position_dorsoventral==\"dorsal\"]\n",
    "coherence_mean_dataset_ventral = coherence_mean_dataset[coherence_mean_dataset.position_dorsoventral==\"ventral\"]\n",
    "coherence_mean_dataset = coherence_mean_dataset[[\"patient\", \"event_no\", \"LFP_hemisphere\", \"LFP_channel\", \"ECoG_hemisphere\", \"ECoG_channel\", \"position_dorsoventral\", \"state\", \n",
    "                                                 \"pre_event_theta_mean\",\"pre_event_alpha_mean\",\"pre_event_beta_low_mean\",\"pre_event_beta_high_mean\",\"pre_event_gamma_mean\",\"pre_event_gamma_III_mean\",\n",
    "                                                 \"event_theta_mean\",\"event_alpha_mean\",\"event_beta_low_mean\",\"event_beta_high_mean\",\"event_gamma_mean\", \"event_gamma_III_mean\",\n",
    "                                                 \"post_event_theta_mean\",\"post_event_alpha_mean\",\"post_event_beta_low_mean\",\"post_event_beta_high_mean\",\"post_event_gamma_mean\", \"post_event_gamma_III_mean\"]]\n",
    "\n",
    "features = ['pre_event_theta_mean', 'pre_event_alpha_mean', 'pre_event_beta_low_mean',\n",
    "            'pre_event_beta_high_mean','pre_event_gamma_mean',\n",
    "            'event_theta_mean', 'event_alpha_mean', 'event_beta_low_mean',\n",
    "            'event_beta_high_mean','event_gamma_mean', \n",
    "            'post_event_theta_mean', 'post_event_alpha_mean',\n",
    "            'post_event_beta_low_mean','post_event_beta_high_mean','post_event_gamma_mean', \"pre_event_gamma_III_mean\", \"event_gamma_III_mean\",\"post_event_gamma_III_mean\"]"
   ]
  },
  {
   "cell_type": "markdown",
   "metadata": {},
   "source": [
    "## 2.1 Whole SensoryMotor STN"
   ]
  },
  {
   "cell_type": "code",
   "execution_count": null,
   "metadata": {},
   "outputs": [],
   "source": [
    "dataset_noLIDnoDOPA_vs_noLIDDOPA       = coherence_mean_dataset[coherence_mean_dataset.state!=\"LID\"].copy()\n",
    "dataset_noLIDnoDOPA_vs_noLIDDOPA.state = dataset_noLIDnoDOPA_vs_noLIDDOPA.state.map({'noLID_noDOPA': 0, 'noLID_DOPA': 1})\n",
    "dataset_noLIDnoDOPA_vs_noLIDDOPA.reset_index(drop=True, inplace=True)\n",
    "\n",
    "dataset_noLIDDOPA_vs_LID               = coherence_mean_dataset_dorsal[coherence_mean_dataset_dorsal.state!=\"noLID_noDOPA\"].copy()\n",
    "dataset_noLIDDOPA_vs_LID.state         = dataset_noLIDDOPA_vs_LID.state.map({'noLID_DOPA': 0, 'LID': 1})\n",
    "dataset_noLIDDOPA_vs_LID.reset_index(drop=True, inplace=True)\n",
    "\n",
    "DOPA_OFF_vs_DOPA_ON                    = collect_lme_results_across_features(dataset_noLIDnoDOPA_vs_noLIDDOPA, features, ref_group=\"noLIDnoDOPA\", comp_group=\"noLID_DOPA\")\n",
    "DOPA_ON_vs_LID                         = collect_lme_results_across_features(dataset_noLIDDOPA_vs_LID, features, ref_group=\"noLID_DOPA\", comp_group=\"LID\")\n",
    "lme_SM_STN                             = pd.concat([DOPA_OFF_vs_DOPA_ON, DOPA_ON_vs_LID], ignore_index=True)"
   ]
  },
  {
   "cell_type": "markdown",
   "metadata": {},
   "source": [
    "## 2.2 Dorsal SensoryMotor STN"
   ]
  },
  {
   "cell_type": "code",
   "execution_count": null,
   "metadata": {},
   "outputs": [],
   "source": [
    "dataset_noLIDnoDOPA_vs_noLIDDOPA       = coherence_mean_dataset_dorsal[coherence_mean_dataset_dorsal.state!=\"LID\"].copy()\n",
    "dataset_noLIDnoDOPA_vs_noLIDDOPA.state = dataset_noLIDnoDOPA_vs_noLIDDOPA.state.map({'noLID_noDOPA': 0, 'noLID_DOPA': 1})\n",
    "dataset_noLIDnoDOPA_vs_noLIDDOPA.reset_index(drop=True, inplace=True)\n",
    "\n",
    "dataset_noLIDDOPA_vs_LID               = coherence_mean_dataset_dorsal[coherence_mean_dataset_dorsal.state!=\"noLID_noDOPA\"].copy()\n",
    "dataset_noLIDDOPA_vs_LID.state         = dataset_noLIDDOPA_vs_LID.state.map({'noLID_DOPA': 0, 'LID': 1})\n",
    "dataset_noLIDDOPA_vs_LID.reset_index(drop=True, inplace=True)\n",
    "\n",
    "DOPA_OFF_vs_DOPA_ON                    = collect_lme_results_across_features(dataset_noLIDnoDOPA_vs_noLIDDOPA, features, ref_group=\"noLIDnoDOPA\", comp_group=\"noLID_DOPA\")\n",
    "DOPA_ON_vs_LID                         = collect_lme_results_across_features(dataset_noLIDDOPA_vs_LID, features, ref_group=\"noLID_DOPA\", comp_group=\"LID\")\n",
    "lme_SM_STN_DORSAL                      = pd.concat([DOPA_OFF_vs_DOPA_ON, DOPA_ON_vs_LID], ignore_index=True)"
   ]
  },
  {
   "cell_type": "markdown",
   "metadata": {},
   "source": [
    "## 2.3 Ventral SensoryMotor STN"
   ]
  },
  {
   "cell_type": "code",
   "execution_count": null,
   "metadata": {},
   "outputs": [],
   "source": [
    "dataset_noLIDnoDOPA_vs_noLIDDOPA       = coherence_mean_dataset_ventral[coherence_mean_dataset_ventral.state!=\"LID\"].copy()\n",
    "dataset_noLIDnoDOPA_vs_noLIDDOPA.state = dataset_noLIDnoDOPA_vs_noLIDDOPA.state.map({'noLID_noDOPA': 0, 'noLID_DOPA': 1})\n",
    "dataset_noLIDnoDOPA_vs_noLIDDOPA.reset_index(drop=True, inplace=True)\n",
    "\n",
    "dataset_noLIDDOPA_vs_LID               = coherence_mean_dataset_ventral[coherence_mean_dataset_ventral.state!=\"noLID_noDOPA\"].copy()\n",
    "dataset_noLIDDOPA_vs_LID.state         = dataset_noLIDDOPA_vs_LID.state.map({'noLID_DOPA': 0, 'LID': 1})\n",
    "dataset_noLIDDOPA_vs_LID.reset_index(drop=True, inplace=True)\n",
    "\n",
    "DOPA_OFF_vs_DOPA_ON                    = collect_lme_results_across_features(dataset_noLIDnoDOPA_vs_noLIDDOPA, features, ref_group=\"noLIDnoDOPA\", comp_group=\"noLID_DOPA\")\n",
    "DOPA_ON_vs_LID                         = collect_lme_results_across_features(dataset_noLIDDOPA_vs_LID, features, ref_group=\"noLID_DOPA\", comp_group=\"LID\")\n",
    "lme_SM_STN_VENTRAL                     = pd.concat([DOPA_OFF_vs_DOPA_ON, DOPA_ON_vs_LID], ignore_index=True)"
   ]
  },
  {
   "cell_type": "markdown",
   "metadata": {},
   "source": [
    "# 3.Plotting"
   ]
  },
  {
   "cell_type": "code",
   "execution_count": 2,
   "metadata": {},
   "outputs": [],
   "source": [
    "coherence_motor_LID    = pd.read_pickle(DATA_IO.path_events + \"coherence/STN_MOTOR_vs_Cortex_Coherence_LID.pkl\")\n",
    "coherence_motor_noLID  = pd.read_pickle(DATA_IO.path_events + \"coherence/STN_MOTOR_vs_Cortex_Coherence_noLID.pkl\")\n",
    "\n",
    "coherence_noLID_noDOPA = coherence_motor_noLID[coherence_motor_noLID.event_start_time <= 30]\n",
    "coherence_noLID_DOPA   = coherence_motor_noLID[coherence_motor_noLID.event_start_time >  30]\n",
    "coherence_LID          = coherence_motor_LID"
   ]
  },
  {
   "cell_type": "markdown",
   "metadata": {},
   "source": [
    "## 3.1 Full STN"
   ]
  },
  {
   "cell_type": "code",
   "execution_count": null,
   "metadata": {},
   "outputs": [],
   "source": [
    "# get the coherence array of selected event segment\n",
    "freq     = np.linspace(4,100,97) # fixed\n",
    "\n",
    "plt      = utils_plotting.get_figure_template()\n",
    "ax_pre   = plt.subplot2grid((80, 42), (0, 0) , colspan=10, rowspan=14)\n",
    "ax_event = plt.subplot2grid((80, 42), (0, 14), colspan=10, rowspan=14)\n",
    "ax_post  = plt.subplot2grid((80, 42), (0, 28), colspan=10, rowspan=14)\n",
    "    \n",
    "ax_pre   = utils_plotting_coherence.plot_coherence_panel(freq, coherence_noLID_noDOPA.pre_event_coherence.to_list(), \n",
    "                                                         error_type=\"se\", color=utils_plotting.colors[\"noLID_noDOPA\"], axis=ax_pre)\n",
    "ax_pre   = utils_plotting_coherence.plot_coherence_panel(freq, coherence_noLID_DOPA.pre_event_coherence.to_list(), \n",
    "                                                         error_type=\"se\", color=utils_plotting.colors[\"noLID_DOPA\"]  , axis=ax_pre)\n",
    "ax_pre   = utils_plotting_coherence.plot_coherence_panel(freq, coherence_LID.pre_event_coherence.to_list(),\n",
    "                                                         error_type=\"se\", color=utils_plotting.colors[\"LID\"]         , axis=ax_pre)\n",
    "\n",
    "\n",
    "ax_event = utils_plotting_coherence.plot_coherence_panel(freq, coherence_noLID_noDOPA.event_coherence.to_list(), \n",
    "                                                         error_type=\"se\", color=utils_plotting.colors[\"noLID_noDOPA\"], axis=ax_event)\n",
    "ax_event = utils_plotting_coherence.plot_coherence_panel(freq, coherence_noLID_DOPA.event_coherence.to_list(), \n",
    "                                                         error_type=\"se\", color=utils_plotting.colors[\"noLID_DOPA\"]  , axis=ax_event)\n",
    "ax_event = utils_plotting_coherence.plot_coherence_panel(freq, coherence_LID.event_coherence.to_list(),\n",
    "                                                         error_type=\"se\", color=utils_plotting.colors[\"LID\"]         , axis=ax_event)\n",
    "\n",
    "ax_post  = utils_plotting_coherence.plot_coherence_panel(freq, coherence_noLID_noDOPA.post_event_coherence.to_list(), \n",
    "                                                         error_type=\"se\", color=utils_plotting.colors[\"noLID_noDOPA\"], axis=ax_post)\n",
    "ax_post  = utils_plotting_coherence.plot_coherence_panel(freq, coherence_noLID_DOPA.post_event_coherence.to_list(), \n",
    "                                                         error_type=\"se\", color=utils_plotting.colors[\"noLID_DOPA\"]  , axis=ax_post)\n",
    "ax_post  = utils_plotting_coherence.plot_coherence_panel(freq, coherence_LID.post_event_coherence.to_list(),\n",
    "                                                         error_type=\"se\", color=utils_plotting.colors[\"LID\"]         , axis=ax_post)\n",
    "    \n",
    "ax_pre.set_title(f\"pre-event [N={coherence_noLID_noDOPA.patient.nunique()}]\", fontsize=utils_plotting.LABEL_SIZE_label)\n",
    "ax_event.set_title(f\"event [N={coherence_noLID_DOPA.patient.nunique()}]\", fontsize=utils_plotting.LABEL_SIZE_label)\n",
    "ax_post.set_title(f\"post-event [N={coherence_LID.patient.nunique()}]\", fontsize=utils_plotting.LABEL_SIZE_label)\n",
    "\n",
    "ax_pre.set_ylim([-25,50])\n",
    "ax_event.set_ylim([-25,50])\n",
    "ax_post.set_ylim([-25,50])\n",
    "\n",
    "utils_plotting.set_axis(ax_pre)\n",
    "utils_plotting.set_axis(ax_event)\n",
    "utils_plotting.set_axis(ax_post)\n",
    "\n",
    "plt.savefig(DATA_IO.path_figure + \"LFP-ECOG Coherence/mean_coherence.svg\", dpi=300)"
   ]
  },
  {
   "cell_type": "markdown",
   "metadata": {
    "jp-MarkdownHeadingCollapsed": true
   },
   "source": [
    "## 3.2 Dorsal STN"
   ]
  },
  {
   "cell_type": "code",
   "execution_count": null,
   "metadata": {},
   "outputs": [],
   "source": [
    "import utils_MER\n",
    "def assign_dorsoventral(row):\n",
    "    threshold_right = (STN_meshes[\"right\"][\"stn_SM\"].bounds[4] + STN_meshes[\"right\"][\"stn_SM\"].bounds[5]) / 2\n",
    "    threshold_left  = (STN_meshes[\"left\"][\"stn_SM\"].bounds[4] + STN_meshes[\"left\"][\"stn_SM\"].bounds[5]) / 2\n",
    "    if row['hemisphere'] == 'left': return 'ventral' if row['z'] <= threshold_left else 'dorsal'\n",
    "    else: return 'ventral' if row['z'] <= threshold_right else 'dorsal'\n",
    "\n",
    "MNI_STN            = pd.read_pickle(DATA_IO.path_events + \"LFP_channel_MNI.pkl\")\n",
    "MNI_STN['patient'] = MNI_STN['patient'].astype(object)\n",
    "#MNI_STN['position_dorsoventral'] = MNI_STN.apply(assign_dorsoventral, axis=1)\n",
    "#MNI_STN.to_pickle(\"LFP_channel_MNI.pkl\")"
   ]
  },
  {
   "cell_type": "code",
   "execution_count": null,
   "metadata": {},
   "outputs": [],
   "source": [
    "coherence_noLID_noDOPA = coherence_motor_noLID[coherence_motor_noLID.event_start_time <= 30]\n",
    "coherence_noLID_DOPA   = coherence_motor_noLID[coherence_motor_noLID.event_start_time >  30]\n",
    "coherence_LID          = coherence_motor_LID\n",
    "\n",
    "# set state column\n",
    "coherence_noLID_noDOPA[\"state\"] = \"noLID_noDOPA\"\n",
    "coherence_noLID_DOPA[\"state\"]   = \"noLID_DOPA\"\n",
    "coherence_LID[\"state\"]          = \"LID\"\n",
    "\n",
    "# merge STN channel position information to the dataframe\n",
    "coherence_noLID_noDOPA = coherence_noLID_noDOPA.merge(MNI_STN[['patient', 'hemisphere', 'channel', 'position_dorsoventral']],\n",
    "                                                      how='left', left_on=['patient', 'LFP_hemisphere', 'LFP_channel'], \n",
    "                                                      right_on=['patient', 'hemisphere', 'channel']) \n",
    "coherence_noLID_DOPA   = coherence_noLID_DOPA.merge(MNI_STN[['patient', 'hemisphere', 'channel', 'position_dorsoventral']],\n",
    "                                                    how='left', left_on=['patient', 'LFP_hemisphere', 'LFP_channel'], \n",
    "                                                    right_on=['patient', 'hemisphere', 'channel']) \n",
    "coherence_LID          = coherence_LID.merge(MNI_STN[['patient', 'hemisphere', 'channel', 'position_dorsoventral']],\n",
    "                                             how='left', left_on=['patient', 'LFP_hemisphere', 'LFP_channel'], right_on=['patient', 'hemisphere', 'channel']) \n",
    "\n",
    "coherence_noLID_noDOPA = coherence_noLID_noDOPA.drop(columns=['hemisphere', 'channel'])\n",
    "coherence_noLID_DOPA   = coherence_noLID_DOPA.drop(columns=['hemisphere', 'channel'])\n",
    "coherence_LID          = coherence_LID.drop(columns=['hemisphere', 'channel'])"
   ]
  },
  {
   "cell_type": "code",
   "execution_count": null,
   "metadata": {},
   "outputs": [],
   "source": [
    "# get the coherence array of selected event segment\n",
    "freq     = np.linspace(4,100,97) # fixed\n",
    "\n",
    "plt      = utils_plotting.get_figure_template()\n",
    "ax_pre   = plt.subplot2grid((80, 42), (0, 0) , colspan=7, rowspan=10)\n",
    "ax_event = plt.subplot2grid((80, 42), (0, 14), colspan=7, rowspan=10)\n",
    "ax_post  = plt.subplot2grid((80, 42), (0, 28), colspan=7, rowspan=10)\n",
    "    \n",
    "ax_pre   = utils_plotting_coherence.plot_coherence_panel(freq, coherence_noLID_noDOPA[coherence_noLID_noDOPA.position_dorsoventral==\"dorsal\"].pre_event_coherence.to_list(), \n",
    "                                                         error_type=\"se\", color=utils_plotting.colors[\"noLID_noDOPA\"], axis=ax_pre)\n",
    "ax_pre   = utils_plotting_coherence.plot_coherence_panel(freq, coherence_noLID_DOPA[coherence_noLID_DOPA.position_dorsoventral==\"dorsal\"].pre_event_coherence.to_list(), \n",
    "                                                         error_type=\"se\", color=utils_plotting.colors[\"noLID_DOPA\"]  , axis=ax_pre)\n",
    "ax_pre   = utils_plotting_coherence.plot_coherence_panel(freq, coherence_LID[coherence_LID.position_dorsoventral==\"dorsal\"].pre_event_coherence.to_list(),\n",
    "                                                         error_type=\"se\", color=utils_plotting.colors[\"LID\"]         , axis=ax_pre)\n",
    "\n",
    "\n",
    "ax_event = utils_plotting_coherence.plot_coherence_panel(freq, coherence_noLID_noDOPA[coherence_noLID_noDOPA.position_dorsoventral==\"dorsal\"].event_coherence.to_list(), \n",
    "                                                         error_type=\"se\", color=utils_plotting.colors[\"noLID_noDOPA\"], axis=ax_event)\n",
    "ax_event = utils_plotting_coherence.plot_coherence_panel(freq, coherence_noLID_DOPA[coherence_noLID_DOPA.position_dorsoventral==\"dorsal\"].event_coherence.to_list(), \n",
    "                                                         error_type=\"se\", color=utils_plotting.colors[\"noLID_DOPA\"]  , axis=ax_event)\n",
    "ax_event = utils_plotting_coherence.plot_coherence_panel(freq, coherence_LID[coherence_LID.position_dorsoventral==\"dorsal\"].event_coherence.to_list(),\n",
    "                                                         error_type=\"se\", color=utils_plotting.colors[\"LID\"]         , axis=ax_event)\n",
    "\n",
    "ax_post  = utils_plotting_coherence.plot_coherence_panel(freq, coherence_noLID_noDOPA[coherence_noLID_noDOPA.position_dorsoventral==\"dorsal\"].post_event_coherence.to_list(), \n",
    "                                                         error_type=\"se\", color=utils_plotting.colors[\"noLID_noDOPA\"], axis=ax_post)\n",
    "ax_post  = utils_plotting_coherence.plot_coherence_panel(freq, coherence_noLID_DOPA[coherence_noLID_DOPA.position_dorsoventral==\"dorsal\"].post_event_coherence.to_list(), \n",
    "                                                         error_type=\"se\", color=utils_plotting.colors[\"noLID_DOPA\"]  , axis=ax_post)\n",
    "ax_post  = utils_plotting_coherence.plot_coherence_panel(freq, coherence_LID[coherence_LID.position_dorsoventral==\"dorsal\"].post_event_coherence.to_list(),\n",
    "                                                         error_type=\"se\", color=utils_plotting.colors[\"LID\"]         , axis=ax_post)\n",
    "    \n",
    "ax_pre.set_title(f\"pre-event [N={coherence_noLID_noDOPA.patient.nunique()}]\", fontsize=utils_plotting.LABEL_SIZE_label)\n",
    "ax_event.set_title(f\"event [N={coherence_noLID_DOPA.patient.nunique()}]\", fontsize=utils_plotting.LABEL_SIZE_label)\n",
    "ax_post.set_title(f\"post-event [N={coherence_LID.patient.nunique()}]\", fontsize=utils_plotting.LABEL_SIZE_label)\n",
    "\n",
    "ax_pre.set_ylim([-25,50])\n",
    "ax_event.set_ylim([-25,50])\n",
    "ax_post.set_ylim([-25,50])\n",
    "\n",
    "utils_plotting.set_axis(ax_pre)\n",
    "utils_plotting.set_axis(ax_event)\n",
    "utils_plotting.set_axis(ax_post)\n",
    "\n",
    "plt.savefig(DATA_IO.path_figure + \"LFP-ECOG Coherence/mean_coherence_dorsal_STN.svg\", dpi=300)"
   ]
  },
  {
   "cell_type": "markdown",
   "metadata": {
    "jp-MarkdownHeadingCollapsed": true
   },
   "source": [
    "## 3.3 Ventral STN"
   ]
  },
  {
   "cell_type": "code",
   "execution_count": null,
   "metadata": {},
   "outputs": [],
   "source": [
    "# get the coherence array of selected event segment\n",
    "freq     = np.linspace(4,100,97) # fixed\n",
    "\n",
    "plt      = utils_plotting.get_figure_template()\n",
    "ax_pre   = plt.subplot2grid((80, 42), (0, 0) , colspan=7, rowspan=10)\n",
    "ax_event = plt.subplot2grid((80, 42), (0, 14), colspan=7, rowspan=10)\n",
    "ax_post  = plt.subplot2grid((80, 42), (0, 28), colspan=7, rowspan=10)\n",
    "    \n",
    "ax_pre   = utils_plotting_coherence.plot_coherence_panel(freq, coherence_noLID_noDOPA[coherence_noLID_noDOPA.position_dorsoventral==\"ventral\"].pre_event_coherence.to_list(), \n",
    "                                                         error_type=\"se\", color=utils_plotting.colors[\"noLID_noDOPA\"], axis=ax_pre)\n",
    "ax_pre   = utils_plotting_coherence.plot_coherence_panel(freq, coherence_noLID_DOPA[coherence_noLID_DOPA.position_dorsoventral==\"ventral\"].pre_event_coherence.to_list(), \n",
    "                                                         error_type=\"se\", color=utils_plotting.colors[\"noLID_DOPA\"]  , axis=ax_pre)\n",
    "ax_pre   = utils_plotting_coherence.plot_coherence_panel(freq, coherence_LID[coherence_LID.position_dorsoventral==\"ventral\"].pre_event_coherence.to_list(),\n",
    "                                                         error_type=\"se\", color=utils_plotting.colors[\"LID\"]         , axis=ax_pre)\n",
    "\n",
    "\n",
    "ax_event = utils_plotting_coherence.plot_coherence_panel(freq, coherence_noLID_noDOPA[coherence_noLID_noDOPA.position_dorsoventral==\"ventral\"].event_coherence.to_list(), \n",
    "                                                         error_type=\"se\", color=utils_plotting.colors[\"noLID_noDOPA\"], axis=ax_event)\n",
    "ax_event = utils_plotting_coherence.plot_coherence_panel(freq, coherence_noLID_DOPA[coherence_noLID_DOPA.position_dorsoventral==\"ventral\"].event_coherence.to_list(), \n",
    "                                                         error_type=\"se\", color=utils_plotting.colors[\"noLID_DOPA\"]  , axis=ax_event)\n",
    "ax_event = utils_plotting_coherence.plot_coherence_panel(freq, coherence_LID[coherence_LID.position_dorsoventral==\"ventral\"].event_coherence.to_list(),\n",
    "                                                         error_type=\"se\", color=utils_plotting.colors[\"LID\"]         , axis=ax_event)\n",
    "\n",
    "ax_post  = utils_plotting_coherence.plot_coherence_panel(freq, coherence_noLID_noDOPA[coherence_noLID_noDOPA.position_dorsoventral==\"ventral\"].post_event_coherence.to_list(), \n",
    "                                                         error_type=\"se\", color=utils_plotting.colors[\"noLID_noDOPA\"], axis=ax_post)\n",
    "ax_post  = utils_plotting_coherence.plot_coherence_panel(freq, coherence_noLID_DOPA[coherence_noLID_DOPA.position_dorsoventral==\"ventral\"].post_event_coherence.to_list(), \n",
    "                                                         error_type=\"se\", color=utils_plotting.colors[\"noLID_DOPA\"]  , axis=ax_post)\n",
    "ax_post  = utils_plotting_coherence.plot_coherence_panel(freq, coherence_LID[coherence_LID.position_dorsoventral==\"ventral\"].post_event_coherence.to_list(),\n",
    "                                                         error_type=\"se\", color=utils_plotting.colors[\"LID\"]         , axis=ax_post)\n",
    "    \n",
    "ax_pre.set_title(f\"pre-event [N={coherence_noLID_noDOPA.patient.nunique()}]\", fontsize=utils_plotting.LABEL_SIZE_label)\n",
    "ax_event.set_title(f\"event [N={coherence_noLID_DOPA.patient.nunique()}]\", fontsize=utils_plotting.LABEL_SIZE_label)\n",
    "ax_post.set_title(f\"post-event [N={coherence_LID.patient.nunique()}]\", fontsize=utils_plotting.LABEL_SIZE_label)\n",
    "\n",
    "ax_pre.set_ylim([-25,50])\n",
    "ax_event.set_ylim([-25,50])\n",
    "ax_post.set_ylim([-25,50])\n",
    "\n",
    "utils_plotting.set_axis(ax_pre)\n",
    "utils_plotting.set_axis(ax_event)\n",
    "utils_plotting.set_axis(ax_post)\n",
    "\n",
    "plt.savefig(DATA_IO.path_figure + \"LFP-ECOG Coherence/mean_coherence_ventral_STN.svg\", dpi=300)"
   ]
  },
  {
   "cell_type": "markdown",
   "metadata": {},
   "source": [
    "## 3.4 LME (DOPA OFF - DOPA ON & DOPA ON - LID)"
   ]
  },
  {
   "cell_type": "code",
   "execution_count": null,
   "metadata": {},
   "outputs": [],
   "source": [
    "def plot_stats(data, event_segment, reference_group, comparison_group, axis):\n",
    "\n",
    "    dataset          = data[(data.reference_group==reference_group) & (data.comparison_group==comparison_group)].copy()\n",
    "    dataset['color'] = np.where(dataset['pvalue_corrected'] > 0.05,'#ccccccff',  # non-significant\n",
    "                                np.where(dataset['coefficient'] > 0,\n",
    "                                         '#99e2b4ff',  # significant positive\n",
    "                                         '#ef3c2dff'   # significant negative\n",
    "                                        )\n",
    "                               )\n",
    "    data_subset      = dataset[dataset.segment==event_segment]\n",
    "    axis             = sns.scatterplot(data=data_subset, y=\"frequency_band\", x='z_stat', \n",
    "                                       c=data_subset.color.to_list(), s=15, ax=axis)\n",
    "    axis.set_xlim([-6,6])\n",
    "    axis.set_yticklabels(axis.get_yticklabels(), fontsize=utils_plotting.LABEL_SIZE, rotation=0)\n",
    "    utils_plotting.set_axis(axis)\n",
    "\n",
    "    return axis"
   ]
  },
  {
   "cell_type": "code",
   "execution_count": null,
   "metadata": {},
   "outputs": [],
   "source": [
    "plt = utils_plotting.get_figure_template()\n",
    "ax1 = plt.subplot2grid((77, 66), (0, 0)  , colspan=14, rowspan=7)\n",
    "ax2 = plt.subplot2grid((77, 66), (0, 20) , colspan=14, rowspan=7)\n",
    "ax3 = plt.subplot2grid((77, 66), (0, 40) , colspan=14, rowspan=7)\n",
    "\n",
    "ax4 = plt.subplot2grid((77, 66), (15, 0) , colspan=14, rowspan=7)\n",
    "ax5 = plt.subplot2grid((77, 66), (15, 20), colspan=14, rowspan=7)\n",
    "ax6 = plt.subplot2grid((77, 66), (15, 40), colspan=14, rowspan=7)\n",
    "\n",
    "ax1 = plot_stats(lme_SM_STN, event_segment=\"pre_event\" , reference_group=\"noLIDnoDOPA\", comparison_group=\"noLID_DOPA\", axis=ax1)\n",
    "ax2 = plot_stats(lme_SM_STN, event_segment=\"event\"     , reference_group=\"noLIDnoDOPA\", comparison_group=\"noLID_DOPA\", axis=ax2)\n",
    "ax3 = plot_stats(lme_SM_STN, event_segment=\"post_event\", reference_group=\"noLIDnoDOPA\", comparison_group=\"noLID_DOPA\", axis=ax3)\n",
    "\n",
    "ax4 = plot_stats(lme_SM_STN, event_segment=\"pre_event\" , reference_group=\"noLID_DOPA\", comparison_group=\"LID\", axis=ax4)\n",
    "ax5 = plot_stats(lme_SM_STN, event_segment=\"event\"     , reference_group=\"noLID_DOPA\", comparison_group=\"LID\", axis=ax5)\n",
    "ax6 = plot_stats(lme_SM_STN, event_segment=\"post_event\", reference_group=\"noLID_DOPA\", comparison_group=\"LID\", axis=ax6)\n",
    "\n",
    "plt.savefig(DATA_IO.path_figure + \"LFP-ECOG Coherence/lme_SM_STN_coherence.svg\", dpi=1200)"
   ]
  },
  {
   "cell_type": "code",
   "execution_count": null,
   "metadata": {},
   "outputs": [],
   "source": [
    "lme_SM_STN_DORSAL[lme_SM_STN_DORSAL.pvalue_corrected<=0.05]"
   ]
  },
  {
   "cell_type": "code",
   "execution_count": null,
   "metadata": {},
   "outputs": [],
   "source": [
    "lme_SM_STN_VENTRAL[lme_SM_STN_VENTRAL.pvalue_corrected<=0.05]"
   ]
  },
  {
   "cell_type": "code",
   "execution_count": null,
   "metadata": {},
   "outputs": [],
   "source": []
  }
 ],
 "metadata": {
  "kernelspec": {
   "display_name": "neuro",
   "language": "python",
   "name": "python3"
  },
  "language_info": {
   "codemirror_mode": {
    "name": "ipython",
    "version": 3
   },
   "file_extension": ".py",
   "mimetype": "text/x-python",
   "name": "python",
   "nbconvert_exporter": "python",
   "pygments_lexer": "ipython3",
   "version": "3.11.13"
  }
 },
 "nbformat": 4,
 "nbformat_minor": 4
}
